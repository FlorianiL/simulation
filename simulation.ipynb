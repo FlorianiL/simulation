{
 "cells": [
  {
   "cell_type": "markdown",
   "metadata": {
    "collapsed": true,
    "pycharm": {
     "name": "#%% md\n"
    }
   },
   "source": [
    "# Simulation - Projet"
   ]
  },
  {
   "cell_type": "markdown",
   "source": [
    "## Importation des modules nécessaires\n"
   ],
   "metadata": {
    "collapsed": false
   }
  },
  {
   "cell_type": "code",
   "execution_count": 56,
   "outputs": [],
   "source": [
    "from collections import Counter\n",
    "\n",
    "import numpy as np\n",
    "import matplotlib.pyplot as plt\n",
    "import scipy.stats as stat\n",
    "import math"
   ],
   "metadata": {
    "collapsed": false,
    "pycharm": {
     "name": "#%%\n"
    }
   }
  },
  {
   "cell_type": "markdown",
   "source": [
    "## Lecture du fichier d'entrée"
   ],
   "metadata": {
    "collapsed": false
   }
  },
  {
   "cell_type": "code",
   "execution_count": 57,
   "outputs": [
    {
     "output_type": "stream",
     "name": "stdout",
     "text": [
      "Les 2.000.000 premières décimales d' exp :\n [7 1 8 ... 0 2 3]\n"
     ]
    }
   ],
   "source": [
    "def e_numbers():\n",
    "    with open(\"exp.txt\", \"r\") as e:\n",
    "        for line in e:\n",
    "            line = line.strip()\n",
    "            if \".\" in line:\n",
    "                line = line.split(\".\")[1]\n",
    "            for c in line:\n",
    "                yield int(c)\n",
    "\n",
    "e_numbers = np.array(list(e_numbers()))\n",
    "print(f'Les 2.000.000 premières décimales d\\' exp :\\n {e_numbers}')"
   ],
   "metadata": {
    "collapsed": false,
    "pycharm": {
     "name": "#%%\n"
    }
   }
  },
  {
   "cell_type": "markdown",
   "source": [
    "## Compter effectif"
   ],
   "metadata": {
    "collapsed": false,
    "pycharm": {
     "name": "#%% md\n"
    }
   }
  },
  {
   "cell_type": "code",
   "execution_count": 58,
   "outputs": [
    {
     "output_type": "stream",
     "name": "stdout",
     "text": [
      "Les chiffres apparaissant dans les décimales d' exp : \n [0 1 2 3 4 5 6 7 8 9]\nLeur fréquences d'apparition : \n [199093 200171 199471 200361 199923 200285 200395 199789 200098 200414]\n"
     ]
    }
   ],
   "source": [
    "def count_number(data):\n",
    "    values, counts = np.unique(data, return_counts=True)\n",
    "    return values, counts\n",
    "\n",
    "e_labels, e_counts = count_number(e_numbers)\n",
    "print(f'Les chiffres apparaissant dans les décimales d\\' exp : \\n {e_labels}')\n",
    "print(f'Leur fréquences d\\'apparition : \\n {e_counts}')"
   ],
   "metadata": {
    "collapsed": false,
    "pycharm": {
     "name": "#%%\n"
    }
   }
  },
  {
   "cell_type": "markdown",
   "source": [
    "## Construire histogramme\n"
   ],
   "metadata": {
    "collapsed": false,
    "pycharm": {
     "name": "#%% md\n"
    }
   }
  },
  {
   "cell_type": "code",
   "execution_count": 59,
   "outputs": [
    {
     "output_type": "display_data",
     "data": {
      "text/plain": "<Figure size 432x288 with 1 Axes>",
      "image/svg+xml": "<?xml version=\"1.0\" encoding=\"utf-8\" standalone=\"no\"?>\n<!DOCTYPE svg PUBLIC \"-//W3C//DTD SVG 1.1//EN\"\n  \"http://www.w3.org/Graphics/SVG/1.1/DTD/svg11.dtd\">\n<svg height=\"248.518125pt\" version=\"1.1\" viewBox=\"0 0 394.375 248.518125\" width=\"394.375pt\" xmlns=\"http://www.w3.org/2000/svg\" xmlns:xlink=\"http://www.w3.org/1999/xlink\">\n <metadata>\n  <rdf:RDF xmlns:cc=\"http://creativecommons.org/ns#\" xmlns:dc=\"http://purl.org/dc/elements/1.1/\" xmlns:rdf=\"http://www.w3.org/1999/02/22-rdf-syntax-ns#\">\n   <cc:Work>\n    <dc:type rdf:resource=\"http://purl.org/dc/dcmitype/StillImage\"/>\n    <dc:date>2021-04-25T15:38:20.475608</dc:date>\n    <dc:format>image/svg+xml</dc:format>\n    <dc:creator>\n     <cc:Agent>\n      <dc:title>Matplotlib v3.4.1, https://matplotlib.org/</dc:title>\n     </cc:Agent>\n    </dc:creator>\n   </cc:Work>\n  </rdf:RDF>\n </metadata>\n <defs>\n  <style type=\"text/css\">*{stroke-linecap:butt;stroke-linejoin:round;}</style>\n </defs>\n <g id=\"figure_1\">\n  <g id=\"patch_1\">\n   <path d=\"M 0 248.518125 \nL 394.375 248.518125 \nL 394.375 0 \nL 0 0 \nz\n\" style=\"fill:none;\"/>\n  </g>\n  <g id=\"axes_1\">\n   <g id=\"patch_2\">\n    <path d=\"M 52.375 224.64 \nL 387.175 224.64 \nL 387.175 7.2 \nL 52.375 7.2 \nz\n\" style=\"fill:#ffffff;\"/>\n   </g>\n   <g id=\"patch_3\">\n    <path clip-path=\"url(#pe94b2353c1)\" d=\"M 67.593182 224.64 \nL 92.439193 224.64 \nL 92.439193 18.919261 \nL 67.593182 18.919261 \nz\n\" style=\"fill:#98fb98;\"/>\n   </g>\n   <g id=\"patch_4\">\n    <path clip-path=\"url(#pe94b2353c1)\" d=\"M 98.650696 224.64 \nL 123.496707 224.64 \nL 123.496707 17.805375 \nL 98.650696 17.805375 \nz\n\" style=\"fill:#98fb98;\"/>\n   </g>\n   <g id=\"patch_5\">\n    <path clip-path=\"url(#pe94b2353c1)\" d=\"M 129.70821 224.64 \nL 154.554221 224.64 \nL 154.554221 18.528678 \nL 129.70821 18.528678 \nz\n\" style=\"fill:#98fb98;\"/>\n   </g>\n   <g id=\"patch_6\">\n    <path clip-path=\"url(#pe94b2353c1)\" d=\"M 160.765724 224.64 \nL 185.611735 224.64 \nL 185.611735 17.60905 \nL 160.765724 17.60905 \nz\n\" style=\"fill:#98fb98;\"/>\n   </g>\n   <g id=\"patch_7\">\n    <path clip-path=\"url(#pe94b2353c1)\" d=\"M 191.823237 224.64 \nL 216.669249 224.64 \nL 216.669249 18.061631 \nL 191.823237 18.061631 \nz\n\" style=\"fill:#98fb98;\"/>\n   </g>\n   <g id=\"patch_8\">\n    <path clip-path=\"url(#pe94b2353c1)\" d=\"M 222.880751 224.64 \nL 247.726763 224.64 \nL 247.726763 17.68758 \nL 222.880751 17.68758 \nz\n\" style=\"fill:#98fb98;\"/>\n   </g>\n   <g id=\"patch_9\">\n    <path clip-path=\"url(#pe94b2353c1)\" d=\"M 253.938265 224.64 \nL 278.784276 224.64 \nL 278.784276 17.573918 \nL 253.938265 17.573918 \nz\n\" style=\"fill:#98fb98;\"/>\n   </g>\n   <g id=\"patch_10\">\n    <path clip-path=\"url(#pe94b2353c1)\" d=\"M 284.995779 224.64 \nL 309.84179 224.64 \nL 309.84179 18.200092 \nL 284.995779 18.200092 \nz\n\" style=\"fill:#98fb98;\"/>\n   </g>\n   <g id=\"patch_11\">\n    <path clip-path=\"url(#pe94b2353c1)\" d=\"M 316.053293 224.64 \nL 340.899304 224.64 \nL 340.899304 17.880805 \nL 316.053293 17.880805 \nz\n\" style=\"fill:#98fb98;\"/>\n   </g>\n   <g id=\"patch_12\">\n    <path clip-path=\"url(#pe94b2353c1)\" d=\"M 347.110807 224.64 \nL 371.956818 224.64 \nL 371.956818 17.554286 \nL 347.110807 17.554286 \nz\n\" style=\"fill:#98fb98;\"/>\n   </g>\n   <g id=\"matplotlib.axis_1\">\n    <g id=\"xtick_1\">\n     <g id=\"line2d_1\">\n      <defs>\n       <path d=\"M 0 0 \nL 0 3.5 \n\" id=\"mf67af16b19\" style=\"stroke:#000000;stroke-width:0.8;\"/>\n      </defs>\n      <g>\n       <use style=\"stroke:#000000;stroke-width:0.8;\" x=\"80.016187\" xlink:href=\"#mf67af16b19\" y=\"224.64\"/>\n      </g>\n     </g>\n     <g id=\"text_1\">\n      <!-- 0 -->\n      <g transform=\"translate(76.834937 239.238437)scale(0.1 -0.1)\">\n       <defs>\n        <path d=\"M 2034 4250 \nQ 1547 4250 1301 3770 \nQ 1056 3291 1056 2328 \nQ 1056 1369 1301 889 \nQ 1547 409 2034 409 \nQ 2525 409 2770 889 \nQ 3016 1369 3016 2328 \nQ 3016 3291 2770 3770 \nQ 2525 4250 2034 4250 \nz\nM 2034 4750 \nQ 2819 4750 3233 4129 \nQ 3647 3509 3647 2328 \nQ 3647 1150 3233 529 \nQ 2819 -91 2034 -91 \nQ 1250 -91 836 529 \nQ 422 1150 422 2328 \nQ 422 3509 836 4129 \nQ 1250 4750 2034 4750 \nz\n\" id=\"DejaVuSans-30\" transform=\"scale(0.015625)\"/>\n       </defs>\n       <use xlink:href=\"#DejaVuSans-30\"/>\n      </g>\n     </g>\n    </g>\n    <g id=\"xtick_2\">\n     <g id=\"line2d_2\">\n      <g>\n       <use style=\"stroke:#000000;stroke-width:0.8;\" x=\"142.131215\" xlink:href=\"#mf67af16b19\" y=\"224.64\"/>\n      </g>\n     </g>\n     <g id=\"text_2\">\n      <!-- 2 -->\n      <g transform=\"translate(138.949965 239.238437)scale(0.1 -0.1)\">\n       <defs>\n        <path d=\"M 1228 531 \nL 3431 531 \nL 3431 0 \nL 469 0 \nL 469 531 \nQ 828 903 1448 1529 \nQ 2069 2156 2228 2338 \nQ 2531 2678 2651 2914 \nQ 2772 3150 2772 3378 \nQ 2772 3750 2511 3984 \nQ 2250 4219 1831 4219 \nQ 1534 4219 1204 4116 \nQ 875 4013 500 3803 \nL 500 4441 \nQ 881 4594 1212 4672 \nQ 1544 4750 1819 4750 \nQ 2544 4750 2975 4387 \nQ 3406 4025 3406 3419 \nQ 3406 3131 3298 2873 \nQ 3191 2616 2906 2266 \nQ 2828 2175 2409 1742 \nQ 1991 1309 1228 531 \nz\n\" id=\"DejaVuSans-32\" transform=\"scale(0.015625)\"/>\n       </defs>\n       <use xlink:href=\"#DejaVuSans-32\"/>\n      </g>\n     </g>\n    </g>\n    <g id=\"xtick_3\">\n     <g id=\"line2d_3\">\n      <g>\n       <use style=\"stroke:#000000;stroke-width:0.8;\" x=\"204.246243\" xlink:href=\"#mf67af16b19\" y=\"224.64\"/>\n      </g>\n     </g>\n     <g id=\"text_3\">\n      <!-- 4 -->\n      <g transform=\"translate(201.064993 239.238437)scale(0.1 -0.1)\">\n       <defs>\n        <path d=\"M 2419 4116 \nL 825 1625 \nL 2419 1625 \nL 2419 4116 \nz\nM 2253 4666 \nL 3047 4666 \nL 3047 1625 \nL 3713 1625 \nL 3713 1100 \nL 3047 1100 \nL 3047 0 \nL 2419 0 \nL 2419 1100 \nL 313 1100 \nL 313 1709 \nL 2253 4666 \nz\n\" id=\"DejaVuSans-34\" transform=\"scale(0.015625)\"/>\n       </defs>\n       <use xlink:href=\"#DejaVuSans-34\"/>\n      </g>\n     </g>\n    </g>\n    <g id=\"xtick_4\">\n     <g id=\"line2d_4\">\n      <g>\n       <use style=\"stroke:#000000;stroke-width:0.8;\" x=\"266.361271\" xlink:href=\"#mf67af16b19\" y=\"224.64\"/>\n      </g>\n     </g>\n     <g id=\"text_4\">\n      <!-- 6 -->\n      <g transform=\"translate(263.180021 239.238437)scale(0.1 -0.1)\">\n       <defs>\n        <path d=\"M 2113 2584 \nQ 1688 2584 1439 2293 \nQ 1191 2003 1191 1497 \nQ 1191 994 1439 701 \nQ 1688 409 2113 409 \nQ 2538 409 2786 701 \nQ 3034 994 3034 1497 \nQ 3034 2003 2786 2293 \nQ 2538 2584 2113 2584 \nz\nM 3366 4563 \nL 3366 3988 \nQ 3128 4100 2886 4159 \nQ 2644 4219 2406 4219 \nQ 1781 4219 1451 3797 \nQ 1122 3375 1075 2522 \nQ 1259 2794 1537 2939 \nQ 1816 3084 2150 3084 \nQ 2853 3084 3261 2657 \nQ 3669 2231 3669 1497 \nQ 3669 778 3244 343 \nQ 2819 -91 2113 -91 \nQ 1303 -91 875 529 \nQ 447 1150 447 2328 \nQ 447 3434 972 4092 \nQ 1497 4750 2381 4750 \nQ 2619 4750 2861 4703 \nQ 3103 4656 3366 4563 \nz\n\" id=\"DejaVuSans-36\" transform=\"scale(0.015625)\"/>\n       </defs>\n       <use xlink:href=\"#DejaVuSans-36\"/>\n      </g>\n     </g>\n    </g>\n    <g id=\"xtick_5\">\n     <g id=\"line2d_5\">\n      <g>\n       <use style=\"stroke:#000000;stroke-width:0.8;\" x=\"328.476299\" xlink:href=\"#mf67af16b19\" y=\"224.64\"/>\n      </g>\n     </g>\n     <g id=\"text_5\">\n      <!-- 8 -->\n      <g transform=\"translate(325.295049 239.238437)scale(0.1 -0.1)\">\n       <defs>\n        <path d=\"M 2034 2216 \nQ 1584 2216 1326 1975 \nQ 1069 1734 1069 1313 \nQ 1069 891 1326 650 \nQ 1584 409 2034 409 \nQ 2484 409 2743 651 \nQ 3003 894 3003 1313 \nQ 3003 1734 2745 1975 \nQ 2488 2216 2034 2216 \nz\nM 1403 2484 \nQ 997 2584 770 2862 \nQ 544 3141 544 3541 \nQ 544 4100 942 4425 \nQ 1341 4750 2034 4750 \nQ 2731 4750 3128 4425 \nQ 3525 4100 3525 3541 \nQ 3525 3141 3298 2862 \nQ 3072 2584 2669 2484 \nQ 3125 2378 3379 2068 \nQ 3634 1759 3634 1313 \nQ 3634 634 3220 271 \nQ 2806 -91 2034 -91 \nQ 1263 -91 848 271 \nQ 434 634 434 1313 \nQ 434 1759 690 2068 \nQ 947 2378 1403 2484 \nz\nM 1172 3481 \nQ 1172 3119 1398 2916 \nQ 1625 2713 2034 2713 \nQ 2441 2713 2670 2916 \nQ 2900 3119 2900 3481 \nQ 2900 3844 2670 4047 \nQ 2441 4250 2034 4250 \nQ 1625 4250 1398 4047 \nQ 1172 3844 1172 3481 \nz\n\" id=\"DejaVuSans-38\" transform=\"scale(0.015625)\"/>\n       </defs>\n       <use xlink:href=\"#DejaVuSans-38\"/>\n      </g>\n     </g>\n    </g>\n   </g>\n   <g id=\"matplotlib.axis_2\">\n    <g id=\"ytick_1\">\n     <g id=\"line2d_6\">\n      <defs>\n       <path d=\"M 0 0 \nL -3.5 0 \n\" id=\"mb862e508fb\" style=\"stroke:#000000;stroke-width:0.8;\"/>\n      </defs>\n      <g>\n       <use style=\"stroke:#000000;stroke-width:0.8;\" x=\"52.375\" xlink:href=\"#mb862e508fb\" y=\"224.64\"/>\n      </g>\n     </g>\n     <g id=\"text_6\">\n      <!-- 0 -->\n      <g transform=\"translate(39.0125 228.439219)scale(0.1 -0.1)\">\n       <use xlink:href=\"#DejaVuSans-30\"/>\n      </g>\n     </g>\n    </g>\n    <g id=\"ytick_2\">\n     <g id=\"line2d_7\">\n      <g>\n       <use style=\"stroke:#000000;stroke-width:0.8;\" x=\"52.375\" xlink:href=\"#mb862e508fb\" y=\"198.807758\"/>\n      </g>\n     </g>\n     <g id=\"text_7\">\n      <!-- 25000 -->\n      <g transform=\"translate(13.5625 202.606977)scale(0.1 -0.1)\">\n       <defs>\n        <path d=\"M 691 4666 \nL 3169 4666 \nL 3169 4134 \nL 1269 4134 \nL 1269 2991 \nQ 1406 3038 1543 3061 \nQ 1681 3084 1819 3084 \nQ 2600 3084 3056 2656 \nQ 3513 2228 3513 1497 \nQ 3513 744 3044 326 \nQ 2575 -91 1722 -91 \nQ 1428 -91 1123 -41 \nQ 819 9 494 109 \nL 494 744 \nQ 775 591 1075 516 \nQ 1375 441 1709 441 \nQ 2250 441 2565 725 \nQ 2881 1009 2881 1497 \nQ 2881 1984 2565 2268 \nQ 2250 2553 1709 2553 \nQ 1456 2553 1204 2497 \nQ 953 2441 691 2322 \nL 691 4666 \nz\n\" id=\"DejaVuSans-35\" transform=\"scale(0.015625)\"/>\n       </defs>\n       <use xlink:href=\"#DejaVuSans-32\"/>\n       <use x=\"63.623047\" xlink:href=\"#DejaVuSans-35\"/>\n       <use x=\"127.246094\" xlink:href=\"#DejaVuSans-30\"/>\n       <use x=\"190.869141\" xlink:href=\"#DejaVuSans-30\"/>\n       <use x=\"254.492188\" xlink:href=\"#DejaVuSans-30\"/>\n      </g>\n     </g>\n    </g>\n    <g id=\"ytick_3\">\n     <g id=\"line2d_8\">\n      <g>\n       <use style=\"stroke:#000000;stroke-width:0.8;\" x=\"52.375\" xlink:href=\"#mb862e508fb\" y=\"172.975517\"/>\n      </g>\n     </g>\n     <g id=\"text_8\">\n      <!-- 50000 -->\n      <g transform=\"translate(13.5625 176.774736)scale(0.1 -0.1)\">\n       <use xlink:href=\"#DejaVuSans-35\"/>\n       <use x=\"63.623047\" xlink:href=\"#DejaVuSans-30\"/>\n       <use x=\"127.246094\" xlink:href=\"#DejaVuSans-30\"/>\n       <use x=\"190.869141\" xlink:href=\"#DejaVuSans-30\"/>\n       <use x=\"254.492188\" xlink:href=\"#DejaVuSans-30\"/>\n      </g>\n     </g>\n    </g>\n    <g id=\"ytick_4\">\n     <g id=\"line2d_9\">\n      <g>\n       <use style=\"stroke:#000000;stroke-width:0.8;\" x=\"52.375\" xlink:href=\"#mb862e508fb\" y=\"147.143275\"/>\n      </g>\n     </g>\n     <g id=\"text_9\">\n      <!-- 75000 -->\n      <g transform=\"translate(13.5625 150.942494)scale(0.1 -0.1)\">\n       <defs>\n        <path d=\"M 525 4666 \nL 3525 4666 \nL 3525 4397 \nL 1831 0 \nL 1172 0 \nL 2766 4134 \nL 525 4134 \nL 525 4666 \nz\n\" id=\"DejaVuSans-37\" transform=\"scale(0.015625)\"/>\n       </defs>\n       <use xlink:href=\"#DejaVuSans-37\"/>\n       <use x=\"63.623047\" xlink:href=\"#DejaVuSans-35\"/>\n       <use x=\"127.246094\" xlink:href=\"#DejaVuSans-30\"/>\n       <use x=\"190.869141\" xlink:href=\"#DejaVuSans-30\"/>\n       <use x=\"254.492188\" xlink:href=\"#DejaVuSans-30\"/>\n      </g>\n     </g>\n    </g>\n    <g id=\"ytick_5\">\n     <g id=\"line2d_10\">\n      <g>\n       <use style=\"stroke:#000000;stroke-width:0.8;\" x=\"52.375\" xlink:href=\"#mb862e508fb\" y=\"121.311034\"/>\n      </g>\n     </g>\n     <g id=\"text_10\">\n      <!-- 100000 -->\n      <g transform=\"translate(7.2 125.110253)scale(0.1 -0.1)\">\n       <defs>\n        <path d=\"M 794 531 \nL 1825 531 \nL 1825 4091 \nL 703 3866 \nL 703 4441 \nL 1819 4666 \nL 2450 4666 \nL 2450 531 \nL 3481 531 \nL 3481 0 \nL 794 0 \nL 794 531 \nz\n\" id=\"DejaVuSans-31\" transform=\"scale(0.015625)\"/>\n       </defs>\n       <use xlink:href=\"#DejaVuSans-31\"/>\n       <use x=\"63.623047\" xlink:href=\"#DejaVuSans-30\"/>\n       <use x=\"127.246094\" xlink:href=\"#DejaVuSans-30\"/>\n       <use x=\"190.869141\" xlink:href=\"#DejaVuSans-30\"/>\n       <use x=\"254.492188\" xlink:href=\"#DejaVuSans-30\"/>\n       <use x=\"318.115234\" xlink:href=\"#DejaVuSans-30\"/>\n      </g>\n     </g>\n    </g>\n    <g id=\"ytick_6\">\n     <g id=\"line2d_11\">\n      <g>\n       <use style=\"stroke:#000000;stroke-width:0.8;\" x=\"52.375\" xlink:href=\"#mb862e508fb\" y=\"95.478792\"/>\n      </g>\n     </g>\n     <g id=\"text_11\">\n      <!-- 125000 -->\n      <g transform=\"translate(7.2 99.278011)scale(0.1 -0.1)\">\n       <use xlink:href=\"#DejaVuSans-31\"/>\n       <use x=\"63.623047\" xlink:href=\"#DejaVuSans-32\"/>\n       <use x=\"127.246094\" xlink:href=\"#DejaVuSans-35\"/>\n       <use x=\"190.869141\" xlink:href=\"#DejaVuSans-30\"/>\n       <use x=\"254.492188\" xlink:href=\"#DejaVuSans-30\"/>\n       <use x=\"318.115234\" xlink:href=\"#DejaVuSans-30\"/>\n      </g>\n     </g>\n    </g>\n    <g id=\"ytick_7\">\n     <g id=\"line2d_12\">\n      <g>\n       <use style=\"stroke:#000000;stroke-width:0.8;\" x=\"52.375\" xlink:href=\"#mb862e508fb\" y=\"69.646551\"/>\n      </g>\n     </g>\n     <g id=\"text_12\">\n      <!-- 150000 -->\n      <g transform=\"translate(7.2 73.445769)scale(0.1 -0.1)\">\n       <use xlink:href=\"#DejaVuSans-31\"/>\n       <use x=\"63.623047\" xlink:href=\"#DejaVuSans-35\"/>\n       <use x=\"127.246094\" xlink:href=\"#DejaVuSans-30\"/>\n       <use x=\"190.869141\" xlink:href=\"#DejaVuSans-30\"/>\n       <use x=\"254.492188\" xlink:href=\"#DejaVuSans-30\"/>\n       <use x=\"318.115234\" xlink:href=\"#DejaVuSans-30\"/>\n      </g>\n     </g>\n    </g>\n    <g id=\"ytick_8\">\n     <g id=\"line2d_13\">\n      <g>\n       <use style=\"stroke:#000000;stroke-width:0.8;\" x=\"52.375\" xlink:href=\"#mb862e508fb\" y=\"43.814309\"/>\n      </g>\n     </g>\n     <g id=\"text_13\">\n      <!-- 175000 -->\n      <g transform=\"translate(7.2 47.613528)scale(0.1 -0.1)\">\n       <use xlink:href=\"#DejaVuSans-31\"/>\n       <use x=\"63.623047\" xlink:href=\"#DejaVuSans-37\"/>\n       <use x=\"127.246094\" xlink:href=\"#DejaVuSans-35\"/>\n       <use x=\"190.869141\" xlink:href=\"#DejaVuSans-30\"/>\n       <use x=\"254.492188\" xlink:href=\"#DejaVuSans-30\"/>\n       <use x=\"318.115234\" xlink:href=\"#DejaVuSans-30\"/>\n      </g>\n     </g>\n    </g>\n    <g id=\"ytick_9\">\n     <g id=\"line2d_14\">\n      <g>\n       <use style=\"stroke:#000000;stroke-width:0.8;\" x=\"52.375\" xlink:href=\"#mb862e508fb\" y=\"17.982068\"/>\n      </g>\n     </g>\n     <g id=\"text_14\">\n      <!-- 200000 -->\n      <g transform=\"translate(7.2 21.781286)scale(0.1 -0.1)\">\n       <use xlink:href=\"#DejaVuSans-32\"/>\n       <use x=\"63.623047\" xlink:href=\"#DejaVuSans-30\"/>\n       <use x=\"127.246094\" xlink:href=\"#DejaVuSans-30\"/>\n       <use x=\"190.869141\" xlink:href=\"#DejaVuSans-30\"/>\n       <use x=\"254.492188\" xlink:href=\"#DejaVuSans-30\"/>\n       <use x=\"318.115234\" xlink:href=\"#DejaVuSans-30\"/>\n      </g>\n     </g>\n    </g>\n   </g>\n   <g id=\"patch_13\">\n    <path d=\"M 52.375 224.64 \nL 52.375 7.2 \n\" style=\"fill:none;stroke:#000000;stroke-linecap:square;stroke-linejoin:miter;stroke-width:0.8;\"/>\n   </g>\n   <g id=\"patch_14\">\n    <path d=\"M 387.175 224.64 \nL 387.175 7.2 \n\" style=\"fill:none;stroke:#000000;stroke-linecap:square;stroke-linejoin:miter;stroke-width:0.8;\"/>\n   </g>\n   <g id=\"patch_15\">\n    <path d=\"M 52.375 224.64 \nL 387.175 224.64 \n\" style=\"fill:none;stroke:#000000;stroke-linecap:square;stroke-linejoin:miter;stroke-width:0.8;\"/>\n   </g>\n   <g id=\"patch_16\">\n    <path d=\"M 52.375 7.2 \nL 387.175 7.2 \n\" style=\"fill:none;stroke:#000000;stroke-linecap:square;stroke-linejoin:miter;stroke-width:0.8;\"/>\n   </g>\n  </g>\n </g>\n <defs>\n  <clipPath id=\"pe94b2353c1\">\n   <rect height=\"217.44\" width=\"334.8\" x=\"52.375\" y=\"7.2\"/>\n  </clipPath>\n </defs>\n</svg>\n",
      "image/png": "[encoded data removed]"
     },
     "metadata": {
      "needs_background": "light"
     }
    }
   ],
   "source": [
    "def construct_hist(labels, counts):\n",
    "    fig, ax = plt.subplots()\n",
    "    ax.bar(labels, counts, color='palegreen')\n",
    "    plt.show()\n",
    "\n",
    "construct_hist(e_labels, e_counts)"
   ],
   "metadata": {
    "collapsed": false,
    "pycharm": {
     "name": "#%%\n"
    }
   }
  },
  {
   "cell_type": "markdown",
   "source": [
    "## Test du Chi-Carré"
   ],
   "metadata": {
    "collapsed": false,
    "pycharm": {
     "name": "#%% md\n"
    }
   }
  },
  {
   "cell_type": "code",
   "execution_count": 60,
   "outputs": [
    {
     "output_type": "stream",
     "name": "stdout",
     "text": [
      "Le résultat de notre test du Chi-Carré est : \n (True, 8.65376, 16.918977604620448)\n"
     ]
    }
   ],
   "source": [
    "def chi_squared_uniform(counts):\n",
    "    pi = 1 / len(counts)\n",
    "    N = sum(counts)\n",
    "    kr = np.sum(((counts-(N*pi))/(math.sqrt(N*pi)))**2)\n",
    "    critical = stat.chi2.ppf(q=0.95, df=9)\n",
    "    return kr <= critical, kr, critical\n",
    "\n",
    "print(f'Le résultat de notre test du Chi-Carré est : \\n {chi_squared_uniform(e_counts)}')"
   ],
   "metadata": {
    "collapsed": false,
    "pycharm": {
     "name": "#%%\n"
    }
   }
  },
  {
   "cell_type": "code",
   "execution_count": 109,
   "metadata": {},
   "outputs": [],
   "source": [
    "def split_in_groups(data, groups=10):\n",
    "    data = np.sort(data)\n",
    "    res = [data[np.where(np.logical_and(data < i, data > i-(1/groups)))] for i in np.arange(0, 1, 1/groups)]\n",
    "    return np.array(res)"
   ]
  },
  {
   "cell_type": "code",
   "execution_count": 74,
   "metadata": {},
   "outputs": [],
   "source": [
    "def chi_squared_continuous(data, groups=10):\n",
    "    splitted = split_in_groups(data, groups)\n",
    "    print(splitted)\n",
    "    _, counts = count_number(splitted)\n",
    "    return chi_squared_uniform(counts)\n"
   ]
  },
  {
   "cell_type": "markdown",
   "source": [
    "## Test de Kolmogorov-Smirnov"
   ],
   "metadata": {
    "collapsed": false
   }
  },
  {
   "cell_type": "code",
   "execution_count": 62,
   "outputs": [
    {
     "output_type": "stream",
     "name": "stdout",
     "text": [
      "(True, 0.0006325000000000358, 0.0030365803134447147)\n"
     ]
    }
   ],
   "source": [
    "def kolmogorov_smirnov(labels, counts):\n",
    "    assert len(labels) == len(counts)\n",
    "    proba = 1 / len(counts)\n",
    "    N = np.sum(counts)\n",
    "    real_repartition = np.cumsum(counts, axis=0)/N\n",
    "    th_repartition = np.cumsum(np.full(len(labels), proba))\n",
    "    maximum = np.max(np.abs(real_repartition-th_repartition))\n",
    "    critical = 1.358/math.sqrt(N/len(labels))\n",
    "    return maximum < critical, maximum, critical\n",
    "\n",
    "print(kolmogorov_smirnov(e_labels, e_counts))"
   ],
   "metadata": {
    "collapsed": false,
    "pycharm": {
     "name": "#%%\n"
    }
   }
  },
  {
   "cell_type": "markdown",
   "source": [
    "## Test du Poker"
   ],
   "metadata": {
    "collapsed": false
   }
  },
  {
   "cell_type": "code",
   "execution_count": 63,
   "outputs": [
    {
     "output_type": "stream",
     "name": "stdout",
     "text": [
      "(True, 1.2631547619047618, 9.487729036781154)\n"
     ]
    }
   ],
   "source": [
    "def poker_test(data, labels, counts):\n",
    "    number_lists = len(data)/4\n",
    "    lists = np.split(data, number_lists)\n",
    "    all_diff = 0\n",
    "    one_pair = 0\n",
    "    two_pair = 0\n",
    "    triplet = 0\n",
    "    quadr = 0\n",
    "    for li in lists:\n",
    "        vals, cts = np.unique(li, return_counts=True)\n",
    "        if len(cts) == 4:\n",
    "            all_diff += 1\n",
    "        elif len(cts) == 3:\n",
    "            one_pair += 1\n",
    "        elif len(cts) == 2:\n",
    "            if 3 in cts:\n",
    "                triplet += 1\n",
    "            else:\n",
    "                two_pair += 1\n",
    "        else:\n",
    "            quadr += 1\n",
    "    return chi_squarred_poker(np.array([all_diff, one_pair, triplet, two_pair, quadr]), len(lists))\n",
    "\n",
    "def chi_squarred_poker(observed, N):    # P(all_diff) > P(one_pair) > P(triplet) > P(two_pair) > P(quadr)\n",
    "    probas = np.array([0.504, 0.432, 0.036, 0.027, 0.001])\n",
    "    theorical = probas * N\n",
    "    kr = np.sum(((observed-theorical)**2)/theorical)\n",
    "    critical = stat.chi2.ppf(q=0.95, df=4)\n",
    "    return kr <= critical, kr, critical\n",
    "\n",
    "print(poker_test(e_numbers, e_labels, e_counts))"
   ],
   "metadata": {
    "collapsed": false,
    "pycharm": {
     "name": "#%%\n"
    }
   }
  },
  {
   "cell_type": "markdown",
   "source": [
    "## Test du gap"
   ],
   "metadata": {
    "collapsed": false
   }
  },
  {
   "cell_type": "code",
   "execution_count": 64,
   "outputs": [
    {
     "output_type": "execute_result",
     "data": {
      "text/plain": [
       "(True, 5.5117785465143285, 12.338014578790643)"
      ]
     },
     "metadata": {},
     "execution_count": 64
    }
   ],
   "source": [
    "def gap_test(data, a: int = 0, b: int = 5, total_numbers: int = 10):\n",
    "    assert a < b\n",
    "    probability = (b - a) / total_numbers  # => proba 1/2 d'être marqué\n",
    "    intervals = []\n",
    "    length_series_not_in = 0\n",
    "    total_gaps = 0\n",
    "    sequence_length = 0\n",
    "    for nb in data:\n",
    "        if a <= nb < b:\n",
    "            # nb in interval, with probability `probability`\n",
    "            intervals.append(length_series_not_in)\n",
    "            length_series_not_in = 1\n",
    "        else:\n",
    "            # nb not in interval\n",
    "            length_series_not_in += 1\n",
    "            total_gaps += 1\n",
    "        sequence_length += 1\n",
    "    labels, observed = np.unique(np.array(intervals), return_counts=True)\n",
    "    observed = np.cumsum(complete_labels(labels, observed)/sequence_length)\n",
    "    theorical = np.cumsum(np.array([probability ** (n + 1) for n in range(max(labels))]))\n",
    "    kr = np.sum(((observed - theorical) ** 2) / theorical)\n",
    "    crit = stat.chi2.ppf(q=0.05, df=len(observed) - 1)\n",
    "    return kr <= crit, kr, crit\n",
    "\n",
    "def complete_labels(labels, observed):\n",
    "    i = 1\n",
    "    j = 0\n",
    "    n = 1\n",
    "    res = []\n",
    "    while j < len(labels):\n",
    "        label = labels[j]\n",
    "        if i != label:\n",
    "            res.append(0)\n",
    "            n += 1\n",
    "        else:\n",
    "            res.append(observed[i-n])\n",
    "            j += 1\n",
    "        i += 1\n",
    "    return np.array(res)\n",
    "\n",
    "gap_test(e_numbers)"
   ],
   "metadata": {
    "collapsed": false,
    "pycharm": {
     "name": "#%%\n"
    }
   }
  },
  {
   "cell_type": "markdown",
   "source": [
    "## Generateur"
   ],
   "metadata": {
    "collapsed": false
   }
  },
  {
   "cell_type": "code",
   "execution_count": 65,
   "outputs": [
    {
     "output_type": "stream",
     "name": "stdout",
     "text": [
      "(array([0.01348708, 0.02044921, 0.04138264, 0.04480176, 0.04509058,\n       0.06131286, 0.06384784, 0.06505924, 0.06897072, 0.08270355,\n       0.08659128, 0.08699869, 0.08962471, 0.0901702 , 0.09020989,\n       0.1047679 , 0.11651312, 0.11772134, 0.11812199, 0.11923993,\n       0.12390378, 0.12398829, 0.1263874 , 0.12845626, 0.14091753,\n       0.14179561, 0.14565377, 0.15902743, 0.16563457, 0.16919567,\n       0.17344118, 0.17407069, 0.17484663, 0.17535502, 0.1770225 ,\n       0.17719936, 0.18011637, 0.18202752, 0.182279  , 0.19245637,\n       0.19324475, 0.1985417 , 0.19864917, 0.20550513, 0.20583296,\n       0.20795859, 0.20812427, 0.21165769, 0.21659397, 0.22127388,\n       0.22297014, 0.22315214, 0.22365045, 0.22470865, 0.22799615,\n       0.23105471, 0.23152441, 0.23397062, 0.23405208, 0.23781466,\n       0.23886119, 0.24026377, 0.24381381, 0.24479911, 0.24578935,\n       0.24592262, 0.24701884, 0.24902068, 0.25061821, 0.25461954,\n       0.25485065, 0.25714641, 0.25763052, 0.25886414, 0.25905979,\n       0.25977494, 0.26050663, 0.26126046, 0.26139773, 0.26176213,\n       0.26279472, 0.2643726 , 0.265077  , 0.26645699, 0.2698114 ,\n       0.27044741, 0.2714605 , 0.27333761, 0.27481108, 0.27540035,\n       0.27564192, 0.27729462, 0.27861731, 0.27954545, 0.2798916 ,\n       0.28057639, 0.28096502, 0.28181274, 0.28249925, 0.28290302,\n       0.28719798, 0.28819113, 0.29011785, 0.29019435, 0.29114921,\n       0.29159619, 0.29200644, 0.29394206, 0.29464859, 0.29541383,\n       0.2978714 , 0.30290167, 0.30363684, 0.3073698 , 0.30799429,\n       0.30878496, 0.30928201, 0.30969411, 0.30984798, 0.31005184,\n       0.3110446 , 0.31151815, 0.31210236, 0.31335987, 0.31370072,\n       0.31389284, 0.31445784, 0.31492538, 0.31686592, 0.31717024,\n       0.31752757, 0.31826767, 0.3191492 , 0.32090434, 0.32119516,\n       0.32298821, 0.32330741, 0.32383385, 0.32427497, 0.32475418,\n       0.32735171, 0.32922744, 0.32991193, 0.33000086, 0.3307568 ,\n       0.33099324, 0.33189538, 0.33329572, 0.33372593, 0.33408061,\n       0.33480983, 0.3386392 , 0.34200671, 0.34301151, 0.34313416,\n       0.34424641, 0.34519395, 0.34527144, 0.34579709, 0.34609134,\n       0.34635862, 0.34712241, 0.3472571 , 0.34871052, 0.34877007,\n       0.35075818, 0.35122275, 0.35137657, 0.35252271, 0.35277233,\n       0.35309862, 0.35436426, 0.35542219, 0.35757145, 0.35776443,\n       0.3601109 , 0.36235651, 0.36493442, 0.36551563, 0.36555583,\n       0.36565703, 0.36631317, 0.37025735, 0.37138202, 0.37220031,\n       0.37287041, 0.37408511, 0.37463554, 0.37521527, 0.37630421,\n       0.37691049, 0.37856778, 0.37920386, 0.37977593, 0.38023677,\n       0.38065038, 0.38066697, 0.38090311, 0.38203193, 0.38296785,\n       0.38454646, 0.3868027 , 0.38772913, 0.38849233, 0.3885772 ,\n       0.38859713, 0.38917079, 0.39080634, 0.39136391, 0.39165755,\n       0.391838  , 0.3919706 , 0.39227013, 0.39274312, 0.39632158,\n       0.39729243, 0.40228963, 0.40256608, 0.41149972, 0.41172275,\n       0.41292162, 0.41613926, 0.41700385, 0.41735851, 0.41765812,\n       0.41865237, 0.41874885, 0.41877047, 0.41898789, 0.41928221,\n       0.42283386, 0.4234928 , 0.42426253, 0.42488457, 0.4251097 ,\n       0.42683942, 0.4269517 , 0.4278626 , 0.42809598, 0.42830111,\n       0.42845636, 0.4287184 , 0.42873279, 0.42929235, 0.43076635,\n       0.43208206, 0.43306957, 0.43349982, 0.43456802, 0.43469203,\n       0.4356102 , 0.43676699, 0.43685981, 0.43702642, 0.43720237,\n       0.43754719, 0.43845352, 0.4389015 , 0.43913703, 0.43963407,\n       0.44011339, 0.44230024, 0.44285271, 0.44463134, 0.44485322,\n       0.44490794, 0.4453776 , 0.44566667, 0.44639716, 0.44643269,\n       0.4474446 , 0.44853787, 0.44902748, 0.4490749 , 0.44939545,\n       0.44969563, 0.44981137, 0.44991406, 0.45087962, 0.45176539,\n       0.45461171, 0.45474363, 0.45489621, 0.45626282, 0.45673641,\n       0.45690669, 0.45701883, 0.4580519 , 0.45869471, 0.45985865,\n       0.46021097, 0.46043078, 0.46052232, 0.46075595, 0.46143862,\n       0.46208912, 0.4629161 , 0.46324974, 0.46372613, 0.4647418 ,\n       0.46552749, 0.46593117, 0.4661142 , 0.46668397, 0.46774019,\n       0.46922105, 0.46934674, 0.46936635, 0.46944112, 0.46967919,\n       0.47012252, 0.47286243, 0.4731973 , 0.47324738, 0.4732477 ,\n       0.47333982, 0.47354298, 0.47396316, 0.47534995, 0.47636277,\n       0.47756154, 0.47827034, 0.47901555, 0.47957602, 0.48034828,\n       0.4811258 , 0.48275404, 0.48334476, 0.48401655, 0.48415872,\n       0.48428881, 0.4852029 , 0.48520851, 0.48531594, 0.48588368,\n       0.48658148, 0.4867302 , 0.48740419, 0.48850624, 0.48921151,\n       0.4894665 , 0.48947146, 0.48951017, 0.48972512, 0.49061612,\n       0.49170191, 0.49316362, 0.49463161, 0.49522618, 0.49530645,\n       0.49766192, 0.49773063, 0.49935753, 0.4995555 , 0.49972792,\n       0.50004989, 0.50210997, 0.50309655, 0.50401768, 0.50444482,\n       0.50474738, 0.50637092, 0.50710018, 0.5073998 , 0.50775837,\n       0.5087404 , 0.50991196, 0.51055852, 0.51064395, 0.51065677,\n       0.51069359, 0.51106361, 0.51110411, 0.51125897, 0.51184333,\n       0.51299244, 0.51379614, 0.51664018, 0.5167714 , 0.51716589,\n       0.52007707, 0.52007879, 0.52073869, 0.52087267, 0.52101358,\n       0.52120625, 0.5212963 , 0.52132395, 0.52135701, 0.52142922,\n       0.52144488, 0.52151132, 0.52163224, 0.52177808, 0.52248551,\n       0.52260985, 0.52292123, 0.52340077, 0.52488379, 0.52551338,\n       0.52583062, 0.5258884 , 0.52662392, 0.52764067, 0.52801985,\n       0.52870684, 0.52872933, 0.52875571, 0.52908313, 0.52910685,\n       0.53003586, 0.53056668, 0.53098089, 0.53200223, 0.53211217,\n       0.53229872, 0.53232296, 0.53262129, 0.53313427, 0.53340975,\n       0.5334444 , 0.53405071, 0.53551049, 0.53631966, 0.53645827,\n       0.53732605, 0.53737625, 0.53774899, 0.53811932, 0.53813572,\n       0.538255  , 0.53836405, 0.53865394, 0.53881134, 0.53927909,\n       0.53997881, 0.54045592, 0.54070341, 0.54101703, 0.54109644,\n       0.54117968, 0.54323108, 0.5432583 , 0.54345031, 0.54366297,\n       0.54367214, 0.54421396, 0.54424522, 0.54432167, 0.54462157,\n       0.54526195, 0.54542448, 0.54595744, 0.546882  , 0.54689281,\n       0.54789496, 0.54797255, 0.54854524, 0.54897119, 0.54904601,\n       0.5496729 , 0.54997631, 0.550043  , 0.55057376, 0.55091254,\n       0.55151259, 0.55191223, 0.55243516, 0.55277043, 0.5528888 ,\n       0.55300208, 0.55395443, 0.55433547, 0.55480931, 0.55492125,\n       0.55554076, 0.55627818, 0.55688282, 0.55773796, 0.55782905,\n       0.55812151, 0.55877392, 0.55892952, 0.55925424, 0.55972248,\n       0.55987876, 0.5602166 , 0.56099432, 0.56116856, 0.56195758,\n       0.5624578 , 0.56339404, 0.56360889, 0.5644234 , 0.56506687,\n       0.56538819, 0.56545274, 0.56550755, 0.56622718, 0.56624242,\n       0.56737237, 0.56745625, 0.56915924, 0.56936361, 0.5694705 ,\n       0.56986566, 0.57111863, 0.57162341, 0.57213066, 0.57246725,\n       0.57311677, 0.57328802, 0.57413567, 0.57495489, 0.57589999,\n       0.57623055, 0.57624491, 0.57632444, 0.57662472, 0.57764818,\n       0.57793673, 0.57824275, 0.5787259 , 0.58017194, 0.58026987,\n       0.58053596, 0.58122841, 0.58128493, 0.58148508, 0.58174417,\n       0.5831743 , 0.58391013, 0.58393614, 0.58422266, 0.58423446,\n       0.58441395, 0.58483425, 0.58524166, 0.58587592, 0.58645537,\n       0.58690988, 0.58757975, 0.5880208 , 0.58807165, 0.58812976,\n       0.58869876, 0.59113159, 0.591153  , 0.59139179, 0.59146417,\n       0.59202698, 0.59263665, 0.59343029, 0.59348589, 0.59493785,\n       0.59504512, 0.59542856, 0.59583239, 0.59584345, 0.59635887,\n       0.59645129, 0.59650981, 0.59653893, 0.59662285, 0.59784378,\n       0.59841903, 0.59923266, 0.60000528, 0.60071017, 0.60071232,\n       0.60071426, 0.60103519, 0.60126283, 0.60198466, 0.60212598,\n       0.60244696, 0.60279686, 0.60334675, 0.60389377, 0.60394344,\n       0.60404459, 0.6043763 , 0.60447189, 0.60479568, 0.60534233,\n       0.60541486, 0.60584318, 0.60626025, 0.60670359, 0.60685505,\n       0.60787559, 0.60824647, 0.60849435, 0.6086751 , 0.60931386,\n       0.60986891, 0.61004058, 0.61070586, 0.61073938, 0.6112953 ,\n       0.61137699, 0.61187177, 0.61194511, 0.61239841, 0.61283264,\n       0.61315697, 0.61440191, 0.61485804, 0.61530126, 0.61582096,\n       0.61588477, 0.61614345, 0.61742214, 0.61872881, 0.61893746,\n       0.62009129, 0.62066335, 0.62077307, 0.62083964, 0.62100121,\n       0.62137636, 0.6218256 , 0.62188909, 0.62249674, 0.62257666,\n       0.62280713, 0.62402171, 0.62486826, 0.62569349, 0.62704573,\n       0.62705728, 0.6281587 , 0.62818176, 0.62818721, 0.62830191,\n       0.62848687, 0.62886288, 0.62939086, 0.62989324, 0.63010047,\n       0.63018466, 0.63032097, 0.63079602, 0.63159263, 0.63176567,\n       0.63195871, 0.63198635, 0.63248276, 0.63281471, 0.63290843,\n       0.63343738, 0.63360194, 0.6336281 , 0.6341853 , 0.63498734,\n       0.63501224, 0.63569886, 0.63582941, 0.63617469, 0.63670079,\n       0.6370218 , 0.63782818, 0.63877982, 0.63901675, 0.63922467,\n       0.63953282, 0.63978547, 0.64064828, 0.64206848, 0.64293891,\n       0.64356622, 0.64531923, 0.64559849, 0.64567044, 0.64571473,\n       0.64575373, 0.64617391, 0.64686596, 0.64697767, 0.64713541,\n       0.64737055, 0.64823104, 0.64854109, 0.64913069, 0.64921997,\n       0.64976872, 0.64991453, 0.65017407, 0.65198355, 0.65219003,\n       0.65344084, 0.65415233, 0.65497372, 0.65539605, 0.65752927,\n       0.65798583, 0.65805145, 0.65823051, 0.65876689, 0.65884397,\n       0.65903754, 0.65932057, 0.66043945, 0.66056018, 0.66078746,\n       0.66170302, 0.66223976, 0.662708  , 0.66343066, 0.66348051,\n       0.66383959, 0.66445435, 0.66505175, 0.66589362, 0.66596446,\n       0.66703169, 0.66706731, 0.66711707, 0.66763436, 0.66768177,\n       0.66793676, 0.66832031, 0.66845877, 0.66879274, 0.66988468,\n       0.67043089, 0.67046087, 0.6705503 , 0.67062136, 0.67080515,\n       0.67120422, 0.67180558, 0.67425157, 0.67493242, 0.6751416 ,\n       0.67625652, 0.67759246, 0.67854348, 0.68050583, 0.68113726,\n       0.68252666, 0.68388808, 0.68411143, 0.68472567, 0.68496702,\n       0.68605531, 0.68694886, 0.68720539, 0.68777506, 0.68812663,\n       0.68816736, 0.68881394, 0.68904984, 0.6890954 , 0.68981056,\n       0.69007759, 0.6908153 , 0.69152244, 0.69154695, 0.69163834,\n       0.69222957, 0.69232426, 0.69262902, 0.69282082, 0.69324142,\n       0.69332158, 0.69337963, 0.69342092, 0.69355048, 0.69379086,\n       0.69398098, 0.69484873, 0.69557616, 0.69585457, 0.69586967,\n       0.6984918 , 0.69894761, 0.69913163, 0.69944007, 0.69948915,\n       0.6999274 , 0.70015   , 0.70050629, 0.70167932, 0.70168765,\n       0.70283246, 0.70292498, 0.70404957, 0.70409172, 0.70434682,\n       0.70544872, 0.70598925, 0.70631491, 0.70896828, 0.70961284,\n       0.71154385, 0.71200127, 0.71213955, 0.71242933, 0.71300356,\n       0.71305558, 0.71341354, 0.71358484, 0.71412188, 0.71433317,\n       0.71450564, 0.71506408, 0.71508503, 0.71530136, 0.71764007,\n       0.71897226, 0.72007051, 0.72034523, 0.72075126, 0.72110771,\n       0.72264921, 0.72266973, 0.72300568, 0.72377786, 0.72491686,\n       0.72529155, 0.72636125, 0.72654027, 0.72703676, 0.72807623,\n       0.72822851, 0.72862267, 0.72891555, 0.72895747, 0.72955496,\n       0.73073403, 0.73142522, 0.73184707, 0.73248809, 0.73311822,\n       0.73342367, 0.73418324, 0.73584345, 0.73585734, 0.73652627,\n       0.73657615, 0.73746406, 0.73945359, 0.74053292, 0.74058278,\n       0.74076045, 0.74101071, 0.74109475, 0.74158188, 0.74202905,\n       0.74244414, 0.74277284, 0.74368248, 0.74470698, 0.74531959,\n       0.74559984, 0.74617328, 0.74828459, 0.7485738 , 0.74958886,\n       0.75204894, 0.75298952, 0.75446763, 0.75526326, 0.75567882,\n       0.75722451, 0.75730752, 0.75731005, 0.75732152, 0.7573597 ,\n       0.7600067 , 0.76178304, 0.76239864, 0.7638984 , 0.7658586 ,\n       0.7659519 , 0.76851368, 0.77001777, 0.77007871, 0.7703524 ,\n       0.77051316, 0.77089644, 0.77229062, 0.77239049, 0.77288833,\n       0.77422501, 0.77536403, 0.77559277, 0.77609525, 0.77735849,\n       0.77796731, 0.77803677, 0.77827891, 0.77836804, 0.77928989,\n       0.78175868, 0.78186125, 0.78188247, 0.78329696, 0.78594483,\n       0.7864006 , 0.78666874, 0.78682764, 0.78729675, 0.78774543,\n       0.78822247, 0.78874202, 0.78915181, 0.78935742, 0.79044262,\n       0.79046272, 0.79048518, 0.7908014 , 0.793839  , 0.79971247,\n       0.79977116, 0.80006801, 0.80118553, 0.80160622, 0.80316274,\n       0.80510666, 0.80513539, 0.80563964, 0.80567694, 0.8067111 ,\n       0.80729285, 0.81014656, 0.81072704, 0.81114743, 0.81162033,\n       0.81250786, 0.8130748 , 0.81448709, 0.81468036, 0.82036067,\n       0.8224489 , 0.8228314 , 0.82321607, 0.82599377, 0.82688878,\n       0.82794714, 0.82890128, 0.82933719, 0.8293555 , 0.83041761,\n       0.83169697, 0.83206347, 0.83269358, 0.83333737, 0.83385433,\n       0.83399504, 0.83469903, 0.84233025, 0.84490262, 0.84524142,\n       0.84575496, 0.84713429, 0.84763957, 0.84957392, 0.85130488,\n       0.85390999, 0.85488879, 0.85653759, 0.85686807, 0.86126254,\n       0.86143184, 0.86351728, 0.8656251 , 0.86729106, 0.86764448,\n       0.86776098, 0.86863719, 0.86918423, 0.86925249, 0.87427145,\n       0.8752792 , 0.8757888 , 0.87581669, 0.87714357, 0.87770329,\n       0.87929204, 0.87994692, 0.88298099, 0.88759405, 0.89538859,\n       0.89589033, 0.89659802, 0.89896408, 0.91074639, 0.91987211,\n       0.92124054, 0.92386497, 0.92505428, 0.9300811 , 0.93720959,\n       0.95025546, 0.96294771, 0.96432897, 0.99849575, 0.99852001]), array([1, 1, 1, 1, 1, 1, 1, 1, 1, 1, 1, 1, 1, 1, 1, 1, 1, 1, 1, 1, 1, 1,\n       1, 1, 1, 1, 1, 1, 1, 1, 1, 1, 1, 1, 1, 1, 1, 1, 1, 1, 1, 1, 1, 1,\n       1, 1, 1, 1, 1, 1, 1, 1, 1, 1, 1, 1, 1, 1, 1, 1, 1, 1, 1, 1, 1, 1,\n       1, 1, 1, 1, 1, 1, 1, 1, 1, 1, 1, 1, 1, 1, 1, 1, 1, 1, 1, 1, 1, 1,\n       1, 1, 1, 1, 1, 1, 1, 1, 1, 1, 1, 1, 1, 1, 1, 1, 1, 1, 1, 1, 1, 1,\n       1, 1, 1, 1, 1, 1, 1, 1, 1, 1, 1, 1, 1, 1, 1, 1, 1, 1, 1, 1, 1, 1,\n       1, 1, 1, 1, 1, 1, 1, 1, 1, 1, 1, 1, 1, 1, 1, 1, 1, 1, 1, 1, 1, 1,\n       1, 1, 1, 1, 1, 1, 1, 1, 1, 1, 1, 1, 1, 1, 1, 1, 1, 1, 1, 1, 1, 1,\n       1, 1, 1, 1, 1, 1, 1, 1, 1, 1, 1, 1, 1, 1, 1, 1, 1, 1, 1, 1, 1, 1,\n       1, 1, 1, 1, 1, 1, 1, 1, 1, 1, 1, 1, 1, 1, 1, 1, 1, 1, 1, 1, 1, 1,\n       1, 1, 1, 1, 1, 1, 1, 1, 1, 1, 1, 1, 1, 1, 1, 1, 1, 1, 1, 1, 1, 1,\n       1, 1, 1, 1, 1, 1, 1, 1, 1, 1, 1, 1, 1, 1, 1, 1, 1, 1, 1, 1, 1, 1,\n       1, 1, 1, 1, 1, 1, 1, 1, 1, 1, 1, 1, 1, 1, 1, 1, 1, 1, 1, 1, 1, 1,\n       1, 1, 1, 1, 1, 1, 1, 1, 1, 1, 1, 1, 1, 1, 1, 1, 1, 1, 1, 1, 1, 1,\n       1, 1, 1, 1, 1, 1, 1, 1, 1, 1, 1, 1, 1, 1, 1, 1, 1, 1, 1, 1, 1, 1,\n       1, 1, 1, 1, 1, 1, 1, 1, 1, 1, 1, 1, 1, 1, 1, 1, 1, 1, 1, 1, 1, 1,\n       1, 1, 1, 1, 1, 1, 1, 1, 1, 1, 1, 1, 1, 1, 1, 1, 1, 1, 1, 1, 1, 1,\n       1, 1, 1, 1, 1, 1, 1, 1, 1, 1, 1, 1, 1, 1, 1, 1, 1, 1, 1, 1, 1, 1,\n       1, 1, 1, 1, 1, 1, 1, 1, 1, 1, 1, 1, 1, 1, 1, 1, 1, 1, 1, 1, 1, 1,\n       1, 1, 1, 1, 1, 1, 1, 1, 1, 1, 1, 1, 1, 1, 1, 1, 1, 1, 1, 1, 1, 1,\n       1, 1, 1, 1, 1, 1, 1, 1, 1, 1, 1, 1, 1, 1, 1, 1, 1, 1, 1, 1, 1, 1,\n       1, 1, 1, 1, 1, 1, 1, 1, 1, 1, 1, 1, 1, 1, 1, 1, 1, 1, 1, 1, 1, 1,\n       1, 1, 1, 1, 1, 1, 1, 1, 1, 1, 1, 1, 1, 1, 1, 1, 1, 1, 1, 1, 1, 1,\n       1, 1, 1, 1, 1, 1, 1, 1, 1, 1, 1, 1, 1, 1, 1, 1, 1, 1, 1, 1, 1, 1,\n       1, 1, 1, 1, 1, 1, 1, 1, 1, 1, 1, 1, 1, 1, 1, 1, 1, 1, 1, 1, 1, 1,\n       1, 1, 1, 1, 1, 1, 1, 1, 1, 1, 1, 1, 1, 1, 1, 1, 1, 1, 1, 1, 1, 1,\n       1, 1, 1, 1, 1, 1, 1, 1, 1, 1, 1, 1, 1, 1, 1, 1, 1, 1, 1, 1, 1, 1,\n       1, 1, 1, 1, 1, 1, 1, 1, 1, 1, 1, 1, 1, 1, 1, 1, 1, 1, 1, 1, 1, 1,\n       1, 1, 1, 1, 1, 1, 1, 1, 1, 1, 1, 1, 1, 1, 1, 1, 1, 1, 1, 1, 1, 1,\n       1, 1, 1, 1, 1, 1, 1, 1, 1, 1, 1, 1, 1, 1, 1, 1, 1, 1, 1, 1, 1, 1,\n       1, 1, 1, 1, 1, 1, 1, 1, 1, 1, 1, 1, 1, 1, 1, 1, 1, 1, 1, 1, 1, 1,\n       1, 1, 1, 1, 1, 1, 1, 1, 1, 1, 1, 1, 1, 1, 1, 1, 1, 1, 1, 1, 1, 1,\n       1, 1, 1, 1, 1, 1, 1, 1, 1, 1, 1, 1, 1, 1, 1, 1, 1, 1, 1, 1, 1, 1,\n       1, 1, 1, 1, 1, 1, 1, 1, 1, 1, 1, 1, 1, 1, 1, 1, 1, 1, 1, 1, 1, 1,\n       1, 1, 1, 1, 1, 1, 1, 1, 1, 1, 1, 1, 1, 1, 1, 1, 1, 1, 1, 1, 1, 1,\n       1, 1, 1, 1, 1, 1, 1, 1, 1, 1, 1, 1, 1, 1, 1, 1, 1, 1, 1, 1, 1, 1,\n       1, 1, 1, 1, 1, 1, 1, 1, 1, 1, 1, 1, 1, 1, 1, 1, 1, 1, 1, 1, 1, 1,\n       1, 1, 1, 1, 1, 1, 1, 1, 1, 1, 1, 1, 1, 1, 1, 1, 1, 1, 1, 1, 1, 1,\n       1, 1, 1, 1, 1, 1, 1, 1, 1, 1, 1, 1, 1, 1, 1, 1, 1, 1, 1, 1, 1, 1,\n       1, 1, 1, 1, 1, 1, 1, 1, 1, 1, 1, 1, 1, 1, 1, 1, 1, 1, 1, 1, 1, 1,\n       1, 1, 1, 1, 1, 1, 1, 1, 1, 1, 1, 1, 1, 1, 1, 1, 1, 1, 1, 1, 1, 1,\n       1, 1, 1, 1, 1, 1, 1, 1, 1, 1, 1, 1, 1, 1, 1, 1, 1, 1, 1, 1, 1, 1,\n       1, 1, 1, 1, 1, 1, 1, 1, 1, 1, 1, 1, 1, 1, 1, 1, 1, 1, 1, 1, 1, 1,\n       1, 1, 1, 1, 1, 1, 1, 1, 1, 1, 1, 1, 1, 1, 1, 1, 1, 1, 1, 1, 1, 1,\n       1, 1, 1, 1, 1, 1, 1, 1, 1, 1, 1, 1, 1, 1, 1, 1, 1, 1, 1, 1, 1, 1,\n       1, 1, 1, 1, 1, 1, 1, 1, 1, 1]))\n"
     ]
    }
   ],
   "source": [
    "NB_DIGITS = 10\n",
    "\n",
    "def generator(n: int = 1, seed_: int = 0):\n",
    "    for i in range(n):\n",
    "        xyz = []\n",
    "        for j in range(3):\n",
    "            digits = []\n",
    "            for k in range(NB_DIGITS):\n",
    "                seed = e_numbers[seed_ + i + j + k]\n",
    "                a = len(e_numbers) - seed\n",
    "                c = e_numbers[i + seed]\n",
    "                digit = (a * seed + c) % 10\n",
    "                digits.append(digit)\n",
    "            xyz.append(float(\"0.\" + \"\".join(map(lambda x: str(x), digits))))\n",
    "        yield math.sqrt(sum([x**2 for x in xyz]))/math.sqrt(3)\n",
    "\n",
    "gen = list(generator(1000, 50))\n",
    "print(count_number(gen))"
   ],
   "metadata": {
    "collapsed": false,
    "pycharm": {
     "name": "#%%\n"
    },
    "tags": []
   }
  },
  {
   "cell_type": "code",
   "execution_count": 66,
   "metadata": {},
   "outputs": [],
   "source": [
    "## Test de notre générateur"
   ]
  },
  {
   "cell_type": "code",
   "execution_count": 71,
   "metadata": {},
   "outputs": [
    {
     "output_type": "stream",
     "name": "stdout",
     "text": [
      "[array([0.01348708, 0.02044921, 0.04138264, 0.04480176, 0.04509058,\n       0.06131286, 0.06384784, 0.06505924, 0.06897072, 0.08270355,\n       0.08659128, 0.08699869, 0.08962471, 0.0901702 , 0.09020989,\n       0.1047679 , 0.11651312, 0.11772134, 0.11812199, 0.11923993,\n       0.12390378, 0.12398829, 0.1263874 , 0.12845626, 0.14091753,\n       0.14179561, 0.14565377, 0.15902743, 0.16563457, 0.16919567,\n       0.17344118, 0.17407069, 0.17484663, 0.17535502, 0.1770225 ,\n       0.17719936, 0.18011637, 0.18202752, 0.182279  , 0.19245637,\n       0.19324475, 0.1985417 , 0.19864917, 0.20550513, 0.20583296,\n       0.20795859, 0.20812427, 0.21165769, 0.21659397, 0.22127388,\n       0.22297014, 0.22315214, 0.22365045, 0.22470865, 0.22799615,\n       0.23105471, 0.23152441, 0.23397062, 0.23405208, 0.23781466,\n       0.23886119, 0.24026377, 0.24381381, 0.24479911, 0.24578935,\n       0.24592262, 0.24701884, 0.24902068, 0.25061821, 0.25461954,\n       0.25485065, 0.25714641, 0.25763052, 0.25886414, 0.25905979,\n       0.25977494, 0.26050663, 0.26126046, 0.26139773, 0.26176213,\n       0.26279472, 0.2643726 , 0.265077  , 0.26645699, 0.2698114 ,\n       0.27044741, 0.2714605 , 0.27333761, 0.27481108, 0.27540035,\n       0.27564192, 0.27729462, 0.27861731, 0.27954545, 0.2798916 ,\n       0.28057639, 0.28096502, 0.28181274, 0.28249925, 0.28290302]), array([0.28719798, 0.28819113, 0.29011785, 0.29019435, 0.29114921,\n       0.29159619, 0.29200644, 0.29394206, 0.29464859, 0.29541383,\n       0.2978714 , 0.30290167, 0.30363684, 0.3073698 , 0.30799429,\n       0.30878496, 0.30928201, 0.30969411, 0.30984798, 0.31005184,\n       0.3110446 , 0.31151815, 0.31210236, 0.31335987, 0.31370072,\n       0.31389284, 0.31445784, 0.31492538, 0.31686592, 0.31717024,\n       0.31752757, 0.31826767, 0.3191492 , 0.32090434, 0.32119516,\n       0.32298821, 0.32330741, 0.32383385, 0.32427497, 0.32475418,\n       0.32735171, 0.32922744, 0.32991193, 0.33000086, 0.3307568 ,\n       0.33099324, 0.33189538, 0.33329572, 0.33372593, 0.33408061,\n       0.33480983, 0.3386392 , 0.34200671, 0.34301151, 0.34313416,\n       0.34424641, 0.34519395, 0.34527144, 0.34579709, 0.34609134,\n       0.34635862, 0.34712241, 0.3472571 , 0.34871052, 0.34877007,\n       0.35075818, 0.35122275, 0.35137657, 0.35252271, 0.35277233,\n       0.35309862, 0.35436426, 0.35542219, 0.35757145, 0.35776443,\n       0.3601109 , 0.36235651, 0.36493442, 0.36551563, 0.36555583,\n       0.36565703, 0.36631317, 0.37025735, 0.37138202, 0.37220031,\n       0.37287041, 0.37408511, 0.37463554, 0.37521527, 0.37630421,\n       0.37691049, 0.37856778, 0.37920386, 0.37977593, 0.38023677,\n       0.38065038, 0.38066697, 0.38090311, 0.38203193, 0.38296785]), array([0.38454646, 0.3868027 , 0.38772913, 0.38849233, 0.3885772 ,\n       0.38859713, 0.38917079, 0.39080634, 0.39136391, 0.39165755,\n       0.391838  , 0.3919706 , 0.39227013, 0.39274312, 0.39632158,\n       0.39729243, 0.40228963, 0.40256608, 0.41149972, 0.41172275,\n       0.41292162, 0.41613926, 0.41700385, 0.41735851, 0.41765812,\n       0.41865237, 0.41874885, 0.41877047, 0.41898789, 0.41928221,\n       0.42283386, 0.4234928 , 0.42426253, 0.42488457, 0.4251097 ,\n       0.42683942, 0.4269517 , 0.4278626 , 0.42809598, 0.42830111,\n       0.42845636, 0.4287184 , 0.42873279, 0.42929235, 0.43076635,\n       0.43208206, 0.43306957, 0.43349982, 0.43456802, 0.43469203,\n       0.4356102 , 0.43676699, 0.43685981, 0.43702642, 0.43720237,\n       0.43754719, 0.43845352, 0.4389015 , 0.43913703, 0.43963407,\n       0.44011339, 0.44230024, 0.44285271, 0.44463134, 0.44485322,\n       0.44490794, 0.4453776 , 0.44566667, 0.44639716, 0.44643269,\n       0.4474446 , 0.44853787, 0.44902748, 0.4490749 , 0.44939545,\n       0.44969563, 0.44981137, 0.44991406, 0.45087962, 0.45176539,\n       0.45461171, 0.45474363, 0.45489621, 0.45626282, 0.45673641,\n       0.45690669, 0.45701883, 0.4580519 , 0.45869471, 0.45985865,\n       0.46021097, 0.46043078, 0.46052232, 0.46075595, 0.46143862,\n       0.46208912, 0.4629161 , 0.46324974, 0.46372613, 0.4647418 ]), array([0.46552749, 0.46593117, 0.4661142 , 0.46668397, 0.46774019,\n       0.46922105, 0.46934674, 0.46936635, 0.46944112, 0.46967919,\n       0.47012252, 0.47286243, 0.4731973 , 0.47324738, 0.4732477 ,\n       0.47333982, 0.47354298, 0.47396316, 0.47534995, 0.47636277,\n       0.47756154, 0.47827034, 0.47901555, 0.47957602, 0.48034828,\n       0.4811258 , 0.48275404, 0.48334476, 0.48401655, 0.48415872,\n       0.48428881, 0.4852029 , 0.48520851, 0.48531594, 0.48588368,\n       0.48658148, 0.4867302 , 0.48740419, 0.48850624, 0.48921151,\n       0.4894665 , 0.48947146, 0.48951017, 0.48972512, 0.49061612,\n       0.49170191, 0.49316362, 0.49463161, 0.49522618, 0.49530645,\n       0.49766192, 0.49773063, 0.49935753, 0.4995555 , 0.49972792,\n       0.50004989, 0.50210997, 0.50309655, 0.50401768, 0.50444482,\n       0.50474738, 0.50637092, 0.50710018, 0.5073998 , 0.50775837,\n       0.5087404 , 0.50991196, 0.51055852, 0.51064395, 0.51065677,\n       0.51069359, 0.51106361, 0.51110411, 0.51125897, 0.51184333,\n       0.51299244, 0.51379614, 0.51664018, 0.5167714 , 0.51716589,\n       0.52007707, 0.52007879, 0.52073869, 0.52087267, 0.52101358,\n       0.52120625, 0.5212963 , 0.52132395, 0.52135701, 0.52142922,\n       0.52144488, 0.52151132, 0.52163224, 0.52177808, 0.52248551,\n       0.52260985, 0.52292123, 0.52340077, 0.52488379, 0.52551338]), array([0.52583062, 0.5258884 , 0.52662392, 0.52764067, 0.52801985,\n       0.52870684, 0.52872933, 0.52875571, 0.52908313, 0.52910685,\n       0.53003586, 0.53056668, 0.53098089, 0.53200223, 0.53211217,\n       0.53229872, 0.53232296, 0.53262129, 0.53313427, 0.53340975,\n       0.5334444 , 0.53405071, 0.53551049, 0.53631966, 0.53645827,\n       0.53732605, 0.53737625, 0.53774899, 0.53811932, 0.53813572,\n       0.538255  , 0.53836405, 0.53865394, 0.53881134, 0.53927909,\n       0.53997881, 0.54045592, 0.54070341, 0.54101703, 0.54109644,\n       0.54117968, 0.54323108, 0.5432583 , 0.54345031, 0.54366297,\n       0.54367214, 0.54421396, 0.54424522, 0.54432167, 0.54462157,\n       0.54526195, 0.54542448, 0.54595744, 0.546882  , 0.54689281,\n       0.54789496, 0.54797255, 0.54854524, 0.54897119, 0.54904601,\n       0.5496729 , 0.54997631, 0.550043  , 0.55057376, 0.55091254,\n       0.55151259, 0.55191223, 0.55243516, 0.55277043, 0.5528888 ,\n       0.55300208, 0.55395443, 0.55433547, 0.55480931, 0.55492125,\n       0.55554076, 0.55627818, 0.55688282, 0.55773796, 0.55782905,\n       0.55812151, 0.55877392, 0.55892952, 0.55925424, 0.55972248,\n       0.55987876, 0.5602166 , 0.56099432, 0.56116856, 0.56195758,\n       0.5624578 , 0.56339404, 0.56360889, 0.5644234 , 0.56506687,\n       0.56538819, 0.56545274, 0.56550755, 0.56622718, 0.56624242]), array([0.56737237, 0.56745625, 0.56915924, 0.56936361, 0.5694705 ,\n       0.56986566, 0.57111863, 0.57162341, 0.57213066, 0.57246725,\n       0.57311677, 0.57328802, 0.57413567, 0.57495489, 0.57589999,\n       0.57623055, 0.57624491, 0.57632444, 0.57662472, 0.57764818,\n       0.57793673, 0.57824275, 0.5787259 , 0.58017194, 0.58026987,\n       0.58053596, 0.58122841, 0.58128493, 0.58148508, 0.58174417,\n       0.5831743 , 0.58391013, 0.58393614, 0.58422266, 0.58423446,\n       0.58441395, 0.58483425, 0.58524166, 0.58587592, 0.58645537,\n       0.58690988, 0.58757975, 0.5880208 , 0.58807165, 0.58812976,\n       0.58869876, 0.59113159, 0.591153  , 0.59139179, 0.59146417,\n       0.59202698, 0.59263665, 0.59343029, 0.59348589, 0.59493785,\n       0.59504512, 0.59542856, 0.59583239, 0.59584345, 0.59635887,\n       0.59645129, 0.59650981, 0.59653893, 0.59662285, 0.59784378,\n       0.59841903, 0.59923266, 0.60000528, 0.60071017, 0.60071232,\n       0.60071426, 0.60103519, 0.60126283, 0.60198466, 0.60212598,\n       0.60244696, 0.60279686, 0.60334675, 0.60389377, 0.60394344,\n       0.60404459, 0.6043763 , 0.60447189, 0.60479568, 0.60534233,\n       0.60541486, 0.60584318, 0.60626025, 0.60670359, 0.60685505,\n       0.60787559, 0.60824647, 0.60849435, 0.6086751 , 0.60931386,\n       0.60986891, 0.61004058, 0.61070586, 0.61073938, 0.6112953 ]), array([0.61137699, 0.61187177, 0.61194511, 0.61239841, 0.61283264,\n       0.61315697, 0.61440191, 0.61485804, 0.61530126, 0.61582096,\n       0.61588477, 0.61614345, 0.61742214, 0.61872881, 0.61893746,\n       0.62009129, 0.62066335, 0.62077307, 0.62083964, 0.62100121,\n       0.62137636, 0.6218256 , 0.62188909, 0.62249674, 0.62257666,\n       0.62280713, 0.62402171, 0.62486826, 0.62569349, 0.62704573,\n       0.62705728, 0.6281587 , 0.62818176, 0.62818721, 0.62830191,\n       0.62848687, 0.62886288, 0.62939086, 0.62989324, 0.63010047,\n       0.63018466, 0.63032097, 0.63079602, 0.63159263, 0.63176567,\n       0.63195871, 0.63198635, 0.63248276, 0.63281471, 0.63290843,\n       0.63343738, 0.63360194, 0.6336281 , 0.6341853 , 0.63498734,\n       0.63501224, 0.63569886, 0.63582941, 0.63617469, 0.63670079,\n       0.6370218 , 0.63782818, 0.63877982, 0.63901675, 0.63922467,\n       0.63953282, 0.63978547, 0.64064828, 0.64206848, 0.64293891,\n       0.64356622, 0.64531923, 0.64559849, 0.64567044, 0.64571473,\n       0.64575373, 0.64617391, 0.64686596, 0.64697767, 0.64713541,\n       0.64737055, 0.64823104, 0.64854109, 0.64913069, 0.64921997,\n       0.64976872, 0.64991453, 0.65017407, 0.65198355, 0.65219003,\n       0.65344084, 0.65415233, 0.65497372, 0.65539605, 0.65752927,\n       0.65798583, 0.65805145, 0.65823051, 0.65876689, 0.65884397]), array([0.65903754, 0.65932057, 0.66043945, 0.66056018, 0.66078746,\n       0.66170302, 0.66223976, 0.662708  , 0.66343066, 0.66348051,\n       0.66383959, 0.66445435, 0.66505175, 0.66589362, 0.66596446,\n       0.66703169, 0.66706731, 0.66711707, 0.66763436, 0.66768177,\n       0.66793676, 0.66832031, 0.66845877, 0.66879274, 0.66988468,\n       0.67043089, 0.67046087, 0.6705503 , 0.67062136, 0.67080515,\n       0.67120422, 0.67180558, 0.67425157, 0.67493242, 0.6751416 ,\n       0.67625652, 0.67759246, 0.67854348, 0.68050583, 0.68113726,\n       0.68252666, 0.68388808, 0.68411143, 0.68472567, 0.68496702,\n       0.68605531, 0.68694886, 0.68720539, 0.68777506, 0.68812663,\n       0.68816736, 0.68881394, 0.68904984, 0.6890954 , 0.68981056,\n       0.69007759, 0.6908153 , 0.69152244, 0.69154695, 0.69163834,\n       0.69222957, 0.69232426, 0.69262902, 0.69282082, 0.69324142,\n       0.69332158, 0.69337963, 0.69342092, 0.69355048, 0.69379086,\n       0.69398098, 0.69484873, 0.69557616, 0.69585457, 0.69586967,\n       0.6984918 , 0.69894761, 0.69913163, 0.69944007, 0.69948915,\n       0.6999274 , 0.70015   , 0.70050629, 0.70167932, 0.70168765,\n       0.70283246, 0.70292498, 0.70404957, 0.70409172, 0.70434682,\n       0.70544872, 0.70598925, 0.70631491, 0.70896828, 0.70961284,\n       0.71154385, 0.71200127, 0.71213955, 0.71242933, 0.71300356]), array([0.71305558, 0.71341354, 0.71358484, 0.71412188, 0.71433317,\n       0.71450564, 0.71506408, 0.71508503, 0.71530136, 0.71764007,\n       0.71897226, 0.72007051, 0.72034523, 0.72075126, 0.72110771,\n       0.72264921, 0.72266973, 0.72300568, 0.72377786, 0.72491686,\n       0.72529155, 0.72636125, 0.72654027, 0.72703676, 0.72807623,\n       0.72822851, 0.72862267, 0.72891555, 0.72895747, 0.72955496,\n       0.73073403, 0.73142522, 0.73184707, 0.73248809, 0.73311822,\n       0.73342367, 0.73418324, 0.73584345, 0.73585734, 0.73652627,\n       0.73657615, 0.73746406, 0.73945359, 0.74053292, 0.74058278,\n       0.74076045, 0.74101071, 0.74109475, 0.74158188, 0.74202905,\n       0.74244414, 0.74277284, 0.74368248, 0.74470698, 0.74531959,\n       0.74559984, 0.74617328, 0.74828459, 0.7485738 , 0.74958886,\n       0.75204894, 0.75298952, 0.75446763, 0.75526326, 0.75567882,\n       0.75722451, 0.75730752, 0.75731005, 0.75732152, 0.7573597 ,\n       0.7600067 , 0.76178304, 0.76239864, 0.7638984 , 0.7658586 ,\n       0.7659519 , 0.76851368, 0.77001777, 0.77007871, 0.7703524 ,\n       0.77051316, 0.77089644, 0.77229062, 0.77239049, 0.77288833,\n       0.77422501, 0.77536403, 0.77559277, 0.77609525, 0.77735849,\n       0.77796731, 0.77803677, 0.77827891, 0.77836804, 0.77928989,\n       0.78175868, 0.78186125, 0.78188247, 0.78329696, 0.78594483]), array([0.7864006 , 0.78666874, 0.78682764, 0.78729675, 0.78774543,\n       0.78822247, 0.78874202, 0.78915181, 0.78935742, 0.79044262,\n       0.79046272, 0.79048518, 0.7908014 , 0.793839  , 0.79971247,\n       0.79977116, 0.80006801, 0.80118553, 0.80160622, 0.80316274,\n       0.80510666, 0.80513539, 0.80563964, 0.80567694, 0.8067111 ,\n       0.80729285, 0.81014656, 0.81072704, 0.81114743, 0.81162033,\n       0.81250786, 0.8130748 , 0.81448709, 0.81468036, 0.82036067,\n       0.8224489 , 0.8228314 , 0.82321607, 0.82599377, 0.82688878,\n       0.82794714, 0.82890128, 0.82933719, 0.8293555 , 0.83041761,\n       0.83169697, 0.83206347, 0.83269358, 0.83333737, 0.83385433,\n       0.83399504, 0.83469903, 0.84233025, 0.84490262, 0.84524142,\n       0.84575496, 0.84713429, 0.84763957, 0.84957392, 0.85130488,\n       0.85390999, 0.85488879, 0.85653759, 0.85686807, 0.86126254,\n       0.86143184, 0.86351728, 0.8656251 , 0.86729106, 0.86764448,\n       0.86776098, 0.86863719, 0.86918423, 0.86925249, 0.87427145,\n       0.8752792 , 0.8757888 , 0.87581669, 0.87714357, 0.87770329,\n       0.87929204, 0.87994692, 0.88298099, 0.88759405, 0.89538859,\n       0.89589033, 0.89659802, 0.89896408, 0.91074639, 0.91987211,\n       0.92124054, 0.92386497, 0.92505428, 0.9300811 , 0.93720959,\n       0.95025546, 0.96294771, 0.96432897, 0.99849575, 0.99852001])]\n(True, 0.0, 16.918977604620448)\n"
     ]
    }
   ],
   "source": [
    "lst = list(generator(1000, 50))\n",
    "print(chi_squared_continuous(lst))"
   ]
  },
  {
   "source": [],
   "cell_type": "code",
   "metadata": {},
   "execution_count": null,
   "outputs": []
  },
  {
   "source": [
    "## Petit histogramme"
   ],
   "cell_type": "markdown",
   "metadata": {}
  },
  {
   "cell_type": "code",
   "execution_count": 110,
   "metadata": {},
   "outputs": [
    {
     "output_type": "stream",
     "name": "stderr",
     "text": [
      "<ipython-input-109-aee1738b1e70>:4: VisibleDeprecationWarning: Creating an ndarray from ragged nested sequences (which is a list-or-tuple of lists-or-tuples-or ndarrays with different lengths or shapes) is deprecated. If you meant to do this, you must specify 'dtype=object' when creating the ndarray.\n  return np.array(res)\n"
     ]
    },
    {
     "output_type": "execute_result",
     "data": {
      "text/plain": [
       "array([array([], dtype=float64),\n",
       "       array([0.01348708, 0.02044921, 0.04138264, 0.04480176, 0.04509058,\n",
       "              0.06131286, 0.06384784, 0.06505924, 0.06897072, 0.08270355,\n",
       "              0.08659128, 0.08699869, 0.08962471, 0.0901702 , 0.09020989]),\n",
       "       array([0.1047679 , 0.11651312, 0.11772134, 0.11812199, 0.11923993,\n",
       "              0.12390378, 0.12398829, 0.1263874 , 0.12845626, 0.14091753,\n",
       "              0.14179561, 0.14565377, 0.15902743, 0.16563457, 0.16919567,\n",
       "              0.17344118, 0.17407069, 0.17484663, 0.17535502, 0.1770225 ,\n",
       "              0.17719936, 0.18011637, 0.18202752, 0.182279  , 0.19245637,\n",
       "              0.19324475, 0.1985417 , 0.19864917])                       ,\n",
       "       array([0.20550513, 0.20583296, 0.20795859, 0.20812427, 0.21165769,\n",
       "              0.21659397, 0.22127388, 0.22297014, 0.22315214, 0.22365045,\n",
       "              0.22470865, 0.22799615, 0.23105471, 0.23152441, 0.23397062,\n",
       "              0.23405208, 0.23781466, 0.23886119, 0.24026377, 0.24381381,\n",
       "              0.24479911, 0.24578935, 0.24592262, 0.24701884, 0.24902068,\n",
       "              0.25061821, 0.25461954, 0.25485065, 0.25714641, 0.25763052,\n",
       "              0.25886414, 0.25905979, 0.25977494, 0.26050663, 0.26126046,\n",
       "              0.26139773, 0.26176213, 0.26279472, 0.2643726 , 0.265077  ,\n",
       "              0.26645699, 0.2698114 , 0.27044741, 0.2714605 , 0.27333761,\n",
       "              0.27481108, 0.27540035, 0.27564192, 0.27729462, 0.27861731,\n",
       "              0.27954545, 0.2798916 , 0.28057639, 0.28096502, 0.28181274,\n",
       "              0.28249925, 0.28290302, 0.28719798, 0.28819113, 0.29011785,\n",
       "              0.29019435, 0.29114921, 0.29159619, 0.29200644, 0.29394206,\n",
       "              0.29464859, 0.29541383, 0.2978714 ])                       ,\n",
       "       array([0.30290167, 0.30363684, 0.3073698 , 0.30799429, 0.30878496,\n",
       "              0.30928201, 0.30969411, 0.30984798, 0.31005184, 0.3110446 ,\n",
       "              0.31151815, 0.31210236, 0.31335987, 0.31370072, 0.31389284,\n",
       "              0.31445784, 0.31492538, 0.31686592, 0.31717024, 0.31752757,\n",
       "              0.31826767, 0.3191492 , 0.32090434, 0.32119516, 0.32298821,\n",
       "              0.32330741, 0.32383385, 0.32427497, 0.32475418, 0.32735171,\n",
       "              0.32922744, 0.32991193, 0.33000086, 0.3307568 , 0.33099324,\n",
       "              0.33189538, 0.33329572, 0.33372593, 0.33408061, 0.33480983,\n",
       "              0.3386392 , 0.34200671, 0.34301151, 0.34313416, 0.34424641,\n",
       "              0.34519395, 0.34527144, 0.34579709, 0.34609134, 0.34635862,\n",
       "              0.34712241, 0.3472571 , 0.34871052, 0.34877007, 0.35075818,\n",
       "              0.35122275, 0.35137657, 0.35252271, 0.35277233, 0.35309862,\n",
       "              0.35436426, 0.35542219, 0.35757145, 0.35776443, 0.3601109 ,\n",
       "              0.36235651, 0.36493442, 0.36551563, 0.36555583, 0.36565703,\n",
       "              0.36631317, 0.37025735, 0.37138202, 0.37220031, 0.37287041,\n",
       "              0.37408511, 0.37463554, 0.37521527, 0.37630421, 0.37691049,\n",
       "              0.37856778, 0.37920386, 0.37977593, 0.38023677, 0.38065038,\n",
       "              0.38066697, 0.38090311, 0.38203193, 0.38296785, 0.38454646,\n",
       "              0.3868027 , 0.38772913, 0.38849233, 0.3885772 , 0.38859713,\n",
       "              0.38917079, 0.39080634, 0.39136391, 0.39165755, 0.391838  ,\n",
       "              0.3919706 , 0.39227013, 0.39274312, 0.39632158, 0.39729243]),\n",
       "       array([0.40228963, 0.40256608, 0.41149972, 0.41172275, 0.41292162,\n",
       "              0.41613926, 0.41700385, 0.41735851, 0.41765812, 0.41865237,\n",
       "              0.41874885, 0.41877047, 0.41898789, 0.41928221, 0.42283386,\n",
       "              0.4234928 , 0.42426253, 0.42488457, 0.4251097 , 0.42683942,\n",
       "              0.4269517 , 0.4278626 , 0.42809598, 0.42830111, 0.42845636,\n",
       "              0.4287184 , 0.42873279, 0.42929235, 0.43076635, 0.43208206,\n",
       "              0.43306957, 0.43349982, 0.43456802, 0.43469203, 0.4356102 ,\n",
       "              0.43676699, 0.43685981, 0.43702642, 0.43720237, 0.43754719,\n",
       "              0.43845352, 0.4389015 , 0.43913703, 0.43963407, 0.44011339,\n",
       "              0.44230024, 0.44285271, 0.44463134, 0.44485322, 0.44490794,\n",
       "              0.4453776 , 0.44566667, 0.44639716, 0.44643269, 0.4474446 ,\n",
       "              0.44853787, 0.44902748, 0.4490749 , 0.44939545, 0.44969563,\n",
       "              0.44981137, 0.44991406, 0.45087962, 0.45176539, 0.45461171,\n",
       "              0.45474363, 0.45489621, 0.45626282, 0.45673641, 0.45690669,\n",
       "              0.45701883, 0.4580519 , 0.45869471, 0.45985865, 0.46021097,\n",
       "              0.46043078, 0.46052232, 0.46075595, 0.46143862, 0.46208912,\n",
       "              0.4629161 , 0.46324974, 0.46372613, 0.4647418 , 0.46552749,\n",
       "              0.46593117, 0.4661142 , 0.46668397, 0.46774019, 0.46922105,\n",
       "              0.46934674, 0.46936635, 0.46944112, 0.46967919, 0.47012252,\n",
       "              0.47286243, 0.4731973 , 0.47324738, 0.4732477 , 0.47333982,\n",
       "              0.47354298, 0.47396316, 0.47534995, 0.47636277, 0.47756154,\n",
       "              0.47827034, 0.47901555, 0.47957602, 0.48034828, 0.4811258 ,\n",
       "              0.48275404, 0.48334476, 0.48401655, 0.48415872, 0.48428881,\n",
       "              0.4852029 , 0.48520851, 0.48531594, 0.48588368, 0.48658148,\n",
       "              0.4867302 , 0.48740419, 0.48850624, 0.48921151, 0.4894665 ,\n",
       "              0.48947146, 0.48951017, 0.48972512, 0.49061612, 0.49170191,\n",
       "              0.49316362, 0.49463161, 0.49522618, 0.49530645, 0.49766192,\n",
       "              0.49773063, 0.49935753, 0.4995555 , 0.49972792])           ,\n",
       "       array([0.50004989, 0.50210997, 0.50309655, 0.50401768, 0.50444482,\n",
       "              0.50474738, 0.50637092, 0.50710018, 0.5073998 , 0.50775837,\n",
       "              0.5087404 , 0.50991196, 0.51055852, 0.51064395, 0.51065677,\n",
       "              0.51069359, 0.51106361, 0.51110411, 0.51125897, 0.51184333,\n",
       "              0.51299244, 0.51379614, 0.51664018, 0.5167714 , 0.51716589,\n",
       "              0.52007707, 0.52007879, 0.52073869, 0.52087267, 0.52101358,\n",
       "              0.52120625, 0.5212963 , 0.52132395, 0.52135701, 0.52142922,\n",
       "              0.52144488, 0.52151132, 0.52163224, 0.52177808, 0.52248551,\n",
       "              0.52260985, 0.52292123, 0.52340077, 0.52488379, 0.52551338,\n",
       "              0.52583062, 0.5258884 , 0.52662392, 0.52764067, 0.52801985,\n",
       "              0.52870684, 0.52872933, 0.52875571, 0.52908313, 0.52910685,\n",
       "              0.53003586, 0.53056668, 0.53098089, 0.53200223, 0.53211217,\n",
       "              0.53229872, 0.53232296, 0.53262129, 0.53313427, 0.53340975,\n",
       "              0.5334444 , 0.53405071, 0.53551049, 0.53631966, 0.53645827,\n",
       "              0.53732605, 0.53737625, 0.53774899, 0.53811932, 0.53813572,\n",
       "              0.538255  , 0.53836405, 0.53865394, 0.53881134, 0.53927909,\n",
       "              0.53997881, 0.54045592, 0.54070341, 0.54101703, 0.54109644,\n",
       "              0.54117968, 0.54323108, 0.5432583 , 0.54345031, 0.54366297,\n",
       "              0.54367214, 0.54421396, 0.54424522, 0.54432167, 0.54462157,\n",
       "              0.54526195, 0.54542448, 0.54595744, 0.546882  , 0.54689281,\n",
       "              0.54789496, 0.54797255, 0.54854524, 0.54897119, 0.54904601,\n",
       "              0.5496729 , 0.54997631, 0.550043  , 0.55057376, 0.55091254,\n",
       "              0.55151259, 0.55191223, 0.55243516, 0.55277043, 0.5528888 ,\n",
       "              0.55300208, 0.55395443, 0.55433547, 0.55480931, 0.55492125,\n",
       "              0.55554076, 0.55627818, 0.55688282, 0.55773796, 0.55782905,\n",
       "              0.55812151, 0.55877392, 0.55892952, 0.55925424, 0.55972248,\n",
       "              0.55987876, 0.5602166 , 0.56099432, 0.56116856, 0.56195758,\n",
       "              0.5624578 , 0.56339404, 0.56360889, 0.5644234 , 0.56506687,\n",
       "              0.56538819, 0.56545274, 0.56550755, 0.56622718, 0.56624242,\n",
       "              0.56737237, 0.56745625, 0.56915924, 0.56936361, 0.5694705 ,\n",
       "              0.56986566, 0.57111863, 0.57162341, 0.57213066, 0.57246725,\n",
       "              0.57311677, 0.57328802, 0.57413567, 0.57495489, 0.57589999,\n",
       "              0.57623055, 0.57624491, 0.57632444, 0.57662472, 0.57764818,\n",
       "              0.57793673, 0.57824275, 0.5787259 , 0.58017194, 0.58026987,\n",
       "              0.58053596, 0.58122841, 0.58128493, 0.58148508, 0.58174417,\n",
       "              0.5831743 , 0.58391013, 0.58393614, 0.58422266, 0.58423446,\n",
       "              0.58441395, 0.58483425, 0.58524166, 0.58587592, 0.58645537,\n",
       "              0.58690988, 0.58757975, 0.5880208 , 0.58807165, 0.58812976,\n",
       "              0.58869876, 0.59113159, 0.591153  , 0.59139179, 0.59146417,\n",
       "              0.59202698, 0.59263665, 0.59343029, 0.59348589, 0.59493785,\n",
       "              0.59504512, 0.59542856, 0.59583239, 0.59584345, 0.59635887,\n",
       "              0.59645129, 0.59650981, 0.59653893, 0.59662285, 0.59784378,\n",
       "              0.59841903, 0.59923266])                                   ,\n",
       "       array([0.60000528, 0.60071017, 0.60071232, 0.60071426, 0.60103519,\n",
       "              0.60126283, 0.60198466, 0.60212598, 0.60244696, 0.60279686,\n",
       "              0.60334675, 0.60389377, 0.60394344, 0.60404459, 0.6043763 ,\n",
       "              0.60447189, 0.60479568, 0.60534233, 0.60541486, 0.60584318,\n",
       "              0.60626025, 0.60670359, 0.60685505, 0.60787559, 0.60824647,\n",
       "              0.60849435, 0.6086751 , 0.60931386, 0.60986891, 0.61004058,\n",
       "              0.61070586, 0.61073938, 0.6112953 , 0.61137699, 0.61187177,\n",
       "              0.61194511, 0.61239841, 0.61283264, 0.61315697, 0.61440191,\n",
       "              0.61485804, 0.61530126, 0.61582096, 0.61588477, 0.61614345,\n",
       "              0.61742214, 0.61872881, 0.61893746, 0.62009129, 0.62066335,\n",
       "              0.62077307, 0.62083964, 0.62100121, 0.62137636, 0.6218256 ,\n",
       "              0.62188909, 0.62249674, 0.62257666, 0.62280713, 0.62402171,\n",
       "              0.62486826, 0.62569349, 0.62704573, 0.62705728, 0.6281587 ,\n",
       "              0.62818176, 0.62818721, 0.62830191, 0.62848687, 0.62886288,\n",
       "              0.62939086, 0.62989324, 0.63010047, 0.63018466, 0.63032097,\n",
       "              0.63079602, 0.63159263, 0.63176567, 0.63195871, 0.63198635,\n",
       "              0.63248276, 0.63281471, 0.63290843, 0.63343738, 0.63360194,\n",
       "              0.6336281 , 0.6341853 , 0.63498734, 0.63501224, 0.63569886,\n",
       "              0.63582941, 0.63617469, 0.63670079, 0.6370218 , 0.63782818,\n",
       "              0.63877982, 0.63901675, 0.63922467, 0.63953282, 0.63978547,\n",
       "              0.64064828, 0.64206848, 0.64293891, 0.64356622, 0.64531923,\n",
       "              0.64559849, 0.64567044, 0.64571473, 0.64575373, 0.64617391,\n",
       "              0.64686596, 0.64697767, 0.64713541, 0.64737055, 0.64823104,\n",
       "              0.64854109, 0.64913069, 0.64921997, 0.64976872, 0.64991453,\n",
       "              0.65017407, 0.65198355, 0.65219003, 0.65344084, 0.65415233,\n",
       "              0.65497372, 0.65539605, 0.65752927, 0.65798583, 0.65805145,\n",
       "              0.65823051, 0.65876689, 0.65884397, 0.65903754, 0.65932057,\n",
       "              0.66043945, 0.66056018, 0.66078746, 0.66170302, 0.66223976,\n",
       "              0.662708  , 0.66343066, 0.66348051, 0.66383959, 0.66445435,\n",
       "              0.66505175, 0.66589362, 0.66596446, 0.66703169, 0.66706731,\n",
       "              0.66711707, 0.66763436, 0.66768177, 0.66793676, 0.66832031,\n",
       "              0.66845877, 0.66879274, 0.66988468, 0.67043089, 0.67046087,\n",
       "              0.6705503 , 0.67062136, 0.67080515, 0.67120422, 0.67180558,\n",
       "              0.67425157, 0.67493242, 0.6751416 , 0.67625652, 0.67759246,\n",
       "              0.67854348, 0.68050583, 0.68113726, 0.68252666, 0.68388808,\n",
       "              0.68411143, 0.68472567, 0.68496702, 0.68605531, 0.68694886,\n",
       "              0.68720539, 0.68777506, 0.68812663, 0.68816736, 0.68881394,\n",
       "              0.68904984, 0.6890954 , 0.68981056, 0.69007759, 0.6908153 ,\n",
       "              0.69152244, 0.69154695, 0.69163834, 0.69222957, 0.69232426,\n",
       "              0.69262902, 0.69282082, 0.69324142, 0.69332158, 0.69337963,\n",
       "              0.69342092, 0.69355048, 0.69379086, 0.69398098, 0.69484873,\n",
       "              0.69557616, 0.69585457, 0.69586967, 0.6984918 , 0.69894761,\n",
       "              0.69913163, 0.69944007, 0.69948915, 0.6999274 ])           ,\n",
       "       array([0.70015   , 0.70050629, 0.70167932, 0.70168765, 0.70283246,\n",
       "              0.70292498, 0.70404957, 0.70409172, 0.70434682, 0.70544872,\n",
       "              0.70598925, 0.70631491, 0.70896828, 0.70961284, 0.71154385,\n",
       "              0.71200127, 0.71213955, 0.71242933, 0.71300356, 0.71305558,\n",
       "              0.71341354, 0.71358484, 0.71412188, 0.71433317, 0.71450564,\n",
       "              0.71506408, 0.71508503, 0.71530136, 0.71764007, 0.71897226,\n",
       "              0.72007051, 0.72034523, 0.72075126, 0.72110771, 0.72264921,\n",
       "              0.72266973, 0.72300568, 0.72377786, 0.72491686, 0.72529155,\n",
       "              0.72636125, 0.72654027, 0.72703676, 0.72807623, 0.72822851,\n",
       "              0.72862267, 0.72891555, 0.72895747, 0.72955496, 0.73073403,\n",
       "              0.73142522, 0.73184707, 0.73248809, 0.73311822, 0.73342367,\n",
       "              0.73418324, 0.73584345, 0.73585734, 0.73652627, 0.73657615,\n",
       "              0.73746406, 0.73945359, 0.74053292, 0.74058278, 0.74076045,\n",
       "              0.74101071, 0.74109475, 0.74158188, 0.74202905, 0.74244414,\n",
       "              0.74277284, 0.74368248, 0.74470698, 0.74531959, 0.74559984,\n",
       "              0.74617328, 0.74828459, 0.7485738 , 0.74958886, 0.75204894,\n",
       "              0.75298952, 0.75446763, 0.75526326, 0.75567882, 0.75722451,\n",
       "              0.75730752, 0.75731005, 0.75732152, 0.7573597 , 0.7600067 ,\n",
       "              0.76178304, 0.76239864, 0.7638984 , 0.7658586 , 0.7659519 ,\n",
       "              0.76851368, 0.77001777, 0.77007871, 0.7703524 , 0.77051316,\n",
       "              0.77089644, 0.77229062, 0.77239049, 0.77288833, 0.77422501,\n",
       "              0.77536403, 0.77559277, 0.77609525, 0.77735849, 0.77796731,\n",
       "              0.77803677, 0.77827891, 0.77836804, 0.77928989, 0.78175868,\n",
       "              0.78186125, 0.78188247, 0.78329696, 0.78594483, 0.7864006 ,\n",
       "              0.78666874, 0.78682764, 0.78729675, 0.78774543, 0.78822247,\n",
       "              0.78874202, 0.78915181, 0.78935742, 0.79044262, 0.79046272,\n",
       "              0.79048518, 0.7908014 , 0.793839  , 0.79971247, 0.79977116]),\n",
       "       array([0.80006801, 0.80118553, 0.80160622, 0.80316274, 0.80510666,\n",
       "              0.80513539, 0.80563964, 0.80567694, 0.8067111 , 0.80729285,\n",
       "              0.81014656, 0.81072704, 0.81114743, 0.81162033, 0.81250786,\n",
       "              0.8130748 , 0.81448709, 0.81468036, 0.82036067, 0.8224489 ,\n",
       "              0.8228314 , 0.82321607, 0.82599377, 0.82688878, 0.82794714,\n",
       "              0.82890128, 0.82933719, 0.8293555 , 0.83041761, 0.83169697,\n",
       "              0.83206347, 0.83269358, 0.83333737, 0.83385433, 0.83399504,\n",
       "              0.83469903, 0.84233025, 0.84490262, 0.84524142, 0.84575496,\n",
       "              0.84713429, 0.84763957, 0.84957392, 0.85130488, 0.85390999,\n",
       "              0.85488879, 0.85653759, 0.85686807, 0.86126254, 0.86143184,\n",
       "              0.86351728, 0.8656251 , 0.86729106, 0.86764448, 0.86776098,\n",
       "              0.86863719, 0.86918423, 0.86925249, 0.87427145, 0.8752792 ,\n",
       "              0.8757888 , 0.87581669, 0.87714357, 0.87770329, 0.87929204,\n",
       "              0.87994692, 0.88298099, 0.88759405, 0.89538859, 0.89589033,\n",
       "              0.89659802, 0.89896408])                                   ],\n",
       "      dtype=object)"
      ]
     },
     "metadata": {},
     "execution_count": 110
    }
   ],
   "source": [
    "split_in_groups(lst)"
   ]
  },
  {
   "cell_type": "code",
   "execution_count": 115,
   "metadata": {},
   "outputs": [
    {
     "output_type": "stream",
     "name": "stderr",
     "text": [
      "<ipython-input-109-aee1738b1e70>:4: VisibleDeprecationWarning: Creating an ndarray from ragged nested sequences (which is a list-or-tuple of lists-or-tuples-or ndarrays with different lengths or shapes) is deprecated. If you meant to do this, you must specify 'dtype=object' when creating the ndarray.\n  return np.array(res)\n"
     ]
    },
    {
     "output_type": "display_data",
     "data": {
      "text/plain": "<Figure size 432x288 with 1 Axes>",
      "image/svg+xml": "<?xml version=\"1.0\" encoding=\"utf-8\" standalone=\"no\"?>\n<!DOCTYPE svg PUBLIC \"-//W3C//DTD SVG 1.1//EN\"\n  \"http://www.w3.org/Graphics/SVG/1.1/DTD/svg11.dtd\">\n<svg height=\"248.518125pt\" version=\"1.1\" viewBox=\"0 0 375.2875 248.518125\" width=\"375.2875pt\" xmlns=\"http://www.w3.org/2000/svg\" xmlns:xlink=\"http://www.w3.org/1999/xlink\">\n <metadata>\n  <rdf:RDF xmlns:cc=\"http://creativecommons.org/ns#\" xmlns:dc=\"http://purl.org/dc/elements/1.1/\" xmlns:rdf=\"http://www.w3.org/1999/02/22-rdf-syntax-ns#\">\n   <cc:Work>\n    <dc:type rdf:resource=\"http://purl.org/dc/dcmitype/StillImage\"/>\n    <dc:date>2021-04-25T16:10:14.209531</dc:date>\n    <dc:format>image/svg+xml</dc:format>\n    <dc:creator>\n     <cc:Agent>\n      <dc:title>Matplotlib v3.4.1, https://matplotlib.org/</dc:title>\n     </cc:Agent>\n    </dc:creator>\n   </cc:Work>\n  </rdf:RDF>\n </metadata>\n <defs>\n  <style type=\"text/css\">*{stroke-linecap:butt;stroke-linejoin:round;}</style>\n </defs>\n <g id=\"figure_1\">\n  <g id=\"patch_1\">\n   <path d=\"M 0 248.518125 \nL 375.2875 248.518125 \nL 375.2875 0 \nL 0 0 \nz\n\" style=\"fill:none;\"/>\n  </g>\n  <g id=\"axes_1\">\n   <g id=\"patch_2\">\n    <path d=\"M 33.2875 224.64 \nL 368.0875 224.64 \nL 368.0875 7.2 \nL 33.2875 7.2 \nz\n\" style=\"fill:#ffffff;\"/>\n   </g>\n   <g id=\"patch_3\">\n    <path clip-path=\"url(#pc643c5464a)\" d=\"M 48.505682 224.64 \nL 191.735628 224.64 \nL 191.735628 224.64 \nL 48.505682 224.64 \nz\n\" style=\"fill:#98fb98;\"/>\n   </g>\n   <g id=\"patch_4\">\n    <path clip-path=\"url(#pc643c5464a)\" d=\"M 66.409425 224.64 \nL 209.639372 224.64 \nL 209.639372 210.124646 \nL 66.409425 210.124646 \nz\n\" style=\"fill:#98fb98;\"/>\n   </g>\n   <g id=\"patch_5\">\n    <path clip-path=\"url(#pc643c5464a)\" d=\"M 84.313168 224.64 \nL 227.543115 224.64 \nL 227.543115 197.544673 \nL 84.313168 197.544673 \nz\n\" style=\"fill:#98fb98;\"/>\n   </g>\n   <g id=\"patch_6\">\n    <path clip-path=\"url(#pc643c5464a)\" d=\"M 102.216912 224.64 \nL 245.446858 224.64 \nL 245.446858 158.837063 \nL 102.216912 158.837063 \nz\n\" style=\"fill:#98fb98;\"/>\n   </g>\n   <g id=\"patch_7\">\n    <path clip-path=\"url(#pc643c5464a)\" d=\"M 120.120655 224.64 \nL 263.350602 224.64 \nL 263.350602 123.032523 \nL 120.120655 123.032523 \nz\n\" style=\"fill:#98fb98;\"/>\n   </g>\n   <g id=\"patch_8\">\n    <path clip-path=\"url(#pc643c5464a)\" d=\"M 138.024398 224.64 \nL 281.254345 224.64 \nL 281.254345 90.131055 \nL 138.024398 90.131055 \nz\n\" style=\"fill:#98fb98;\"/>\n   </g>\n   <g id=\"patch_9\">\n    <path clip-path=\"url(#pc643c5464a)\" d=\"M 155.928142 224.64 \nL 299.158088 224.64 \nL 299.158088 19.489666 \nL 155.928142 19.489666 \nz\n\" style=\"fill:#98fb98;\"/>\n   </g>\n   <g id=\"patch_10\">\n    <path clip-path=\"url(#pc643c5464a)\" d=\"M 173.831885 224.64 \nL 317.061832 224.64 \nL 317.061832 17.554286 \nL 173.831885 17.554286 \nz\n\" style=\"fill:#98fb98;\"/>\n   </g>\n   <g id=\"patch_11\">\n    <path clip-path=\"url(#pc643c5464a)\" d=\"M 191.735628 224.64 \nL 334.965575 224.64 \nL 334.965575 94.001816 \nL 191.735628 94.001816 \nz\n\" style=\"fill:#98fb98;\"/>\n   </g>\n   <g id=\"patch_12\">\n    <path clip-path=\"url(#pc643c5464a)\" d=\"M 209.639372 224.64 \nL 352.869318 224.64 \nL 352.869318 154.966302 \nL 209.639372 154.966302 \nz\n\" style=\"fill:#98fb98;\"/>\n   </g>\n   <g id=\"matplotlib.axis_1\">\n    <g id=\"xtick_1\">\n     <g id=\"line2d_1\">\n      <defs>\n       <path d=\"M 0 0 \nL 0 3.5 \n\" id=\"m29de34ac24\" style=\"stroke:#000000;stroke-width:0.8;\"/>\n      </defs>\n      <g>\n       <use style=\"stroke:#000000;stroke-width:0.8;\" x=\"75.361297\" xlink:href=\"#m29de34ac24\" y=\"224.64\"/>\n      </g>\n     </g>\n     <g id=\"text_1\">\n      <!-- −0.25 -->\n      <g transform=\"translate(60.038641 239.238437)scale(0.1 -0.1)\">\n       <defs>\n        <path d=\"M 678 2272 \nL 4684 2272 \nL 4684 1741 \nL 678 1741 \nL 678 2272 \nz\n\" id=\"DejaVuSans-2212\" transform=\"scale(0.015625)\"/>\n        <path d=\"M 2034 4250 \nQ 1547 4250 1301 3770 \nQ 1056 3291 1056 2328 \nQ 1056 1369 1301 889 \nQ 1547 409 2034 409 \nQ 2525 409 2770 889 \nQ 3016 1369 3016 2328 \nQ 3016 3291 2770 3770 \nQ 2525 4250 2034 4250 \nz\nM 2034 4750 \nQ 2819 4750 3233 4129 \nQ 3647 3509 3647 2328 \nQ 3647 1150 3233 529 \nQ 2819 -91 2034 -91 \nQ 1250 -91 836 529 \nQ 422 1150 422 2328 \nQ 422 3509 836 4129 \nQ 1250 4750 2034 4750 \nz\n\" id=\"DejaVuSans-30\" transform=\"scale(0.015625)\"/>\n        <path d=\"M 684 794 \nL 1344 794 \nL 1344 0 \nL 684 0 \nL 684 794 \nz\n\" id=\"DejaVuSans-2e\" transform=\"scale(0.015625)\"/>\n        <path d=\"M 1228 531 \nL 3431 531 \nL 3431 0 \nL 469 0 \nL 469 531 \nQ 828 903 1448 1529 \nQ 2069 2156 2228 2338 \nQ 2531 2678 2651 2914 \nQ 2772 3150 2772 3378 \nQ 2772 3750 2511 3984 \nQ 2250 4219 1831 4219 \nQ 1534 4219 1204 4116 \nQ 875 4013 500 3803 \nL 500 4441 \nQ 881 4594 1212 4672 \nQ 1544 4750 1819 4750 \nQ 2544 4750 2975 4387 \nQ 3406 4025 3406 3419 \nQ 3406 3131 3298 2873 \nQ 3191 2616 2906 2266 \nQ 2828 2175 2409 1742 \nQ 1991 1309 1228 531 \nz\n\" id=\"DejaVuSans-32\" transform=\"scale(0.015625)\"/>\n        <path d=\"M 691 4666 \nL 3169 4666 \nL 3169 4134 \nL 1269 4134 \nL 1269 2991 \nQ 1406 3038 1543 3061 \nQ 1681 3084 1819 3084 \nQ 2600 3084 3056 2656 \nQ 3513 2228 3513 1497 \nQ 3513 744 3044 326 \nQ 2575 -91 1722 -91 \nQ 1428 -91 1123 -41 \nQ 819 9 494 109 \nL 494 744 \nQ 775 591 1075 516 \nQ 1375 441 1709 441 \nQ 2250 441 2565 725 \nQ 2881 1009 2881 1497 \nQ 2881 1984 2565 2268 \nQ 2250 2553 1709 2553 \nQ 1456 2553 1204 2497 \nQ 953 2441 691 2322 \nL 691 4666 \nz\n\" id=\"DejaVuSans-35\" transform=\"scale(0.015625)\"/>\n       </defs>\n       <use xlink:href=\"#DejaVuSans-2212\"/>\n       <use x=\"83.789062\" xlink:href=\"#DejaVuSans-30\"/>\n       <use x=\"147.412109\" xlink:href=\"#DejaVuSans-2e\"/>\n       <use x=\"179.199219\" xlink:href=\"#DejaVuSans-32\"/>\n       <use x=\"242.822266\" xlink:href=\"#DejaVuSans-35\"/>\n      </g>\n     </g>\n    </g>\n    <g id=\"xtick_2\">\n     <g id=\"line2d_2\">\n      <g>\n       <use style=\"stroke:#000000;stroke-width:0.8;\" x=\"120.120655\" xlink:href=\"#m29de34ac24\" y=\"224.64\"/>\n      </g>\n     </g>\n     <g id=\"text_2\">\n      <!-- 0.00 -->\n      <g transform=\"translate(108.987843 239.238437)scale(0.1 -0.1)\">\n       <use xlink:href=\"#DejaVuSans-30\"/>\n       <use x=\"63.623047\" xlink:href=\"#DejaVuSans-2e\"/>\n       <use x=\"95.410156\" xlink:href=\"#DejaVuSans-30\"/>\n       <use x=\"159.033203\" xlink:href=\"#DejaVuSans-30\"/>\n      </g>\n     </g>\n    </g>\n    <g id=\"xtick_3\">\n     <g id=\"line2d_3\">\n      <g>\n       <use style=\"stroke:#000000;stroke-width:0.8;\" x=\"164.880013\" xlink:href=\"#m29de34ac24\" y=\"224.64\"/>\n      </g>\n     </g>\n     <g id=\"text_3\">\n      <!-- 0.25 -->\n      <g transform=\"translate(153.747201 239.238437)scale(0.1 -0.1)\">\n       <use xlink:href=\"#DejaVuSans-30\"/>\n       <use x=\"63.623047\" xlink:href=\"#DejaVuSans-2e\"/>\n       <use x=\"95.410156\" xlink:href=\"#DejaVuSans-32\"/>\n       <use x=\"159.033203\" xlink:href=\"#DejaVuSans-35\"/>\n      </g>\n     </g>\n    </g>\n    <g id=\"xtick_4\">\n     <g id=\"line2d_4\">\n      <g>\n       <use style=\"stroke:#000000;stroke-width:0.8;\" x=\"209.639372\" xlink:href=\"#m29de34ac24\" y=\"224.64\"/>\n      </g>\n     </g>\n     <g id=\"text_4\">\n      <!-- 0.50 -->\n      <g transform=\"translate(198.506559 239.238437)scale(0.1 -0.1)\">\n       <use xlink:href=\"#DejaVuSans-30\"/>\n       <use x=\"63.623047\" xlink:href=\"#DejaVuSans-2e\"/>\n       <use x=\"95.410156\" xlink:href=\"#DejaVuSans-35\"/>\n       <use x=\"159.033203\" xlink:href=\"#DejaVuSans-30\"/>\n      </g>\n     </g>\n    </g>\n    <g id=\"xtick_5\">\n     <g id=\"line2d_5\">\n      <g>\n       <use style=\"stroke:#000000;stroke-width:0.8;\" x=\"254.39873\" xlink:href=\"#m29de34ac24\" y=\"224.64\"/>\n      </g>\n     </g>\n     <g id=\"text_5\">\n      <!-- 0.75 -->\n      <g transform=\"translate(243.265917 239.238437)scale(0.1 -0.1)\">\n       <defs>\n        <path d=\"M 525 4666 \nL 3525 4666 \nL 3525 4397 \nL 1831 0 \nL 1172 0 \nL 2766 4134 \nL 525 4134 \nL 525 4666 \nz\n\" id=\"DejaVuSans-37\" transform=\"scale(0.015625)\"/>\n       </defs>\n       <use xlink:href=\"#DejaVuSans-30\"/>\n       <use x=\"63.623047\" xlink:href=\"#DejaVuSans-2e\"/>\n       <use x=\"95.410156\" xlink:href=\"#DejaVuSans-37\"/>\n       <use x=\"159.033203\" xlink:href=\"#DejaVuSans-35\"/>\n      </g>\n     </g>\n    </g>\n    <g id=\"xtick_6\">\n     <g id=\"line2d_6\">\n      <g>\n       <use style=\"stroke:#000000;stroke-width:0.8;\" x=\"299.158088\" xlink:href=\"#m29de34ac24\" y=\"224.64\"/>\n      </g>\n     </g>\n     <g id=\"text_6\">\n      <!-- 1.00 -->\n      <g transform=\"translate(288.025276 239.238437)scale(0.1 -0.1)\">\n       <defs>\n        <path d=\"M 794 531 \nL 1825 531 \nL 1825 4091 \nL 703 3866 \nL 703 4441 \nL 1819 4666 \nL 2450 4666 \nL 2450 531 \nL 3481 531 \nL 3481 0 \nL 794 0 \nL 794 531 \nz\n\" id=\"DejaVuSans-31\" transform=\"scale(0.015625)\"/>\n       </defs>\n       <use xlink:href=\"#DejaVuSans-31\"/>\n       <use x=\"63.623047\" xlink:href=\"#DejaVuSans-2e\"/>\n       <use x=\"95.410156\" xlink:href=\"#DejaVuSans-30\"/>\n       <use x=\"159.033203\" xlink:href=\"#DejaVuSans-30\"/>\n      </g>\n     </g>\n    </g>\n    <g id=\"xtick_7\">\n     <g id=\"line2d_7\">\n      <g>\n       <use style=\"stroke:#000000;stroke-width:0.8;\" x=\"343.917447\" xlink:href=\"#m29de34ac24\" y=\"224.64\"/>\n      </g>\n     </g>\n     <g id=\"text_7\">\n      <!-- 1.25 -->\n      <g transform=\"translate(332.784634 239.238437)scale(0.1 -0.1)\">\n       <use xlink:href=\"#DejaVuSans-31\"/>\n       <use x=\"63.623047\" xlink:href=\"#DejaVuSans-2e\"/>\n       <use x=\"95.410156\" xlink:href=\"#DejaVuSans-32\"/>\n       <use x=\"159.033203\" xlink:href=\"#DejaVuSans-35\"/>\n      </g>\n     </g>\n    </g>\n   </g>\n   <g id=\"matplotlib.axis_2\">\n    <g id=\"ytick_1\">\n     <g id=\"line2d_8\">\n      <defs>\n       <path d=\"M 0 0 \nL -3.5 0 \n\" id=\"m2927d561d5\" style=\"stroke:#000000;stroke-width:0.8;\"/>\n      </defs>\n      <g>\n       <use style=\"stroke:#000000;stroke-width:0.8;\" x=\"33.2875\" xlink:href=\"#m2927d561d5\" y=\"224.64\"/>\n      </g>\n     </g>\n     <g id=\"text_8\">\n      <!-- 0 -->\n      <g transform=\"translate(19.925 228.439219)scale(0.1 -0.1)\">\n       <use xlink:href=\"#DejaVuSans-30\"/>\n      </g>\n     </g>\n    </g>\n    <g id=\"ytick_2\">\n     <g id=\"line2d_9\">\n      <g>\n       <use style=\"stroke:#000000;stroke-width:0.8;\" x=\"33.2875\" xlink:href=\"#m2927d561d5\" y=\"200.447744\"/>\n      </g>\n     </g>\n     <g id=\"text_9\">\n      <!-- 25 -->\n      <g transform=\"translate(13.5625 204.246962)scale(0.1 -0.1)\">\n       <use xlink:href=\"#DejaVuSans-32\"/>\n       <use x=\"63.623047\" xlink:href=\"#DejaVuSans-35\"/>\n      </g>\n     </g>\n    </g>\n    <g id=\"ytick_3\">\n     <g id=\"line2d_10\">\n      <g>\n       <use style=\"stroke:#000000;stroke-width:0.8;\" x=\"33.2875\" xlink:href=\"#m2927d561d5\" y=\"176.255487\"/>\n      </g>\n     </g>\n     <g id=\"text_10\">\n      <!-- 50 -->\n      <g transform=\"translate(13.5625 180.054706)scale(0.1 -0.1)\">\n       <use xlink:href=\"#DejaVuSans-35\"/>\n       <use x=\"63.623047\" xlink:href=\"#DejaVuSans-30\"/>\n      </g>\n     </g>\n    </g>\n    <g id=\"ytick_4\">\n     <g id=\"line2d_11\">\n      <g>\n       <use style=\"stroke:#000000;stroke-width:0.8;\" x=\"33.2875\" xlink:href=\"#m2927d561d5\" y=\"152.063231\"/>\n      </g>\n     </g>\n     <g id=\"text_11\">\n      <!-- 75 -->\n      <g transform=\"translate(13.5625 155.86245)scale(0.1 -0.1)\">\n       <use xlink:href=\"#DejaVuSans-37\"/>\n       <use x=\"63.623047\" xlink:href=\"#DejaVuSans-35\"/>\n      </g>\n     </g>\n    </g>\n    <g id=\"ytick_5\">\n     <g id=\"line2d_12\">\n      <g>\n       <use style=\"stroke:#000000;stroke-width:0.8;\" x=\"33.2875\" xlink:href=\"#m2927d561d5\" y=\"127.870975\"/>\n      </g>\n     </g>\n     <g id=\"text_12\">\n      <!-- 100 -->\n      <g transform=\"translate(7.2 131.670193)scale(0.1 -0.1)\">\n       <use xlink:href=\"#DejaVuSans-31\"/>\n       <use x=\"63.623047\" xlink:href=\"#DejaVuSans-30\"/>\n       <use x=\"127.246094\" xlink:href=\"#DejaVuSans-30\"/>\n      </g>\n     </g>\n    </g>\n    <g id=\"ytick_6\">\n     <g id=\"line2d_13\">\n      <g>\n       <use style=\"stroke:#000000;stroke-width:0.8;\" x=\"33.2875\" xlink:href=\"#m2927d561d5\" y=\"103.678718\"/>\n      </g>\n     </g>\n     <g id=\"text_13\">\n      <!-- 125 -->\n      <g transform=\"translate(7.2 107.477937)scale(0.1 -0.1)\">\n       <use xlink:href=\"#DejaVuSans-31\"/>\n       <use x=\"63.623047\" xlink:href=\"#DejaVuSans-32\"/>\n       <use x=\"127.246094\" xlink:href=\"#DejaVuSans-35\"/>\n      </g>\n     </g>\n    </g>\n    <g id=\"ytick_7\">\n     <g id=\"line2d_14\">\n      <g>\n       <use style=\"stroke:#000000;stroke-width:0.8;\" x=\"33.2875\" xlink:href=\"#m2927d561d5\" y=\"79.486462\"/>\n      </g>\n     </g>\n     <g id=\"text_14\">\n      <!-- 150 -->\n      <g transform=\"translate(7.2 83.285681)scale(0.1 -0.1)\">\n       <use xlink:href=\"#DejaVuSans-31\"/>\n       <use x=\"63.623047\" xlink:href=\"#DejaVuSans-35\"/>\n       <use x=\"127.246094\" xlink:href=\"#DejaVuSans-30\"/>\n      </g>\n     </g>\n    </g>\n    <g id=\"ytick_8\">\n     <g id=\"line2d_15\">\n      <g>\n       <use style=\"stroke:#000000;stroke-width:0.8;\" x=\"33.2875\" xlink:href=\"#m2927d561d5\" y=\"55.294206\"/>\n      </g>\n     </g>\n     <g id=\"text_15\">\n      <!-- 175 -->\n      <g transform=\"translate(7.2 59.093424)scale(0.1 -0.1)\">\n       <use xlink:href=\"#DejaVuSans-31\"/>\n       <use x=\"63.623047\" xlink:href=\"#DejaVuSans-37\"/>\n       <use x=\"127.246094\" xlink:href=\"#DejaVuSans-35\"/>\n      </g>\n     </g>\n    </g>\n    <g id=\"ytick_9\">\n     <g id=\"line2d_16\">\n      <g>\n       <use style=\"stroke:#000000;stroke-width:0.8;\" x=\"33.2875\" xlink:href=\"#m2927d561d5\" y=\"31.101949\"/>\n      </g>\n     </g>\n     <g id=\"text_16\">\n      <!-- 200 -->\n      <g transform=\"translate(7.2 34.901168)scale(0.1 -0.1)\">\n       <use xlink:href=\"#DejaVuSans-32\"/>\n       <use x=\"63.623047\" xlink:href=\"#DejaVuSans-30\"/>\n       <use x=\"127.246094\" xlink:href=\"#DejaVuSans-30\"/>\n      </g>\n     </g>\n    </g>\n   </g>\n   <g id=\"patch_13\">\n    <path d=\"M 33.2875 224.64 \nL 33.2875 7.2 \n\" style=\"fill:none;stroke:#000000;stroke-linecap:square;stroke-linejoin:miter;stroke-width:0.8;\"/>\n   </g>\n   <g id=\"patch_14\">\n    <path d=\"M 368.0875 224.64 \nL 368.0875 7.2 \n\" style=\"fill:none;stroke:#000000;stroke-linecap:square;stroke-linejoin:miter;stroke-width:0.8;\"/>\n   </g>\n   <g id=\"patch_15\">\n    <path d=\"M 33.2875 224.64 \nL 368.0875 224.64 \n\" style=\"fill:none;stroke:#000000;stroke-linecap:square;stroke-linejoin:miter;stroke-width:0.8;\"/>\n   </g>\n   <g id=\"patch_16\">\n    <path d=\"M 33.2875 7.2 \nL 368.0875 7.2 \n\" style=\"fill:none;stroke:#000000;stroke-linecap:square;stroke-linejoin:miter;stroke-width:0.8;\"/>\n   </g>\n  </g>\n </g>\n <defs>\n  <clipPath id=\"pc643c5464a\">\n   <rect height=\"217.44\" width=\"334.8\" x=\"33.2875\" y=\"7.2\"/>\n  </clipPath>\n </defs>\n</svg>\n",
      "image/png": "[encoded data removed]"
     },
     "metadata": {
      "needs_background": "light"
     }
    }
   ],
   "source": [
    "l = split_in_groups(lst)\n",
    "fig, ax = plt.subplots()\n",
    "ax.bar(np.arange(0, 1, 0.1), list(map(lambda x: len(x), l)), color='palegreen')\n",
    "plt.show()"
   ]
  },
  {
   "cell_type": "code",
   "execution_count": null,
   "metadata": {},
   "outputs": [],
   "source": []
  }
 ],
 "metadata": {
  "kernelspec": {
   "name": "python393jvsc74a57bd0767d51c1340bd893661ea55ea3124f6de3c7a262a8b4abca0554b478b1e2ff90",
   "display_name": "Python 3.9.3 64-bit"
  },
  "language_info": {
   "codemirror_mode": {
    "name": "ipython",
    "version": 2
   },
   "file_extension": ".py",
   "mimetype": "text/x-python",
   "name": "python",
   "nbconvert_exporter": "python",
   "pygments_lexer": "ipython2",
   "version": "3.9.3"
  },
  "metadata": {
   "interpreter": {
    "hash": "767d51c1340bd893661ea55ea3124f6de3c7a262a8b4abca0554b478b1e2ff90"
   }
  }
 },
 "nbformat": 4,
 "nbformat_minor": 0
}