{
 "cells": [
  {
   "cell_type": "markdown",
   "metadata": {
    "collapsed": true,
    "pycharm": {
     "name": "#%% md\n"
    }
   },
   "source": [
    "# Simulation - Projet"
   ]
  },
  {
   "cell_type": "markdown",
   "source": [
    "## Importation des modules nécessaires"
   ],
   "metadata": {
    "collapsed": false
   }
  },
  {
   "cell_type": "code",
   "execution_count": 218,
   "outputs": [],
   "source": [
    "import numpy as np\n",
    "import matplotlib.pyplot as plt\n",
    "import scipy.stats as stat\n",
    "import math\n",
    "import seaborn as sns\n",
    "import pandas as pd\n",
    "import random"
   ],
   "metadata": {
    "collapsed": false,
    "pycharm": {
     "name": "#%%\n"
    }
   }
  },
  {
   "cell_type": "markdown",
   "source": [
    "## Répartition des décimales d’exponentielle\n",
    "\n",
    "### Premier aperçu"
   ],
   "metadata": {
    "collapsed": false
   }
  },
  {
   "cell_type": "code",
   "execution_count": 207,
   "outputs": [
    {
     "name": "stdout",
     "output_type": "stream",
     "text": [
      "Les 2.000.000 premières décimales d' exp :\n",
      " [7 1 8 ... 0 2 3]\n"
     ]
    }
   ],
   "source": [
    "def e_numbers():\n",
    "    with open(\"exp.txt\", \"r\") as e:\n",
    "        for line in e:\n",
    "            line = line.strip()\n",
    "            if \".\" in line:\n",
    "                line = line.split(\".\")[1]\n",
    "            for c in line:\n",
    "                yield int(c)\n",
    "\n",
    "e_numbers = np.array(list(e_numbers()))\n",
    "print(f'Les 2.000.000 premières décimales d\\' exp :\\n {e_numbers}')"
   ],
   "metadata": {
    "collapsed": false,
    "pycharm": {
     "name": "#%%\n"
    }
   }
  },
  {
   "cell_type": "code",
   "execution_count": 208,
   "outputs": [
    {
     "name": "stdout",
     "output_type": "stream",
     "text": [
      "Les chiffres apparaissant dans les décimales d' exp : \n",
      " [0 1 2 3 4 5 6 7 8 9]\n",
      "Leur fréquences d'apparition : \n",
      " [199093 200171 199471 200361 199923 200285 200395 199789 200098 200414]\n"
     ]
    }
   ],
   "source": [
    "def count_number(data):\n",
    "    values, counts = np.unique(data, return_counts=True)\n",
    "    return values, counts\n",
    "\n",
    "e_labels, e_counts = count_number(e_numbers)\n",
    "print(f'Les chiffres apparaissant dans les décimales d\\' exp : \\n {e_labels}')\n",
    "print(f'Leur fréquences d\\'apparition : \\n {e_counts}')"
   ],
   "metadata": {
    "collapsed": false,
    "pycharm": {
     "name": "#%%\n"
    }
   }
  },
  {
   "cell_type": "code",
   "execution_count": 209,
   "outputs": [
    {
     "data": {
      "text/plain": "<Figure size 432x288 with 1 Axes>",
      "image/png": "[encoded data removed]"
     },
     "metadata": {
      "needs_background": "light"
     },
     "output_type": "display_data"
    }
   ],
   "source": [
    "def construct_hist(labels, counts):\n",
    "    plt.figure()\n",
    "    plt.bar(labels, counts, color='palegreen')\n",
    "    plt.title('Répartition des décimales de l\\'exponentielle')\n",
    "    plt.ylabel('Count')\n",
    "    plt.savefig('histo_exp.png')\n",
    "    plt.show()\n",
    "\n",
    "construct_hist(e_labels, e_counts)"
   ],
   "metadata": {
    "collapsed": false,
    "pycharm": {
     "name": "#%%\n"
    }
   }
  },
  {
   "cell_type": "markdown",
   "source": [
    "### Test du Chi-Carré"
   ],
   "metadata": {
    "collapsed": false,
    "pycharm": {
     "name": "#%% md\n"
    }
   }
  },
  {
   "cell_type": "code",
   "execution_count": 210,
   "outputs": [
    {
     "name": "stdout",
     "output_type": "stream",
     "text": [
      "Test du Chi-Carré pour les décimales d'exponentiells : \n",
      "(True, 8.65376, 16.918977604620448)\n"
     ]
    }
   ],
   "source": [
    "def chi_squarred(observed, theorical):\n",
    "    kr = np.sum(((observed-theorical)**2)/theorical)\n",
    "    critical = stat.chi2.ppf(q=0.95, df=len(observed)-1)\n",
    "    return kr <= critical, kr, critical\n",
    "\n",
    "def chi_squared_uniform(observed):\n",
    "    proba = 1 / len(observed)\n",
    "    N = sum(observed)\n",
    "    theorical = np.array([N * proba for _ in range(len(observed))])\n",
    "    return chi_squarred(observed, theorical)\n",
    "\n",
    "print(f\"Test du Chi-Carré pour les décimales d'exponentiells : \\n\"\n",
    "      f\"{chi_squared_uniform(e_counts)}\")"
   ],
   "metadata": {
    "collapsed": false,
    "pycharm": {
     "name": "#%%\n"
    }
   }
  },
  {
   "cell_type": "markdown",
   "source": [
    "### Test du Poker"
   ],
   "metadata": {
    "collapsed": false
   }
  },
  {
   "cell_type": "code",
   "execution_count": 211,
   "outputs": [
    {
     "name": "stdout",
     "output_type": "stream",
     "text": [
      "Test du Poker pour les décimales d'exponentielle : \n",
      "(True, 1.2631547619047618, 9.487729036781154)\n"
     ]
    }
   ],
   "source": [
    "def poker_test(data):\n",
    "    number_lists = len(data)/4\n",
    "    lists = np.split(data, number_lists)\n",
    "    all_diff = 0\n",
    "    one_pair = 0\n",
    "    two_pair = 0\n",
    "    triplet = 0\n",
    "    quadr = 0\n",
    "    for li in lists:\n",
    "        vals, cts = np.unique(li, return_counts=True)\n",
    "        if len(cts) == 4:\n",
    "            all_diff += 1\n",
    "        elif len(cts) == 3:\n",
    "            one_pair += 1\n",
    "        elif len(cts) == 2:\n",
    "            if 3 in cts:\n",
    "                triplet += 1\n",
    "            else:\n",
    "                two_pair += 1\n",
    "        else:\n",
    "            quadr += 1\n",
    "    return chi_squarred_poker(np.array([all_diff, one_pair, triplet, two_pair, quadr]), len(lists))\n",
    "\n",
    "def chi_squarred_poker(observed, N):    # P(all_diff) > P(one_pair) > P(triplet) > P(two_pair) > P(quadr)\n",
    "    probas = np.array([0.504, 0.432, 0.036, 0.027, 0.001])\n",
    "    theorical = probas * N\n",
    "    return chi_squarred(observed, theorical)\n",
    "\n",
    "print(f\"Test du Poker pour les décimales d\\'exponentielle : \\n\"\n",
    "      f\"{poker_test(e_numbers)}\")"
   ],
   "metadata": {
    "collapsed": false,
    "pycharm": {
     "name": "#%%\n"
    }
   }
  },
  {
   "cell_type": "markdown",
   "source": [
    "### Test du gap"
   ],
   "metadata": {
    "collapsed": false
   }
  },
  {
   "cell_type": "code",
   "execution_count": 212,
   "outputs": [
    {
     "data": {
      "text/plain": "(True, 21.519255874365697, 33.92443847144381)"
     },
     "execution_count": 212,
     "metadata": {},
     "output_type": "execute_result"
    }
   ],
   "source": [
    "def gap_test(data, a: int = 0, b: int = 5, total_numbers: int = 10):\n",
    "    assert a < b\n",
    "    probability = (b - a) / total_numbers  # => proba 1/2 d'être marqué\n",
    "    intervals = []\n",
    "    length_series_not_in = 0\n",
    "    total_gaps = 0\n",
    "    sequence_length = 0\n",
    "    for nb in data:\n",
    "        if a <= nb < b:\n",
    "            # nb in interval, with probability `probability`\n",
    "            intervals.append(length_series_not_in)\n",
    "            length_series_not_in = 1\n",
    "        else:\n",
    "            # nb not in interval\n",
    "            length_series_not_in += 1\n",
    "            total_gaps += 1\n",
    "        sequence_length += 1\n",
    "    labels, observed = np.unique(np.array(intervals), return_counts=True)\n",
    "    observed = complete_labels(labels, observed)\n",
    "    theorical = np.array([probability ** (n + 1) for n in range(max(labels))])*sum(observed)\n",
    "    return chi_squarred(observed, theorical)\n",
    "\n",
    "def complete_labels(labels, observed):\n",
    "    i = 1\n",
    "    j = 0\n",
    "    n = 1\n",
    "    res = []\n",
    "    while j < len(labels):\n",
    "        label = labels[j]\n",
    "        if i != label:\n",
    "            res.append(0)\n",
    "            n += 1\n",
    "        else:\n",
    "            res.append(observed[i-n])\n",
    "            j += 1\n",
    "        i += 1\n",
    "    return np.array(res)\n",
    "\n",
    "gap_test(e_numbers)"
   ],
   "metadata": {
    "collapsed": false,
    "pycharm": {
     "name": "#%%\n"
    }
   }
  },
  {
   "cell_type": "markdown",
   "source": [
    "## Générateur de nombres aléatoires\n",
    "\n",
    "### Technique employée"
   ],
   "metadata": {
    "collapsed": false
   }
  },
  {
   "cell_type": "code",
   "execution_count": 213,
   "outputs": [
    {
     "name": "stdout",
     "output_type": "stream",
     "text": [
      "Résultat de notre générateur : \n",
      "[0.3632322323, 0.3954664696, 0.5282282524, 0.6988986876, 0.39939094, 0.3343138118, 0.4145445549, 0.2868066032, 0.9391331483, 0.4654458446, 0.7666695677, 0.0440694996, 0.771707773, 0.1894100444, 0.9753446561, 0.0296642454, 0.3822737777, 0.5111513136, 0.8833323228, 0.1969999129, 0.8082828421, 0.2565616651, 0.8888538558, 0.0207701707, 0.4797739776, 0.1631861306, 0.0516015235, 0.0760704738, 0.9469817321, 0.6848531258, 0.3265538563, 0.2810801882, 0.3380533005, 0.8833853232, 0.6636867376, 0.5161591961, 0.3409232444, 0.6425856331, 0.754041774, 0.583830033, 0.1616337607, 0.5493305005, 0.4833396396, 0.2993203203, 0.3335635633, 0.9958958999, 0.3553553116, 0.1091098805, 0.7157133684, 0.8178008585, 0.3030056465, 0.70330565, 0.0007131757, 0.1176867244, 0.006560299, 0.7151756676, 0.3838266867, 0.5973997929, 0.6326636266, 0.8877877558, 0.3668695531, 0.2232522362, 0.7572998696, 0.1712201614, 0.214463931, 0.8223919409, 0.4426966767, 0.3251544548, 0.9505675106, 0.2325924849, 0.1987960888, 0.2692493111, 0.0846249994, 0.1250633165, 0.4840880039, 0.6929932536, 0.07111748, 0.1555179524, 0.770051669, 0.2169588316, 0.3747232374, 0.4524787455, 0.7696991779, 0.5326441133, 0.2338033221, 0.0675888827, 0.2352299935, 0.431166643, 0.1773391161, 0.886658618, 0.5220131185, 0.7707197629, 0.7826721576, 0.6232281232, 0.0590669596, 0.5781675718, 0.2384222854, 0.0029890327, 0.0710108748, 0.4181754057, 0.8283722756, 0.1457707937, 0.6344448542, 0.706306509, 0.2612622525, 0.3109807079, 0.4460454564, 0.3183939179, 0.5218185486, 0.1161659601, 0.4646836004, 0.9197393791, 0.6646620363, 0.1751963036, 0.325236063, 0.5580535058, 0.8522222951, 0.2459549289, 0.8121824524, 0.8885167878, 0.5558095355, 0.7117320222, 0.8770474487, 0.4306966599, 0.0601006136, 0.37577052, 0.7277924995, 0.2331261194, 0.0038133669, 0.1858886881, 0.5695523058, 0.0966902499, 0.2660176327, 0.9941482241, 0.9345343535, 0.5450615856, 0.5811885817, 0.8184868828, 0.4919699991, 0.957979095, 0.9494202902, 0.0002324322, 0.8733383337, 0.1141441116, 0.8285288503, 0.9429440672, 0.1951147191, 0.6255046663, 0.6991103099, 0.4488696049, 0.8547477844, 0.2947444792, 0.2191159211, 0.8887284286, 0.9429931433, 0.956847904, 0.7243527374, 0.7291439377, 0.8763878907, 0.3841318236, 0.3338391123, 0.920282702, 0.3534126393, 0.4227412087, 0.8859385953, 0.3188666186, 0.6972356755, 0.4872288224, 0.3991331153, 0.4822422048, 0.9231221199, 0.780778099, 0.9711774479, 0.6884688667, 0.7737557523, 0.7474472603, 0.4244213973, 0.6666229426, 0.3332213344, 0.1274833282, 0.2116580522, 0.8942284444, 0.7209441127, 0.0881699057, 0.6843776397, 0.0015539659, 0.9933664367, 0.7992929959, 0.6615065355, 0.9248941445, 0.0545595569, 0.3143533757, 0.4542447277, 0.3555515166, 0.5155313775, 0.0999095595, 0.1141466154, 0.7999777999, 0.0007721, 0.171177711, 0.4338241148, 0.9957355653, 0.4285772258, 0.159337195, 0.2688236244, 0.3333731111, 0.440463883, 0.1718711777, 0.6474334667, 0.6112218815, 0.0466422078, 0.6556996615, 0.1156640315, 0.9999592998, 0.8117560876, 0.0003524154, 0.4541520124, 0.5690369363, 0.9005405955, 0.2485284885, 0.5375343373, 0.300383303, 0.5079775709, 0.4838858458, 0.2322925289, 0.9220297297, 0.8848983386, 0.5455674615, 0.0021781221, 0.1703800738, 0.8304358343, 0.5515466155, 0.6657156555, 0.7890078886, 0.7933577788, 0.2550222885, 0.5995551199, 0.527770055, 0.4111555534, 0.7778877244, 0.7700997709, 0.9447706071, 0.0011212111, 0.0116441335, 0.5526255593, 0.320633353, 0.4667775764, 0.6097775665, 0.8911998498, 0.0997108127, 0.3311881417, 0.5122224125, 0.5720755494, 0.96490301, 0.4652731324, 0.6889323888, 0.8190701017, 0.1079710121, 0.5757818485, 0.4845650578, 0.8158535388, 0.9242326556, 0.9790962262, 0.777732232, 0.1710990989, 0.4806606972, 0.674474019, 0.4884818718, 0.5525068055, 0.3630790333, 0.3488084777, 0.5099054443, 0.9899622259, 0.8735333471, 0.9754448904, 0.6355528058, 0.5444128477, 0.4448604112, 0.2265925588, 0.4423444922, 0.0073116116, 0.8679968836, 0.3177666334, 0.0333443115, 0.4430009121, 0.1811051215, 0.8885682836, 0.8853898931, 0.883393039, 0.6334373533, 0.0646708167, 0.4747047474, 0.50454004, 0.3450634363, 0.9866999616, 0.6929992721, 0.1852580899, 0.1101161556, 0.4643638861, 0.9682844219, 0.1787448755, 0.2120013552, 0.3966361191, 0.4998877475, 0.1173009097, 0.6222272522, 0.9777171972, 0.4667654487, 0.1131099231, 0.8782747782, 0.2321292327, 0.8076948056, 0.2327462924, 0.7892075825, 0.2446312477, 0.0924579774, 0.5670955545, 0.1229677267, 0.9279224929, 0.0948894843, 0.4199519119, 0.1226121321, 0.7791718711, 0.4484844844, 0.1646546915, 0.3438436189, 0.1131161363, 0.5095680484, 0.0653608282, 0.401308282, 0.4817373744, 0.6557171446, 0.5275759902, 0.0242433004, 0.6565775454, 0.9096694948, 0.9177991929, 0.8114383232, 0.3383677379, 0.0285618101, 0.1297525453, 0.6514646415, 0.6355535066, 0.0969194283, 0.1010106598, 0.2848103371, 0.6067027177, 0.1512677175, 0.9512985991, 0.593845859, 0.9968766969, 0.3626626738, 0.3243693777, 0.446087755, 0.1502195505, 0.9211822222, 0.1736551513, 0.6264494924, 0.0388989036, 0.6776760627, 0.3393975131, 0.2828074202, 0.2529835213, 0.4133543458, 0.7206683618, 0.8017551055, 0.9825682555, 0.8941834478, 0.98878888, 0.5815553111, 0.785880666, 0.1411033309, 0.8559333929, 0.8832223535, 0.3066609089, 0.3333323165, 0.6666765281, 0.9908085575, 0.3353328027, 0.8184567544, 0.4913603009, 0.6731833361, 0.0898800243, 0.6836335202, 0.2151122626, 0.091157974, 0.7663565395, 0.4434947043, 0.3887853815, 0.667640604, 0.5255554555, 0.0688628882, 0.9519151577, 0.0762070003, 0.2153233313, 0.4265699099, 0.7272441427, 0.7077747436, 0.8099197822, 0.2226251779, 0.0090630011, 0.1218622443, 0.8314554444, 0.61533006, 0.7744449449, 0.0660090092, 0.9999599569, 0.9779779279, 0.5555551555, 0.4444494942, 0.2662765212, 0.3306340304, 0.5985290922, 0.1520121, 0.7698989929, 0.6103011916, 0.8737881818, 0.1810080068, 0.717727052, 0.6112107207, 0.1171147172, 0.6664664824, 0.6513611313, 0.5276286226, 0.7777937219, 0.2084482062, 0.7659630737, 0.7307602623, 0.4833133344, 0.9344141003, 0.1912920019, 0.028088844, 0.7888119583, 0.6966643988, 0.5911545995, 0.4228057782, 0.5540388457, 0.1286442102, 0.5114459651, 0.6622824864, 0.7555575791, 0.006206042, 0.5637665577, 0.9389481884, 0.6867498871, 0.1702211012, 0.4755887458, 0.8829981891, 0.5366825603, 0.3551965036, 0.558865566, 0.0989053999, 0.6360246984, 0.3775174818, 0.4050443035, 0.0203130366, 0.3534050888, 0.5843533335, 0.8132355522, 0.2050777557, 0.1515555554, 0.2333322399, 0.8333333172, 0.4445543505, 0.3300315871, 0.8228968993, 0.4499597958, 0.2400850786, 0.891359591, 0.46464385, 0.0955334114, 0.3004430043, 0.1439555555, 0.3839664961, 0.9271197135, 0.1255025722, 0.9445945595, 0.3392307276, 0.5845774716, 0.7490848888, 0.5721511217, 0.2228230242, 0.3999359733, 0.9694299666, 0.6875897763, 0.787704456, 0.5763444833, 0.8843338448, 0.2122591115, 0.1119211296, 0.3373009762, 0.7809998545, 0.3088834843, 0.9007336333, 0.4469575991, 0.282929221, 0.2772777763, 0.3888330787, 0.3134451814, 0.638810408, 0.9772474754, 0.1163231136, 0.0518102152, 0.9393863969, 0.838058858, 0.2859869697, 0.8588888718, 0.5613639029, 0.8138344148, 0.8333435488, 0.6364144504, 0.3673271526, 0.378473545, 0.4894259232, 0.8909894348, 0.921890008, 0.1752363563, 0.012787187, 0.3917137143, 0.5141241821, 0.9699698995, 0.2712761786, 0.1751471244, 0.0958056889, 0.3824862238, 0.7587455773, 0.4882440811, 0.6465594996, 0.0011003342, 0.3776877807, 0.5522002809, 0.9059952955, 0.4500460346, 0.7665967549, 0.2218201889, 0.0790071927, 0.55425152, 0.1749310007, 0.7725972272, 0.7283144955, 0.4864771559, 0.6617747734, 0.8755499648, 0.7222223202, 0.6692299327, 0.9300933043, 0.6777617865, 0.1103811391, 0.4492489547, 0.095149413, 0.7274707892, 0.8720575582, 0.5542530882, 0.9008576302, 0.9224590282, 0.1807381388, 0.7969070707, 0.4289683938, 0.1451085804, 0.9449545997, 0.9853935669, 0.6452544283, 0.9464961216, 0.040256805, 0.3961914191, 0.4403200428, 0.3518357891, 0.8074817504, 0.4102914407, 0.8908880939, 0.3923533233, 0.3870406074, 0.1740535709, 0.6499896952, 0.3392983432, 0.0828208925, 0.0102558195, 0.341902399, 0.4994978948, 0.2844768464, 0.038690393, 0.5842452544, 0.7784989477, 0.0139193304, 0.6186816676, 0.465641909, 0.909704646, 0.02353939, 0.8658484934, 0.1483837631, 0.2787872866, 0.5858358528, 0.7579070965, 0.1569500643, 0.5745912233, 0.8417282228, 0.3777580093, 0.4306400413, 0.9871667191, 0.6822257626, 0.3399337373, 0.4006084868, 0.1121999212, 0.2424244744, 0.0370709075, 0.8585757518, 0.313222331, 0.7677769937, 0.2020267909, 0.6564102652, 0.190668978, 0.5798653659, 0.2549309855, 0.8106504886, 0.687087447, 0.7537322532, 0.492155495, 0.264669268, 0.5544384138, 0.3332632968, 0.8839807978, 0.250290082, 0.981418011, 0.7289742347, 0.4782347323, 0.8361861618, 0.7577475704, 0.6950969406, 0.4124843283, 0.3732317211, 0.6919761776, 0.3939299922, 0.5446544406, 0.8377339673, 0.912998815, 0.0133430321, 0.7448287077, 0.8898094119, 0.7328362231, 0.2321066293, 0.7488550378, 0.8453325644, 0.2155094226, 0.9334760033, 0.7764400977, 0.9008777979, 0.8809953434, 0.6411516166, 0.2222888888, 0.1144949943, 0.7628288257, 0.7040440769, 0.0303308711, 0.4744771317, 0.9889344869, 0.1112930212, 0.6238921268, 0.1778321973, 0.0092674029, 0.8389638835, 0.6747237647, 0.8315481313, 0.2434206464, 0.9875949471, 0.9002989044, 0.4900704777, 0.8500021111, 0.6383999993, 0.6360666663, 0.4067777046, 0.8433338442, 0.5111157567, 0.2222606446, 0.3332401523, 0.7702621075, 0.3192891332, 0.2056029083, 0.6071621414, 0.2852777278, 0.2189523229, 0.7196474895, 0.6874344877, 0.6139376773, 0.7121226612, 0.7774544745, 0.9044000445, 0.9373393717, 0.1722217471, 0.8552783843, 0.5530161922, 0.6696668555, 0.1257585445, 0.250556775, 0.25209772, 0.4774887778, 0.4031142011, 0.7366797667, 0.055427554, 0.554905545, 0.2794227244, 0.1287715881, 0.6244522252, 0.9779299997, 0.4465336348, 0.409000041, 0.7355757874, 0.7882818282, 0.9959515551, 0.2629560656, 0.9469939919, 0.003141341, 0.7077705775, 0.4191481282, 0.5551055067, 0.9466466097, 0.4904909579, 0.0441499719, 0.3473934794, 0.1139201902, 0.5362856824, 0.3222422985, 0.0234035792, 0.944443789, 0.7457778515, 0.1698783437, 0.9694876746, 0.1205838013, 0.4819898689, 0.2923222322, 0.3494379444, 0.1414541111, 0.2675266687, 0.1962111323, 0.6237778087, 0.792224042, 0.4000919019, 0.0007770774, 0.1172712721, 0.7898798277, 0.4242243221, 0.3993999913, 0.6286422788, 0.3691336643, 0.6048886383, 0.5566125658, 0.0661186803, 0.2273828323, 0.1364143464, 0.8603097624, 0.256557223, 0.5650388533, 0.2409378333, 0.5943989938, 0.0422455243, 0.3320003036, 0.6850065245, 0.4599453259, 0.4002464479, 0.3305465994, 0.1282181828, 0.4604669011, 0.4284922949, 0.4123047631, 0.3468953636, 0.6862788096, 0.5869155119, 0.0946088434, 0.1783338685, 0.1585618185, 0.0021353202, 0.7730005955, 0.6053573775, 0.5888474488, 0.3039399314, 0.7520225682, 0.2787728278, 0.9799758977, 0.3666056336, 0.110931331, 0.0432033045, 0.0784224023, 0.388558709, 0.8422459994, 0.1331459518, 0.5590585985, 0.2805158757, 0.4048440481, 0.9797477033, 0.4144847338, 0.8530568805, 0.7677855725, 0.3648776326, 0.8333385483, 0.5077820872, 0.2663143613, 0.4403304308, 0.5231253227, 0.8828988198, 0.5621529552, 0.8127109716, 0.9239483982, 0.5706670456, 0.6477648174, 0.6714673161, 0.0357573735, 0.4976147495, 0.1006404194, 0.6297672373, 0.3338328362, 0.0525515052, 0.9691597169, 0.1332353138, 0.8708374854, 0.1814181388, 0.9526551524, 0.2893223723, 0.931001031, 0.0286241265, 0.0970170737, 0.7669866487, 0.4777742737, 0.6856385455, 0.6444943149, 0.5348512582, 0.4665015639, 0.5571975285, 0.6618660808, 0.1391699495, 0.2958013962, 0.1470231873, 0.4224409144, 0.6126510621, 0.6979907969, 0.3986193066, 0.7803729, 0.9944599995, 0.268802224, 0.4782555727, 0.0335550303, 0.0500005052, 0.3777535393, 0.4442020382, 0.0094942595, 0.5535352525, 0.0606880875, 0.9298323025, 0.5935552925, 0.4087895083, 0.704070305, 0.7270297858, 0.5565850705, 0.8572870771, 0.9434525409, 0.2238982405, 0.0747455924, 0.8303147033, 0.7670233719, 0.5848998487, 0.7544870609, 0.4972592309, 0.2031382923, 0.9274357527, 0.0236334026, 0.5199976597, 0.7844528802, 0.1371771851, 0.506009449, 0.9538597581, 0.7240850444, 0.599019923, 0.8166180663, 0.7957044995, 0.770610747, 0.3899553353, 0.6784956465, 0.5566146416, 0.024422242, 0.5326562577, 0.0033303213, 0.4111419819, 0.0501546526, 0.2792752539, 0.280020688, 0.5917941599, 0.6946440644, 0.9914571747, 0.2833280309, 0.3635316183, 0.3386939136, 0.2999698292, 0.7097915057, 0.8828228278, 0.1317585787, 0.2886866866, 0.1717197991, 0.9202606629, 0.1719799141, 0.0300003, 0.8515587277, 0.6666457556, 0.7551333373, 0.7795055607, 0.2748448824, 0.9868836888, 0.9899985957, 0.7226732309, 0.5541151646, 0.1223131818, 0.4526251542, 0.8606868963, 0.7373033773, 0.8073760867, 0.3040131102, 0.151594515, 0.2284082632, 0.9985997849, 0.0190142303, 0.6270658787, 0.7955699998, 0.86075858, 0.2140303992, 0.7624244495, 0.5909055121, 0.2525110405, 0.7076653571, 0.9488686448, 0.7552927295, 0.8875751584, 0.6909480674, 0.6261325516, 0.9961924644, 0.749271411, 0.2605627795, 0.2934966232, 0.602599701, 0.6944426479, 0.5799659265, 0.233484028, 0.1193881381, 0.6486548548, 0.0211921927, 0.060400401, 0.2385385939, 0.8608604832, 0.1631693161, 0.5765576466, 0.5264519124, 0.165074715, 0.0556062555, 0.9179729183, 0.0707610861, 0.101881108, 0.4351157167, 0.0815231036, 0.8478747737, 0.8424884681, 0.7955756755, 0.0415495221, 0.2502308858, 0.2970922223, 0.5665993976, 0.2070020407, 0.7699095714, 0.2775748803, 0.2242279297, 0.1017581554, 0.2760672006, 0.9291359719, 0.4500250054, 0.7631776737, 0.8016686968, 0.9826725277, 0.783382833, 0.5295559906, 0.3682866752, 0.9515996617, 0.4146670187, 0.8455118211, 0.1552576005, 0.2269852228, 0.1082744128, 0.9039442329, 0.2795567616, 0.1011715306, 0.6331073497, 0.6652943295, 0.9449054949, 0.64027906, 0.5657268665, 0.8884888811, 0.0431911337, 0.6945446696, 0.1676699454, 0.101111717, 0.3446693993, 0.6699828559, 0.5114347027, 0.006466346, 0.6555753767, 0.6168498382]\n"
     ]
    }
   ],
   "source": [
    "NB_DIGITS = 10\n",
    "\n",
    "def generator(n: int = 1, seed_: int = 0):\n",
    "    for i in range(n):\n",
    "        digits = []\n",
    "        for k in range(NB_DIGITS):\n",
    "            seed = e_numbers[seed_ + i + k]\n",
    "            a = len(e_numbers) - seed\n",
    "            c = e_numbers[i + seed]\n",
    "            digit = (a * seed + c) % 10\n",
    "            digits.append(digit)\n",
    "        yield float(\"0.\" + \"\".join(map(lambda x: str(x), digits)))\n",
    "\n",
    "gen_numbers = list(generator(1000, 50))\n",
    "print(f\"Résultat de notre générateur : \\n\"\n",
    "      f\"{gen_numbers}\")"
   ],
   "metadata": {
    "collapsed": false,
    "pycharm": {
     "name": "#%%\n"
    },
    "tags": [
     "outputPrepend"
    ]
   }
  },
  {
   "cell_type": "markdown",
   "metadata": {
    "pycharm": {
     "name": "#%% md\n"
    }
   },
   "source": [
    "### Test du Chi Carré"
   ]
  },
  {
   "cell_type": "code",
   "execution_count": 214,
   "outputs": [
    {
     "name": "stdout",
     "output_type": "stream",
     "text": [
      "Test du Chi Carré pour notre générateur : \n",
      "(True, 12.52899999999998, 15.50731305586545)\n"
     ]
    }
   ],
   "source": [
    "def split_in_groups(data):\n",
    "    data = np.sort(data)\n",
    "    i = 0\n",
    "    count = 0\n",
    "    res = []\n",
    "    for d in data:\n",
    "        if i <= d < (i + 0.1):\n",
    "            count += 1\n",
    "        else:\n",
    "            i += 0.10000000000000000000000000\n",
    "            res.append(count)\n",
    "            count = 0\n",
    "    return np.array(res)\n",
    "\n",
    "def chi_squared_continuous(data):\n",
    "    observed = split_in_groups(data)\n",
    "    N = len(data)\n",
    "    proba = 1/len(observed)\n",
    "    theorical = np.array([N * proba for _ in range(len(observed))])\n",
    "    return chi_squarred(observed, theorical)\n",
    "\n",
    "print(f\"Test du Chi Carré pour notre générateur : \\n\"\n",
    "      f\"{chi_squared_continuous(gen_numbers)}\")"
   ],
   "metadata": {
    "collapsed": false,
    "pycharm": {
     "name": "#%%\n"
    }
   }
  },
  {
   "cell_type": "markdown",
   "source": [
    "### Test de Kolmogorov-Smirnov"
   ],
   "metadata": {
    "collapsed": false,
    "pycharm": {
     "name": "#%% md\n"
    }
   }
  },
  {
   "cell_type": "code",
   "execution_count": 215,
   "outputs": [
    {
     "name": "stdout",
     "output_type": "stream",
     "text": [
      "Test de Kolmogorov-Smirnov pour notre générateur : \n",
      "(False, 0.990533654, 0.04294373062508659)\n"
     ]
    }
   ],
   "source": [
    "def kolmogorov_smirnov(numbers):\n",
    "    np.sort(numbers)\n",
    "    n = len(numbers)\n",
    "    distance = np.max(np.array([np.abs((i/n)-numbers[i]) for i in range(len(numbers))]))\n",
    "    critical = 1.358/math.sqrt(n)\n",
    "    return distance < critical, distance, critical\n",
    "\n",
    "print(f\"Test de Kolmogorov-Smirnov pour notre générateur : \\n\"\n",
    "      f\"{kolmogorov_smirnov(gen_numbers)}\")"
   ],
   "metadata": {
    "collapsed": false,
    "pycharm": {
     "name": "#%%\n"
    }
   }
  },
  {
   "cell_type": "markdown",
   "source": [
    "### Comparaison avec le générateur de Python"
   ],
   "metadata": {
    "collapsed": false,
    "pycharm": {
     "name": "#%% md\n"
    }
   }
  },
  {
   "cell_type": "code",
   "execution_count": 220,
   "metadata": {
    "pycharm": {
     "name": "#%%\n"
    }
   },
   "outputs": [
    {
     "data": {
      "text/plain": "<Figure size 461.375x360 with 1 Axes>",
      "image/png": "[encoded data removed]"
     },
     "metadata": {
      "needs_background": "light"
     },
     "output_type": "display_data"
    }
   ],
   "source": [
    "gen_numbers_np = np.array(gen_numbers)\n",
    "numbers_python = []\n",
    "for _ in range(len(gen_numbers_np)):\n",
    "    numbers_python.append(random.uniform(0, 1))\n",
    "comparison = {'Nos nombres': gen_numbers_np, 'Python':np.array(numbers_python)}\n",
    "df = pd.DataFrame(data=comparison)\n",
    "sns_plot = sns.displot(df, multiple='stack')\n",
    "sns_plot.savefig(\"comparison.png\")\n"
   ]
  }
 ],
 "metadata": {
  "kernelspec": {
   "name": "python3",
   "language": "python",
   "display_name": "Python 3"
  },
  "language_info": {
   "codemirror_mode": {
    "name": "ipython",
    "version": 2
   },
   "file_extension": ".py",
   "mimetype": "text/x-python",
   "name": "python",
   "nbconvert_exporter": "python",
   "pygments_lexer": "ipython2",
   "version": "3.9.3"
  },
  "metadata": {
   "interpreter": {
    "hash": "767d51c1340bd893661ea55ea3124f6de3c7a262a8b4abca0554b478b1e2ff90"
   }
  }
 },
 "nbformat": 4,
 "nbformat_minor": 0
}