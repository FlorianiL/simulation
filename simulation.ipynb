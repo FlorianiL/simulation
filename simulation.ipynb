{
 "cells": [
  {
   "cell_type": "markdown",
   "metadata": {
    "collapsed": true,
    "pycharm": {
     "name": "#%% md\n"
    }
   },
   "source": [
    "# Simulation - Projet"
   ]
  },
  {
   "cell_type": "markdown",
   "source": [
    "## Importation des modules nécessaires\n"
   ],
   "metadata": {
    "collapsed": false
   }
  },
  {
   "cell_type": "code",
   "execution_count": 8,
   "outputs": [],
   "source": [
    "import numpy as np\n",
    "import matplotlib.pyplot as plt\n",
    "import scipy.stats as stat\n",
    "import math"
   ],
   "metadata": {
    "collapsed": false,
    "pycharm": {
     "name": "#%%\n"
    }
   }
  },
  {
   "cell_type": "markdown",
   "source": [
    "## Lecture du fichier d'entrée"
   ],
   "metadata": {
    "collapsed": false
   }
  },
  {
   "cell_type": "code",
   "execution_count": 9,
   "outputs": [
    {
     "name": "stdout",
     "output_type": "stream",
     "text": [
      "Les 2.000.000 premières décimales d' exp :\n",
      " [7 1 8 ... 0 2 3]\n"
     ]
    }
   ],
   "source": [
    "def e_numbers():\n",
    "    with open(\"exp.txt\", \"r\") as e:\n",
    "        for line in e:\n",
    "            line = line.strip()\n",
    "            if \".\" in line:\n",
    "                line = line.split(\".\")[1]\n",
    "            for c in line:\n",
    "                yield int(c)\n",
    "\n",
    "e_numbers = np.array(list(e_numbers()))\n",
    "print(f'Les 2.000.000 premières décimales d\\' exp :\\n {e_numbers}')"
   ],
   "metadata": {
    "collapsed": false,
    "pycharm": {
     "name": "#%%\n"
    }
   }
  },
  {
   "cell_type": "markdown",
   "source": [
    "## Compter effectif"
   ],
   "metadata": {
    "collapsed": false,
    "pycharm": {
     "name": "#%% md\n"
    }
   }
  },
  {
   "cell_type": "code",
   "execution_count": 10,
   "outputs": [
    {
     "name": "stdout",
     "output_type": "stream",
     "text": [
      "Les valeurs apparaissant dans les décimales d' exp : \n",
      " [0 1 2 3 4 5 6 7 8 9]\n",
      "Leur fréquences d'apparition : \n",
      " [199093 200171 199471 200361 199923 200285 200395 199789 200098 200414]\n"
     ]
    }
   ],
   "source": [
    "def count_number(data):\n",
    "    values, counts = np.unique(data, return_counts=True)\n",
    "    return values, counts\n",
    "\n",
    "e_labels, e_counts = count_number(e_numbers)\n",
    "print(f'Les valeurs apparaissant dans les décimales d\\' exp : \\n {e_labels}')\n",
    "print(f'Leur fréquences d\\'apparition : \\n {e_counts}')"
   ],
   "metadata": {
    "collapsed": false,
    "pycharm": {
     "name": "#%%\n"
    }
   }
  },
  {
   "cell_type": "markdown",
   "source": [
    "## Construire histogramme\n"
   ],
   "metadata": {
    "collapsed": false,
    "pycharm": {
     "name": "#%% md\n"
    }
   }
  },
  {
   "cell_type": "code",
   "execution_count": 11,
   "outputs": [
    {
     "data": {
      "text/plain": "<Figure size 432x288 with 1 Axes>",
      "image/png": "[encoded data removed]"
     },
     "metadata": {
      "needs_background": "light"
     },
     "output_type": "display_data"
    }
   ],
   "source": [
    "def construct_hist(labels, counts):\n",
    "    fig, ax = plt.subplots()\n",
    "    ax.bar(labels, counts, color='palegreen')\n",
    "    plt.show()\n",
    "\n",
    "construct_hist(e_labels, e_counts)"
   ],
   "metadata": {
    "collapsed": false,
    "pycharm": {
     "name": "#%%\n"
    }
   }
  },
  {
   "cell_type": "markdown",
   "source": [
    "## Test du Chi-Carré"
   ],
   "metadata": {
    "collapsed": false,
    "pycharm": {
     "name": "#%% md\n"
    }
   }
  },
  {
   "cell_type": "code",
   "execution_count": 12,
   "outputs": [
    {
     "name": "stdout",
     "output_type": "stream",
     "text": [
      "Le résultat de notre test du Chi-Carré est : \n",
      " (True, 8.65376, 16.918977604620448)\n"
     ]
    }
   ],
   "source": [
    "def chi_squared(counts):\n",
    "    pi = 1 / len(counts)\n",
    "    N = sum(counts)\n",
    "    kr = np.sum(((counts-(N*pi))/(math.sqrt(N*pi)))**2)\n",
    "    critical = stat.chi2.ppf(q=0.95, df=9)\n",
    "    return kr <= critical, kr, critical\n",
    "\n",
    "print(f'Le résultat de notre test du Chi-Carré est : \\n {chi_squared(e_counts)}')"
   ],
   "metadata": {
    "collapsed": false,
    "pycharm": {
     "name": "#%%\n"
    }
   }
  },
  {
   "cell_type": "markdown",
   "source": [
    "## Test de Kolmogorov-Smirnov"
   ],
   "metadata": {
    "collapsed": false
   }
  },
  {
   "cell_type": "code",
   "execution_count": 13,
   "outputs": [
    {
     "name": "stdout",
     "output_type": "stream",
     "text": [
      "(True, 0.0006325000000000358, 0.0030365803134447147)\n"
     ]
    }
   ],
   "source": [
    "def kolmogorov_smirnov(labels, counts):\n",
    "    assert len(labels) == len(counts)\n",
    "    pi = 1 / len(counts)\n",
    "    N = np.sum(counts)\n",
    "    real_repartition = np.cumsum(counts, axis=0)/N\n",
    "    th_repartition = np.cumsum(np.ones(len(labels))*pi)\n",
    "    maximum = np.max(np.abs(real_repartition-th_repartition))\n",
    "    critical = 1.358/math.sqrt(N/len(labels))\n",
    "    return maximum < critical, maximum, critical\n",
    "\n",
    "print(kolmogorov_smirnov(e_labels, e_counts))"
   ],
   "metadata": {
    "collapsed": false,
    "pycharm": {
     "name": "#%%\n"
    }
   }
  },
  {
   "cell_type": "markdown",
   "source": [
    "## Test du gap"
   ],
   "metadata": {
    "collapsed": false
   }
  },
  {
   "cell_type": "code",
   "execution_count": 14,
   "outputs": [
    {
     "name": "stdout",
     "output_type": "stream",
     "text": [
      "500000.0\n",
      "all_diff 251785 \n",
      "one_pair 216258 \n",
      "two_pair 13413 \n",
      "triplet 18050 \n",
      "quadr 494\n",
      "Test du Poker None\n"
     ]
    }
   ],
   "source": [
    "def poker_test(data, labels, counts):\n",
    "    number_lists = len(data)/4\n",
    "    print(number_lists)\n",
    "    lists = np.split(data, number_lists)\n",
    "    all_diff = 0\n",
    "    one_pair = 0\n",
    "    two_pair = 0\n",
    "    triplet = 0\n",
    "    quadr = 0\n",
    "    for li in lists:\n",
    "        values, counts = np.unique(li, return_counts=True)\n",
    "        if len(counts) == 4:\n",
    "            all_diff += 1\n",
    "        elif len(counts) == 3:\n",
    "            one_pair += 1\n",
    "        elif len(counts) == 2:\n",
    "            if 3 in counts:\n",
    "                triplet += 1\n",
    "            else:\n",
    "                two_pair += 1\n",
    "        else:\n",
    "            quadr += 1\n",
    "    print(f'all_diff {all_diff} \\n'\n",
    "          f'one_pair {one_pair} \\n'\n",
    "          f'two_pair {two_pair} \\n'\n",
    "          f'triplet {triplet} \\n'\n",
    "          f'quadr {quadr}')\n",
    "\n",
    "\n",
    "\n",
    "\n",
    "print(f'Test du Poker {poker_test(e_numbers, e_labels, e_counts)}')"
   ],
   "metadata": {
    "collapsed": false,
    "pycharm": {
     "name": "#%%\n"
    }
   }
  }
 ],
 "metadata": {
  "kernelspec": {
   "display_name": "Python 3",
   "language": "python",
   "name": "python3"
  },
  "language_info": {
   "codemirror_mode": {
    "name": "ipython",
    "version": 2
   },
   "file_extension": ".py",
   "mimetype": "text/x-python",
   "name": "python",
   "nbconvert_exporter": "python",
   "pygments_lexer": "ipython2",
   "version": "2.7.6"
  }
 },
 "nbformat": 4,
 "nbformat_minor": 0
}