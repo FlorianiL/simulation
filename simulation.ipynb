{
 "cells": [
  {
   "cell_type": "markdown",
   "metadata": {
    "collapsed": true,
    "pycharm": {
     "name": "#%% md\n"
    }
   },
   "source": [
    "# Simulation - Projet"
   ]
  },
  {
   "cell_type": "markdown",
   "source": [
    "## Importation des modules nécessaires\n"
   ],
   "metadata": {
    "collapsed": false
   }
  },
  {
   "cell_type": "code",
   "execution_count": 1,
   "outputs": [],
   "source": [
    "from collections import Counter\n",
    "\n",
    "import numpy as np\n",
    "import matplotlib.pyplot as plt\n",
    "import scipy.stats as stat\n",
    "import math"
   ],
   "metadata": {
    "collapsed": false,
    "pycharm": {
     "name": "#%%\n"
    }
   }
  },
  {
   "cell_type": "markdown",
   "source": [
    "## Lecture du fichier d'entrée"
   ],
   "metadata": {
    "collapsed": false
   }
  },
  {
   "cell_type": "code",
   "execution_count": 2,
   "outputs": [
    {
     "name": "stdout",
     "output_type": "stream",
     "text": [
      "Les 2.000.000 premières décimales d' exp :\n",
      " [7 1 8 ... 0 2 3]\n"
     ]
    }
   ],
   "source": [
    "def e_numbers():\n",
    "    with open(\"exp.txt\", \"r\") as e:\n",
    "        for line in e:\n",
    "            line = line.strip()\n",
    "            if \".\" in line:\n",
    "                line = line.split(\".\")[1]\n",
    "            for c in line:\n",
    "                yield int(c)\n",
    "\n",
    "e_numbers = np.array(list(e_numbers()))\n",
    "print(f'Les 2.000.000 premières décimales d\\' exp :\\n {e_numbers}')"
   ],
   "metadata": {
    "collapsed": false,
    "pycharm": {
     "name": "#%%\n"
    }
   }
  },
  {
   "cell_type": "markdown",
   "source": [
    "## Compter effectif"
   ],
   "metadata": {
    "collapsed": false,
    "pycharm": {
     "name": "#%% md\n"
    }
   }
  },
  {
   "cell_type": "code",
   "execution_count": 3,
   "outputs": [
    {
     "name": "stdout",
     "output_type": "stream",
     "text": [
      "Les chiffres apparaissant dans les décimales d' exp : \n",
      " [0 1 2 3 4 5 6 7 8 9]\n",
      "Leur fréquences d'apparition : \n",
      " [199093 200171 199471 200361 199923 200285 200395 199789 200098 200414]\n"
     ]
    }
   ],
   "source": [
    "def count_number(data):\n",
    "    values, counts = np.unique(data, return_counts=True)\n",
    "    return values, counts\n",
    "\n",
    "e_labels, e_counts = count_number(e_numbers)\n",
    "print(f'Les chiffres apparaissant dans les décimales d\\' exp : \\n {e_labels}')\n",
    "print(f'Leur fréquences d\\'apparition : \\n {e_counts}')"
   ],
   "metadata": {
    "collapsed": false,
    "pycharm": {
     "name": "#%%\n"
    }
   }
  },
  {
   "cell_type": "markdown",
   "source": [
    "## Construire histogramme\n"
   ],
   "metadata": {
    "collapsed": false,
    "pycharm": {
     "name": "#%% md\n"
    }
   }
  },
  {
   "cell_type": "code",
   "execution_count": 4,
   "outputs": [
    {
     "data": {
      "text/plain": "<Figure size 432x288 with 1 Axes>",
      "image/png": "[encoded data removed]"
     },
     "metadata": {
      "needs_background": "light"
     },
     "output_type": "display_data"
    }
   ],
   "source": [
    "def construct_hist(labels, counts):\n",
    "    fig, ax = plt.subplots()\n",
    "    ax.bar(labels, counts, color='palegreen')\n",
    "    plt.show()\n",
    "\n",
    "construct_hist(e_labels, e_counts)"
   ],
   "metadata": {
    "collapsed": false,
    "pycharm": {
     "name": "#%%\n"
    }
   }
  },
  {
   "cell_type": "markdown",
   "source": [
    "## Test du Chi-Carré"
   ],
   "metadata": {
    "collapsed": false,
    "pycharm": {
     "name": "#%% md\n"
    }
   }
  },
  {
   "cell_type": "code",
   "execution_count": 5,
   "outputs": [
    {
     "name": "stdout",
     "output_type": "stream",
     "text": [
      "Le résultat de notre test du Chi-Carré est : \n",
      " (True, 8.65376, 16.918977604620448)\n"
     ]
    }
   ],
   "source": [
    "def chi_squared_uniform(counts):\n",
    "    pi = 1 / len(counts)\n",
    "    N = sum(counts)\n",
    "    kr = np.sum(((counts-(N*pi))/(math.sqrt(N*pi)))**2)\n",
    "    critical = stat.chi2.ppf(q=0.95, df=9)\n",
    "    return kr <= critical, kr, critical\n",
    "\n",
    "print(f'Le résultat de notre test du Chi-Carré est : \\n {chi_squared_uniform(e_counts)}')"
   ],
   "metadata": {
    "collapsed": false,
    "pycharm": {
     "name": "#%%\n"
    }
   }
  },
  {
   "cell_type": "markdown",
   "source": [
    "## Test de Kolmogorov-Smirnov"
   ],
   "metadata": {
    "collapsed": false
   }
  },
  {
   "cell_type": "code",
   "execution_count": 6,
   "outputs": [
    {
     "name": "stdout",
     "output_type": "stream",
     "text": [
      "(True, 0.0006325000000000358, 0.0030365803134447147)\n"
     ]
    }
   ],
   "source": [
    "def kolmogorov_smirnov(labels, counts):\n",
    "    assert len(labels) == len(counts)\n",
    "    proba = 1 / len(counts)\n",
    "    N = np.sum(counts)\n",
    "    real_repartition = np.cumsum(counts, axis=0)/N\n",
    "    th_repartition = np.cumsum(np.full(len(labels), proba))\n",
    "    maximum = np.max(np.abs(real_repartition-th_repartition))\n",
    "    critical = 1.358/math.sqrt(N/len(labels))\n",
    "    return maximum < critical, maximum, critical\n",
    "\n",
    "print(kolmogorov_smirnov(e_labels, e_counts))"
   ],
   "metadata": {
    "collapsed": false,
    "pycharm": {
     "name": "#%%\n"
    }
   }
  },
  {
   "cell_type": "markdown",
   "source": [
    "## Test du Poker"
   ],
   "metadata": {
    "collapsed": false
   }
  },
  {
   "cell_type": "code",
   "execution_count": 13,
   "outputs": [
    {
     "name": "stdout",
     "output_type": "stream",
     "text": [
      "(True, 1.2631547619047618, 9.487729036781154)\n"
     ]
    }
   ],
   "source": [
    "def poker_test(data, labels, counts):\n",
    "    number_lists = len(data)/4\n",
    "    lists = np.split(data, number_lists)\n",
    "    all_diff = 0\n",
    "    one_pair = 0\n",
    "    two_pair = 0\n",
    "    triplet = 0\n",
    "    quadr = 0\n",
    "    for li in lists:\n",
    "        vals, cts = np.unique(li, return_counts=True)\n",
    "        if len(cts) == 4:\n",
    "            all_diff += 1\n",
    "        elif len(cts) == 3:\n",
    "            one_pair += 1\n",
    "        elif len(cts) == 2:\n",
    "            if 3 in cts:\n",
    "                triplet += 1\n",
    "            else:\n",
    "                two_pair += 1\n",
    "        else:\n",
    "            quadr += 1\n",
    "    return chi_squarred_poker(np.array([all_diff, one_pair, triplet, two_pair, quadr]), len(lists))\n",
    "\n",
    "def chi_squarred_poker(observed, N):    # P(all_diff) > P(one_pair) > P(triplet) > P(two_pair) > P(quadr)\n",
    "    probas = np.array([0.504, 0.432, 0.036, 0.027, 0.001])\n",
    "    theorical = probas * N\n",
    "    kr = np.sum(((observed-theorical)**2)/theorical)\n",
    "    critical = stat.chi2.ppf(q=0.95, df=4)\n",
    "    return kr <= critical, kr, critical\n",
    "\n",
    "print(poker_test(e_numbers, e_labels, e_counts))"
   ],
   "metadata": {
    "collapsed": false,
    "pycharm": {
     "name": "#%%\n"
    }
   }
  },
  {
   "cell_type": "markdown",
   "source": [
    "## Test du gap"
   ],
   "metadata": {
    "collapsed": false
   }
  },
  {
   "cell_type": "code",
   "execution_count": 8,
   "outputs": [
    {
     "data": {
      "text/plain": "(True, 5.5117785465143285, 12.338014578790643)"
     },
     "execution_count": 8,
     "metadata": {},
     "output_type": "execute_result"
    }
   ],
   "source": [
    "def gap_test(data, a: int = 0, b: int = 5, total_numbers: int = 10):\n",
    "    assert a < b\n",
    "    probability = (b - a) / total_numbers  # => proba 1/2 d'être marqué\n",
    "    intervals = []\n",
    "    length_series_not_in = 0\n",
    "    total_gaps = 0\n",
    "    sequence_length = 0\n",
    "    for nb in data:\n",
    "        if a <= nb < b:\n",
    "            # nb in interval, with probability `probability`\n",
    "            intervals.append(length_series_not_in)\n",
    "            length_series_not_in = 1\n",
    "        else:\n",
    "            # nb not in interval\n",
    "            length_series_not_in += 1\n",
    "            total_gaps += 1\n",
    "        sequence_length += 1\n",
    "    labels, observed = np.unique(np.array(intervals), return_counts=True)\n",
    "    observed = np.cumsum(complete_labels(labels, observed)/sequence_length)\n",
    "    theorical = np.cumsum(np.array([probability ** (n + 1) for n in range(max(labels))]))\n",
    "    kr = np.sum(((observed - theorical) ** 2) / theorical)\n",
    "    crit = stat.chi2.ppf(q=0.05, df=len(observed) - 1)\n",
    "    return kr <= crit, kr, crit\n",
    "\n",
    "def complete_labels(labels, observed):\n",
    "    i = 1\n",
    "    j = 0\n",
    "    n = 1\n",
    "    res = []\n",
    "    while j < len(labels):\n",
    "        label = labels[j]\n",
    "        if i != label:\n",
    "            res.append(0)\n",
    "            n += 1\n",
    "        else:\n",
    "            res.append(observed[i-n])\n",
    "            j += 1\n",
    "        i += 1\n",
    "    return np.array(res)\n",
    "\n",
    "gap_test(e_numbers)"
   ],
   "metadata": {
    "collapsed": false,
    "pycharm": {
     "name": "#%%\n"
    }
   }
  },
  {
   "cell_type": "markdown",
   "source": [
    "## Generateur"
   ],
   "metadata": {
    "collapsed": false
   }
  },
  {
   "cell_type": "code",
   "execution_count": 15,
   "outputs": [
    {
     "name": "stdout",
     "output_type": "stream",
     "text": [
      "(array([0.        , 0.57735027, 1.        , 1.15470054, 1.29099445,\n",
      "       1.73205081, 1.82574186, 1.91485422, 2.        , 2.081666  ,\n",
      "       2.1602469 , 2.30940108, 2.38047614, 2.44948974, 2.51661148,\n",
      "       2.5819889 , 2.64575131, 2.7080128 , 2.82842712, 2.88675135,\n",
      "       2.94392029, 3.        , 3.10912635, 3.16227766, 3.31662479,\n",
      "       3.36650165, 3.41565026, 3.46410162, 3.51188458, 3.55902608,\n",
      "       3.65148372, 3.6968455 , 3.74165739, 3.7859389 , 3.82970843,\n",
      "       3.87298335, 3.91578004, 4.        , 4.04145188, 4.0824829 ,\n",
      "       4.12310563, 4.163332  , 4.2031734 , 4.24264069, 4.3204938 ,\n",
      "       4.35889894, 4.39696865, 4.43471157, 4.50924975, 4.54606057,\n",
      "       4.61880215, 4.65474668, 4.69041576, 4.72581563, 4.76095229,\n",
      "       4.79583152, 4.83045892, 4.89897949, 4.93288286, 4.96655481,\n",
      "       5.        , 5.03322296, 5.06622805, 5.09901951, 5.16397779,\n",
      "       5.19615242, 5.22812905, 5.25991128, 5.29150262, 5.32290647,\n",
      "       5.35412613, 5.4160256 , 5.44671155, 5.47722558, 5.50757055,\n",
      "       5.56776436, 5.59761854, 5.65685425, 5.6862407 , 5.71547607,\n",
      "       5.74456265, 5.77350269, 5.8022984 , 5.88784058, 5.91607978,\n",
      "       5.94418483, 5.97215762, 6.        , 6.02771377, 6.05530071,\n",
      "       6.13731755, 6.164414  , 6.19139187, 6.2182527 , 6.244998  ,\n",
      "       6.27162924, 6.35085296, 6.37704216, 6.40312424, 6.45497224,\n",
      "       6.4807407 , 6.55743852, 6.58280589, 6.60807587, 6.63324958,\n",
      "       6.65832812, 6.68331255, 6.73300329, 6.75771164, 6.78232998,\n",
      "       6.80685929, 6.87992248, 6.92820323, 6.95221787, 6.97614985,\n",
      "       7.        , 7.04745817, 7.14142843, 7.16472842, 7.18795288,\n",
      "       7.32575366, 7.34846923, 7.3711148 , 7.393691  , 7.43863787,\n",
      "       7.52772653, 7.54983444, 7.68114575, 7.70281334, 7.72442015,\n",
      "       7.76745347, 7.89514619, 8.        , 8.04155872, 8.1240384 ,\n",
      "       8.38649708, 8.67947771, 9.        ]), array([100,   9,  15,  11,   4,  15,   6,   4,  15,   3,   5,  10,   8,\n",
      "         1,   2,   1,   4,   4,   4,  10,  14,  25,   7,   3,   1,   3,\n",
      "         2,  15,   6,   3,   3,   4,   5,   5,   1,   8,   5,  28,  14,\n",
      "        10,   4,   4,   8,  13,   4,   4,   5,  10,   4,   8,   6,   9,\n",
      "         8,   2,   5,   4,   6,   3,   4,   9,  22,   2,  12,   6,   1,\n",
      "        19,   1,   4,   6,   8,  16,   2,  19,  15,   5,   6,   9,   2,\n",
      "         2,  15,  10,   2,  12,   4,   3,   9,   6,  20,   5,   9,   5,\n",
      "         8,   4,   2,   7,   1,   5,  11,   1,   4,   4,   9,   2,   8,\n",
      "         2,   8,   8,   2,   5,   2,   4,   7,   4,   2,  11,  20,   8,\n",
      "         5,   3,   3,   3,   3,   2,   1,   5,   5,   3,   2,   3,   1,\n",
      "         1,   2,  14,   2,   1,   2,   1,  19], dtype=int64))\n"
     ]
    }
   ],
   "source": [
    "def generator(n: int = 1):\n",
    "    for i in range(n):\n",
    "        seed = e_numbers[i]\n",
    "        a = len(e_numbers) - seed\n",
    "        c = e_numbers[i + seed]\n",
    "        x = (a * seed + c) % 10\n",
    "        a = len(e_numbers) - x\n",
    "        c = e_numbers[i + x]\n",
    "        y = (a * seed + c) % 10\n",
    "        a = len(e_numbers) - y\n",
    "        c = e_numbers[i + y]\n",
    "        z = (a * seed + c) % 10\n",
    "        res = math.sqrt(x ** 2 + y ** 2 + z ** 2)/math.sqrt(3)\n",
    "        yield res\n",
    "\n",
    "gen = list(generator(1000))\n",
    "print(count_number(gen))"
   ],
   "metadata": {
    "collapsed": false,
    "pycharm": {
     "name": "#%%\n"
    }
   }
  }
 ],
 "metadata": {
  "kernelspec": {
   "display_name": "Python 3",
   "language": "python",
   "name": "python3"
  },
  "language_info": {
   "codemirror_mode": {
    "name": "ipython",
    "version": 2
   },
   "file_extension": ".py",
   "mimetype": "text/x-python",
   "name": "python",
   "nbconvert_exporter": "python",
   "pygments_lexer": "ipython2",
   "version": "2.7.6"
  }
 },
 "nbformat": 4,
 "nbformat_minor": 0
}