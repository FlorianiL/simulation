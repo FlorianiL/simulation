{
 "cells": [
  {
   "cell_type": "markdown",
   "metadata": {
    "collapsed": true,
    "pycharm": {
     "name": "#%% md\n"
    }
   },
   "source": [
    "# Simulation - Projet"
   ]
  },
  {
   "cell_type": "markdown",
   "source": [
    "## Importation des modules nécessaires\n"
   ],
   "metadata": {
    "collapsed": false
   }
  },
  {
   "cell_type": "code",
   "execution_count": 70,
   "outputs": [],
   "source": [
    "from collections import Counter\n",
    "\n",
    "import numpy as np\n",
    "import matplotlib.pyplot as plt\n",
    "import scipy.stats as stat\n",
    "import math\n",
    "import seaborn as sns\n",
    "import pandas as pd"
   ],
   "metadata": {
    "collapsed": false,
    "pycharm": {
     "name": "#%%\n"
    }
   }
  },
  {
   "cell_type": "markdown",
   "source": [
    "## Lecture du fichier d'entrée"
   ],
   "metadata": {
    "collapsed": false
   }
  },
  {
   "cell_type": "code",
   "execution_count": 71,
   "outputs": [
    {
     "name": "stdout",
     "output_type": "stream",
     "text": [
      "Les 2.000.000 premières décimales d' exp :\n",
      " [7 1 8 ... 0 2 3]\n"
     ]
    }
   ],
   "source": [
    "def e_numbers():\n",
    "    with open(\"exp.txt\", \"r\") as e:\n",
    "        for line in e:\n",
    "            line = line.strip()\n",
    "            if \".\" in line:\n",
    "                line = line.split(\".\")[1]\n",
    "            for c in line:\n",
    "                yield int(c)\n",
    "\n",
    "e_numbers = np.array(list(e_numbers()))\n",
    "print(f'Les 2.000.000 premières décimales d\\' exp :\\n {e_numbers}')"
   ],
   "metadata": {
    "collapsed": false,
    "pycharm": {
     "name": "#%%\n"
    }
   }
  },
  {
   "cell_type": "markdown",
   "source": [
    "## Compter effectif"
   ],
   "metadata": {
    "collapsed": false,
    "pycharm": {
     "name": "#%% md\n"
    }
   }
  },
  {
   "cell_type": "code",
   "execution_count": 72,
   "outputs": [
    {
     "name": "stdout",
     "output_type": "stream",
     "text": [
      "Les chiffres apparaissant dans les décimales d' exp : \n",
      " [0 1 2 3 4 5 6 7 8 9]\n",
      "Leur fréquences d'apparition : \n",
      " [199093 200171 199471 200361 199923 200285 200395 199789 200098 200414]\n"
     ]
    }
   ],
   "source": [
    "def count_number(data):\n",
    "    values, counts = np.unique(data, return_counts=True)\n",
    "    return values, counts\n",
    "\n",
    "e_labels, e_counts = count_number(e_numbers)\n",
    "print(f'Les chiffres apparaissant dans les décimales d\\' exp : \\n {e_labels}')\n",
    "print(f'Leur fréquences d\\'apparition : \\n {e_counts}')"
   ],
   "metadata": {
    "collapsed": false,
    "pycharm": {
     "name": "#%%\n"
    }
   }
  },
  {
   "cell_type": "markdown",
   "source": [
    "## Construire histogramme\n"
   ],
   "metadata": {
    "collapsed": false,
    "pycharm": {
     "name": "#%% md\n"
    }
   }
  },
  {
   "cell_type": "code",
   "execution_count": 73,
   "outputs": [
    {
     "data": {
      "text/plain": "<Figure size 432x288 with 1 Axes>",
      "image/png": "[encoded data removed]"
     },
     "metadata": {
      "needs_background": "light"
     },
     "output_type": "display_data"
    }
   ],
   "source": [
    "def construct_hist(labels, counts):\n",
    "    plt.figure()\n",
    "    plt.bar(labels, counts, color='palegreen')\n",
    "    plt.title('Répartition des décimales de l\\'exponentielle')\n",
    "    plt.ylabel('Count')\n",
    "    plt.savefig('histo_exp.png')\n",
    "    plt.show()\n",
    "\n",
    "construct_hist(e_labels, e_counts)"
   ],
   "metadata": {
    "collapsed": false,
    "pycharm": {
     "name": "#%%\n"
    }
   }
  },
  {
   "cell_type": "markdown",
   "source": [
    "## Test du Chi-Carré"
   ],
   "metadata": {
    "collapsed": false,
    "pycharm": {
     "name": "#%% md\n"
    }
   }
  },
  {
   "cell_type": "code",
   "execution_count": 74,
   "outputs": [
    {
     "name": "stdout",
     "output_type": "stream",
     "text": [
      "Le résultat de notre test du Chi-Carré est : \n",
      " (True, 8.65376, 16.918977604620448)\n"
     ]
    }
   ],
   "source": [
    "def chi_squared_uniform(counts):\n",
    "    pi = 1 / len(counts)\n",
    "    N = sum(counts)\n",
    "    kr = np.sum(((counts-(N*pi))/(math.sqrt(N*pi)))**2)\n",
    "    critical = stat.chi2.ppf(q=0.95, df=9)\n",
    "    return kr <= critical, kr, critical\n",
    "\n",
    "print(f'Le résultat de notre test du Chi-Carré est : \\n {chi_squared_uniform(e_counts)}')"
   ],
   "metadata": {
    "collapsed": false,
    "pycharm": {
     "name": "#%%\n"
    }
   }
  },
  {
   "cell_type": "code",
   "execution_count": 75,
   "metadata": {},
   "outputs": [],
   "source": [
    "def split_in_groups(data, groups=10):\n",
    "    data = np.sort(data)\n",
    "    res = [data[np.where(np.logical_and(data < i, data > i-(1/groups)))] for i in np.arange(0.1, 1.1, 1/groups)]\n",
    "    return np.array(res)"
   ]
  },
  {
   "cell_type": "code",
   "execution_count": 76,
   "metadata": {},
   "outputs": [],
   "source": [
    "def chi_squared_continuous(data, groups=10):\n",
    "    splitted = split_in_groups(data, groups)\n",
    "    print(splitted)\n",
    "    _, counts = count_number(splitted)\n",
    "    return chi_squared_uniform(counts)\n"
   ]
  },
  {
   "cell_type": "markdown",
   "source": [
    "## Test de Kolmogorov-Smirnov"
   ],
   "metadata": {
    "collapsed": false
   }
  },
  {
   "cell_type": "code",
   "execution_count": 77,
   "outputs": [
    {
     "name": "stdout",
     "output_type": "stream",
     "text": [
      "(True, 0.0006325000000000358, 0.0030365803134447147)\n"
     ]
    }
   ],
   "source": [
    "def kolmogorov_smirnov(labels, counts):\n",
    "    assert len(labels) == len(counts)\n",
    "    proba = 1 / len(counts)\n",
    "    N = np.sum(counts)\n",
    "    real_repartition = np.cumsum(counts, axis=0)/N\n",
    "    th_repartition = np.cumsum(np.full(len(labels), proba))\n",
    "    maximum = np.max(np.abs(real_repartition-th_repartition))\n",
    "    critical = 1.358/math.sqrt(N/len(labels))\n",
    "    return maximum < critical, maximum, critical\n",
    "\n",
    "print(kolmogorov_smirnov(e_labels, e_counts))"
   ],
   "metadata": {
    "collapsed": false,
    "pycharm": {
     "name": "#%%\n"
    }
   }
  },
  {
   "cell_type": "markdown",
   "source": [
    "## Test du Poker"
   ],
   "metadata": {
    "collapsed": false
   }
  },
  {
   "cell_type": "code",
   "execution_count": 78,
   "outputs": [
    {
     "name": "stdout",
     "output_type": "stream",
     "text": [
      "[251785 216258  18050  13413    494]\n",
      "(True, 1.2631547619047618, 9.487729036781154)\n"
     ]
    }
   ],
   "source": [
    "def poker_test(data, labels, counts):\n",
    "    number_lists = len(data)/4\n",
    "    lists = np.split(data, number_lists)\n",
    "    all_diff = 0\n",
    "    one_pair = 0\n",
    "    two_pair = 0\n",
    "    triplet = 0\n",
    "    quadr = 0\n",
    "    for li in lists:\n",
    "        vals, cts = np.unique(li, return_counts=True)\n",
    "        if len(cts) == 4:\n",
    "            all_diff += 1\n",
    "        elif len(cts) == 3:\n",
    "            one_pair += 1\n",
    "        elif len(cts) == 2:\n",
    "            if 3 in cts:\n",
    "                triplet += 1\n",
    "            else:\n",
    "                two_pair += 1\n",
    "        else:\n",
    "            quadr += 1\n",
    "    print(np.array([all_diff, one_pair, triplet, two_pair, quadr]))\n",
    "    return chi_squarred_poker(np.array([all_diff, one_pair, triplet, two_pair, quadr]), len(lists))\n",
    "\n",
    "def chi_squarred_poker(observed, N):    # P(all_diff) > P(one_pair) > P(triplet) > P(two_pair) > P(quadr)\n",
    "    probas = np.array([0.504, 0.432, 0.036, 0.027, 0.001])\n",
    "    theorical = probas * N\n",
    "    kr = np.sum(((observed-theorical)**2)/theorical)\n",
    "    critical = stat.chi2.ppf(q=0.95, df=4)\n",
    "    return kr <= critical, kr, critical\n",
    "\n",
    "print(poker_test(e_numbers, e_labels, e_counts))"
   ],
   "metadata": {
    "collapsed": false,
    "pycharm": {
     "name": "#%%\n"
    }
   }
  },
  {
   "cell_type": "markdown",
   "source": [
    "## Test du gap"
   ],
   "metadata": {
    "collapsed": false
   }
  },
  {
   "cell_type": "code",
   "execution_count": 96,
   "outputs": [
    {
     "name": "stdout",
     "output_type": "stream",
     "text": [
      "[0.5        0.75       0.875      0.9375     0.96875    0.984375\n",
      " 0.9921875  0.99609375 0.99804688 0.99902344 0.99951172 0.99975586\n",
      " 0.99987793 0.99993896 0.99996948 0.99998474 0.99999237 0.99999619\n",
      " 0.99999809 0.99999905 0.99999952 0.99999976 0.99999988]\n",
      "[0.49899852 0.74926203 0.87474212 0.93750269 0.96872031 0.98434664\n",
      " 0.99217232 0.99610218 0.99809914 0.99905607 0.99952954 0.99975276\n",
      " 0.99987688 0.99993594 0.99996497 0.99998699 0.999995   0.999998\n",
      " 0.999998   0.999999   0.999999   0.999999   1.        ]\n"
     ]
    },
    {
     "data": {
      "text/plain": "(True, 2.814290594745624e-06, 12.338014578790643)"
     },
     "execution_count": 96,
     "metadata": {},
     "output_type": "execute_result"
    }
   ],
   "source": [
    "def gap_test(data, a: int = 0, b: int = 5, total_numbers: int = 10):\n",
    "    assert a < b\n",
    "    probability = (b - a) / total_numbers  # => proba 1/2 d'être marqué\n",
    "    intervals = []\n",
    "    length_series_not_in = 0\n",
    "    total_gaps = 0\n",
    "    for nb in data:\n",
    "        if a <= nb < b:\n",
    "            # nb in interval, with probability `probability`\n",
    "            intervals.append(length_series_not_in)\n",
    "            length_series_not_in = 1\n",
    "        else:\n",
    "            # nb not in interval\n",
    "            length_series_not_in += 1\n",
    "            total_gaps += 1\n",
    "    labels, observed = np.unique(np.array(intervals), return_counts=True)\n",
    "    observed = np.cumsum(complete_labels(labels, observed)/sum(observed))\n",
    "    theorical = np.cumsum(np.array([probability ** (n + 1) for n in range(max(labels))]))\n",
    "    kr = np.sum(((observed - theorical) ** 2) / theorical)\n",
    "    crit = stat.chi2.ppf(q=0.05, df=len(observed) - 1)\n",
    "    return kr <= crit, kr, crit\n",
    "\n",
    "def complete_labels(labels, observed):\n",
    "    i = 1\n",
    "    j = 0\n",
    "    n = 1\n",
    "    res = []\n",
    "    while j < len(labels):\n",
    "        label = labels[j]\n",
    "        if i != label:\n",
    "            res.append(0)\n",
    "            n += 1\n",
    "        else:\n",
    "            res.append(observed[i-n])\n",
    "            j += 1\n",
    "        i += 1\n",
    "    return np.array(res)\n",
    "\n",
    "gap_test(e_numbers)"
   ],
   "metadata": {
    "collapsed": false,
    "pycharm": {
     "name": "#%%\n"
    }
   }
  },
  {
   "cell_type": "markdown",
   "source": [
    "## Generateur"
   ],
   "metadata": {
    "collapsed": false
   }
  },
  {
   "cell_type": "code",
   "execution_count": 80,
   "outputs": [],
   "source": [
    "NB_DIGITS = 10\n",
    "\n",
    "def generator_1(n: int = 1, seed_: int = 0):\n",
    "    for i in range(n):\n",
    "        xyz = []\n",
    "        for j in range(3):\n",
    "            digits = []\n",
    "            for k in range(NB_DIGITS):\n",
    "                seed = e_numbers[seed_ + i + j + k]\n",
    "                a = len(e_numbers) - seed\n",
    "                c = e_numbers[i + seed]\n",
    "                digit = (a * seed + c) % 10\n",
    "                digits.append(digit)\n",
    "            xyz.append(float(\"0.\" + \"\".join(map(lambda x: str(x), digits))))\n",
    "        yield math.sqrt(sum([x**2 for x in xyz]))/math.sqrt(3)\n",
    "\n",
    "def generator(n: int = 1, seed_: int = 0):\n",
    "    for i in range(n):\n",
    "        digits = []\n",
    "        for k in range(NB_DIGITS):\n",
    "            seed = e_numbers[seed_ + i + k]\n",
    "            a = len(e_numbers) - seed\n",
    "            c = e_numbers[i + seed]\n",
    "            digit = (a * seed + c) % 10\n",
    "            digits.append(digit)\n",
    "        yield float(\"0.\" + \"\".join(map(lambda x: str(x), digits)))\n",
    "\n",
    "gen = list(generator(1000, 50))\n",
    "#print(count_number(gen))"
   ],
   "metadata": {
    "collapsed": false,
    "pycharm": {
     "name": "#%%\n"
    },
    "tags": [
     "outputPrepend"
    ]
   }
  },
  {
   "cell_type": "markdown",
   "metadata": {
    "pycharm": {
     "name": "#%% md\n"
    }
   },
   "source": [
    "## Test de notre générateur"
   ]
  },
  {
   "cell_type": "code",
   "execution_count": 81,
   "metadata": {},
   "outputs": [],
   "source": [
    "lst = np.array(list(generator(1000, 50)))\n",
    "comparison = {'Notre': lst, 'Python':np.random.random_sample(1000)}\n",
    "df = pd.DataFrame(data=comparison)"
   ]
  },
  {
   "cell_type": "markdown",
   "source": [
    "### Un petit pair plot, juste pour tester ;)"
   ],
   "metadata": {
    "collapsed": false
   }
  },
  {
   "cell_type": "code",
   "execution_count": 82,
   "outputs": [
    {
     "data": {
      "text/plain": "<seaborn.axisgrid.PairGrid at 0x1d0e5ab1640>"
     },
     "execution_count": 82,
     "metadata": {},
     "output_type": "execute_result"
    },
    {
     "data": {
      "text/plain": "<Figure size 360x360 with 6 Axes>",
      "image/png": "[encoded data removed]"
     },
     "metadata": {
      "needs_background": "light"
     },
     "output_type": "display_data"
    }
   ],
   "source": [
    "sns.pairplot(df)"
   ],
   "metadata": {
    "collapsed": false,
    "pycharm": {
     "name": "#%%\n"
    }
   }
  },
  {
   "cell_type": "markdown",
   "source": [
    "### Displot"
   ],
   "metadata": {
    "collapsed": false,
    "pycharm": {
     "name": "#%% md\n"
    }
   }
  },
  {
   "cell_type": "code",
   "execution_count": 83,
   "outputs": [
    {
     "data": {
      "text/plain": "<seaborn.axisgrid.FacetGrid at 0x1d0e74ccbb0>"
     },
     "execution_count": 83,
     "metadata": {},
     "output_type": "execute_result"
    },
    {
     "data": {
      "text/plain": "<Figure size 430.5x360 with 1 Axes>",
      "image/png": "[encoded data removed]"
     },
     "metadata": {
      "needs_background": "light"
     },
     "output_type": "display_data"
    }
   ],
   "source": [
    "sns.displot(df, multiple='stack')\n"
   ],
   "metadata": {
    "collapsed": false,
    "pycharm": {
     "name": "#%%\n"
    }
   }
  }
 ],
 "metadata": {
  "kernelspec": {
   "name": "python3",
   "language": "python",
   "display_name": "Python 3"
  },
  "language_info": {
   "codemirror_mode": {
    "name": "ipython",
    "version": 2
   },
   "file_extension": ".py",
   "mimetype": "text/x-python",
   "name": "python",
   "nbconvert_exporter": "python",
   "pygments_lexer": "ipython2",
   "version": "3.9.3"
  },
  "metadata": {
   "interpreter": {
    "hash": "767d51c1340bd893661ea55ea3124f6de3c7a262a8b4abca0554b478b1e2ff90"
   }
  }
 },
 "nbformat": 4,
 "nbformat_minor": 0
}