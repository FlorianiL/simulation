{
 "cells": [
  {
   "cell_type": "markdown",
   "metadata": {
    "collapsed": true,
    "pycharm": {
     "name": "#%% md\n"
    }
   },
   "source": [
    "# Simulation - Projet"
   ]
  },
  {
   "cell_type": "markdown",
   "source": [
    "## Importation des modules nécessaires\n"
   ],
   "metadata": {
    "collapsed": false
   }
  },
  {
   "cell_type": "code",
   "execution_count": 105,
   "outputs": [],
   "source": [
    "from collections import Counter\n",
    "\n",
    "import numpy as np\n",
    "import matplotlib.pyplot as plt\n",
    "import scipy.stats as stat\n",
    "import math"
   ],
   "metadata": {
    "collapsed": false,
    "pycharm": {
     "name": "#%%\n"
    }
   }
  },
  {
   "cell_type": "markdown",
   "source": [
    "## Lecture du fichier d'entrée"
   ],
   "metadata": {
    "collapsed": false
   }
  },
  {
   "cell_type": "code",
   "execution_count": 106,
   "outputs": [
    {
     "name": "stdout",
     "output_type": "stream",
     "text": [
      "Les 2.000.000 premières décimales d' exp :\n",
      " [7 1 8 ... 0 2 3]\n"
     ]
    }
   ],
   "source": [
    "def e_numbers():\n",
    "    with open(\"exp.txt\", \"r\") as e:\n",
    "        for line in e:\n",
    "            line = line.strip()\n",
    "            if \".\" in line:\n",
    "                line = line.split(\".\")[1]\n",
    "            for c in line:\n",
    "                yield int(c)\n",
    "\n",
    "e_numbers = np.array(list(e_numbers()))\n",
    "print(f'Les 2.000.000 premières décimales d\\' exp :\\n {e_numbers}')"
   ],
   "metadata": {
    "collapsed": false,
    "pycharm": {
     "name": "#%%\n"
    }
   }
  },
  {
   "cell_type": "markdown",
   "source": [
    "## Compter effectif"
   ],
   "metadata": {
    "collapsed": false,
    "pycharm": {
     "name": "#%% md\n"
    }
   }
  },
  {
   "cell_type": "code",
   "execution_count": 107,
   "outputs": [
    {
     "name": "stdout",
     "output_type": "stream",
     "text": [
      "Les valeurs apparaissant dans les décimales d' exp : \n",
      " [0 1 2 3 4 5 6 7 8 9]\n",
      "Leur fréquences d'apparition : \n",
      " [199093 200171 199471 200361 199923 200285 200395 199789 200098 200414]\n"
     ]
    }
   ],
   "source": [
    "def count_number(data):\n",
    "    values, counts = np.unique(data, return_counts=True)\n",
    "    return values, counts\n",
    "\n",
    "e_labels, e_counts = count_number(e_numbers)\n",
    "print(f'Les valeurs apparaissant dans les décimales d\\' exp : \\n {e_labels}')\n",
    "print(f'Leur fréquences d\\'apparition : \\n {e_counts}')"
   ],
   "metadata": {
    "collapsed": false,
    "pycharm": {
     "name": "#%%\n"
    }
   }
  },
  {
   "cell_type": "markdown",
   "source": [
    "## Construire histogramme\n"
   ],
   "metadata": {
    "collapsed": false,
    "pycharm": {
     "name": "#%% md\n"
    }
   }
  },
  {
   "cell_type": "code",
   "execution_count": 108,
   "outputs": [
    {
     "data": {
      "text/plain": "<Figure size 432x288 with 1 Axes>",
      "image/png": "[encoded data removed]"
     },
     "metadata": {
      "needs_background": "light"
     },
     "output_type": "display_data"
    }
   ],
   "source": [
    "def construct_hist(labels, counts):\n",
    "    fig, ax = plt.subplots()\n",
    "    ax.bar(labels, counts, color='palegreen')\n",
    "    plt.show()\n",
    "\n",
    "construct_hist(e_labels, e_counts)"
   ],
   "metadata": {
    "collapsed": false,
    "pycharm": {
     "name": "#%%\n"
    }
   }
  },
  {
   "cell_type": "markdown",
   "source": [
    "## Test du Chi-Carré"
   ],
   "metadata": {
    "collapsed": false,
    "pycharm": {
     "name": "#%% md\n"
    }
   }
  },
  {
   "cell_type": "code",
   "execution_count": 109,
   "outputs": [
    {
     "name": "stdout",
     "output_type": "stream",
     "text": [
      "Le résultat de notre test du Chi-Carré est : \n",
      " (True, 8.65376, 16.918977604620448)\n"
     ]
    }
   ],
   "source": [
    "def chi_squared_uniform(counts):\n",
    "    pi = 1 / len(counts)\n",
    "    N = sum(counts)\n",
    "    kr = np.sum(((counts-(N*pi))/(math.sqrt(N*pi)))**2)\n",
    "    critical = stat.chi2.ppf(q=0.95, df=9)\n",
    "    return kr <= critical, kr, critical\n",
    "\n",
    "print(f'Le résultat de notre test du Chi-Carré est : \\n {chi_squared_uniform(e_counts)}')"
   ],
   "metadata": {
    "collapsed": false,
    "pycharm": {
     "name": "#%%\n"
    }
   }
  },
  {
   "cell_type": "markdown",
   "source": [
    "## Test de Kolmogorov-Smirnov"
   ],
   "metadata": {
    "collapsed": false
   }
  },
  {
   "cell_type": "code",
   "execution_count": 110,
   "outputs": [
    {
     "name": "stdout",
     "output_type": "stream",
     "text": [
      "(True, 0.0006325000000000358, 0.0030365803134447147)\n"
     ]
    }
   ],
   "source": [
    "def kolmogorov_smirnov(labels, counts):\n",
    "    assert len(labels) == len(counts)\n",
    "    pi = 1 / len(counts)\n",
    "    N = np.sum(counts)\n",
    "    real_repartition = np.cumsum(counts, axis=0)/N\n",
    "    th_repartition = np.cumsum(np.ones(len(labels))*pi)\n",
    "    maximum = np.max(np.abs(real_repartition-th_repartition))\n",
    "    critical = 1.358/math.sqrt(N/len(labels))\n",
    "    return maximum < critical, maximum, critical\n",
    "\n",
    "print(kolmogorov_smirnov(e_labels, e_counts))"
   ],
   "metadata": {
    "collapsed": false,
    "pycharm": {
     "name": "#%%\n"
    }
   }
  },
  {
   "cell_type": "markdown",
   "source": [
    "## Test du Poker"
   ],
   "metadata": {
    "collapsed": false
   }
  },
  {
   "cell_type": "code",
   "execution_count": 111,
   "outputs": [
    {
     "name": "stdout",
     "output_type": "stream",
     "text": [
      "Test du Poker (False, 163.24725899159665, 9.487729036781154)\n"
     ]
    }
   ],
   "source": [
    "def poker_test(data, labels, counts):\n",
    "    number_lists = len(data)/4\n",
    "    lists = np.split(data, number_lists)\n",
    "    all_diff = 0\n",
    "    one_pair = 0\n",
    "    two_pair = 0\n",
    "    triplet = 0\n",
    "    quadr = 0\n",
    "    for li in lists:\n",
    "        vals, cts = np.unique(li, return_counts=True)\n",
    "        if len(cts) == 4:\n",
    "            all_diff += 1\n",
    "        elif len(cts) == 3:\n",
    "            one_pair += 1\n",
    "        elif len(cts) == 2:\n",
    "            if 3 in cts:\n",
    "                triplet += 1\n",
    "            else:\n",
    "                two_pair += 1\n",
    "        else:\n",
    "            quadr += 1\n",
    "    return chi_squarred_poker(np.array([all_diff, one_pair, triplet, two_pair, quadr]), len(lists))\n",
    "\n",
    "def chi_squarred_poker(observed, N):    # P(all_diff) > P(one_pair) > P(triplet) > P(two_pair) > P(quadr)\n",
    "    probas = np.array([0.5, 0.425, 0.035, 0.025, 0.001])\n",
    "    theorical = probas * N\n",
    "    kr = np.sum(((observed-theorical)**2)/theorical)\n",
    "    critical = stat.chi2.ppf(q=0.95, df=4)\n",
    "    return kr <= critical, kr, critical\n",
    "\n",
    "print(f'Test du Poker {poker_test(e_numbers, e_labels, e_counts)}')"
   ],
   "metadata": {
    "collapsed": false,
    "pycharm": {
     "name": "#%%\n"
    }
   }
  },
  {
   "cell_type": "markdown",
   "source": [
    "## Test du gap"
   ],
   "metadata": {
    "collapsed": false
   }
  },
  {
   "cell_type": "code",
   "execution_count": 117,
   "outputs": [
    {
     "data": {
      "text/plain": "(True, 5.5117785465143285, 12.338014578790643)"
     },
     "execution_count": 117,
     "metadata": {},
     "output_type": "execute_result"
    }
   ],
   "source": [
    "def gap_test(data, a: int = 0, b: int = 5, total_numbers: int = 10):\n",
    "    assert a < b\n",
    "    probability = (b - a) / total_numbers  # => proba 1/2 d'être marqué\n",
    "    intervals = []\n",
    "    length_series_not_in = 0\n",
    "    total = 0\n",
    "    sequence_length = 0\n",
    "    for nb in data:\n",
    "        if a <= nb < b:\n",
    "            # nb in interval, with probability `probability`\n",
    "            intervals.append(length_series_not_in)\n",
    "            length_series_not_in = 1\n",
    "        else:\n",
    "            # nb not in interval\n",
    "            length_series_not_in += 1\n",
    "            total += 1\n",
    "        sequence_length += 1\n",
    "    labels, observed = np.unique(np.array(intervals), return_counts=True)\n",
    "    observed = np.cumsum(complete_labels(labels, observed)/sequence_length)\n",
    "    theorical = np.cumsum(np.array([probability ** (n + 1) for n in range(max(labels))]))\n",
    "    kr = sum(((observed - theorical) ** 2) / theorical)\n",
    "    crit = stat.chi2.ppf(q=0.05, df=len(observed) - 1)\n",
    "    return kr <= crit, kr, crit\n",
    "\n",
    "def complete_labels(labels, observed):\n",
    "    i = 1\n",
    "    j = 0\n",
    "    n = 1\n",
    "    res = []\n",
    "    while j < len(labels):\n",
    "        label = labels[j]\n",
    "        if i != label:\n",
    "            res.append(0)\n",
    "            n += 1\n",
    "        else:\n",
    "            res.append(observed[i-n])\n",
    "            j += 1\n",
    "        i += 1\n",
    "    return np.array(res)\n",
    "\n",
    "gap_test(e_numbers)"
   ],
   "metadata": {
    "collapsed": false,
    "pycharm": {
     "name": "#%%\n"
    }
   }
  },
  {
   "cell_type": "markdown",
   "source": [
    "## Generateur"
   ],
   "metadata": {
    "collapsed": false
   }
  },
  {
   "cell_type": "code",
   "execution_count": 122,
   "outputs": [
    {
     "data": {
      "text/plain": "[0.5099019513592784,\n 0.99498743710662,\n 0.7280109889280518,\n 0.9273618495495703,\n 0.9695359714832659,\n 0.9110433579144299,\n 0.5099019513592784,\n 0.2,\n 0.10723805294763608,\n 0.11704699910719625,\n 0.8602325267042626,\n 0.15588457268119896,\n 0.0,\n 0.10049875621120889,\n 0.99498743710662,\n 0.17320508075688773,\n 0.9219544457292888,\n 0.6557438524302001,\n 0.5196152422706632,\n 0.5099019513592784,\n 0.0,\n 0.1044030650891055,\n 0.8485281374238569,\n 0.12124355652982141,\n 0.12041594578792296,\n 0.6403124237432849,\n 0.9695359714832659,\n 0.11045361017187261,\n 0.10295630140987,\n 0.34641016151377546,\n 0.6082762530298219,\n 0.10816653826391968,\n 0.8660254037844387,\n 0.13341664064126335,\n 0.13856406460551018,\n 0.7071067811865476,\n 0.7,\n 0.8660254037844387,\n 0.12124355652982141,\n 0.5099019513592784,\n 0.7681145747868607,\n 0.7,\n 0.0,\n 0.7280109889280518,\n 0.3,\n 0.13674794331177345,\n 0.10295630140987,\n 0.8831760866327848,\n 0.9,\n 0.6928203230275509,\n 0.11000000000000001,\n 0.458257569495584,\n 0.10630145812734651,\n 0.5830951894845301,\n 0.10198039027185568,\n 0.10392304845413265,\n 0.9539392014169457,\n 0.15588457268119896,\n 0.10392304845413265,\n 0.9539392014169457,\n 0.12,\n 0.8366600265340756,\n 0.12124355652982141,\n 0.9848857801796104,\n 0.6403124237432849,\n 0.4,\n 0.0,\n 0.4898979485566356,\n 0.7874007874011811,\n 0.11445523142259598,\n 0.10392304845413265,\n 0.0,\n 0.12206555615733702,\n 0.5,\n 0.11704699910719625,\n 0.12083045973594572,\n 0.8602325267042626,\n 0.9,\n 0.6708203932499369,\n 0.8774964387392122,\n 0.11789826122551594,\n 0.7348469228349535,\n 0.15588457268119896,\n 0.6633249580710799,\n 0.9433981132056604,\n 0.12083045973594572,\n 0.469041575982343,\n 0.7810249675906654,\n 0.12124355652982141,\n 0.13856406460551018,\n 0.99498743710662,\n 0.7615773105863909,\n 0.11575836902790226,\n 0.6708203932499369,\n 0.10392304845413265,\n 0.11357816691600546,\n 0.7211102550927978,\n 0.2,\n 0.8246211251235321,\n 0.4,\n 0.2,\n 0.7,\n 0.3741657386773941,\n 0.9219544457292888,\n 0.10392304845413265,\n 0.3,\n 0.938083151964686,\n 0.11045361017187261,\n 0.10816653826391968,\n 0.10344080432788601,\n 0.10488088481701516,\n 0.0,\n 0.0,\n 0.3,\n 0.0,\n 0.7874007874011811,\n 0.4898979485566356,\n 0.6708203932499369,\n 0.9899494936611666,\n 0.1067707825203131,\n 0.3741657386773941,\n 0.1044030650891055,\n 0.12124355652982141,\n 0.5196152422706632,\n 0.7,\n 0.12884098726725127,\n 0.7483314773547882,\n 0.10816653826391968,\n 0.7681145747868607,\n 0.10723805294763608,\n 0.9273618495495703,\n 0.15588457268119896,\n 0.0,\n 0.10392304845413265,\n 0.5196152422706632,\n 0.8660254037844387,\n 0.1118033988749895,\n 0.8717797887081348,\n 0.17320508075688773,\n 0.0,\n 0.0,\n 0.5196152422706632,\n 0.3,\n 0.10392304845413265,\n 0.8660254037844387,\n 0.6,\n 0.754983443527075,\n 0.7280109889280518,\n 0.13928388277184117,\n 0.0,\n 0.8660254037844387,\n 0.12206555615733702,\n 0.9899494936611666,\n 0.10246950765959598,\n 0.8774964387392122,\n 0.0,\n 0.7615773105863909,\n 0.5,\n 0.13856406460551018,\n 0.223606797749979,\n 0.5196152422706632,\n 0.13856406460551018,\n 0.10344080432788601,\n 0.34641016151377546,\n 0.9486832980505138,\n 0.9643650760992954,\n 0.812403840463596,\n 0.10630145812734651,\n 0.7141428428542851,\n 0.6928203230275509,\n 0.17320508075688773,\n 0.4,\n 0.17320508075688773,\n 0.0,\n 0.9539392014169457,\n 0.10392304845413265,\n 0.7280109889280518,\n 0.15588457268119896,\n 0.5196152422706632,\n 0.3,\n 0.15588457268119896,\n 0.6,\n 0.9899494936611666,\n 0.8062257748298549,\n 0.13856406460551018,\n 0.0,\n 0.9219544457292888,\n 0.10488088481701516,\n 0.9,\n 0.11357816691600546,\n 0.9,\n 0.1236931687685298,\n 0.12124355652982141,\n 0.8660254037844387,\n 0.11532562594670796,\n 0.0,\n 0.8062257748298549,\n 0.10295630140987,\n 0.0,\n 1.0,\n 0.6928203230275509,\n 0.10295630140987,\n 0.8774964387392122,\n 0.7681145747868607,\n 0.7874007874011811,\n 0.1307669683062202,\n 0.6557438524302001,\n 0.9695359714832659,\n 0.9433981132056604,\n 0.9273618495495703,\n 0.15588457268119896,\n 0.7681145747868607,\n 0.0,\n 0.12409673645990857,\n 0.0,\n 0.9110433579144299,\n 0.6928203230275509,\n 0.11532562594670796,\n 0.812403840463596,\n 0.0,\n 0.11357816691600546,\n 0.7,\n 0.7,\n 0.12041594578792296,\n 0.10816653826391968,\n 0.7483314773547882,\n 0.1307669683062202,\n 0.8366600265340756,\n 0.9486832980505138,\n 0.13856406460551018,\n 0.12206555615733702,\n 0.8774964387392122,\n 0.12206555615733702,\n 0.10630145812734651,\n 0.15588457268119896,\n 0.0,\n 0.15588457268119896,\n 0.2,\n 0.812403840463596,\n 0.12,\n 0.12124355652982141,\n 0.6,\n 0.8185352771872451,\n 0.4,\n 0.6,\n 0.0,\n 0.10392304845413265,\n 0.6,\n 0.10392304845413265,\n 0.0,\n 0.8306623862918074,\n 0.34641016151377546,\n 0.2,\n 0.6,\n 0.8774964387392122,\n 0.7681145747868607,\n 0.0,\n 0.0,\n 0.8062257748298549,\n 0.7071067811865476,\n 0.6782329983125268,\n 0.5916079783099616,\n 0.5,\n 0.13856406460551018,\n 0.12884098726725127,\n 1.0,\n 0.11000000000000001,\n 0.1067707825203131,\n 0.916515138991168,\n 0.5196152422706632,\n 0.8602325267042626,\n 0.12083045973594572,\n 0.2,\n 0.8831760866327848,\n 0.11532562594670796,\n 0.9433981132056604,\n 0.8306623862918074,\n 0.8602325267042626,\n 0.9273618495495703,\n 0.6928203230275509,\n 0.6480740698407861,\n 0.812403840463596,\n 0.1503329637837291,\n 0.0,\n 0.13856406460551018,\n 0.10049875621120889,\n 0.9643650760992954,\n 0.17320508075688773,\n 0.0,\n 0.5196152422706632,\n 0.7071067811865476,\n 0.12124355652982141,\n 0.6403124237432849,\n 0.6928203230275509,\n 0.6082762530298219,\n 0.15588457268119896,\n 0.34641016151377546,\n 0.0,\n 0.8062257748298549,\n 0.9,\n 0.7071067811865476,\n 0.9433981132056604,\n 0.7874007874011811,\n 0.916515138991168,\n 0.0,\n 0.34641016151377546,\n 0.12767145334803703,\n 0.6928203230275509,\n 0.99498743710662,\n 0.10630145812734651,\n 0.8660254037844387,\n 0.15588457268119896,\n 0.812403840463596,\n 0.0,\n 0.6557438524302001,\n 0.9486832980505138,\n 0.5477225575051661,\n 0.3,\n 0.10049875621120889,\n 0.1307669683062202,\n 0.9433981132056604,\n 0.10198039027185568,\n 0.5099019513592784,\n 0.6928203230275509,\n 0.8660254037844387,\n 0.11000000000000001,\n 0.11445523142259598,\n 0.0,\n 0.0,\n 0.0,\n 0.10049875621120889,\n 0.6928203230275509,\n 0.2,\n 0.0,\n 0.11045361017187261,\n 0.5744562646538028,\n 0.7280109889280518,\n 0.5196152422706632,\n 0.8660254037844387,\n 0.5099019513592784,\n 0.458257569495584,\n 0.9273618495495703,\n 0.5385164807134504,\n 0.5099019513592784,\n 0.0,\n 0.3605551275463989,\n 0.9,\n 0.8062257748298549,\n 0.12449899597988731,\n 0.0,\n 0.9219544457292888,\n 0.6082762530298219,\n 0.8831760866327848,\n 0.9797958971132712,\n 1.0,\n 0.223606797749979,\n 0.9110433579144299,\n 0.10049875621120889,\n 0.0,\n 0.0,\n 0.3741657386773941,\n 0.0,\n 0.9273618495495703,\n 0.11704699910719625,\n 0.5099019513592784,\n 0.8,\n 0.7348469228349535,\n 0.0,\n 0.1236931687685298,\n 0.17320508075688773,\n 0.2,\n 0.7141428428542851,\n 0.11747340124470732,\n 0.11445523142259598,\n 0.12409673645990857,\n 0.7211102550927978,\n 0.3741657386773941,\n 0.12124355652982141,\n 0.0,\n 0.6928203230275509,\n 0.7,\n 0.9695359714832659,\n 0.3,\n 0.0,\n 0.10392304845413265,\n 0.9,\n 0.11224972160321825,\n 0.9,\n 0.7071067811865476,\n 0.10198039027185568,\n 0.5385164807134504,\n 0.0,\n 0.6480740698407861,\n 0.4898979485566356,\n 0.12083045973594572,\n 0.0,\n 0.5196152422706632,\n 0.11916375287812983,\n 0.9899494936611666,\n 0.6324555320336759,\n 0.6782329983125268,\n 0.12884098726725127,\n 0.10344080432788601,\n 0.34641016151377546,\n 0.9273618495495703,\n 0.6782329983125268,\n 0.12409673645990857,\n 0.1330413469565007,\n 0.0,\n 0.5916079783099616,\n 0.8660254037844387,\n 0.9,\n 0.6928203230275509,\n 0.5,\n 0.13038404810405296,\n 0.0,\n 0.5196152422706632,\n 0.11445523142259598,\n 0.5385164807134504,\n 0.34641016151377546,\n 0.5477225575051661,\n 0.8660254037844387,\n 0.5196152422706632,\n 0.9219544457292888,\n 0.7615773105863909,\n 0.11445523142259598,\n 1.0,\n 1.0,\n 0.17320508075688773,\n 0.13856406460551018,\n 0.469041575982343,\n 0.12083045973594572,\n 0.9486832980505138,\n 0.7483314773547882,\n 0.11090536506409418,\n 1.0,\n 0.9433981132056604,\n 0.6928203230275509,\n 0.9848857801796104,\n 0.11224972160321825,\n 0.5,\n 0.0,\n 0.17320508075688773,\n 0.6,\n 0.11224972160321825,\n 0.9433981132056604,\n 0.9433981132056604,\n 0.9539392014169457,\n 0.9486832980505138,\n 0.13038404810405296,\n 0.8602325267042626,\n 0.7,\n 0.0,\n 0.12124355652982141,\n 0.11045361017187261,\n 0.9273618495495703,\n 0.4,\n 0.5830951894845301,\n 0.5099019513592784,\n 0.99498743710662,\n 1.0,\n 0.9486832980505138,\n 0.9695359714832659,\n 0.6,\n 0.5477225575051661,\n 0.11489125293076057,\n 0.12206555615733702,\n 0.916515138991168,\n 0.812403840463596,\n 0.7211102550927978,\n 0.7874007874011811,\n 0.6928203230275509,\n 0.754983443527075,\n 0.5196152422706632,\n 0.8831760866327848,\n 0.0,\n 0.8774964387392122,\n 0.11401754250991378,\n 0.11532562594670796,\n 0.11532562594670796,\n 0.812403840463596,\n 0.6928203230275509,\n 0.6557438524302001,\n 0.10392304845413265,\n 0.9433981132056604,\n 0.9,\n 0.41231056256176607,\n 0.11789826122551594,\n 0.6708203932499369,\n 0.1118033988749895,\n 0.3,\n 0.0,\n 0.0,\n 0.9433981132056604,\n 0.13341664064126335,\n 0.6928203230275509,\n 0.1236931687685298,\n 0.11704699910719625,\n 0.17320508075688773,\n 0.8602325267042626,\n 0.6164414002968976,\n 0.34641016151377546,\n 0.854400374531753,\n 0.10816653826391968,\n 0.11661903789690602,\n 0.11916375287812983,\n 0.7348469228349535,\n 0.9899494936611666,\n 0.41231056256176607,\n 0.10630145812734651,\n 0.8602325267042626,\n 0.7348469228349535,\n 0.8062257748298549,\n 0.223606797749979,\n 0.7071067811865476,\n 0.9,\n 0.7874007874011811,\n 0.99498743710662,\n 0.9273618495495703,\n 0.8774964387392122,\n 0.5830951894845301,\n 0.10392304845413265,\n 0.12449899597988731,\n 0.8185352771872451,\n 0.9486832980505138,\n 0.6928203230275509,\n 0.10770329614269007,\n 0.10049875621120889,\n 0.1268857754044952,\n 0.0,\n 0.10344080432788601,\n 0.8660254037844387,\n 0.4358898943540674,\n 0.11045361017187261,\n 0.8062257748298549,\n 0.41231056256176607,\n 0.10049875621120889,\n 0.9899494936611666,\n 0.11401754250991378,\n 0.13038404810405296,\n 0.6164414002968976,\n 0.10816653826391968,\n 0.13856406460551018,\n 0.0,\n 0.15588457268119896,\n 0.5196152422706632,\n 0.12083045973594572,\n 0.11789826122551594,\n 0.8774964387392122,\n 0.7810249675906654,\n 0.7280109889280518,\n 0.11045361017187261,\n 0.9695359714832659,\n 0.4358898943540674,\n 0.9797958971132712,\n 0.7874007874011811,\n 0.15588457268119896,\n 0.10488088481701516,\n 0.4,\n 0.7348469228349535,\n 0.1407124727947029,\n 0.6928203230275509,\n 0.10392304845413265,\n 0.11357816691600546,\n 0.10723805294763608,\n 0.0,\n 0.9899494936611666,\n 0.11916375287812983,\n 0.7348469228349535,\n 0.0,\n 0.7071067811865476,\n 0.11357816691600546,\n 0.7681145747868607,\n 0.13674794331177345,\n 0.5196152422706632,\n 0.916515138991168,\n 0.9899494936611666,\n 0.2,\n 0.15588457268119896,\n 0.6557438524302001,\n 0.9899494936611666,\n 0.9695359714832659,\n 0.12124355652982141,\n 0.15588457268119896,\n 0.31622776601683794,\n 0.6928203230275509,\n 0.1345362404707371,\n 0.0,\n 0.10392304845413265,\n 0.8774964387392122,\n 0.6782329983125268,\n 0.12206555615733702,\n 0.0,\n 0.9,\n 0.8831760866327848,\n 0.11445523142259598,\n 0.12083045973594572,\n 1.0,\n 0.9273618495495703,\n 0.8717797887081348,\n 0.5196152422706632,\n 0.0,\n 0.17320508075688773,\n 0.42426406871192845,\n 0.3,\n 0.12727922061357855,\n 0.13856406460551018,\n 0.99498743710662,\n 0.34641016151377546,\n 0.0,\n 0.9486832980505138,\n 0.11045361017187261,\n 0.9433981132056604,\n 0.9643650760992954,\n 0.10344080432788601,\n 0.31622776601683794,\n 0.9273618495495703,\n 0.0,\n 0.6082762530298219,\n 0.1236931687685298,\n 0.12124355652982141,\n 0.0,\n 0.9486832980505138,\n 0.15588457268119896,\n 0.11916375287812983,\n 0.8246211251235321,\n 0.12124355652982141,\n 0.6,\n 0.10049875621120889,\n 0.41231056256176607,\n 0.12124355652982141,\n 0.34641016151377546,\n 0.0,\n 0.8831760866327848,\n 0.8,\n 0.5196152422706632,\n 0.13856406460551018,\n 0.6928203230275509,\n 0.3605551275463989,\n 0.11445523142259598,\n 0.7681145747868607,\n 0.11357816691600546,\n 0.6928203230275509,\n 0.7,\n 0.7280109889280518,\n 0.99498743710662,\n 0.0,\n 0.8062257748298549,\n 0.9273618495495703,\n 0.854400374531753,\n 0.8660254037844387,\n 0.9486832980505138,\n 1.0,\n 0.7071067811865476,\n 0.13856406460551018,\n 0.0,\n 0.1268857754044952,\n 0.11747340124470732,\n 0.469041575982343,\n 0.754983443527075,\n 0.8774964387392122,\n 0.8,\n 0.9219544457292888,\n 0.6480740698407861,\n 0.0,\n 0.1268857754044952,\n 0.31622776601683794,\n 0.9899494936611666,\n 0.9,\n 0.8660254037844387,\n 0.12206555615733702,\n 0.8660254037844387,\n 0.10488088481701516,\n 0.12083045973594572,\n 0.5,\n 0.11704699910719625,\n 0.0,\n 0.854400374531753,\n 0.12124355652982141,\n 0.1044030650891055,\n 0.9273618495495703,\n 0.10770329614269007,\n 0.10488088481701516,\n 0.6082762530298219,\n 0.5099019513592784,\n 0.6,\n 0.3,\n 0.31622776601683794,\n 0.7615773105863909,\n 0.34641016151377546,\n 0.0,\n 0.10488088481701516,\n 0.10295630140987,\n 0.5385164807134504,\n 1.0,\n 0.17320508075688773,\n 0.10816653826391968,\n 0.12806248474865697,\n 0.0,\n 0.916515138991168,\n 0.8602325267042626,\n 0.9486832980505138,\n 0.11575836902790226,\n 0.6782329983125268,\n 0.11045361017187261,\n 0.12727922061357855,\n 0.11575836902790226,\n 0.8774964387392122,\n 0.10392304845413265,\n 0.6480740698407861,\n 0.8306623862918074,\n 0.0,\n 0.6928203230275509,\n 0.5099019513592784,\n 0.9899494936611666,\n 0.8602325267042626,\n 0.0,\n 0.6708203932499369,\n 0.9433981132056604,\n 0.6928203230275509,\n 0.5196152422706632,\n 0.9539392014169457,\n 0.8,\n 0.8062257748298549,\n 0.12083045973594572,\n 0.9433981132056604,\n 0.5,\n 0.9,\n 0.7,\n 0.9110433579144299,\n 0.17320508075688773,\n 0.5385164807134504,\n 0.3,\n 0.0,\n 0.1330413469565007,\n 0.1452583904633395,\n 0.10488088481701516,\n 0.9486832980505138,\n 0.1067707825203131,\n 0.7348469228349535,\n 0.6708203932499369,\n 0.5,\n 0.9486832980505138,\n 0.6164414002968976,\n 0.11575836902790226,\n 0.13856406460551018,\n 0.1337908816025965,\n 0.10049875621120889,\n 0.41231056256176607,\n 0.5196152422706632,\n 0.1067707825203131,\n 0.7,\n 0.33166247903553997,\n 0.41231056256176607,\n 0.2,\n 0.8246211251235321,\n 0.9,\n 0.15588457268119896,\n 0.6928203230275509,\n 0.17320508075688773,\n 0.33166247903553997,\n 0.447213595499958,\n 0.0,\n 0.7810249675906654,\n 0.10488088481701516,\n 0.8660254037844387,\n 0.0,\n 0.12083045973594572,\n 0.11045361017187261,\n 0.854400374531753,\n 0.4898979485566356,\n 0.6708203932499369,\n 0.8366600265340756,\n 0.9695359714832659,\n 0.5385164807134504,\n 0.11916375287812983,\n 0.12727922061357855,\n 0.754983443527075,\n 0.11916375287812983,\n 0.0,\n 0.11789826122551594,\n 0.11532562594670796,\n 0.12,\n 0.13038404810405296,\n 0.9643650760992954,\n 0.8485281374238569,\n 0.4,\n 0.9486832980505138,\n 0.11489125293076057,\n 0.9433981132056604,\n 0.1067707825203131,\n 0.5,\n 0.1118033988749895,\n 0.6,\n 0.10344080432788601,\n 0.2,\n 0.223606797749979,\n 0.12,\n 0.7681145747868607,\n 0.6,\n 0.10862780491200215,\n 0.4,\n 0.9219544457292888,\n 0.12124355652982141,\n 0.9433981132056604,\n 0.10392304845413265,\n 0.0,\n 0.12884098726725127,\n 0.5196152422706632,\n 0.12449899597988731,\n 0.9433981132056604,\n 0.13341664064126335,\n 0.6928203230275509,\n 0.458257569495584,\n 0.11916375287812983,\n 0.12124355652982141,\n 0.0,\n 0.7348469228349535,\n 0.9643650760992954,\n 0.15588457268119896,\n 0.7,\n 0.10049875621120889,\n 0.8246211251235321,\n 0.9433981132056604,\n 0.3,\n 0.7348469228349535,\n 0.0,\n 0.15588457268119896,\n 0.0,\n 0.0,\n 0.34641016151377546,\n 0.8660254037844387,\n 0.7681145747868607,\n 0.0,\n 0.34641016151377546,\n 0.9486832980505138,\n 0.0,\n 0.17320508075688773,\n 0.7348469228349535,\n 0.9,\n 0.6928203230275509,\n 0.0,\n 0.7615773105863909,\n 0.3,\n 0.1044030650891055,\n 0.11445523142259598,\n 0.3741657386773941,\n 0.3605551275463989,\n 0.9219544457292888,\n 0.8,\n 0.4,\n 0.6324555320336759,\n 0.31622776601683794,\n 0.9643650760992954,\n 0.11575836902790226,\n 0.1067707825203131,\n 0.9695359714832659,\n 0.10049875621120889,\n 0.0,\n 0.11224972160321825,\n 0.7280109889280518,\n 0.11575836902790226,\n 0.938083151964686,\n 0.12884098726725127,\n 0.10246950765959598,\n 0.7141428428542851,\n 0.8,\n 0.5196152422706632,\n 0.6928203230275509,\n 0.33166247903553997,\n 0.10392304845413265,\n 0.4,\n 0.0,\n 0.10198039027185568,\n 0.1067707825203131,\n 0.10392304845413265,\n 0.10723805294763608,\n 0.8660254037844387,\n 0.5196152422706632,\n 0.6480740698407861,\n 0.11661903789690602,\n 0.9899494936611666,\n 0.0,\n 0.12124355652982141,\n 0.7483314773547882,\n 0.99498743710662,\n 0.9899494936611666,\n 0.33166247903553997,\n 0.31622776601683794,\n 0.9,\n 0.0,\n 0.34641016151377546,\n 0.7348469228349535,\n 0.916515138991168,\n 0.12124355652982141,\n 0.0,\n 0.10295630140987,\n 0.0,\n 0.1118033988749895,\n 0.6,\n 0.5385164807134504,\n 0.10392304845413265,\n 0.469041575982343,\n 0.11045361017187261,\n 0.9899494936611666,\n 0.6324555320336759,\n 0.11357816691600546,\n 0.9273618495495703,\n 0.812403840463596,\n 0.34641016151377546,\n 0.5196152422706632,\n 0.7681145747868607,\n 0.8774964387392122,\n 0.11000000000000001,\n 0.0,\n 0.10295630140987,\n 0.9433981132056604,\n 0.8660254037844387,\n 0.9899494936611666,\n 0.5196152422706632,\n 0.11045361017187261,\n 0.6928203230275509,\n 0.6,\n 0.3,\n 0.8366600265340756,\n 0.7071067811865476,\n 0.1236931687685298,\n 0.0,\n 0.11532562594670796,\n 0.8485281374238569,\n 0.11575836902790226,\n 0.0,\n 0.11357816691600546,\n 0.11532562594670796,\n 0.0,\n 0.9,\n 0.10295630140987,\n 0.0,\n 0.7141428428542851,\n 0.9433981132056604,\n 0.9273618495495703,\n 0.0,\n 0.12206555615733702,\n 0.11357816691600546,\n 0.5099019513592784,\n 0.11000000000000001,\n 0.7874007874011811,\n 0.0,\n 0.5,\n 0.12767145334803703,\n 0.0,\n 1.0,\n 0.5099019513592784,\n 0.8660254037844387,\n 0.13038404810405296,\n 0.1044030650891055,\n 0.10488088481701516,\n 0.7,\n 0.0,\n 0.10049875621120889,\n 0.6082762530298219,\n 0.41231056256176607,\n 0.13928388277184117,\n 0.41231056256176607,\n 0.12083045973594572,\n 0.1067707825203131,\n 0.12124355652982141,\n 0.1452583904633395,\n 0.0,\n 0.8366600265340756,\n 0.9055385138137417,\n 0.8366600265340756,\n 0.3,\n 0.10295630140987,\n 0.6708203932499369,\n 0.9,\n 0.6,\n 0.5099019513592784,\n 0.7348469228349535,\n 0.8246211251235321,\n 0.17320508075688773,\n 0.7071067811865476,\n 0.9273618495495703,\n 0.7,\n 0.6928203230275509,\n 0.894427190999916,\n 0.7348469228349535,\n 0.458257569495584,\n 0.7810249675906654,\n 0.99498743710662,\n 0.5196152422706632,\n 0.8660254037844387,\n 0.10246950765959598,\n 0.0,\n 0.6403124237432849,\n 0.8660254037844387,\n 0.0,\n 0.8306623862918074,\n 0.11575836902790226,\n 0.7211102550927978]"
     },
     "execution_count": 122,
     "metadata": {},
     "output_type": "execute_result"
    }
   ],
   "source": [
    "def generator(n: int = 1):\n",
    "    for i in range(n):\n",
    "        seed = e_numbers[i]\n",
    "        a = len(e_numbers) - seed\n",
    "        c = e_numbers[i + seed]\n",
    "        x = (a * seed + c) % 10\n",
    "        a = len(e_numbers) - x\n",
    "        c = e_numbers[i + x]\n",
    "        y = (a * seed + c) % 10\n",
    "        a = len(e_numbers) - y\n",
    "        c = e_numbers[i + y]\n",
    "        z = (a * seed + c) % 10\n",
    "        res = math.sqrt(x ** 2 + y ** 2 + z ** 2)\n",
    "        while res > 1:\n",
    "            res = res/10\n",
    "        yield res\n",
    "\n",
    "list(generator(1000))"
   ],
   "metadata": {
    "collapsed": false,
    "pycharm": {
     "name": "#%%\n"
    }
   }
  }
 ],
 "metadata": {
  "kernelspec": {
   "display_name": "Python 3",
   "language": "python",
   "name": "python3"
  },
  "language_info": {
   "codemirror_mode": {
    "name": "ipython",
    "version": 2
   },
   "file_extension": ".py",
   "mimetype": "text/x-python",
   "name": "python",
   "nbconvert_exporter": "python",
   "pygments_lexer": "ipython2",
   "version": "2.7.6"
  }
 },
 "nbformat": 4,
 "nbformat_minor": 0
}