{
 "cells": [
  {
   "cell_type": "markdown",
   "metadata": {
    "collapsed": true,
    "pycharm": {
     "name": "#%% md\n"
    }
   },
   "source": [
    "# Simulation - Projet"
   ]
  },
  {
   "cell_type": "markdown",
   "source": [
    "## Importation des modules nécessaires"
   ],
   "metadata": {
    "collapsed": false
   }
  },
  {
   "cell_type": "code",
   "execution_count": 70,
   "outputs": [],
   "source": [
    "import numpy as np\n",
    "import matplotlib.pyplot as plt\n",
    "import scipy.stats as stat\n",
    "import math\n",
    "import seaborn as sns\n",
    "import pandas as pd\n",
    "import random"
   ],
   "metadata": {
    "collapsed": false,
    "pycharm": {
     "name": "#%%\n"
    }
   }
  },
  {
   "cell_type": "markdown",
   "source": [
    "## Répartition des décimales d’exponentielle\n",
    "\n",
    "### Premier aperçu"
   ],
   "metadata": {
    "collapsed": false
   }
  },
  {
   "cell_type": "code",
   "execution_count": 71,
   "outputs": [
    {
     "output_type": "stream",
     "name": "stdout",
     "text": [
      "Les 2.000.000 premières décimales d' exp :\n [7 1 8 ... 0 2 3]\n"
     ]
    }
   ],
   "source": [
    "def e_numbers():\n",
    "    with open(\"exp.txt\", \"r\") as e:\n",
    "        for line in e:\n",
    "            line = line.strip()\n",
    "            if \".\" in line:\n",
    "                line = line.split(\".\")[1]\n",
    "            for c in line:\n",
    "                yield int(c)\n",
    "\n",
    "e_numbers = np.array(list(e_numbers()))\n",
    "print(f'Les 2.000.000 premières décimales d\\' exp :\\n {e_numbers}')"
   ],
   "metadata": {
    "collapsed": false,
    "pycharm": {
     "name": "#%%\n"
    }
   }
  },
  {
   "cell_type": "code",
   "execution_count": 72,
   "outputs": [
    {
     "output_type": "stream",
     "name": "stdout",
     "text": [
      "Les chiffres apparaissant dans les décimales d' exp : \n [0 1 2 3 4 5 6 7 8 9]\nLeur fréquences d'apparition : \n [199093 200171 199471 200361 199923 200285 200395 199789 200098 200414]\n"
     ]
    }
   ],
   "source": [
    "def count_number(data):\n",
    "    values, counts = np.unique(data, return_counts=True)\n",
    "    return values, counts\n",
    "\n",
    "e_labels, e_counts = count_number(e_numbers)\n",
    "print(f'Les chiffres apparaissant dans les décimales d\\' exp : \\n {e_labels}')\n",
    "print(f'Leur fréquences d\\'apparition : \\n {e_counts}')"
   ],
   "metadata": {
    "collapsed": false,
    "pycharm": {
     "name": "#%%\n"
    }
   }
  },
  {
   "cell_type": "code",
   "execution_count": 73,
   "outputs": [
    {
     "output_type": "display_data",
     "data": {
      "text/plain": "<Figure size 432x288 with 1 Axes>",
      "image/svg+xml": "<?xml version=\"1.0\" encoding=\"utf-8\" standalone=\"no\"?>\n<!DOCTYPE svg PUBLIC \"-//W3C//DTD SVG 1.1//EN\"\n  \"http://www.w3.org/Graphics/SVG/1.1/DTD/svg11.dtd\">\n<svg height=\"264.11625pt\" version=\"1.1\" viewBox=\"0 0 408.053125 264.11625\" width=\"408.053125pt\" xmlns=\"http://www.w3.org/2000/svg\" xmlns:xlink=\"http://www.w3.org/1999/xlink\">\n <metadata>\n  <rdf:RDF xmlns:cc=\"http://creativecommons.org/ns#\" xmlns:dc=\"http://purl.org/dc/elements/1.1/\" xmlns:rdf=\"http://www.w3.org/1999/02/22-rdf-syntax-ns#\">\n   <cc:Work>\n    <dc:type rdf:resource=\"http://purl.org/dc/dcmitype/StillImage\"/>\n    <dc:date>2021-05-02T20:11:29.163680</dc:date>\n    <dc:format>image/svg+xml</dc:format>\n    <dc:creator>\n     <cc:Agent>\n      <dc:title>Matplotlib v3.4.1, https://matplotlib.org/</dc:title>\n     </cc:Agent>\n    </dc:creator>\n   </cc:Work>\n  </rdf:RDF>\n </metadata>\n <defs>\n  <style type=\"text/css\">*{stroke-linecap:butt;stroke-linejoin:round;}</style>\n </defs>\n <g id=\"figure_1\">\n  <g id=\"patch_1\">\n   <path d=\"M 0 264.11625 \nL 408.053125 264.11625 \nL 408.053125 0 \nL 0 0 \nz\n\" style=\"fill:none;\"/>\n  </g>\n  <g id=\"axes_1\">\n   <g id=\"patch_2\">\n    <path d=\"M 66.053125 240.238125 \nL 400.853125 240.238125 \nL 400.853125 22.798125 \nL 66.053125 22.798125 \nz\n\" style=\"fill:#ffffff;\"/>\n   </g>\n   <g id=\"patch_3\">\n    <path clip-path=\"url(#pe1252ddaf7)\" d=\"M 81.271307 240.238125 \nL 106.117318 240.238125 \nL 106.117318 34.517386 \nL 81.271307 34.517386 \nz\n\" style=\"fill:#98fb98;\"/>\n   </g>\n   <g id=\"patch_4\">\n    <path clip-path=\"url(#pe1252ddaf7)\" d=\"M 112.328821 240.238125 \nL 137.174832 240.238125 \nL 137.174832 33.4035 \nL 112.328821 33.4035 \nz\n\" style=\"fill:#98fb98;\"/>\n   </g>\n   <g id=\"patch_5\">\n    <path clip-path=\"url(#pe1252ddaf7)\" d=\"M 143.386335 240.238125 \nL 168.232346 240.238125 \nL 168.232346 34.126803 \nL 143.386335 34.126803 \nz\n\" style=\"fill:#98fb98;\"/>\n   </g>\n   <g id=\"patch_6\">\n    <path clip-path=\"url(#pe1252ddaf7)\" d=\"M 174.443849 240.238125 \nL 199.28986 240.238125 \nL 199.28986 33.207175 \nL 174.443849 33.207175 \nz\n\" style=\"fill:#98fb98;\"/>\n   </g>\n   <g id=\"patch_7\">\n    <path clip-path=\"url(#pe1252ddaf7)\" d=\"M 205.501362 240.238125 \nL 230.347374 240.238125 \nL 230.347374 33.659756 \nL 205.501362 33.659756 \nz\n\" style=\"fill:#98fb98;\"/>\n   </g>\n   <g id=\"patch_8\">\n    <path clip-path=\"url(#pe1252ddaf7)\" d=\"M 236.558876 240.238125 \nL 261.404888 240.238125 \nL 261.404888 33.285705 \nL 236.558876 33.285705 \nz\n\" style=\"fill:#98fb98;\"/>\n   </g>\n   <g id=\"patch_9\">\n    <path clip-path=\"url(#pe1252ddaf7)\" d=\"M 267.61639 240.238125 \nL 292.462401 240.238125 \nL 292.462401 33.172043 \nL 267.61639 33.172043 \nz\n\" style=\"fill:#98fb98;\"/>\n   </g>\n   <g id=\"patch_10\">\n    <path clip-path=\"url(#pe1252ddaf7)\" d=\"M 298.673904 240.238125 \nL 323.519915 240.238125 \nL 323.519915 33.798217 \nL 298.673904 33.798217 \nz\n\" style=\"fill:#98fb98;\"/>\n   </g>\n   <g id=\"patch_11\">\n    <path clip-path=\"url(#pe1252ddaf7)\" d=\"M 329.731418 240.238125 \nL 354.577429 240.238125 \nL 354.577429 33.47893 \nL 329.731418 33.47893 \nz\n\" style=\"fill:#98fb98;\"/>\n   </g>\n   <g id=\"patch_12\">\n    <path clip-path=\"url(#pe1252ddaf7)\" d=\"M 360.788932 240.238125 \nL 385.634943 240.238125 \nL 385.634943 33.152411 \nL 360.788932 33.152411 \nz\n\" style=\"fill:#98fb98;\"/>\n   </g>\n   <g id=\"matplotlib.axis_1\">\n    <g id=\"xtick_1\">\n     <g id=\"line2d_1\">\n      <defs>\n       <path d=\"M 0 0 \nL 0 3.5 \n\" id=\"mbbfc17fcd6\" style=\"stroke:#000000;stroke-width:0.8;\"/>\n      </defs>\n      <g>\n       <use style=\"stroke:#000000;stroke-width:0.8;\" x=\"93.694312\" xlink:href=\"#mbbfc17fcd6\" y=\"240.238125\"/>\n      </g>\n     </g>\n     <g id=\"text_1\">\n      <!-- 0 -->\n      <g transform=\"translate(90.513062 254.836562)scale(0.1 -0.1)\">\n       <defs>\n        <path d=\"M 2034 4250 \nQ 1547 4250 1301 3770 \nQ 1056 3291 1056 2328 \nQ 1056 1369 1301 889 \nQ 1547 409 2034 409 \nQ 2525 409 2770 889 \nQ 3016 1369 3016 2328 \nQ 3016 3291 2770 3770 \nQ 2525 4250 2034 4250 \nz\nM 2034 4750 \nQ 2819 4750 3233 4129 \nQ 3647 3509 3647 2328 \nQ 3647 1150 3233 529 \nQ 2819 -91 2034 -91 \nQ 1250 -91 836 529 \nQ 422 1150 422 2328 \nQ 422 3509 836 4129 \nQ 1250 4750 2034 4750 \nz\n\" id=\"DejaVuSans-30\" transform=\"scale(0.015625)\"/>\n       </defs>\n       <use xlink:href=\"#DejaVuSans-30\"/>\n      </g>\n     </g>\n    </g>\n    <g id=\"xtick_2\">\n     <g id=\"line2d_2\">\n      <g>\n       <use style=\"stroke:#000000;stroke-width:0.8;\" x=\"155.80934\" xlink:href=\"#mbbfc17fcd6\" y=\"240.238125\"/>\n      </g>\n     </g>\n     <g id=\"text_2\">\n      <!-- 2 -->\n      <g transform=\"translate(152.62809 254.836562)scale(0.1 -0.1)\">\n       <defs>\n        <path d=\"M 1228 531 \nL 3431 531 \nL 3431 0 \nL 469 0 \nL 469 531 \nQ 828 903 1448 1529 \nQ 2069 2156 2228 2338 \nQ 2531 2678 2651 2914 \nQ 2772 3150 2772 3378 \nQ 2772 3750 2511 3984 \nQ 2250 4219 1831 4219 \nQ 1534 4219 1204 4116 \nQ 875 4013 500 3803 \nL 500 4441 \nQ 881 4594 1212 4672 \nQ 1544 4750 1819 4750 \nQ 2544 4750 2975 4387 \nQ 3406 4025 3406 3419 \nQ 3406 3131 3298 2873 \nQ 3191 2616 2906 2266 \nQ 2828 2175 2409 1742 \nQ 1991 1309 1228 531 \nz\n\" id=\"DejaVuSans-32\" transform=\"scale(0.015625)\"/>\n       </defs>\n       <use xlink:href=\"#DejaVuSans-32\"/>\n      </g>\n     </g>\n    </g>\n    <g id=\"xtick_3\">\n     <g id=\"line2d_3\">\n      <g>\n       <use style=\"stroke:#000000;stroke-width:0.8;\" x=\"217.924368\" xlink:href=\"#mbbfc17fcd6\" y=\"240.238125\"/>\n      </g>\n     </g>\n     <g id=\"text_3\">\n      <!-- 4 -->\n      <g transform=\"translate(214.743118 254.836562)scale(0.1 -0.1)\">\n       <defs>\n        <path d=\"M 2419 4116 \nL 825 1625 \nL 2419 1625 \nL 2419 4116 \nz\nM 2253 4666 \nL 3047 4666 \nL 3047 1625 \nL 3713 1625 \nL 3713 1100 \nL 3047 1100 \nL 3047 0 \nL 2419 0 \nL 2419 1100 \nL 313 1100 \nL 313 1709 \nL 2253 4666 \nz\n\" id=\"DejaVuSans-34\" transform=\"scale(0.015625)\"/>\n       </defs>\n       <use xlink:href=\"#DejaVuSans-34\"/>\n      </g>\n     </g>\n    </g>\n    <g id=\"xtick_4\">\n     <g id=\"line2d_4\">\n      <g>\n       <use style=\"stroke:#000000;stroke-width:0.8;\" x=\"280.039396\" xlink:href=\"#mbbfc17fcd6\" y=\"240.238125\"/>\n      </g>\n     </g>\n     <g id=\"text_4\">\n      <!-- 6 -->\n      <g transform=\"translate(276.858146 254.836562)scale(0.1 -0.1)\">\n       <defs>\n        <path d=\"M 2113 2584 \nQ 1688 2584 1439 2293 \nQ 1191 2003 1191 1497 \nQ 1191 994 1439 701 \nQ 1688 409 2113 409 \nQ 2538 409 2786 701 \nQ 3034 994 3034 1497 \nQ 3034 2003 2786 2293 \nQ 2538 2584 2113 2584 \nz\nM 3366 4563 \nL 3366 3988 \nQ 3128 4100 2886 4159 \nQ 2644 4219 2406 4219 \nQ 1781 4219 1451 3797 \nQ 1122 3375 1075 2522 \nQ 1259 2794 1537 2939 \nQ 1816 3084 2150 3084 \nQ 2853 3084 3261 2657 \nQ 3669 2231 3669 1497 \nQ 3669 778 3244 343 \nQ 2819 -91 2113 -91 \nQ 1303 -91 875 529 \nQ 447 1150 447 2328 \nQ 447 3434 972 4092 \nQ 1497 4750 2381 4750 \nQ 2619 4750 2861 4703 \nQ 3103 4656 3366 4563 \nz\n\" id=\"DejaVuSans-36\" transform=\"scale(0.015625)\"/>\n       </defs>\n       <use xlink:href=\"#DejaVuSans-36\"/>\n      </g>\n     </g>\n    </g>\n    <g id=\"xtick_5\">\n     <g id=\"line2d_5\">\n      <g>\n       <use style=\"stroke:#000000;stroke-width:0.8;\" x=\"342.154424\" xlink:href=\"#mbbfc17fcd6\" y=\"240.238125\"/>\n      </g>\n     </g>\n     <g id=\"text_5\">\n      <!-- 8 -->\n      <g transform=\"translate(338.973174 254.836562)scale(0.1 -0.1)\">\n       <defs>\n        <path d=\"M 2034 2216 \nQ 1584 2216 1326 1975 \nQ 1069 1734 1069 1313 \nQ 1069 891 1326 650 \nQ 1584 409 2034 409 \nQ 2484 409 2743 651 \nQ 3003 894 3003 1313 \nQ 3003 1734 2745 1975 \nQ 2488 2216 2034 2216 \nz\nM 1403 2484 \nQ 997 2584 770 2862 \nQ 544 3141 544 3541 \nQ 544 4100 942 4425 \nQ 1341 4750 2034 4750 \nQ 2731 4750 3128 4425 \nQ 3525 4100 3525 3541 \nQ 3525 3141 3298 2862 \nQ 3072 2584 2669 2484 \nQ 3125 2378 3379 2068 \nQ 3634 1759 3634 1313 \nQ 3634 634 3220 271 \nQ 2806 -91 2034 -91 \nQ 1263 -91 848 271 \nQ 434 634 434 1313 \nQ 434 1759 690 2068 \nQ 947 2378 1403 2484 \nz\nM 1172 3481 \nQ 1172 3119 1398 2916 \nQ 1625 2713 2034 2713 \nQ 2441 2713 2670 2916 \nQ 2900 3119 2900 3481 \nQ 2900 3844 2670 4047 \nQ 2441 4250 2034 4250 \nQ 1625 4250 1398 4047 \nQ 1172 3844 1172 3481 \nz\n\" id=\"DejaVuSans-38\" transform=\"scale(0.015625)\"/>\n       </defs>\n       <use xlink:href=\"#DejaVuSans-38\"/>\n      </g>\n     </g>\n    </g>\n   </g>\n   <g id=\"matplotlib.axis_2\">\n    <g id=\"ytick_1\">\n     <g id=\"line2d_6\">\n      <defs>\n       <path d=\"M 0 0 \nL -3.5 0 \n\" id=\"m2aa9863a67\" style=\"stroke:#000000;stroke-width:0.8;\"/>\n      </defs>\n      <g>\n       <use style=\"stroke:#000000;stroke-width:0.8;\" x=\"66.053125\" xlink:href=\"#m2aa9863a67\" y=\"240.238125\"/>\n      </g>\n     </g>\n     <g id=\"text_6\">\n      <!-- 0 -->\n      <g transform=\"translate(52.690625 244.037344)scale(0.1 -0.1)\">\n       <use xlink:href=\"#DejaVuSans-30\"/>\n      </g>\n     </g>\n    </g>\n    <g id=\"ytick_2\">\n     <g id=\"line2d_7\">\n      <g>\n       <use style=\"stroke:#000000;stroke-width:0.8;\" x=\"66.053125\" xlink:href=\"#m2aa9863a67\" y=\"214.405883\"/>\n      </g>\n     </g>\n     <g id=\"text_7\">\n      <!-- 25000 -->\n      <g transform=\"translate(27.240625 218.205102)scale(0.1 -0.1)\">\n       <defs>\n        <path d=\"M 691 4666 \nL 3169 4666 \nL 3169 4134 \nL 1269 4134 \nL 1269 2991 \nQ 1406 3038 1543 3061 \nQ 1681 3084 1819 3084 \nQ 2600 3084 3056 2656 \nQ 3513 2228 3513 1497 \nQ 3513 744 3044 326 \nQ 2575 -91 1722 -91 \nQ 1428 -91 1123 -41 \nQ 819 9 494 109 \nL 494 744 \nQ 775 591 1075 516 \nQ 1375 441 1709 441 \nQ 2250 441 2565 725 \nQ 2881 1009 2881 1497 \nQ 2881 1984 2565 2268 \nQ 2250 2553 1709 2553 \nQ 1456 2553 1204 2497 \nQ 953 2441 691 2322 \nL 691 4666 \nz\n\" id=\"DejaVuSans-35\" transform=\"scale(0.015625)\"/>\n       </defs>\n       <use xlink:href=\"#DejaVuSans-32\"/>\n       <use x=\"63.623047\" xlink:href=\"#DejaVuSans-35\"/>\n       <use x=\"127.246094\" xlink:href=\"#DejaVuSans-30\"/>\n       <use x=\"190.869141\" xlink:href=\"#DejaVuSans-30\"/>\n       <use x=\"254.492188\" xlink:href=\"#DejaVuSans-30\"/>\n      </g>\n     </g>\n    </g>\n    <g id=\"ytick_3\">\n     <g id=\"line2d_8\">\n      <g>\n       <use style=\"stroke:#000000;stroke-width:0.8;\" x=\"66.053125\" xlink:href=\"#m2aa9863a67\" y=\"188.573642\"/>\n      </g>\n     </g>\n     <g id=\"text_8\">\n      <!-- 50000 -->\n      <g transform=\"translate(27.240625 192.372861)scale(0.1 -0.1)\">\n       <use xlink:href=\"#DejaVuSans-35\"/>\n       <use x=\"63.623047\" xlink:href=\"#DejaVuSans-30\"/>\n       <use x=\"127.246094\" xlink:href=\"#DejaVuSans-30\"/>\n       <use x=\"190.869141\" xlink:href=\"#DejaVuSans-30\"/>\n       <use x=\"254.492188\" xlink:href=\"#DejaVuSans-30\"/>\n      </g>\n     </g>\n    </g>\n    <g id=\"ytick_4\">\n     <g id=\"line2d_9\">\n      <g>\n       <use style=\"stroke:#000000;stroke-width:0.8;\" x=\"66.053125\" xlink:href=\"#m2aa9863a67\" y=\"162.7414\"/>\n      </g>\n     </g>\n     <g id=\"text_9\">\n      <!-- 75000 -->\n      <g transform=\"translate(27.240625 166.540619)scale(0.1 -0.1)\">\n       <defs>\n        <path d=\"M 525 4666 \nL 3525 4666 \nL 3525 4397 \nL 1831 0 \nL 1172 0 \nL 2766 4134 \nL 525 4134 \nL 525 4666 \nz\n\" id=\"DejaVuSans-37\" transform=\"scale(0.015625)\"/>\n       </defs>\n       <use xlink:href=\"#DejaVuSans-37\"/>\n       <use x=\"63.623047\" xlink:href=\"#DejaVuSans-35\"/>\n       <use x=\"127.246094\" xlink:href=\"#DejaVuSans-30\"/>\n       <use x=\"190.869141\" xlink:href=\"#DejaVuSans-30\"/>\n       <use x=\"254.492188\" xlink:href=\"#DejaVuSans-30\"/>\n      </g>\n     </g>\n    </g>\n    <g id=\"ytick_5\">\n     <g id=\"line2d_10\">\n      <g>\n       <use style=\"stroke:#000000;stroke-width:0.8;\" x=\"66.053125\" xlink:href=\"#m2aa9863a67\" y=\"136.909159\"/>\n      </g>\n     </g>\n     <g id=\"text_10\">\n      <!-- 100000 -->\n      <g transform=\"translate(20.878125 140.708378)scale(0.1 -0.1)\">\n       <defs>\n        <path d=\"M 794 531 \nL 1825 531 \nL 1825 4091 \nL 703 3866 \nL 703 4441 \nL 1819 4666 \nL 2450 4666 \nL 2450 531 \nL 3481 531 \nL 3481 0 \nL 794 0 \nL 794 531 \nz\n\" id=\"DejaVuSans-31\" transform=\"scale(0.015625)\"/>\n       </defs>\n       <use xlink:href=\"#DejaVuSans-31\"/>\n       <use x=\"63.623047\" xlink:href=\"#DejaVuSans-30\"/>\n       <use x=\"127.246094\" xlink:href=\"#DejaVuSans-30\"/>\n       <use x=\"190.869141\" xlink:href=\"#DejaVuSans-30\"/>\n       <use x=\"254.492188\" xlink:href=\"#DejaVuSans-30\"/>\n       <use x=\"318.115234\" xlink:href=\"#DejaVuSans-30\"/>\n      </g>\n     </g>\n    </g>\n    <g id=\"ytick_6\">\n     <g id=\"line2d_11\">\n      <g>\n       <use style=\"stroke:#000000;stroke-width:0.8;\" x=\"66.053125\" xlink:href=\"#m2aa9863a67\" y=\"111.076917\"/>\n      </g>\n     </g>\n     <g id=\"text_11\">\n      <!-- 125000 -->\n      <g transform=\"translate(20.878125 114.876136)scale(0.1 -0.1)\">\n       <use xlink:href=\"#DejaVuSans-31\"/>\n       <use x=\"63.623047\" xlink:href=\"#DejaVuSans-32\"/>\n       <use x=\"127.246094\" xlink:href=\"#DejaVuSans-35\"/>\n       <use x=\"190.869141\" xlink:href=\"#DejaVuSans-30\"/>\n       <use x=\"254.492188\" xlink:href=\"#DejaVuSans-30\"/>\n       <use x=\"318.115234\" xlink:href=\"#DejaVuSans-30\"/>\n      </g>\n     </g>\n    </g>\n    <g id=\"ytick_7\">\n     <g id=\"line2d_12\">\n      <g>\n       <use style=\"stroke:#000000;stroke-width:0.8;\" x=\"66.053125\" xlink:href=\"#m2aa9863a67\" y=\"85.244676\"/>\n      </g>\n     </g>\n     <g id=\"text_12\">\n      <!-- 150000 -->\n      <g transform=\"translate(20.878125 89.043894)scale(0.1 -0.1)\">\n       <use xlink:href=\"#DejaVuSans-31\"/>\n       <use x=\"63.623047\" xlink:href=\"#DejaVuSans-35\"/>\n       <use x=\"127.246094\" xlink:href=\"#DejaVuSans-30\"/>\n       <use x=\"190.869141\" xlink:href=\"#DejaVuSans-30\"/>\n       <use x=\"254.492188\" xlink:href=\"#DejaVuSans-30\"/>\n       <use x=\"318.115234\" xlink:href=\"#DejaVuSans-30\"/>\n      </g>\n     </g>\n    </g>\n    <g id=\"ytick_8\">\n     <g id=\"line2d_13\">\n      <g>\n       <use style=\"stroke:#000000;stroke-width:0.8;\" x=\"66.053125\" xlink:href=\"#m2aa9863a67\" y=\"59.412434\"/>\n      </g>\n     </g>\n     <g id=\"text_13\">\n      <!-- 175000 -->\n      <g transform=\"translate(20.878125 63.211653)scale(0.1 -0.1)\">\n       <use xlink:href=\"#DejaVuSans-31\"/>\n       <use x=\"63.623047\" xlink:href=\"#DejaVuSans-37\"/>\n       <use x=\"127.246094\" xlink:href=\"#DejaVuSans-35\"/>\n       <use x=\"190.869141\" xlink:href=\"#DejaVuSans-30\"/>\n       <use x=\"254.492188\" xlink:href=\"#DejaVuSans-30\"/>\n       <use x=\"318.115234\" xlink:href=\"#DejaVuSans-30\"/>\n      </g>\n     </g>\n    </g>\n    <g id=\"ytick_9\">\n     <g id=\"line2d_14\">\n      <g>\n       <use style=\"stroke:#000000;stroke-width:0.8;\" x=\"66.053125\" xlink:href=\"#m2aa9863a67\" y=\"33.580193\"/>\n      </g>\n     </g>\n     <g id=\"text_14\">\n      <!-- 200000 -->\n      <g transform=\"translate(20.878125 37.379411)scale(0.1 -0.1)\">\n       <use xlink:href=\"#DejaVuSans-32\"/>\n       <use x=\"63.623047\" xlink:href=\"#DejaVuSans-30\"/>\n       <use x=\"127.246094\" xlink:href=\"#DejaVuSans-30\"/>\n       <use x=\"190.869141\" xlink:href=\"#DejaVuSans-30\"/>\n       <use x=\"254.492188\" xlink:href=\"#DejaVuSans-30\"/>\n       <use x=\"318.115234\" xlink:href=\"#DejaVuSans-30\"/>\n      </g>\n     </g>\n    </g>\n    <g id=\"text_15\">\n     <!-- Count -->\n     <g transform=\"translate(14.798438 146.366562)rotate(-90)scale(0.1 -0.1)\">\n      <defs>\n       <path d=\"M 4122 4306 \nL 4122 3641 \nQ 3803 3938 3442 4084 \nQ 3081 4231 2675 4231 \nQ 1875 4231 1450 3742 \nQ 1025 3253 1025 2328 \nQ 1025 1406 1450 917 \nQ 1875 428 2675 428 \nQ 3081 428 3442 575 \nQ 3803 722 4122 1019 \nL 4122 359 \nQ 3791 134 3420 21 \nQ 3050 -91 2638 -91 \nQ 1578 -91 968 557 \nQ 359 1206 359 2328 \nQ 359 3453 968 4101 \nQ 1578 4750 2638 4750 \nQ 3056 4750 3426 4639 \nQ 3797 4528 4122 4306 \nz\n\" id=\"DejaVuSans-43\" transform=\"scale(0.015625)\"/>\n       <path d=\"M 1959 3097 \nQ 1497 3097 1228 2736 \nQ 959 2375 959 1747 \nQ 959 1119 1226 758 \nQ 1494 397 1959 397 \nQ 2419 397 2687 759 \nQ 2956 1122 2956 1747 \nQ 2956 2369 2687 2733 \nQ 2419 3097 1959 3097 \nz\nM 1959 3584 \nQ 2709 3584 3137 3096 \nQ 3566 2609 3566 1747 \nQ 3566 888 3137 398 \nQ 2709 -91 1959 -91 \nQ 1206 -91 779 398 \nQ 353 888 353 1747 \nQ 353 2609 779 3096 \nQ 1206 3584 1959 3584 \nz\n\" id=\"DejaVuSans-6f\" transform=\"scale(0.015625)\"/>\n       <path d=\"M 544 1381 \nL 544 3500 \nL 1119 3500 \nL 1119 1403 \nQ 1119 906 1312 657 \nQ 1506 409 1894 409 \nQ 2359 409 2629 706 \nQ 2900 1003 2900 1516 \nL 2900 3500 \nL 3475 3500 \nL 3475 0 \nL 2900 0 \nL 2900 538 \nQ 2691 219 2414 64 \nQ 2138 -91 1772 -91 \nQ 1169 -91 856 284 \nQ 544 659 544 1381 \nz\nM 1991 3584 \nL 1991 3584 \nz\n\" id=\"DejaVuSans-75\" transform=\"scale(0.015625)\"/>\n       <path d=\"M 3513 2113 \nL 3513 0 \nL 2938 0 \nL 2938 2094 \nQ 2938 2591 2744 2837 \nQ 2550 3084 2163 3084 \nQ 1697 3084 1428 2787 \nQ 1159 2491 1159 1978 \nL 1159 0 \nL 581 0 \nL 581 3500 \nL 1159 3500 \nL 1159 2956 \nQ 1366 3272 1645 3428 \nQ 1925 3584 2291 3584 \nQ 2894 3584 3203 3211 \nQ 3513 2838 3513 2113 \nz\n\" id=\"DejaVuSans-6e\" transform=\"scale(0.015625)\"/>\n       <path d=\"M 1172 4494 \nL 1172 3500 \nL 2356 3500 \nL 2356 3053 \nL 1172 3053 \nL 1172 1153 \nQ 1172 725 1289 603 \nQ 1406 481 1766 481 \nL 2356 481 \nL 2356 0 \nL 1766 0 \nQ 1100 0 847 248 \nQ 594 497 594 1153 \nL 594 3053 \nL 172 3053 \nL 172 3500 \nL 594 3500 \nL 594 4494 \nL 1172 4494 \nz\n\" id=\"DejaVuSans-74\" transform=\"scale(0.015625)\"/>\n      </defs>\n      <use xlink:href=\"#DejaVuSans-43\"/>\n      <use x=\"69.824219\" xlink:href=\"#DejaVuSans-6f\"/>\n      <use x=\"131.005859\" xlink:href=\"#DejaVuSans-75\"/>\n      <use x=\"194.384766\" xlink:href=\"#DejaVuSans-6e\"/>\n      <use x=\"257.763672\" xlink:href=\"#DejaVuSans-74\"/>\n     </g>\n    </g>\n   </g>\n   <g id=\"patch_13\">\n    <path d=\"M 66.053125 240.238125 \nL 66.053125 22.798125 \n\" style=\"fill:none;stroke:#000000;stroke-linecap:square;stroke-linejoin:miter;stroke-width:0.8;\"/>\n   </g>\n   <g id=\"patch_14\">\n    <path d=\"M 400.853125 240.238125 \nL 400.853125 22.798125 \n\" style=\"fill:none;stroke:#000000;stroke-linecap:square;stroke-linejoin:miter;stroke-width:0.8;\"/>\n   </g>\n   <g id=\"patch_15\">\n    <path d=\"M 66.053125 240.238125 \nL 400.853125 240.238125 \n\" style=\"fill:none;stroke:#000000;stroke-linecap:square;stroke-linejoin:miter;stroke-width:0.8;\"/>\n   </g>\n   <g id=\"patch_16\">\n    <path d=\"M 66.053125 22.798125 \nL 400.853125 22.798125 \n\" style=\"fill:none;stroke:#000000;stroke-linecap:square;stroke-linejoin:miter;stroke-width:0.8;\"/>\n   </g>\n   <g id=\"text_16\">\n    <!-- Répartition des décimales de l'exponentielle -->\n    <g transform=\"translate(100.2025 16.798125)scale(0.12 -0.12)\">\n     <defs>\n      <path d=\"M 2841 2188 \nQ 3044 2119 3236 1894 \nQ 3428 1669 3622 1275 \nL 4263 0 \nL 3584 0 \nL 2988 1197 \nQ 2756 1666 2539 1819 \nQ 2322 1972 1947 1972 \nL 1259 1972 \nL 1259 0 \nL 628 0 \nL 628 4666 \nL 2053 4666 \nQ 2853 4666 3247 4331 \nQ 3641 3997 3641 3322 \nQ 3641 2881 3436 2590 \nQ 3231 2300 2841 2188 \nz\nM 1259 4147 \nL 1259 2491 \nL 2053 2491 \nQ 2509 2491 2742 2702 \nQ 2975 2913 2975 3322 \nQ 2975 3731 2742 3939 \nQ 2509 4147 2053 4147 \nL 1259 4147 \nz\n\" id=\"DejaVuSans-52\" transform=\"scale(0.015625)\"/>\n      <path d=\"M 3597 1894 \nL 3597 1613 \nL 953 1613 \nQ 991 1019 1311 708 \nQ 1631 397 2203 397 \nQ 2534 397 2845 478 \nQ 3156 559 3463 722 \nL 3463 178 \nQ 3153 47 2828 -22 \nQ 2503 -91 2169 -91 \nQ 1331 -91 842 396 \nQ 353 884 353 1716 \nQ 353 2575 817 3079 \nQ 1281 3584 2069 3584 \nQ 2775 3584 3186 3129 \nQ 3597 2675 3597 1894 \nz\nM 3022 2063 \nQ 3016 2534 2758 2815 \nQ 2500 3097 2075 3097 \nQ 1594 3097 1305 2825 \nQ 1016 2553 972 2059 \nL 3022 2063 \nz\nM 2469 5119 \nL 3091 5119 \nL 2072 3944 \nL 1594 3944 \nL 2469 5119 \nz\n\" id=\"DejaVuSans-e9\" transform=\"scale(0.015625)\"/>\n      <path d=\"M 1159 525 \nL 1159 -1331 \nL 581 -1331 \nL 581 3500 \nL 1159 3500 \nL 1159 2969 \nQ 1341 3281 1617 3432 \nQ 1894 3584 2278 3584 \nQ 2916 3584 3314 3078 \nQ 3713 2572 3713 1747 \nQ 3713 922 3314 415 \nQ 2916 -91 2278 -91 \nQ 1894 -91 1617 61 \nQ 1341 213 1159 525 \nz\nM 3116 1747 \nQ 3116 2381 2855 2742 \nQ 2594 3103 2138 3103 \nQ 1681 3103 1420 2742 \nQ 1159 2381 1159 1747 \nQ 1159 1113 1420 752 \nQ 1681 391 2138 391 \nQ 2594 391 2855 752 \nQ 3116 1113 3116 1747 \nz\n\" id=\"DejaVuSans-70\" transform=\"scale(0.015625)\"/>\n      <path d=\"M 2194 1759 \nQ 1497 1759 1228 1600 \nQ 959 1441 959 1056 \nQ 959 750 1161 570 \nQ 1363 391 1709 391 \nQ 2188 391 2477 730 \nQ 2766 1069 2766 1631 \nL 2766 1759 \nL 2194 1759 \nz\nM 3341 1997 \nL 3341 0 \nL 2766 0 \nL 2766 531 \nQ 2569 213 2275 61 \nQ 1981 -91 1556 -91 \nQ 1019 -91 701 211 \nQ 384 513 384 1019 \nQ 384 1609 779 1909 \nQ 1175 2209 1959 2209 \nL 2766 2209 \nL 2766 2266 \nQ 2766 2663 2505 2880 \nQ 2244 3097 1772 3097 \nQ 1472 3097 1187 3025 \nQ 903 2953 641 2809 \nL 641 3341 \nQ 956 3463 1253 3523 \nQ 1550 3584 1831 3584 \nQ 2591 3584 2966 3190 \nQ 3341 2797 3341 1997 \nz\n\" id=\"DejaVuSans-61\" transform=\"scale(0.015625)\"/>\n      <path d=\"M 2631 2963 \nQ 2534 3019 2420 3045 \nQ 2306 3072 2169 3072 \nQ 1681 3072 1420 2755 \nQ 1159 2438 1159 1844 \nL 1159 0 \nL 581 0 \nL 581 3500 \nL 1159 3500 \nL 1159 2956 \nQ 1341 3275 1631 3429 \nQ 1922 3584 2338 3584 \nQ 2397 3584 2469 3576 \nQ 2541 3569 2628 3553 \nL 2631 2963 \nz\n\" id=\"DejaVuSans-72\" transform=\"scale(0.015625)\"/>\n      <path d=\"M 603 3500 \nL 1178 3500 \nL 1178 0 \nL 603 0 \nL 603 3500 \nz\nM 603 4863 \nL 1178 4863 \nL 1178 4134 \nL 603 4134 \nL 603 4863 \nz\n\" id=\"DejaVuSans-69\" transform=\"scale(0.015625)\"/>\n      <path id=\"DejaVuSans-20\" transform=\"scale(0.015625)\"/>\n      <path d=\"M 2906 2969 \nL 2906 4863 \nL 3481 4863 \nL 3481 0 \nL 2906 0 \nL 2906 525 \nQ 2725 213 2448 61 \nQ 2172 -91 1784 -91 \nQ 1150 -91 751 415 \nQ 353 922 353 1747 \nQ 353 2572 751 3078 \nQ 1150 3584 1784 3584 \nQ 2172 3584 2448 3432 \nQ 2725 3281 2906 2969 \nz\nM 947 1747 \nQ 947 1113 1208 752 \nQ 1469 391 1925 391 \nQ 2381 391 2643 752 \nQ 2906 1113 2906 1747 \nQ 2906 2381 2643 2742 \nQ 2381 3103 1925 3103 \nQ 1469 3103 1208 2742 \nQ 947 2381 947 1747 \nz\n\" id=\"DejaVuSans-64\" transform=\"scale(0.015625)\"/>\n      <path d=\"M 3597 1894 \nL 3597 1613 \nL 953 1613 \nQ 991 1019 1311 708 \nQ 1631 397 2203 397 \nQ 2534 397 2845 478 \nQ 3156 559 3463 722 \nL 3463 178 \nQ 3153 47 2828 -22 \nQ 2503 -91 2169 -91 \nQ 1331 -91 842 396 \nQ 353 884 353 1716 \nQ 353 2575 817 3079 \nQ 1281 3584 2069 3584 \nQ 2775 3584 3186 3129 \nQ 3597 2675 3597 1894 \nz\nM 3022 2063 \nQ 3016 2534 2758 2815 \nQ 2500 3097 2075 3097 \nQ 1594 3097 1305 2825 \nQ 1016 2553 972 2059 \nL 3022 2063 \nz\n\" id=\"DejaVuSans-65\" transform=\"scale(0.015625)\"/>\n      <path d=\"M 2834 3397 \nL 2834 2853 \nQ 2591 2978 2328 3040 \nQ 2066 3103 1784 3103 \nQ 1356 3103 1142 2972 \nQ 928 2841 928 2578 \nQ 928 2378 1081 2264 \nQ 1234 2150 1697 2047 \nL 1894 2003 \nQ 2506 1872 2764 1633 \nQ 3022 1394 3022 966 \nQ 3022 478 2636 193 \nQ 2250 -91 1575 -91 \nQ 1294 -91 989 -36 \nQ 684 19 347 128 \nL 347 722 \nQ 666 556 975 473 \nQ 1284 391 1588 391 \nQ 1994 391 2212 530 \nQ 2431 669 2431 922 \nQ 2431 1156 2273 1281 \nQ 2116 1406 1581 1522 \nL 1381 1569 \nQ 847 1681 609 1914 \nQ 372 2147 372 2553 \nQ 372 3047 722 3315 \nQ 1072 3584 1716 3584 \nQ 2034 3584 2315 3537 \nQ 2597 3491 2834 3397 \nz\n\" id=\"DejaVuSans-73\" transform=\"scale(0.015625)\"/>\n      <path d=\"M 3122 3366 \nL 3122 2828 \nQ 2878 2963 2633 3030 \nQ 2388 3097 2138 3097 \nQ 1578 3097 1268 2742 \nQ 959 2388 959 1747 \nQ 959 1106 1268 751 \nQ 1578 397 2138 397 \nQ 2388 397 2633 464 \nQ 2878 531 3122 666 \nL 3122 134 \nQ 2881 22 2623 -34 \nQ 2366 -91 2075 -91 \nQ 1284 -91 818 406 \nQ 353 903 353 1747 \nQ 353 2603 823 3093 \nQ 1294 3584 2113 3584 \nQ 2378 3584 2631 3529 \nQ 2884 3475 3122 3366 \nz\n\" id=\"DejaVuSans-63\" transform=\"scale(0.015625)\"/>\n      <path d=\"M 3328 2828 \nQ 3544 3216 3844 3400 \nQ 4144 3584 4550 3584 \nQ 5097 3584 5394 3201 \nQ 5691 2819 5691 2113 \nL 5691 0 \nL 5113 0 \nL 5113 2094 \nQ 5113 2597 4934 2840 \nQ 4756 3084 4391 3084 \nQ 3944 3084 3684 2787 \nQ 3425 2491 3425 1978 \nL 3425 0 \nL 2847 0 \nL 2847 2094 \nQ 2847 2600 2669 2842 \nQ 2491 3084 2119 3084 \nQ 1678 3084 1418 2786 \nQ 1159 2488 1159 1978 \nL 1159 0 \nL 581 0 \nL 581 3500 \nL 1159 3500 \nL 1159 2956 \nQ 1356 3278 1631 3431 \nQ 1906 3584 2284 3584 \nQ 2666 3584 2933 3390 \nQ 3200 3197 3328 2828 \nz\n\" id=\"DejaVuSans-6d\" transform=\"scale(0.015625)\"/>\n      <path d=\"M 603 4863 \nL 1178 4863 \nL 1178 0 \nL 603 0 \nL 603 4863 \nz\n\" id=\"DejaVuSans-6c\" transform=\"scale(0.015625)\"/>\n      <path d=\"M 1147 4666 \nL 1147 2931 \nL 616 2931 \nL 616 4666 \nL 1147 4666 \nz\n\" id=\"DejaVuSans-27\" transform=\"scale(0.015625)\"/>\n      <path d=\"M 3513 3500 \nL 2247 1797 \nL 3578 0 \nL 2900 0 \nL 1881 1375 \nL 863 0 \nL 184 0 \nL 1544 1831 \nL 300 3500 \nL 978 3500 \nL 1906 2253 \nL 2834 3500 \nL 3513 3500 \nz\n\" id=\"DejaVuSans-78\" transform=\"scale(0.015625)\"/>\n     </defs>\n     <use xlink:href=\"#DejaVuSans-52\"/>\n     <use x=\"64.982422\" xlink:href=\"#DejaVuSans-e9\"/>\n     <use x=\"126.505859\" xlink:href=\"#DejaVuSans-70\"/>\n     <use x=\"189.982422\" xlink:href=\"#DejaVuSans-61\"/>\n     <use x=\"251.261719\" xlink:href=\"#DejaVuSans-72\"/>\n     <use x=\"292.375\" xlink:href=\"#DejaVuSans-74\"/>\n     <use x=\"331.583984\" xlink:href=\"#DejaVuSans-69\"/>\n     <use x=\"359.367188\" xlink:href=\"#DejaVuSans-74\"/>\n     <use x=\"398.576172\" xlink:href=\"#DejaVuSans-69\"/>\n     <use x=\"426.359375\" xlink:href=\"#DejaVuSans-6f\"/>\n     <use x=\"487.541016\" xlink:href=\"#DejaVuSans-6e\"/>\n     <use x=\"550.919922\" xlink:href=\"#DejaVuSans-20\"/>\n     <use x=\"582.707031\" xlink:href=\"#DejaVuSans-64\"/>\n     <use x=\"646.183594\" xlink:href=\"#DejaVuSans-65\"/>\n     <use x=\"707.707031\" xlink:href=\"#DejaVuSans-73\"/>\n     <use x=\"759.806641\" xlink:href=\"#DejaVuSans-20\"/>\n     <use x=\"791.59375\" xlink:href=\"#DejaVuSans-64\"/>\n     <use x=\"855.070312\" xlink:href=\"#DejaVuSans-e9\"/>\n     <use x=\"916.59375\" xlink:href=\"#DejaVuSans-63\"/>\n     <use x=\"971.574219\" xlink:href=\"#DejaVuSans-69\"/>\n     <use x=\"999.357422\" xlink:href=\"#DejaVuSans-6d\"/>\n     <use x=\"1096.769531\" xlink:href=\"#DejaVuSans-61\"/>\n     <use x=\"1158.048828\" xlink:href=\"#DejaVuSans-6c\"/>\n     <use x=\"1185.832031\" xlink:href=\"#DejaVuSans-65\"/>\n     <use x=\"1247.355469\" xlink:href=\"#DejaVuSans-73\"/>\n     <use x=\"1299.455078\" xlink:href=\"#DejaVuSans-20\"/>\n     <use x=\"1331.242188\" xlink:href=\"#DejaVuSans-64\"/>\n     <use x=\"1394.71875\" xlink:href=\"#DejaVuSans-65\"/>\n     <use x=\"1456.242188\" xlink:href=\"#DejaVuSans-20\"/>\n     <use x=\"1488.029297\" xlink:href=\"#DejaVuSans-6c\"/>\n     <use x=\"1515.8125\" xlink:href=\"#DejaVuSans-27\"/>\n     <use x=\"1543.302734\" xlink:href=\"#DejaVuSans-65\"/>\n     <use x=\"1603.076172\" xlink:href=\"#DejaVuSans-78\"/>\n     <use x=\"1662.255859\" xlink:href=\"#DejaVuSans-70\"/>\n     <use x=\"1725.732422\" xlink:href=\"#DejaVuSans-6f\"/>\n     <use x=\"1786.914062\" xlink:href=\"#DejaVuSans-6e\"/>\n     <use x=\"1850.292969\" xlink:href=\"#DejaVuSans-65\"/>\n     <use x=\"1911.816406\" xlink:href=\"#DejaVuSans-6e\"/>\n     <use x=\"1975.195312\" xlink:href=\"#DejaVuSans-74\"/>\n     <use x=\"2014.404297\" xlink:href=\"#DejaVuSans-69\"/>\n     <use x=\"2042.1875\" xlink:href=\"#DejaVuSans-65\"/>\n     <use x=\"2103.710938\" xlink:href=\"#DejaVuSans-6c\"/>\n     <use x=\"2131.494141\" xlink:href=\"#DejaVuSans-6c\"/>\n     <use x=\"2159.277344\" xlink:href=\"#DejaVuSans-65\"/>\n    </g>\n   </g>\n  </g>\n </g>\n <defs>\n  <clipPath id=\"pe1252ddaf7\">\n   <rect height=\"217.44\" width=\"334.8\" x=\"66.053125\" y=\"22.798125\"/>\n  </clipPath>\n </defs>\n</svg>\n",
      "image/png": "[encoded data removed]"
     },
     "metadata": {
      "needs_background": "light"
     }
    }
   ],
   "source": [
    "def construct_hist(labels, counts):\n",
    "    plt.figure()\n",
    "    plt.bar(labels, counts, color='palegreen')\n",
    "    plt.title('Répartition des décimales de l\\'exponentielle')\n",
    "    plt.ylabel('Count')\n",
    "    plt.savefig('histo_exp.png')\n",
    "    plt.show()\n",
    "\n",
    "construct_hist(e_labels, e_counts)"
   ],
   "metadata": {
    "collapsed": false,
    "pycharm": {
     "name": "#%%\n"
    }
   }
  },
  {
   "cell_type": "markdown",
   "source": [
    "### Test du Chi-Carré"
   ],
   "metadata": {
    "collapsed": false,
    "pycharm": {
     "name": "#%% md\n"
    }
   }
  },
  {
   "cell_type": "code",
   "execution_count": 74,
   "outputs": [
    {
     "output_type": "stream",
     "name": "stdout",
     "text": [
      "Test du Chi-Carré pour les décimales d'exponentiells : \n(True, 8.65376, 16.918977604620448)\n"
     ]
    }
   ],
   "source": [
    "def chi_squarred(observed, theorical):\n",
    "    kr = np.sum(((observed-theorical)**2)/theorical)\n",
    "    critical = stat.chi2.ppf(q=0.95, df=len(observed)-1)\n",
    "    return kr <= critical, kr, critical\n",
    "\n",
    "def chi_squared_uniform(observed):\n",
    "    proba = 1 / len(observed)\n",
    "    N = sum(observed)\n",
    "    theorical = np.array([N * proba for _ in range(len(observed))])\n",
    "    return chi_squarred(observed, theorical)\n",
    "\n",
    "print(f\"Test du Chi-Carré pour les décimales d'exponentiells : \\n\"\n",
    "      f\"{chi_squared_uniform(e_counts)}\")"
   ],
   "metadata": {
    "collapsed": false,
    "pycharm": {
     "name": "#%%\n"
    }
   }
  },
  {
   "cell_type": "markdown",
   "source": [
    "### Test du Poker"
   ],
   "metadata": {
    "collapsed": false
   }
  },
  {
   "cell_type": "code",
   "execution_count": 75,
   "outputs": [
    {
     "output_type": "stream",
     "name": "stdout",
     "text": [
      "Test du Poker pour les décimales d'exponentielle : \n(True, 1.2631547619047618, 9.487729036781154)\n"
     ]
    }
   ],
   "source": [
    "def poker_test(data):\n",
    "    number_lists = len(data)/4\n",
    "    lists = np.split(data, number_lists)\n",
    "    all_diff = 0\n",
    "    one_pair = 0\n",
    "    two_pair = 0\n",
    "    triplet = 0\n",
    "    quadr = 0\n",
    "    for li in lists:\n",
    "        vals, cts = np.unique(li, return_counts=True)\n",
    "        if len(cts) == 4:\n",
    "            all_diff += 1\n",
    "        elif len(cts) == 3:\n",
    "            one_pair += 1\n",
    "        elif len(cts) == 2:\n",
    "            if 3 in cts:\n",
    "                triplet += 1\n",
    "            else:\n",
    "                two_pair += 1\n",
    "        else:\n",
    "            quadr += 1\n",
    "    return chi_squarred_poker(np.array([all_diff, one_pair, triplet, two_pair, quadr]), len(lists))\n",
    "\n",
    "def chi_squarred_poker(observed, N):    # P(all_diff) > P(one_pair) > P(triplet) > P(two_pair) > P(quadr)\n",
    "    probas = np.array([0.504, 0.432, 0.036, 0.027, 0.001])\n",
    "    theorical = probas * N\n",
    "    return chi_squarred(observed, theorical)\n",
    "\n",
    "print(f\"Test du Poker pour les décimales d\\'exponentielle : \\n\"\n",
    "      f\"{poker_test(e_numbers)}\")"
   ],
   "metadata": {
    "collapsed": false,
    "pycharm": {
     "name": "#%%\n"
    }
   }
  },
  {
   "cell_type": "markdown",
   "source": [
    "### Test du gap"
   ],
   "metadata": {
    "collapsed": false
   }
  },
  {
   "cell_type": "code",
   "execution_count": 76,
   "outputs": [
    {
     "output_type": "stream",
     "name": "stdout",
     "text": [
      "labels [ 1  2  3  4  5  6  7  8  9 10 11 12 13 14 15 16 17 18 20 23] observed [498508 250019 125357  62699  31187  15611   7818   3926   1995    956\n    473    223    124     59     29     22      8      3      1      1]\nTest du Gap pour les décimales d'exponentielle : \n (True, 16.078953572083208, 33.92443847144381)\n"
     ]
    }
   ],
   "source": [
    "def gap_test(data, proba, a, b):\n",
    "    intervals = []\n",
    "    length_series_not_in = 1\n",
    "    total_gaps = 0\n",
    "    sequence_length = 0\n",
    "    for nb in data:\n",
    "        if a <= nb < b:\n",
    "            # nb in interval, with probability `probability`\n",
    "            intervals.append(length_series_not_in)\n",
    "            length_series_not_in = 1\n",
    "        else:\n",
    "            # nb not in interval\n",
    "            length_series_not_in += 1\n",
    "            total_gaps += 1\n",
    "        sequence_length += 1\n",
    "    labels, observed = np.unique(np.array(intervals), return_counts=True)\n",
    "    print(f\"labels {labels} observed {observed}\")\n",
    "    observed = complete_labels(labels, observed)\n",
    "    theorical = np.array([(1 - proba)**(n+1) for n in range(max(labels))])*sum(observed)\n",
    "    return chi_squarred(observed, theorical)\n",
    "\n",
    "def gap_test_discrete(data, a: int = 0, b: int = 5, total_numbers: int = 10):\n",
    "    assert a < b\n",
    "    proba = (b - a) / total_numbers  # => proba 1/2 d'être marqué\n",
    "    return gap_test(data, proba, a, b)\n",
    "\n",
    "def complete_labels(labels, observed):\n",
    "    res_labels = []\n",
    "    res_observed = []\n",
    "    n = 0\n",
    "    j = 0\n",
    "    for expected in range(1, np.max(labels)+1):\n",
    "        label = labels[j-n]\n",
    "        if expected != label:\n",
    "            res_labels.append(expected)\n",
    "            res_observed.append(0)\n",
    "            n += 1\n",
    "        else:\n",
    "            res_labels.append(label)\n",
    "            res_observed.append(observed[j-n])\n",
    "            j += 1\n",
    "    return res_observed\n",
    "\n",
    "\n",
    "print(f\"Test du Gap pour les décimales d'exponentielle : \\n \"\n",
    "      f\"{gap_test_discrete(e_numbers, 0, 5)}\")"
   ],
   "metadata": {
    "collapsed": false,
    "pycharm": {
     "name": "#%%\n"
    }
   }
  },
  {
   "cell_type": "markdown",
   "source": [
    "## Générateur de nombres aléatoires\n",
    "\n",
    "### Technique employée"
   ],
   "metadata": {
    "collapsed": false
   }
  },
  {
   "cell_type": "code",
   "execution_count": 77,
   "outputs": [
    {
     "output_type": "stream",
     "name": "stdout",
     "text": [
      "1459, 0.7973849234406957, 0.4090814052841576, 0.2057135243286451, 0.3575170042922081, 0.8341164429375121, 0.8639677375111812, 0.9626079602766562, 0.4013046795883392, 0.14305275507943216, 0.7980625788231864, 0.49456334291363335, 0.391763266301019, 0.29681480536121646, 0.057489565776865655, 0.9830941128255903, 0.40635881161828347, 0.8170542162651345, 0.8240858845974501, 0.925547604778157, 0.8074434778288818, 0.3271828722720135, 0.06791625993585854, 0.5404992721618159, 0.9320088238330975, 0.5031517676384033, 0.7044822466454992, 0.26315066539308496, 0.7659642050355695, 0.4972204618813346, 0.5415718294502427, 0.2450265458904935, 0.16960405909515425, 0.08234490575233078, 0.2581061872561824, 0.5583927943164645, 0.8731169184706147, 0.38901472749954225, 0.29675371558660496, 0.15398816900698375, 0.21403855165173366, 0.08120533822981785, 0.041156571794860604, 0.9733554108606142, 0.7457079257059753, 0.4145613139109616, 0.23195924872240709, 0.5551283989729061, 0.7697625334831474, 0.2823800134285046, 0.00107704029706239, 0.32202799620352707, 0.9140937018360213, 0.7012584876324811, 0.7376447841768965, 0.2464914334768173, 0.557616184432402, 0.05394122144014385, 0.38732770624088186, 0.5869101622342696, 0.1876408903712939, 0.6079864046096938, 0.9349837367798972, 0.7590270439282693, 0.3825382894981762, 0.42066065487431575, 0.5716369726901702, 0.6454818533568705, 0.119757945829823, 0.5462925596756821, 0.057199842962392486, 0.7886214975256197, 0.991664447190594, 0.20891286007159496, 0.9968521681252032, 0.40038556472531184, 0.4830802409902519, 0.0457289258106242, 0.5549867985550057, 0.7909573391857804, 0.8389754518381162, 0.7936568111702833, 0.7969707646307067, 0.582227093120662, 0.17514743330287286, 0.3183155169802354, 0.7687095887053782, 0.44300500064749737, 0.7553983295948061, 0.36025605200386385, 0.5971103241914512, 0.36364735765894646, 0.5834602850757098, 0.5751540642232663, 0.8728405342856571, 0.0752626955680028, 0.7229860315821177, 0.9805987055528669, 0.9581325832310731, 0.8006380773640681, 0.7998442505196521, 0.30627931527303687, 0.44510071057142586, 0.9491513296919305, 0.8419337440632365, 0.9256721220576912, 0.245060824754326, 0.12391069456538986, 0.22449268816650378, 0.39705065033600523, 0.170742404594515, 0.7510293942231296, 0.4972344934944448, 0.7343444479741696, 0.18045349170756647, 0.24589286206666564, 0.3144735203390995, 0.021804141100285092, 0.9079723187509056, 0.9149057318122856, 0.5035931690964226, 0.30405122269715773, 0.7810062316185902, 0.06801173297238582, 0.5379553708315309, 0.3968215726216976, 0.8491444667649267, 0.7038774282177743, 0.6795531755584827, 0.2117602294311439, 0.020565192705740476, 0.28925701470354526, 0.7884038010861232, 0.6475991372130885, 0.19280649611351702, 0.8424641804850356, 0.4436864636519477, 0.740747356577886, 0.4426269430667131, 0.7852031957516935, 0.16159142394921241, 0.8941964550109934, 0.9347930783025461, 0.7874097709569122, 0.15615997362265274, 0.33358664830991097, 0.5919075343994037, 0.8724049574723772, 0.23265243095614926, 0.927479088389725, 0.17268748398496248, 0.7133169398565307, 0.8567276399919614, 0.11723855566570318, 0.5055689820166116, 0.49473753068711834, 0.39255824837452846, 0.5395006501242997, 0.35481176318294266, 0.7690418315011952, 0.5327875940995334, 0.053456431558424757, 0.9381451044133072, 0.018155548004250156, 0.5997792568408759, 0.6960007919373749, 0.2709424383932896, 0.9075833166268648, 0.4818272276062551, 0.8146532763980923, 0.006227948290987648, 0.265216782389601, 0.10556357558796485, 0.7810701150754109, 0.5251586252613389, 0.059300610656360005, 0.07212648060135746, 0.13685520200053056, 0.30957654801767714, 0.020267992330003225, 0.6263133102465399, 0.5492688246198799, 0.031547958352735744, 0.9107324638360728, 0.9864288120600982, 0.93386033342403, 0.725226451140188, 0.8418461152737486, 0.9498813494967674, 0.6212394037753383, 0.2986979907890584, 0.6033450589652427, 0.39275124372879805, 0.677613952580425, 0.9497431959052179, 0.46217804965442816, 0.7690547313882011, 0.14329933724816019, 0.4351380619184503, 0.8783398001738689, 0.3087165765042344, 0.45561997402361, 0.5336158966436625, 0.06662323000729455, 0.7810897086430927, 0.7724485967169683, 0.6458050908141524, 0.46741159028297835, 0.16611352948896752, 0.9766820903708484, 0.014628410715656535, 0.747329895912284, 0.4252603651395833, 0.28520244859555255, 0.6565844109208598, 0.680362469841088, 0.9510779271883577, 0.1370233800027158, 0.6472220337233596, 0.3678367141419851, 0.7186418524726719, 0.6679197525491706, 0.25556034546138506, 0.6652732711059334, 0.3142128858007114, 0.2168777528795916, 0.8122339592989323, 0.8206657840555691, 0.39515448890865223, 0.07591664198646901, 0.7847891470370383, 0.7743397414128494, 0.5251706471261121, 0.7351133605745845, 0.8604114168152276, 0.5234505092860108, 0.9688816391745513, 0.6420151223889425, 0.6479061497575623, 0.9931364903565718, 0.08207223461607564, 0.37493380479498634, 0.9915875098512347, 0.6286753494413325, 0.524537937140164, 0.7486679832543991, 0.6622879068729048, 0.6507361632194218, 0.7173936134658065, 0.6667452354450472, 0.20205854188512987, 0.6936803533634539, 0.9405997767423503, 0.8846744321270713, 0.2528584740023856, 0.6477370338832138, 0.7800454650302456, 0.8619907017121239, 0.24279094436988313, 0.7153286975839825, 0.16333318092607438, 0.768915022334895, 0.2933623719990844, 0.23678113769729509, 0.09612859738750096, 0.39944881801958293, 0.2569701888337191, 0.46670632784100796, 0.1409759378368778, 0.10996751701131993, 0.7291095236711438, 0.7977453314561187, 0.9674271380296018, 0.3532621999077099, 0.37254052293639406, 0.6396494592651, 0.13216295978332854, 0.8791094186241819, 0.6177591833148901, 0.14408380782399915, 0.8419605340239109, 0.16311503911475667, 0.9693375824628657, 0.21133146663976382, 0.011057982522191805, 0.6900047415230056, 0.7859294652505985, 0.733602102857936, 0.5788556780175091, 0.15720058108258742, 0.5484033419627515, 0.5665567354690071, 0.039635213723845916, 0.7326840043030316, 0.2641913065000623, 0.8204690096765102, 0.7001165854784115, 0.1818539918965737, 0.44479426319573145, 0.9843830775759369, 0.7470012201342815, 0.2571306146704553, 0.7307988482607969, 0.5293233725564852, 0.6387242418651002, 0.8324442254270104, 0.7873730366663627, 0.5933512091927077, 0.4647736983547056, 0.355007571388467, 0.5257382318303782, 0.38843150097015766, 0.391219799780354, 0.8395201913830439, 0.396580910711978, 0.8216260136770653, 0.2539580892045847, 0.6783242873146809, 0.004757176929779859, 0.3873868838466523, 0.07806611298146318, 0.5297458159437304, 0.22733980357190448, 0.29843168800366354, 0.5769110538087365, 0.3370014091848782, 0.33783539728071055, 0.4201440973086846, 0.1534117795700901, 0.7913194531530661, 0.475887845359543, 0.42798731046148253, 0.8988505851574887, 0.6471184704927476, 0.40937827903998486, 0.7931312391714174, 0.8006884964341541, 0.35450614086041254, 0.7212386535539935, 0.4783114386352338, 0.00597043117723909, 0.9741361327930393, 0.5919126937246502, 0.7245189538614503, 0.28850058662494016, 0.7684943458542377, 0.5540440563160518, 0.6064870523015996, 0.2028411994283781, 0.18316945505823023, 0.8849119198342791, 0.6405184992522791, 0.6805766825815828, 0.6316250686620096, 0.7080304985297691, 0.3923108535748816, 0.5207881542167507, 0.3578405957373731, 0.9712347623457571, 0.8801452050442614, 0.4177523573083601, 0.7044374715017496, 0.25413025631308006, 0.03239462586400282, 0.7491779413340581, 0.19185623393684023, 0.4275682400961487, 0.3910349957461155, 0.4020787503675497, 0.4047125254265516, 0.08377650824796477, 0.6840502633443981, 0.9574004012972427, 0.17973557974000648, 0.38191125888911837, 0.3977504633888938, 0.7472943363032352, 0.8538355630677703, 0.735356883748282, 0.7733710517095187, 0.4588654705822729, 0.3566893613232354, 0.7512031320567638, 0.005065654094688926, 0.13063026229254635, 0.3498318268612721, 0.4855340393939703, 0.24820246234690554, 0.3088434878294307, 0.4239984194277486, 0.45175977773261794, 0.6590604064835315, 0.7478548078270919, 0.4248454015676639, 0.7673799185046665, 0.13436426351995046, 0.8227646890337534, 0.30563206386265274, 0.38101033073963464, 0.24302319675709974, 0.9404422215625228, 0.1974894051098226, 0.9772716723944926, 0.09079724743789963, 0.10090374991760562, 0.016368758860021884, 0.1702881455884484, 0.8938297893813207, 0.17247101294853884, 0.34049558203219193, 0.41398758257939766, 0.20720910075879231, 0.12212369987193131, 0.8102047741506847, 0.2687741846409081, 0.7731160008734591, 0.22853313241161427, 0.784455754742019, 0.8845363183073196, 0.20001283074714205, 0.11681289046326357, 0.5421654880935558, 0.8862655974725325, 0.4243543456478092, 0.5732153594942404, 0.27792806530589564, 0.8805161643056737, 0.9956292472640583, 0.653452430795505, 0.9341035824122258, 0.5569873796445082, 0.5133920669183384, 0.8623174425922114, 0.3600452135522074, 0.6027101254085866, 0.7095314322811904, 0.2566641712669709, 0.2587200874787526, 0.2859469231623667, 0.2146758061982666, 0.3575324255061149, 0.7978787798731896, 0.7493454876435126, 0.027608486021209473, 0.1879041381438995, 0.6902452272182713, 0.022754163070217583, 0.5855096765766519, 0.3970631136003987, 0.9292491403094428, 0.7580104812418513, 0.02401742118474441, 0.8154139092691456, 0.998185465280152, 0.42967916483321794, 0.8683300455736095, 0.6586969606654758, 0.2595690356464154, 0.9434609536297014, 0.2611753691126257, 0.2210625519222817, 0.29362311587037176, 0.14576945893337923, 0.10875334632531028, 0.48833161554537907, 0.17077648423107386, 0.31452351837065123, 0.13818171622678663, 0.7043036072645902, 0.7812170532231967, 0.07839610668464495, 0.001959658038129225, 0.2576883873622615, 0.9874669230895723, 0.4553711428085969, 0.5794713966903193, 0.4265616503164106, 0.276600139801225, 0.08034802165969308, 0.19227226384345283, 0.6752763549585612, 0.8493733034723274, 0.4953082702801931, 0.42809879009397955, 0.0455332744229412, 0.4349798341185016, 0.6822727145439573, 0.9923656763901599, 0.0751938479054656, 0.7770674731148036, 0.09123021262883696, 0.1846404155350595, 0.5698235392002149, 0.19956446047217113, 0.4367650545270259, 0.9023060045633566, 0.6079396463041581, 0.16436111310992368, 0.7017425223776675, 0.3628957484767688, 0.4563030163410724, 0.42954689489224374, 0.7618820180270441, 0.12417679030222427, 0.24389287778179108, 0.8198894474073195, 0.8732394838874542, 0.3004621013282549, 0.9068198018169906, 0.6154487442582175, 0.07705772128358546, 0.546790896563464, 0.3218219539847075, 0.6851131097505496, 0.7599704372035521, 0.7557482359310743, 0.24433067324447524, 0.1753624311618234, 0.31180666341470625, 0.4786617352265553, 0.31338991684575224, 0.2991625010462776, 0.43158226814093265, 0.6507931771148792, 0.1958917801165196, 0.4004197241746554, 0.5408966563220522, 0.8083359647967249, 0.6945814577385536, 0.17149375434269454, 0.0479494262082831, 0.6598368929856261, 0.7929418557406822, 0.8068693142724652, 0.649362803492523, 0.8548994716068274, 0.934998724604005, 0.7155624512310864, 0.11104408498367965, 0.13912668929083621, 0.32381705526428195, 0.28071630401816705, 0.7162206673398045, 0.5443947367574381, 0.12213703130166327, 0.6258556786827101, 0.1512441950933727, 0.24824355736115888, 0.004324597146186805, 0.4474709121389011, 0.573303519272377, 0.4823859466125596, 0.1301992804085704, 0.049145551167870324, 0.33940680499466147, 0.7482604762890844, 0.18265636216673276, 0.41401560524786585, 0.672871753055429, 0.1825249290704335, 0.43078678469173615, 0.38627667679143873, 0.6298128772008061, 0.6942010524728504, 0.201960492662977, 0.6687968735363172, 0.7682021198003621, 0.5496615673355887, 0.32311388803511043, 0.7305381731525854, 0.36370829081117895, 0.11594897560515145, 0.9051128189697147, 0.9677503157236272, 0.563577249513756, 0.41627826474848956, 0.3182073974433978, 0.04638939897791412, 0.462570734158367, 0.7671571583221886, 0.2709724118959439, 0.6444196914411664, 0.20832609946782057, 0.43233856013524596, 0.3926322014732053, 0.39643806353668937, 0.5605773733965406, 0.8324594043814186, 0.5157196774247338, 0.6495534018999379, 0.7466867466203011, 0.8802792496470352, 0.040520076967519685, 0.5520572512625084, 0.6686394777451219, 0.3691827809653149, 0.5084310630715033, 0.3795409318168146, 0.994161160890674, 0.7783856055621814, 0.2197162836819628, 0.011758441195403466, 0.7877219946269847, 0.2872531107072254, 0.470947024719465, 0.3485078394015726, 0.7080744950068951, 0.6008115023860621, 0.6985133549581374, 0.628761558458308, 0.15726092410048667, 0.19923789894419017, 0.004724649350355922, 0.08305831812654657, 0.026284251645470567, 0.18724427229649293, 0.47892713782055013, 0.8690675532321326, 0.7907544154670216, 0.9431260704054872, 0.38938507312358467, 0.9598891201533636, 0.08705716321838941, 0.9941632119015248, 0.8832416865855235, 0.6604723524724314, 0.5603949563425247, 0.4355916267919706, 0.9121314133123872, 0.029692905262051518, 0.013459321329268241, 0.8653560134013721, 0.5052228215971568, 0.39986053391987597, 0.7362020093483647, 0.8477895483584021, 0.03433305163317874, 0.5692957015136269, 0.9304625304908681, 0.7311554192039522, 0.22464038331984654, 0.5574042443594243, 0.6212895308150045, 0.849697519108796, 0.7562112355374057, 0.0897366100335113, 0.4194363359808939, 0.018647959133674778, 0.7464556862813172, 0.6555076810986299, 0.6803263559396209, 0.02149489424663402, 0.536669328407416, 0.6429146350463752, 0.8249258596924349, 0.37372609158302145, 0.8036943892919239, 0.8200448763427142, 0.5990738497574606, 0.8404816788858818, 0.3326355503085725, 0.6061241599102472, 0.5299717847904432, 0.9438261367757148, 0.022738558357221918, 0.6181039652016862, 0.510750540033573, 0.8967326206910852, 0.031710856620918756, 0.6562290593802546, 0.5820970207625495, 0.7878595194224692, 0.20985147353884345, 0.3480367536563368, 0.19832157834533515, 0.649022048751114, 0.752935878406703, 0.17509773166362036, 0.9398879563214687, 0.11755720903218268, 0.41060643688802895, 0.3782890285071604, 0.14277274156790737, 0.21252586762868053, 0.9636483626252981, 0.9309155142395278, 0.8938589375294138, 0.30161171408267673, 0.971648846462506, 0.35205368053763136, 0.5750464480050868, 0.46356706755008015, 0.8099762952335569, 0.6016350439988342, 0.7389871518284571, 0.5361856511969167, 0.8978136759926703, 0.24912295108450025, 0.9820509757224597, 0.9068914095123329, 0.4963849825813087, 0.765730535465053, 0.08959963178830209, 0.6964566254336385, 0.9890340965935297, 0.3554029084451474, 0.03101089151660704, 0.1618382377344379, 0.4161531009225582, 0.8815199524571576, 0.7657590692234413, 0.3802016169548901, 0.4416030536782302, 0.3681799487035959, 0.48939946681223334, 0.4742761300793292, 0.04607525993507857, 0.7315138267611359, 0.28508142021992794, 0.8619783852496047, 0.6231562016141765, 0.6429131191009446, 0.45372965382020375, 0.3786947924184834, 0.8742966270868622, 0.3395870469806409, 0.17011488833315377, 0.7218244326518457, 0.6563612083178094, 0.18318877173465709, 0.5372198848503176, 0.31983902882522963, 0.9034366377541252, 0.05483284852276127, 0.4154521966967888, 0.4889153901205897, 0.7108262724982486, 0.9798359460722429, 0.9768878616250152, 0.4197392246411059, 0.7952039920279702, 0.7759842223120305, 0.9429959202663417, 0.477964573362391, 0.6621643684003118, 0.9527987749246168, 0.8902362791404881, 0.055448847798595026, 0.05873253198030172, 0.22703366492035704, 0.2774759177810636, 0.06742449022627783, 0.46892508077789175, 0.6451157697570028, 0.17375089268800242, 0.7151790530746543, 0.6126583026553872, 0.5218592091223606, 0.1824381359085766, 0.9411141373283065, 0.6910473358285452, 0.2670032073001132, 0.36474359368673603, 0.2869125678109897, 0.3237753373681094, 0.8028431294212286, 0.7498921547003503, 0.9316548183826101, 0.7914923010676368, 0.394375280883742, 0.6233265399934125, 0.5970385695131301, 0.556606878382269, 0.37627603810626165, 0.4135351671924805, 0.04453710643280653, 0.29051785352522963, 0.9529149613133246, 0.20056040042831785, 0.6793097309556628, 0.4211316646364569, 0.8236078229597665, 0.865907683612566, 0.4368212735966482, 0.2948217912176392, 0.870781487453616, 0.09938484387407269, 0.45506056900002106, 0.8896595616817119, 0.955138689345917, 0.1653927230301408, 0.575562422103465, 0.1472010670262846, 0.8929751176031981, 0.7280807908362468, 0.9691546980694247, 0.10235376183864416, 0.6891854539343932, 0.9687603110297475, 0.9300706643060251, 0.56704411687701, 0.9064944728667168, 0.5920997769575813, 0.08360770171475793, 0.5570301360151957, 0.867731996759523, 0.5233560116440972, 0.7389309775588782, 0.5152875969838092, 0.40561736326090664, 0.9802991772908515, 0.3373210576096621, 0.578890485045105, 0.9852036722830392, 0.8250320023607851, 0.6017640082220163, 0.02952395149686903, 0.07109242007056088, 0.34519095680278805, 0.980185954427278, 0.494609679528526, 0.2933270878407244, 0.3785931743738185, 0.5927727582467738, 0.7691527127860898, 0.036508575076901695, 0.9451256709948036, 0.12232077356908724, 0.41538356507753665, 0.978091740708535, 0.1945080649924099, 0.840054914949918, 0.2557132669383962, 0.0016496702778057912, 0.62630957025001, 0.1177215729736594, 0.25766758297314274, 0.8757403270727983, 0.8289110598801486, 0.7408447950397704, 0.9680109017973921, 0.75802402421751, 0.45914458317726536, 0.5833324214344918, 0.576168563986295, 0.45675530357776134, 0.8258969517426781, 0.1361206087791018, 0.5870632210815139, 0.7425665906266545, 0.7315115083957691, 0.2853958095821204, 0.02613405284209587, 0.15119611288816434, 0.5471272497988796, 0.8037282136525663, 0.4721213254653111, 0.9781636136544916, 0.7757777662262475, 0.23916268020564083, 0.06858195387638932, 0.9008002010007193, 0.43424506552298303, 0.6451715616056655, 0.3828674158436933, 0.6129345095276815, 0.024842578401987274, 0.06961698614336692, 0.23872694890963791, 0.46306756414687683, 0.21516249547209942, 0.6956867386539191, 0.9360319191914304, 0.37522789302827436, 0.4526373763579882, 0.6333402441650577, 0.18685684861732427, 0.8439007850057831, 0.6863575857826265, 0.09747992260918238, 0.6412060508343468, 0.0452468222809355, 0.6702441434256436, 0.6688395870269825, 0.0867419236275987, 0.074873935010695, 0.7450068468978036, 0.0037317322657212243, 0.9205470897780816, 0.011637269686764838, 0.5696214074250722, 0.02489813752658602, 0.5023112163252414, 0.4273959705367025, 0.38830182615839465, 0.30004227255059623, 0.22586129855910486, 0.532402324836262, 0.3092723746140715, 0.9384929964989992, 0.9541164506288159, 0.5057511899779221, 0.9559462773681128, 0.918377273493642, 0.14367240990363345, 0.9421947120210513, 0.06255376694237524, 0.49432981811393284, 0.13432805163482692, 0.9478254606016588, 0.24532255814758713, 0.8023894725208165, 0.2837384022782564, 0.13971016925331925, 0.8625738406682446, 0.2522484111650255, 0.0853744385406991, 0.9784335253932005, 0.3779682017842952, 0.32088698056823417, 0.0998957324000854, 0.6621035869498672, 0.1861202955914051, 0.49630946191988856, 0.013493586990455698, 0.2207380604314747, 0.6077071759719069, 0.6940168363402879, 0.5128739483537899, 0.7224378195797595, 0.9685510260076585, 0.20567004491587138, 0.37031996996115996, 0.27417027523536647, 0.5473394314466079, 0.07698743741812464, 0.17631513338269156, 0.55113923338772, 0.2629829885305401, 0.6095176042290273, 0.6185108031466899, 0.6037362478205809, 0.7045418996580662, 0.9374519788600021, 0.15315242666193787, 0.06874720657872285, 0.12388005258813549, 0.3201853393658935, 0.48188725116193176, 0.2225265794020163, 0.4657366915454982, 0.3640034747398296, 0.641923507343973, 0.8221625883987385, 0.8831226755797983, 0.252274657510298, 0.8870864794953581, 0.9362550001223254, 0.5650441036520281, 0.89562246701382, 0.08578471279947454, 0.2529439474925886, 0.9761192534205755, 0.3688906703016692, 0.9224067780120114, 0.5372809385867732, 0.9918656578290648, 0.06159272490716022, 0.4436658060361008, 0.41881577432643713, 0.24355378195930355, 0.5107899617365486, 0.12391434331124587, 0.5580519775904565, 0.8775752433578661, 0.45282089036029705, 0.44661841912949735, 0.5859839432168794, 0.6677908006034945, 0.29285006026413535, 0.7120811441294053, 0.33465806994189584, 0.20492572897811992, 0.19861941864340335, 0.6848426708707266, 0.49923729148545537, 0.5126224448390845, 0.30702863613701026]\n"
     ]
    }
   ],
   "source": [
    "NB_DIGITS = 10\n",
    "\n",
    "class Generator1:\n",
    "\n",
    "    def __init__(self, seed=0, nb_digits = 10):\n",
    "        self.seed = seed\n",
    "        self.index = seed % len(e_numbers)\n",
    "        self.nb_digits = nb_digits\n",
    "\n",
    "    def random(self):\n",
    "        digits = []\n",
    "        for i in range(self.nb_digits):\n",
    "            digit = e_numbers[self.index]\n",
    "            digits.append(digit)\n",
    "            self.index += 1\n",
    "        return float(\"0.\" + \"\".join(map(lambda x: str(x), digits)))\n",
    "        \n",
    "\n",
    "class Generator2:\n",
    "\n",
    "    def __init__(self, seed=0, nb_digits = 10):\n",
    "        self.seed = seed\n",
    "        self.index = seed % len(e_numbers)\n",
    "        self.nb_digits = nb_digits\n",
    "    \n",
    "    def random(self):\n",
    "        xyz = []\n",
    "        for j in range(3):\n",
    "            digits = []\n",
    "            for k in range(self.nb_digits):\n",
    "                digit = e_numbers[self.index]\n",
    "                digits.append(digit)\n",
    "                self.index += 1\n",
    "            xyz.append(float(\"0.\" + \"\".join(map(lambda x: str(x), digits))))\n",
    "        return math.sqrt(sum([x**2 for x in xyz]))/math.sqrt(3)\n",
    "\n",
    "class Generator3:\n",
    "\n",
    "    def __init__(self, seed=0, precision=57):\n",
    "        self.seed = seed\n",
    "        self.index = seed % len(e_numbers)\n",
    "        self.precision = precision          # IEE754 double has 57 bits of precision\n",
    "\n",
    "    def random(self):\n",
    "        bits = 0\n",
    "        generated = 0\n",
    "        while bits < self.precision:\n",
    "            rn = e_numbers[self.index]\n",
    "\n",
    "            if rn > 7:\n",
    "                self.index = (self.index + 1) % len(e_numbers)\n",
    "                continue\n",
    "\n",
    "            three_bits = (\n",
    "                rn & 1,\n",
    "                (rn & 2) // 2,\n",
    "                (rn & 4) // 4\n",
    "            )\n",
    "            \n",
    "            for i in range(3):\n",
    "                if bits >= self.precision:\n",
    "                    break\n",
    "                generated = (generated << 1) | three_bits[i]\n",
    "                bits += 1\n",
    "\n",
    "            self.index = (self.index + 1) % len(e_numbers)\n",
    "        return generated / 2**self.precision\n",
    "\n",
    "rng1 = Generator1(50)\n",
    "rng2 = Generator2(50)\n",
    "rng3 = Generator3(50)\n",
    "gen_numbers = [rng3.random() for _ in range(2000)]\n",
    "print(f\"Résultat de notre générateur : \\n\"\n",
    "      f\"{gen_numbers}\")"
   ],
   "metadata": {
    "collapsed": false,
    "pycharm": {
     "name": "#%%\n"
    },
    "tags": [
     "outputPrepend"
    ]
   }
  },
  {
   "cell_type": "markdown",
   "metadata": {
    "pycharm": {
     "name": "#%% md\n"
    }
   },
   "source": [
    "### Test du Chi Carré"
   ]
  },
  {
   "cell_type": "code",
   "execution_count": 78,
   "outputs": [
    {
     "output_type": "stream",
     "name": "stdout",
     "text": [
      "Test du Chi Carré pour notre générateur : \n(False, 24.52899999999996, 15.50731305586545)\n"
     ]
    }
   ],
   "source": [
    "def split_in_groups(data):\n",
    "    data = np.sort(data)\n",
    "    i = 0\n",
    "    count = 0\n",
    "    res = []\n",
    "    for d in data:\n",
    "        if i <= d < (i + 0.1):\n",
    "            count += 1\n",
    "        else:\n",
    "            i += 0.10000000000000000000000000\n",
    "            res.append(count)\n",
    "            count = 0\n",
    "    return np.array(res)\n",
    "\n",
    "def chi_squared_continuous(data):\n",
    "    observed = split_in_groups(data)\n",
    "    N = len(data)\n",
    "    proba = 1/len(observed)\n",
    "    theorical = np.array([N * proba for _ in range(len(observed))])\n",
    "    return chi_squarred(observed, theorical)\n",
    "\n",
    "print(f\"Test du Chi Carré pour notre générateur : \\n\"\n",
    "      f\"{chi_squared_continuous(gen_numbers)}\")"
   ],
   "metadata": {
    "collapsed": false,
    "pycharm": {
     "name": "#%%\n"
    }
   }
  },
  {
   "cell_type": "markdown",
   "source": [
    "### Test de Kolmogorov-Smirnov"
   ],
   "metadata": {
    "collapsed": false,
    "pycharm": {
     "name": "#%% md\n"
    }
   }
  },
  {
   "cell_type": "code",
   "execution_count": 79,
   "outputs": [
    {
     "output_type": "stream",
     "name": "stdout",
     "text": [
      "Test de Kolmogorov-Smirnov pour notre générateur : \n(False, 0.9677941836366204, 0.030365803134447145)\n"
     ]
    }
   ],
   "source": [
    "def kolmogorov_smirnov(numbers):\n",
    "    np.sort(numbers)\n",
    "    n = len(numbers)\n",
    "    distance = np.max(np.array([np.abs((i/n)-numbers[i]) for i in range(len(numbers))]))\n",
    "    critical = 1.358/math.sqrt(n)\n",
    "    return distance < critical, distance, critical\n",
    "\n",
    "print(f\"Test de Kolmogorov-Smirnov pour notre générateur : \\n\"\n",
    "      f\"{kolmogorov_smirnov(gen_numbers)}\")"
   ],
   "metadata": {
    "collapsed": false,
    "pycharm": {
     "name": "#%%\n"
    }
   }
  },
  {
   "cell_type": "markdown",
   "source": [
    "### Test du gap"
   ],
   "metadata": {
    "collapsed": false
   }
  },
  {
   "cell_type": "code",
   "execution_count": 80,
   "outputs": [
    {
     "output_type": "stream",
     "name": "stdout",
     "text": [
      "labels [ 1  2  3  4  5  6  7  8  9 11] observed [470 258 133  77  27  12   8   3   1   1]\nTest du gap pour notre générateur : \n(True, 9.489789540413296, 18.307038053275146)\n"
     ]
    }
   ],
   "source": [
    "def gap_test_continue(data, a = 0.0, b = 0.5):\n",
    "    assert a < b\n",
    "    proba = b - a  # => proba 1/2 d'être marqué\n",
    "    return gap_test(data, proba, a, b)\n",
    "\n",
    "print(f\"Test du gap pour notre générateur : \\n\"\n",
    "      f\"{gap_test_continue(gen_numbers, 0.0, 0.5)}\")"
   ],
   "metadata": {
    "collapsed": false,
    "pycharm": {
     "name": "#%%\n"
    }
   }
  },
  {
   "cell_type": "markdown",
   "source": [
    "### Comparaison avec le générateur de Python"
   ],
   "metadata": {
    "collapsed": false,
    "pycharm": {
     "name": "#%% md\n"
    }
   }
  },
  {
   "cell_type": "code",
   "execution_count": 81,
   "metadata": {
    "pycharm": {
     "name": "#%%\n"
    }
   },
   "outputs": [],
   "source": [
    "numbers_python = []\n",
    "for _ in range(len(gen_numbers)):\n",
    "    numbers_python.append(random.uniform(0, 1))"
   ]
  },
  {
   "cell_type": "code",
   "execution_count": 82,
   "outputs": [
    {
     "output_type": "display_data",
     "data": {
      "text/plain": "<Figure size 432x288 with 1 Axes>",
      "image/svg+xml": "<?xml version=\"1.0\" encoding=\"utf-8\" standalone=\"no\"?>\n<!DOCTYPE svg PUBLIC \"-//W3C//DTD SVG 1.1//EN\"\n  \"http://www.w3.org/Graphics/SVG/1.1/DTD/svg11.dtd\">\n<svg height=\"264.11625pt\" version=\"1.1\" viewBox=\"0 0 523.49625 264.11625\" width=\"523.49625pt\" xmlns=\"http://www.w3.org/2000/svg\" xmlns:xlink=\"http://www.w3.org/1999/xlink\">\n <metadata>\n  <rdf:RDF xmlns:cc=\"http://creativecommons.org/ns#\" xmlns:dc=\"http://purl.org/dc/elements/1.1/\" xmlns:rdf=\"http://www.w3.org/1999/02/22-rdf-syntax-ns#\">\n   <cc:Work>\n    <dc:type rdf:resource=\"http://purl.org/dc/dcmitype/StillImage\"/>\n    <dc:date>2021-05-02T20:11:50.871090</dc:date>\n    <dc:format>image/svg+xml</dc:format>\n    <dc:creator>\n     <cc:Agent>\n      <dc:title>Matplotlib v3.4.1, https://matplotlib.org/</dc:title>\n     </cc:Agent>\n    </dc:creator>\n   </cc:Work>\n  </rdf:RDF>\n </metadata>\n <defs>\n  <style type=\"text/css\">*{stroke-linecap:butt;stroke-linejoin:round;}</style>\n </defs>\n <g id=\"figure_1\">\n  <g id=\"patch_1\">\n   <path d=\"M 0 264.11625 \nL 523.49625 264.11625 \nL 523.49625 0 \nL 0 0 \nz\n\" style=\"fill:none;\"/>\n  </g>\n  <g id=\"axes_1\">\n   <g id=\"patch_2\">\n    <path d=\"M 94.348125 240.238125 \nL 429.148125 240.238125 \nL 429.148125 22.798125 \nL 94.348125 22.798125 \nz\n\" style=\"fill:#ffffff;\"/>\n   </g>\n   <g id=\"patch_3\">\n    <path clip-path=\"url(#pd987b702ac)\" d=\"M 109.575541 240.238125 \nL 140.010981 240.238125 \nL 140.010981 48.421403 \nL 109.575541 48.421403 \nz\n\" style=\"fill:#98fb98;\"/>\n   </g>\n   <g id=\"patch_4\">\n    <path clip-path=\"url(#pd987b702ac)\" d=\"M 140.010981 240.238125 \nL 170.446421 240.238125 \nL 170.446421 37.923971 \nL 140.010981 37.923971 \nz\n\" style=\"fill:#98fb98;\"/>\n   </g>\n   <g id=\"patch_5\">\n    <path clip-path=\"url(#pd987b702ac)\" d=\"M 170.446421 240.238125 \nL 200.881861 240.238125 \nL 200.881861 62.736084 \nL 170.446421 62.736084 \nz\n\" style=\"fill:#98fb98;\"/>\n   </g>\n   <g id=\"patch_6\">\n    <path clip-path=\"url(#pd987b702ac)\" d=\"M 200.881861 240.238125 \nL 231.317302 240.238125 \nL 231.317302 54.147276 \nL 200.881861 54.147276 \nz\n\" style=\"fill:#98fb98;\"/>\n   </g>\n   <g id=\"patch_7\">\n    <path clip-path=\"url(#pd987b702ac)\" d=\"M 231.317302 240.238125 \nL 261.752742 240.238125 \nL 261.752742 53.192964 \nL 231.317302 53.192964 \nz\n\" style=\"fill:#98fb98;\"/>\n   </g>\n   <g id=\"patch_8\">\n    <path clip-path=\"url(#pd987b702ac)\" d=\"M 261.752742 240.238125 \nL 292.188182 240.238125 \nL 292.188182 57.010212 \nL 261.752742 57.010212 \nz\n\" style=\"fill:#98fb98;\"/>\n   </g>\n   <g id=\"patch_9\">\n    <path clip-path=\"url(#pd987b702ac)\" d=\"M 292.188182 240.238125 \nL 322.623622 240.238125 \nL 322.623622 38.878283 \nL 292.188182 38.878283 \nz\n\" style=\"fill:#98fb98;\"/>\n   </g>\n   <g id=\"patch_10\">\n    <path clip-path=\"url(#pd987b702ac)\" d=\"M 322.623622 240.238125 \nL 353.059063 240.238125 \nL 353.059063 48.421403 \nL 322.623622 48.421403 \nz\n\" style=\"fill:#98fb98;\"/>\n   </g>\n   <g id=\"patch_11\">\n    <path clip-path=\"url(#pd987b702ac)\" d=\"M 353.059063 240.238125 \nL 383.494503 240.238125 \nL 383.494503 45.558467 \nL 353.059063 45.558467 \nz\n\" style=\"fill:#98fb98;\"/>\n   </g>\n   <g id=\"patch_12\">\n    <path clip-path=\"url(#pd987b702ac)\" d=\"M 383.494503 240.238125 \nL 413.929943 240.238125 \nL 413.929943 47.467091 \nL 383.494503 47.467091 \nz\n\" style=\"fill:#98fb98;\"/>\n   </g>\n   <g id=\"matplotlib.axis_1\">\n    <g id=\"xtick_1\">\n     <g id=\"line2d_1\">\n      <defs>\n       <path d=\"M 0 0 \nL 0 3.5 \n\" id=\"m6b87f70300\" style=\"stroke:#000000;stroke-width:0.8;\"/>\n      </defs>\n      <g>\n       <use style=\"stroke:#000000;stroke-width:0.8;\" x=\"109.495997\" xlink:href=\"#m6b87f70300\" y=\"240.238125\"/>\n      </g>\n     </g>\n     <g id=\"text_1\">\n      <!-- 0.0 -->\n      <g transform=\"translate(101.544435 254.836562)scale(0.1 -0.1)\">\n       <defs>\n        <path d=\"M 2034 4250 \nQ 1547 4250 1301 3770 \nQ 1056 3291 1056 2328 \nQ 1056 1369 1301 889 \nQ 1547 409 2034 409 \nQ 2525 409 2770 889 \nQ 3016 1369 3016 2328 \nQ 3016 3291 2770 3770 \nQ 2525 4250 2034 4250 \nz\nM 2034 4750 \nQ 2819 4750 3233 4129 \nQ 3647 3509 3647 2328 \nQ 3647 1150 3233 529 \nQ 2819 -91 2034 -91 \nQ 1250 -91 836 529 \nQ 422 1150 422 2328 \nQ 422 3509 836 4129 \nQ 1250 4750 2034 4750 \nz\n\" id=\"DejaVuSans-30\" transform=\"scale(0.015625)\"/>\n        <path d=\"M 684 794 \nL 1344 794 \nL 1344 0 \nL 684 0 \nL 684 794 \nz\n\" id=\"DejaVuSans-2e\" transform=\"scale(0.015625)\"/>\n       </defs>\n       <use xlink:href=\"#DejaVuSans-30\"/>\n       <use x=\"63.623047\" xlink:href=\"#DejaVuSans-2e\"/>\n       <use x=\"95.410156\" xlink:href=\"#DejaVuSans-30\"/>\n      </g>\n     </g>\n    </g>\n    <g id=\"xtick_2\">\n     <g id=\"line2d_2\">\n      <g>\n       <use style=\"stroke:#000000;stroke-width:0.8;\" x=\"170.39927\" xlink:href=\"#m6b87f70300\" y=\"240.238125\"/>\n      </g>\n     </g>\n     <g id=\"text_2\">\n      <!-- 0.2 -->\n      <g transform=\"translate(162.447708 254.836562)scale(0.1 -0.1)\">\n       <defs>\n        <path d=\"M 1228 531 \nL 3431 531 \nL 3431 0 \nL 469 0 \nL 469 531 \nQ 828 903 1448 1529 \nQ 2069 2156 2228 2338 \nQ 2531 2678 2651 2914 \nQ 2772 3150 2772 3378 \nQ 2772 3750 2511 3984 \nQ 2250 4219 1831 4219 \nQ 1534 4219 1204 4116 \nQ 875 4013 500 3803 \nL 500 4441 \nQ 881 4594 1212 4672 \nQ 1544 4750 1819 4750 \nQ 2544 4750 2975 4387 \nQ 3406 4025 3406 3419 \nQ 3406 3131 3298 2873 \nQ 3191 2616 2906 2266 \nQ 2828 2175 2409 1742 \nQ 1991 1309 1228 531 \nz\n\" id=\"DejaVuSans-32\" transform=\"scale(0.015625)\"/>\n       </defs>\n       <use xlink:href=\"#DejaVuSans-30\"/>\n       <use x=\"63.623047\" xlink:href=\"#DejaVuSans-2e\"/>\n       <use x=\"95.410156\" xlink:href=\"#DejaVuSans-32\"/>\n      </g>\n     </g>\n    </g>\n    <g id=\"xtick_3\">\n     <g id=\"line2d_3\">\n      <g>\n       <use style=\"stroke:#000000;stroke-width:0.8;\" x=\"231.302543\" xlink:href=\"#m6b87f70300\" y=\"240.238125\"/>\n      </g>\n     </g>\n     <g id=\"text_3\">\n      <!-- 0.4 -->\n      <g transform=\"translate(223.350981 254.836562)scale(0.1 -0.1)\">\n       <defs>\n        <path d=\"M 2419 4116 \nL 825 1625 \nL 2419 1625 \nL 2419 4116 \nz\nM 2253 4666 \nL 3047 4666 \nL 3047 1625 \nL 3713 1625 \nL 3713 1100 \nL 3047 1100 \nL 3047 0 \nL 2419 0 \nL 2419 1100 \nL 313 1100 \nL 313 1709 \nL 2253 4666 \nz\n\" id=\"DejaVuSans-34\" transform=\"scale(0.015625)\"/>\n       </defs>\n       <use xlink:href=\"#DejaVuSans-30\"/>\n       <use x=\"63.623047\" xlink:href=\"#DejaVuSans-2e\"/>\n       <use x=\"95.410156\" xlink:href=\"#DejaVuSans-34\"/>\n      </g>\n     </g>\n    </g>\n    <g id=\"xtick_4\">\n     <g id=\"line2d_4\">\n      <g>\n       <use style=\"stroke:#000000;stroke-width:0.8;\" x=\"292.205816\" xlink:href=\"#m6b87f70300\" y=\"240.238125\"/>\n      </g>\n     </g>\n     <g id=\"text_4\">\n      <!-- 0.6 -->\n      <g transform=\"translate(284.254254 254.836562)scale(0.1 -0.1)\">\n       <defs>\n        <path d=\"M 2113 2584 \nQ 1688 2584 1439 2293 \nQ 1191 2003 1191 1497 \nQ 1191 994 1439 701 \nQ 1688 409 2113 409 \nQ 2538 409 2786 701 \nQ 3034 994 3034 1497 \nQ 3034 2003 2786 2293 \nQ 2538 2584 2113 2584 \nz\nM 3366 4563 \nL 3366 3988 \nQ 3128 4100 2886 4159 \nQ 2644 4219 2406 4219 \nQ 1781 4219 1451 3797 \nQ 1122 3375 1075 2522 \nQ 1259 2794 1537 2939 \nQ 1816 3084 2150 3084 \nQ 2853 3084 3261 2657 \nQ 3669 2231 3669 1497 \nQ 3669 778 3244 343 \nQ 2819 -91 2113 -91 \nQ 1303 -91 875 529 \nQ 447 1150 447 2328 \nQ 447 3434 972 4092 \nQ 1497 4750 2381 4750 \nQ 2619 4750 2861 4703 \nQ 3103 4656 3366 4563 \nz\n\" id=\"DejaVuSans-36\" transform=\"scale(0.015625)\"/>\n       </defs>\n       <use xlink:href=\"#DejaVuSans-30\"/>\n       <use x=\"63.623047\" xlink:href=\"#DejaVuSans-2e\"/>\n       <use x=\"95.410156\" xlink:href=\"#DejaVuSans-36\"/>\n      </g>\n     </g>\n    </g>\n    <g id=\"xtick_5\">\n     <g id=\"line2d_5\">\n      <g>\n       <use style=\"stroke:#000000;stroke-width:0.8;\" x=\"353.109089\" xlink:href=\"#m6b87f70300\" y=\"240.238125\"/>\n      </g>\n     </g>\n     <g id=\"text_5\">\n      <!-- 0.8 -->\n      <g transform=\"translate(345.157527 254.836562)scale(0.1 -0.1)\">\n       <defs>\n        <path d=\"M 2034 2216 \nQ 1584 2216 1326 1975 \nQ 1069 1734 1069 1313 \nQ 1069 891 1326 650 \nQ 1584 409 2034 409 \nQ 2484 409 2743 651 \nQ 3003 894 3003 1313 \nQ 3003 1734 2745 1975 \nQ 2488 2216 2034 2216 \nz\nM 1403 2484 \nQ 997 2584 770 2862 \nQ 544 3141 544 3541 \nQ 544 4100 942 4425 \nQ 1341 4750 2034 4750 \nQ 2731 4750 3128 4425 \nQ 3525 4100 3525 3541 \nQ 3525 3141 3298 2862 \nQ 3072 2584 2669 2484 \nQ 3125 2378 3379 2068 \nQ 3634 1759 3634 1313 \nQ 3634 634 3220 271 \nQ 2806 -91 2034 -91 \nQ 1263 -91 848 271 \nQ 434 634 434 1313 \nQ 434 1759 690 2068 \nQ 947 2378 1403 2484 \nz\nM 1172 3481 \nQ 1172 3119 1398 2916 \nQ 1625 2713 2034 2713 \nQ 2441 2713 2670 2916 \nQ 2900 3119 2900 3481 \nQ 2900 3844 2670 4047 \nQ 2441 4250 2034 4250 \nQ 1625 4250 1398 4047 \nQ 1172 3844 1172 3481 \nz\n\" id=\"DejaVuSans-38\" transform=\"scale(0.015625)\"/>\n       </defs>\n       <use xlink:href=\"#DejaVuSans-30\"/>\n       <use x=\"63.623047\" xlink:href=\"#DejaVuSans-2e\"/>\n       <use x=\"95.410156\" xlink:href=\"#DejaVuSans-38\"/>\n      </g>\n     </g>\n    </g>\n    <g id=\"xtick_6\">\n     <g id=\"line2d_6\">\n      <g>\n       <use style=\"stroke:#000000;stroke-width:0.8;\" x=\"414.012362\" xlink:href=\"#m6b87f70300\" y=\"240.238125\"/>\n      </g>\n     </g>\n     <g id=\"text_6\">\n      <!-- 1.0 -->\n      <g transform=\"translate(406.0608 254.836562)scale(0.1 -0.1)\">\n       <defs>\n        <path d=\"M 794 531 \nL 1825 531 \nL 1825 4091 \nL 703 3866 \nL 703 4441 \nL 1819 4666 \nL 2450 4666 \nL 2450 531 \nL 3481 531 \nL 3481 0 \nL 794 0 \nL 794 531 \nz\n\" id=\"DejaVuSans-31\" transform=\"scale(0.015625)\"/>\n       </defs>\n       <use xlink:href=\"#DejaVuSans-31\"/>\n       <use x=\"63.623047\" xlink:href=\"#DejaVuSans-2e\"/>\n       <use x=\"95.410156\" xlink:href=\"#DejaVuSans-30\"/>\n      </g>\n     </g>\n    </g>\n   </g>\n   <g id=\"matplotlib.axis_2\">\n    <g id=\"ytick_1\">\n     <g id=\"line2d_7\">\n      <defs>\n       <path d=\"M 0 0 \nL -3.5 0 \n\" id=\"m5ff6508315\" style=\"stroke:#000000;stroke-width:0.8;\"/>\n      </defs>\n      <g>\n       <use style=\"stroke:#000000;stroke-width:0.8;\" x=\"94.348125\" xlink:href=\"#m5ff6508315\" y=\"240.238125\"/>\n      </g>\n     </g>\n     <g id=\"text_7\">\n      <!-- 0 -->\n      <g transform=\"translate(80.985625 244.037344)scale(0.1 -0.1)\">\n       <use xlink:href=\"#DejaVuSans-30\"/>\n      </g>\n     </g>\n    </g>\n    <g id=\"ytick_2\">\n     <g id=\"line2d_8\">\n      <g>\n       <use style=\"stroke:#000000;stroke-width:0.8;\" x=\"94.348125\" xlink:href=\"#m5ff6508315\" y=\"192.522523\"/>\n      </g>\n     </g>\n     <g id=\"text_8\">\n      <!-- 50 -->\n      <g transform=\"translate(74.623125 196.321741)scale(0.1 -0.1)\">\n       <defs>\n        <path d=\"M 691 4666 \nL 3169 4666 \nL 3169 4134 \nL 1269 4134 \nL 1269 2991 \nQ 1406 3038 1543 3061 \nQ 1681 3084 1819 3084 \nQ 2600 3084 3056 2656 \nQ 3513 2228 3513 1497 \nQ 3513 744 3044 326 \nQ 2575 -91 1722 -91 \nQ 1428 -91 1123 -41 \nQ 819 9 494 109 \nL 494 744 \nQ 775 591 1075 516 \nQ 1375 441 1709 441 \nQ 2250 441 2565 725 \nQ 2881 1009 2881 1497 \nQ 2881 1984 2565 2268 \nQ 2250 2553 1709 2553 \nQ 1456 2553 1204 2497 \nQ 953 2441 691 2322 \nL 691 4666 \nz\n\" id=\"DejaVuSans-35\" transform=\"scale(0.015625)\"/>\n       </defs>\n       <use xlink:href=\"#DejaVuSans-35\"/>\n       <use x=\"63.623047\" xlink:href=\"#DejaVuSans-30\"/>\n      </g>\n     </g>\n    </g>\n    <g id=\"ytick_3\">\n     <g id=\"line2d_9\">\n      <g>\n       <use style=\"stroke:#000000;stroke-width:0.8;\" x=\"94.348125\" xlink:href=\"#m5ff6508315\" y=\"144.80692\"/>\n      </g>\n     </g>\n     <g id=\"text_9\">\n      <!-- 100 -->\n      <g transform=\"translate(68.260625 148.606139)scale(0.1 -0.1)\">\n       <use xlink:href=\"#DejaVuSans-31\"/>\n       <use x=\"63.623047\" xlink:href=\"#DejaVuSans-30\"/>\n       <use x=\"127.246094\" xlink:href=\"#DejaVuSans-30\"/>\n      </g>\n     </g>\n    </g>\n    <g id=\"ytick_4\">\n     <g id=\"line2d_10\">\n      <g>\n       <use style=\"stroke:#000000;stroke-width:0.8;\" x=\"94.348125\" xlink:href=\"#m5ff6508315\" y=\"97.091318\"/>\n      </g>\n     </g>\n     <g id=\"text_10\">\n      <!-- 150 -->\n      <g transform=\"translate(68.260625 100.890537)scale(0.1 -0.1)\">\n       <use xlink:href=\"#DejaVuSans-31\"/>\n       <use x=\"63.623047\" xlink:href=\"#DejaVuSans-35\"/>\n       <use x=\"127.246094\" xlink:href=\"#DejaVuSans-30\"/>\n      </g>\n     </g>\n    </g>\n    <g id=\"ytick_5\">\n     <g id=\"line2d_11\">\n      <g>\n       <use style=\"stroke:#000000;stroke-width:0.8;\" x=\"94.348125\" xlink:href=\"#m5ff6508315\" y=\"49.375716\"/>\n      </g>\n     </g>\n     <g id=\"text_11\">\n      <!-- 200 -->\n      <g transform=\"translate(68.260625 53.174934)scale(0.1 -0.1)\">\n       <use xlink:href=\"#DejaVuSans-32\"/>\n       <use x=\"63.623047\" xlink:href=\"#DejaVuSans-30\"/>\n       <use x=\"127.246094\" xlink:href=\"#DejaVuSans-30\"/>\n      </g>\n     </g>\n    </g>\n    <g id=\"text_12\">\n     <!-- Count -->\n     <g transform=\"translate(62.180937 146.366562)rotate(-90)scale(0.1 -0.1)\">\n      <defs>\n       <path d=\"M 4122 4306 \nL 4122 3641 \nQ 3803 3938 3442 4084 \nQ 3081 4231 2675 4231 \nQ 1875 4231 1450 3742 \nQ 1025 3253 1025 2328 \nQ 1025 1406 1450 917 \nQ 1875 428 2675 428 \nQ 3081 428 3442 575 \nQ 3803 722 4122 1019 \nL 4122 359 \nQ 3791 134 3420 21 \nQ 3050 -91 2638 -91 \nQ 1578 -91 968 557 \nQ 359 1206 359 2328 \nQ 359 3453 968 4101 \nQ 1578 4750 2638 4750 \nQ 3056 4750 3426 4639 \nQ 3797 4528 4122 4306 \nz\n\" id=\"DejaVuSans-43\" transform=\"scale(0.015625)\"/>\n       <path d=\"M 1959 3097 \nQ 1497 3097 1228 2736 \nQ 959 2375 959 1747 \nQ 959 1119 1226 758 \nQ 1494 397 1959 397 \nQ 2419 397 2687 759 \nQ 2956 1122 2956 1747 \nQ 2956 2369 2687 2733 \nQ 2419 3097 1959 3097 \nz\nM 1959 3584 \nQ 2709 3584 3137 3096 \nQ 3566 2609 3566 1747 \nQ 3566 888 3137 398 \nQ 2709 -91 1959 -91 \nQ 1206 -91 779 398 \nQ 353 888 353 1747 \nQ 353 2609 779 3096 \nQ 1206 3584 1959 3584 \nz\n\" id=\"DejaVuSans-6f\" transform=\"scale(0.015625)\"/>\n       <path d=\"M 544 1381 \nL 544 3500 \nL 1119 3500 \nL 1119 1403 \nQ 1119 906 1312 657 \nQ 1506 409 1894 409 \nQ 2359 409 2629 706 \nQ 2900 1003 2900 1516 \nL 2900 3500 \nL 3475 3500 \nL 3475 0 \nL 2900 0 \nL 2900 538 \nQ 2691 219 2414 64 \nQ 2138 -91 1772 -91 \nQ 1169 -91 856 284 \nQ 544 659 544 1381 \nz\nM 1991 3584 \nL 1991 3584 \nz\n\" id=\"DejaVuSans-75\" transform=\"scale(0.015625)\"/>\n       <path d=\"M 3513 2113 \nL 3513 0 \nL 2938 0 \nL 2938 2094 \nQ 2938 2591 2744 2837 \nQ 2550 3084 2163 3084 \nQ 1697 3084 1428 2787 \nQ 1159 2491 1159 1978 \nL 1159 0 \nL 581 0 \nL 581 3500 \nL 1159 3500 \nL 1159 2956 \nQ 1366 3272 1645 3428 \nQ 1925 3584 2291 3584 \nQ 2894 3584 3203 3211 \nQ 3513 2838 3513 2113 \nz\n\" id=\"DejaVuSans-6e\" transform=\"scale(0.015625)\"/>\n       <path d=\"M 1172 4494 \nL 1172 3500 \nL 2356 3500 \nL 2356 3053 \nL 1172 3053 \nL 1172 1153 \nQ 1172 725 1289 603 \nQ 1406 481 1766 481 \nL 2356 481 \nL 2356 0 \nL 1766 0 \nQ 1100 0 847 248 \nQ 594 497 594 1153 \nL 594 3053 \nL 172 3053 \nL 172 3500 \nL 594 3500 \nL 594 4494 \nL 1172 4494 \nz\n\" id=\"DejaVuSans-74\" transform=\"scale(0.015625)\"/>\n      </defs>\n      <use xlink:href=\"#DejaVuSans-43\"/>\n      <use x=\"69.824219\" xlink:href=\"#DejaVuSans-6f\"/>\n      <use x=\"131.005859\" xlink:href=\"#DejaVuSans-75\"/>\n      <use x=\"194.384766\" xlink:href=\"#DejaVuSans-6e\"/>\n      <use x=\"257.763672\" xlink:href=\"#DejaVuSans-74\"/>\n     </g>\n    </g>\n   </g>\n   <g id=\"patch_13\">\n    <path clip-path=\"url(#pd987b702ac)\" d=\"M 109.566307 240.238125 \nL 109.566307 64.644708 \nL 139.982439 64.644708 \nL 139.982439 35.061035 \nL 170.398572 35.061035 \nL 170.398572 40.786907 \nL 200.814704 40.786907 \nL 200.814704 48.421403 \nL 231.230837 48.421403 \nL 231.230837 53.192964 \nL 261.646969 53.192964 \nL 261.646969 39.832595 \nL 292.063102 39.832595 \nL 292.063102 36.969659 \nL 322.479234 36.969659 \nL 322.479234 70.370581 \nL 352.895367 70.370581 \nL 352.895367 33.152411 \nL 383.311499 33.152411 \nL 383.311499 71.324893 \nL 413.727632 71.324893 \nL 413.727632 240.238125 \n\" style=\"fill:none;stroke:#00008b;stroke-linejoin:miter;\"/>\n   </g>\n   <g id=\"patch_14\">\n    <path d=\"M 94.348125 240.238125 \nL 94.348125 22.798125 \n\" style=\"fill:none;stroke:#000000;stroke-linecap:square;stroke-linejoin:miter;stroke-width:0.8;\"/>\n   </g>\n   <g id=\"patch_15\">\n    <path d=\"M 429.148125 240.238125 \nL 429.148125 22.798125 \n\" style=\"fill:none;stroke:#000000;stroke-linecap:square;stroke-linejoin:miter;stroke-width:0.8;\"/>\n   </g>\n   <g id=\"patch_16\">\n    <path d=\"M 94.348125 240.238125 \nL 429.148125 240.238125 \n\" style=\"fill:none;stroke:#000000;stroke-linecap:square;stroke-linejoin:miter;stroke-width:0.8;\"/>\n   </g>\n   <g id=\"patch_17\">\n    <path d=\"M 94.348125 22.798125 \nL 429.148125 22.798125 \n\" style=\"fill:none;stroke:#000000;stroke-linecap:square;stroke-linejoin:miter;stroke-width:0.8;\"/>\n   </g>\n   <g id=\"text_13\">\n    <!-- Comparaison entre les nombres que nous avons générés et ceux du module random -->\n    <g transform=\"translate(7.2 16.798125)scale(0.12 -0.12)\">\n     <defs>\n      <path d=\"M 3328 2828 \nQ 3544 3216 3844 3400 \nQ 4144 3584 4550 3584 \nQ 5097 3584 5394 3201 \nQ 5691 2819 5691 2113 \nL 5691 0 \nL 5113 0 \nL 5113 2094 \nQ 5113 2597 4934 2840 \nQ 4756 3084 4391 3084 \nQ 3944 3084 3684 2787 \nQ 3425 2491 3425 1978 \nL 3425 0 \nL 2847 0 \nL 2847 2094 \nQ 2847 2600 2669 2842 \nQ 2491 3084 2119 3084 \nQ 1678 3084 1418 2786 \nQ 1159 2488 1159 1978 \nL 1159 0 \nL 581 0 \nL 581 3500 \nL 1159 3500 \nL 1159 2956 \nQ 1356 3278 1631 3431 \nQ 1906 3584 2284 3584 \nQ 2666 3584 2933 3390 \nQ 3200 3197 3328 2828 \nz\n\" id=\"DejaVuSans-6d\" transform=\"scale(0.015625)\"/>\n      <path d=\"M 1159 525 \nL 1159 -1331 \nL 581 -1331 \nL 581 3500 \nL 1159 3500 \nL 1159 2969 \nQ 1341 3281 1617 3432 \nQ 1894 3584 2278 3584 \nQ 2916 3584 3314 3078 \nQ 3713 2572 3713 1747 \nQ 3713 922 3314 415 \nQ 2916 -91 2278 -91 \nQ 1894 -91 1617 61 \nQ 1341 213 1159 525 \nz\nM 3116 1747 \nQ 3116 2381 2855 2742 \nQ 2594 3103 2138 3103 \nQ 1681 3103 1420 2742 \nQ 1159 2381 1159 1747 \nQ 1159 1113 1420 752 \nQ 1681 391 2138 391 \nQ 2594 391 2855 752 \nQ 3116 1113 3116 1747 \nz\n\" id=\"DejaVuSans-70\" transform=\"scale(0.015625)\"/>\n      <path d=\"M 2194 1759 \nQ 1497 1759 1228 1600 \nQ 959 1441 959 1056 \nQ 959 750 1161 570 \nQ 1363 391 1709 391 \nQ 2188 391 2477 730 \nQ 2766 1069 2766 1631 \nL 2766 1759 \nL 2194 1759 \nz\nM 3341 1997 \nL 3341 0 \nL 2766 0 \nL 2766 531 \nQ 2569 213 2275 61 \nQ 1981 -91 1556 -91 \nQ 1019 -91 701 211 \nQ 384 513 384 1019 \nQ 384 1609 779 1909 \nQ 1175 2209 1959 2209 \nL 2766 2209 \nL 2766 2266 \nQ 2766 2663 2505 2880 \nQ 2244 3097 1772 3097 \nQ 1472 3097 1187 3025 \nQ 903 2953 641 2809 \nL 641 3341 \nQ 956 3463 1253 3523 \nQ 1550 3584 1831 3584 \nQ 2591 3584 2966 3190 \nQ 3341 2797 3341 1997 \nz\n\" id=\"DejaVuSans-61\" transform=\"scale(0.015625)\"/>\n      <path d=\"M 2631 2963 \nQ 2534 3019 2420 3045 \nQ 2306 3072 2169 3072 \nQ 1681 3072 1420 2755 \nQ 1159 2438 1159 1844 \nL 1159 0 \nL 581 0 \nL 581 3500 \nL 1159 3500 \nL 1159 2956 \nQ 1341 3275 1631 3429 \nQ 1922 3584 2338 3584 \nQ 2397 3584 2469 3576 \nQ 2541 3569 2628 3553 \nL 2631 2963 \nz\n\" id=\"DejaVuSans-72\" transform=\"scale(0.015625)\"/>\n      <path d=\"M 603 3500 \nL 1178 3500 \nL 1178 0 \nL 603 0 \nL 603 3500 \nz\nM 603 4863 \nL 1178 4863 \nL 1178 4134 \nL 603 4134 \nL 603 4863 \nz\n\" id=\"DejaVuSans-69\" transform=\"scale(0.015625)\"/>\n      <path d=\"M 2834 3397 \nL 2834 2853 \nQ 2591 2978 2328 3040 \nQ 2066 3103 1784 3103 \nQ 1356 3103 1142 2972 \nQ 928 2841 928 2578 \nQ 928 2378 1081 2264 \nQ 1234 2150 1697 2047 \nL 1894 2003 \nQ 2506 1872 2764 1633 \nQ 3022 1394 3022 966 \nQ 3022 478 2636 193 \nQ 2250 -91 1575 -91 \nQ 1294 -91 989 -36 \nQ 684 19 347 128 \nL 347 722 \nQ 666 556 975 473 \nQ 1284 391 1588 391 \nQ 1994 391 2212 530 \nQ 2431 669 2431 922 \nQ 2431 1156 2273 1281 \nQ 2116 1406 1581 1522 \nL 1381 1569 \nQ 847 1681 609 1914 \nQ 372 2147 372 2553 \nQ 372 3047 722 3315 \nQ 1072 3584 1716 3584 \nQ 2034 3584 2315 3537 \nQ 2597 3491 2834 3397 \nz\n\" id=\"DejaVuSans-73\" transform=\"scale(0.015625)\"/>\n      <path id=\"DejaVuSans-20\" transform=\"scale(0.015625)\"/>\n      <path d=\"M 3597 1894 \nL 3597 1613 \nL 953 1613 \nQ 991 1019 1311 708 \nQ 1631 397 2203 397 \nQ 2534 397 2845 478 \nQ 3156 559 3463 722 \nL 3463 178 \nQ 3153 47 2828 -22 \nQ 2503 -91 2169 -91 \nQ 1331 -91 842 396 \nQ 353 884 353 1716 \nQ 353 2575 817 3079 \nQ 1281 3584 2069 3584 \nQ 2775 3584 3186 3129 \nQ 3597 2675 3597 1894 \nz\nM 3022 2063 \nQ 3016 2534 2758 2815 \nQ 2500 3097 2075 3097 \nQ 1594 3097 1305 2825 \nQ 1016 2553 972 2059 \nL 3022 2063 \nz\n\" id=\"DejaVuSans-65\" transform=\"scale(0.015625)\"/>\n      <path d=\"M 603 4863 \nL 1178 4863 \nL 1178 0 \nL 603 0 \nL 603 4863 \nz\n\" id=\"DejaVuSans-6c\" transform=\"scale(0.015625)\"/>\n      <path d=\"M 3116 1747 \nQ 3116 2381 2855 2742 \nQ 2594 3103 2138 3103 \nQ 1681 3103 1420 2742 \nQ 1159 2381 1159 1747 \nQ 1159 1113 1420 752 \nQ 1681 391 2138 391 \nQ 2594 391 2855 752 \nQ 3116 1113 3116 1747 \nz\nM 1159 2969 \nQ 1341 3281 1617 3432 \nQ 1894 3584 2278 3584 \nQ 2916 3584 3314 3078 \nQ 3713 2572 3713 1747 \nQ 3713 922 3314 415 \nQ 2916 -91 2278 -91 \nQ 1894 -91 1617 61 \nQ 1341 213 1159 525 \nL 1159 0 \nL 581 0 \nL 581 4863 \nL 1159 4863 \nL 1159 2969 \nz\n\" id=\"DejaVuSans-62\" transform=\"scale(0.015625)\"/>\n      <path d=\"M 947 1747 \nQ 947 1113 1208 752 \nQ 1469 391 1925 391 \nQ 2381 391 2643 752 \nQ 2906 1113 2906 1747 \nQ 2906 2381 2643 2742 \nQ 2381 3103 1925 3103 \nQ 1469 3103 1208 2742 \nQ 947 2381 947 1747 \nz\nM 2906 525 \nQ 2725 213 2448 61 \nQ 2172 -91 1784 -91 \nQ 1150 -91 751 415 \nQ 353 922 353 1747 \nQ 353 2572 751 3078 \nQ 1150 3584 1784 3584 \nQ 2172 3584 2448 3432 \nQ 2725 3281 2906 2969 \nL 2906 3500 \nL 3481 3500 \nL 3481 -1331 \nL 2906 -1331 \nL 2906 525 \nz\n\" id=\"DejaVuSans-71\" transform=\"scale(0.015625)\"/>\n      <path d=\"M 191 3500 \nL 800 3500 \nL 1894 563 \nL 2988 3500 \nL 3597 3500 \nL 2284 0 \nL 1503 0 \nL 191 3500 \nz\n\" id=\"DejaVuSans-76\" transform=\"scale(0.015625)\"/>\n      <path d=\"M 2906 1791 \nQ 2906 2416 2648 2759 \nQ 2391 3103 1925 3103 \nQ 1463 3103 1205 2759 \nQ 947 2416 947 1791 \nQ 947 1169 1205 825 \nQ 1463 481 1925 481 \nQ 2391 481 2648 825 \nQ 2906 1169 2906 1791 \nz\nM 3481 434 \nQ 3481 -459 3084 -895 \nQ 2688 -1331 1869 -1331 \nQ 1566 -1331 1297 -1286 \nQ 1028 -1241 775 -1147 \nL 775 -588 \nQ 1028 -725 1275 -790 \nQ 1522 -856 1778 -856 \nQ 2344 -856 2625 -561 \nQ 2906 -266 2906 331 \nL 2906 616 \nQ 2728 306 2450 153 \nQ 2172 0 1784 0 \nQ 1141 0 747 490 \nQ 353 981 353 1791 \nQ 353 2603 747 3093 \nQ 1141 3584 1784 3584 \nQ 2172 3584 2450 3431 \nQ 2728 3278 2906 2969 \nL 2906 3500 \nL 3481 3500 \nL 3481 434 \nz\n\" id=\"DejaVuSans-67\" transform=\"scale(0.015625)\"/>\n      <path d=\"M 3597 1894 \nL 3597 1613 \nL 953 1613 \nQ 991 1019 1311 708 \nQ 1631 397 2203 397 \nQ 2534 397 2845 478 \nQ 3156 559 3463 722 \nL 3463 178 \nQ 3153 47 2828 -22 \nQ 2503 -91 2169 -91 \nQ 1331 -91 842 396 \nQ 353 884 353 1716 \nQ 353 2575 817 3079 \nQ 1281 3584 2069 3584 \nQ 2775 3584 3186 3129 \nQ 3597 2675 3597 1894 \nz\nM 3022 2063 \nQ 3016 2534 2758 2815 \nQ 2500 3097 2075 3097 \nQ 1594 3097 1305 2825 \nQ 1016 2553 972 2059 \nL 3022 2063 \nz\nM 2469 5119 \nL 3091 5119 \nL 2072 3944 \nL 1594 3944 \nL 2469 5119 \nz\n\" id=\"DejaVuSans-e9\" transform=\"scale(0.015625)\"/>\n      <path d=\"M 3122 3366 \nL 3122 2828 \nQ 2878 2963 2633 3030 \nQ 2388 3097 2138 3097 \nQ 1578 3097 1268 2742 \nQ 959 2388 959 1747 \nQ 959 1106 1268 751 \nQ 1578 397 2138 397 \nQ 2388 397 2633 464 \nQ 2878 531 3122 666 \nL 3122 134 \nQ 2881 22 2623 -34 \nQ 2366 -91 2075 -91 \nQ 1284 -91 818 406 \nQ 353 903 353 1747 \nQ 353 2603 823 3093 \nQ 1294 3584 2113 3584 \nQ 2378 3584 2631 3529 \nQ 2884 3475 3122 3366 \nz\n\" id=\"DejaVuSans-63\" transform=\"scale(0.015625)\"/>\n      <path d=\"M 3513 3500 \nL 2247 1797 \nL 3578 0 \nL 2900 0 \nL 1881 1375 \nL 863 0 \nL 184 0 \nL 1544 1831 \nL 300 3500 \nL 978 3500 \nL 1906 2253 \nL 2834 3500 \nL 3513 3500 \nz\n\" id=\"DejaVuSans-78\" transform=\"scale(0.015625)\"/>\n      <path d=\"M 2906 2969 \nL 2906 4863 \nL 3481 4863 \nL 3481 0 \nL 2906 0 \nL 2906 525 \nQ 2725 213 2448 61 \nQ 2172 -91 1784 -91 \nQ 1150 -91 751 415 \nQ 353 922 353 1747 \nQ 353 2572 751 3078 \nQ 1150 3584 1784 3584 \nQ 2172 3584 2448 3432 \nQ 2725 3281 2906 2969 \nz\nM 947 1747 \nQ 947 1113 1208 752 \nQ 1469 391 1925 391 \nQ 2381 391 2643 752 \nQ 2906 1113 2906 1747 \nQ 2906 2381 2643 2742 \nQ 2381 3103 1925 3103 \nQ 1469 3103 1208 2742 \nQ 947 2381 947 1747 \nz\n\" id=\"DejaVuSans-64\" transform=\"scale(0.015625)\"/>\n     </defs>\n     <use xlink:href=\"#DejaVuSans-43\"/>\n     <use x=\"69.824219\" xlink:href=\"#DejaVuSans-6f\"/>\n     <use x=\"131.005859\" xlink:href=\"#DejaVuSans-6d\"/>\n     <use x=\"228.417969\" xlink:href=\"#DejaVuSans-70\"/>\n     <use x=\"291.894531\" xlink:href=\"#DejaVuSans-61\"/>\n     <use x=\"353.173828\" xlink:href=\"#DejaVuSans-72\"/>\n     <use x=\"394.287109\" xlink:href=\"#DejaVuSans-61\"/>\n     <use x=\"455.566406\" xlink:href=\"#DejaVuSans-69\"/>\n     <use x=\"483.349609\" xlink:href=\"#DejaVuSans-73\"/>\n     <use x=\"535.449219\" xlink:href=\"#DejaVuSans-6f\"/>\n     <use x=\"596.630859\" xlink:href=\"#DejaVuSans-6e\"/>\n     <use x=\"660.009766\" xlink:href=\"#DejaVuSans-20\"/>\n     <use x=\"691.796875\" xlink:href=\"#DejaVuSans-65\"/>\n     <use x=\"753.320312\" xlink:href=\"#DejaVuSans-6e\"/>\n     <use x=\"816.699219\" xlink:href=\"#DejaVuSans-74\"/>\n     <use x=\"855.908203\" xlink:href=\"#DejaVuSans-72\"/>\n     <use x=\"894.771484\" xlink:href=\"#DejaVuSans-65\"/>\n     <use x=\"956.294922\" xlink:href=\"#DejaVuSans-20\"/>\n     <use x=\"988.082031\" xlink:href=\"#DejaVuSans-6c\"/>\n     <use x=\"1015.865234\" xlink:href=\"#DejaVuSans-65\"/>\n     <use x=\"1077.388672\" xlink:href=\"#DejaVuSans-73\"/>\n     <use x=\"1129.488281\" xlink:href=\"#DejaVuSans-20\"/>\n     <use x=\"1161.275391\" xlink:href=\"#DejaVuSans-6e\"/>\n     <use x=\"1224.654297\" xlink:href=\"#DejaVuSans-6f\"/>\n     <use x=\"1285.835938\" xlink:href=\"#DejaVuSans-6d\"/>\n     <use x=\"1383.248047\" xlink:href=\"#DejaVuSans-62\"/>\n     <use x=\"1446.724609\" xlink:href=\"#DejaVuSans-72\"/>\n     <use x=\"1485.587891\" xlink:href=\"#DejaVuSans-65\"/>\n     <use x=\"1547.111328\" xlink:href=\"#DejaVuSans-73\"/>\n     <use x=\"1599.210938\" xlink:href=\"#DejaVuSans-20\"/>\n     <use x=\"1630.998047\" xlink:href=\"#DejaVuSans-71\"/>\n     <use x=\"1694.474609\" xlink:href=\"#DejaVuSans-75\"/>\n     <use x=\"1757.853516\" xlink:href=\"#DejaVuSans-65\"/>\n     <use x=\"1819.376953\" xlink:href=\"#DejaVuSans-20\"/>\n     <use x=\"1851.164062\" xlink:href=\"#DejaVuSans-6e\"/>\n     <use x=\"1914.542969\" xlink:href=\"#DejaVuSans-6f\"/>\n     <use x=\"1975.724609\" xlink:href=\"#DejaVuSans-75\"/>\n     <use x=\"2039.103516\" xlink:href=\"#DejaVuSans-73\"/>\n     <use x=\"2091.203125\" xlink:href=\"#DejaVuSans-20\"/>\n     <use x=\"2122.990234\" xlink:href=\"#DejaVuSans-61\"/>\n     <use x=\"2184.269531\" xlink:href=\"#DejaVuSans-76\"/>\n     <use x=\"2243.449219\" xlink:href=\"#DejaVuSans-6f\"/>\n     <use x=\"2304.630859\" xlink:href=\"#DejaVuSans-6e\"/>\n     <use x=\"2368.009766\" xlink:href=\"#DejaVuSans-73\"/>\n     <use x=\"2420.109375\" xlink:href=\"#DejaVuSans-20\"/>\n     <use x=\"2451.896484\" xlink:href=\"#DejaVuSans-67\"/>\n     <use x=\"2515.373047\" xlink:href=\"#DejaVuSans-e9\"/>\n     <use x=\"2576.896484\" xlink:href=\"#DejaVuSans-6e\"/>\n     <use x=\"2640.275391\" xlink:href=\"#DejaVuSans-e9\"/>\n     <use x=\"2701.798828\" xlink:href=\"#DejaVuSans-72\"/>\n     <use x=\"2740.662109\" xlink:href=\"#DejaVuSans-e9\"/>\n     <use x=\"2802.185547\" xlink:href=\"#DejaVuSans-73\"/>\n     <use x=\"2854.285156\" xlink:href=\"#DejaVuSans-20\"/>\n     <use x=\"2886.072266\" xlink:href=\"#DejaVuSans-65\"/>\n     <use x=\"2947.595703\" xlink:href=\"#DejaVuSans-74\"/>\n     <use x=\"2986.804688\" xlink:href=\"#DejaVuSans-20\"/>\n     <use x=\"3018.591797\" xlink:href=\"#DejaVuSans-63\"/>\n     <use x=\"3073.572266\" xlink:href=\"#DejaVuSans-65\"/>\n     <use x=\"3135.095703\" xlink:href=\"#DejaVuSans-75\"/>\n     <use x=\"3198.474609\" xlink:href=\"#DejaVuSans-78\"/>\n     <use x=\"3257.654297\" xlink:href=\"#DejaVuSans-20\"/>\n     <use x=\"3289.441406\" xlink:href=\"#DejaVuSans-64\"/>\n     <use x=\"3352.917969\" xlink:href=\"#DejaVuSans-75\"/>\n     <use x=\"3416.296875\" xlink:href=\"#DejaVuSans-20\"/>\n     <use x=\"3448.083984\" xlink:href=\"#DejaVuSans-6d\"/>\n     <use x=\"3545.496094\" xlink:href=\"#DejaVuSans-6f\"/>\n     <use x=\"3606.677734\" xlink:href=\"#DejaVuSans-64\"/>\n     <use x=\"3670.154297\" xlink:href=\"#DejaVuSans-75\"/>\n     <use x=\"3733.533203\" xlink:href=\"#DejaVuSans-6c\"/>\n     <use x=\"3761.316406\" xlink:href=\"#DejaVuSans-65\"/>\n     <use x=\"3822.839844\" xlink:href=\"#DejaVuSans-20\"/>\n     <use x=\"3854.626953\" xlink:href=\"#DejaVuSans-72\"/>\n     <use x=\"3895.740234\" xlink:href=\"#DejaVuSans-61\"/>\n     <use x=\"3957.019531\" xlink:href=\"#DejaVuSans-6e\"/>\n     <use x=\"4020.398438\" xlink:href=\"#DejaVuSans-64\"/>\n     <use x=\"4083.875\" xlink:href=\"#DejaVuSans-6f\"/>\n     <use x=\"4145.056641\" xlink:href=\"#DejaVuSans-6d\"/>\n    </g>\n   </g>\n   <g id=\"legend_1\">\n    <g id=\"patch_18\">\n     <path d=\"M 324.366875 235.238125 \nL 422.148125 235.238125 \nQ 424.148125 235.238125 424.148125 233.238125 \nL 424.148125 204.881875 \nQ 424.148125 202.881875 422.148125 202.881875 \nL 324.366875 202.881875 \nQ 322.366875 202.881875 322.366875 204.881875 \nL 322.366875 233.238125 \nQ 322.366875 235.238125 324.366875 235.238125 \nz\n\" style=\"fill:#ffffff;opacity:0.8;stroke:#cccccc;stroke-linejoin:miter;\"/>\n    </g>\n    <g id=\"patch_19\">\n     <path d=\"M 326.366875 214.480312 \nL 346.366875 214.480312 \nL 346.366875 207.480312 \nL 326.366875 207.480312 \nz\n\" style=\"fill:none;stroke:#00008b;stroke-linejoin:miter;\"/>\n    </g>\n    <g id=\"text_14\">\n     <!-- Python -->\n     <g transform=\"translate(354.366875 214.480312)scale(0.1 -0.1)\">\n      <defs>\n       <path d=\"M 1259 4147 \nL 1259 2394 \nL 2053 2394 \nQ 2494 2394 2734 2622 \nQ 2975 2850 2975 3272 \nQ 2975 3691 2734 3919 \nQ 2494 4147 2053 4147 \nL 1259 4147 \nz\nM 628 4666 \nL 2053 4666 \nQ 2838 4666 3239 4311 \nQ 3641 3956 3641 3272 \nQ 3641 2581 3239 2228 \nQ 2838 1875 2053 1875 \nL 1259 1875 \nL 1259 0 \nL 628 0 \nL 628 4666 \nz\n\" id=\"DejaVuSans-50\" transform=\"scale(0.015625)\"/>\n       <path d=\"M 2059 -325 \nQ 1816 -950 1584 -1140 \nQ 1353 -1331 966 -1331 \nL 506 -1331 \nL 506 -850 \nL 844 -850 \nQ 1081 -850 1212 -737 \nQ 1344 -625 1503 -206 \nL 1606 56 \nL 191 3500 \nL 800 3500 \nL 1894 763 \nL 2988 3500 \nL 3597 3500 \nL 2059 -325 \nz\n\" id=\"DejaVuSans-79\" transform=\"scale(0.015625)\"/>\n       <path d=\"M 3513 2113 \nL 3513 0 \nL 2938 0 \nL 2938 2094 \nQ 2938 2591 2744 2837 \nQ 2550 3084 2163 3084 \nQ 1697 3084 1428 2787 \nQ 1159 2491 1159 1978 \nL 1159 0 \nL 581 0 \nL 581 4863 \nL 1159 4863 \nL 1159 2956 \nQ 1366 3272 1645 3428 \nQ 1925 3584 2291 3584 \nQ 2894 3584 3203 3211 \nQ 3513 2838 3513 2113 \nz\n\" id=\"DejaVuSans-68\" transform=\"scale(0.015625)\"/>\n      </defs>\n      <use xlink:href=\"#DejaVuSans-50\"/>\n      <use x=\"60.302734\" xlink:href=\"#DejaVuSans-79\"/>\n      <use x=\"119.482422\" xlink:href=\"#DejaVuSans-74\"/>\n      <use x=\"158.691406\" xlink:href=\"#DejaVuSans-68\"/>\n      <use x=\"222.070312\" xlink:href=\"#DejaVuSans-6f\"/>\n      <use x=\"283.251953\" xlink:href=\"#DejaVuSans-6e\"/>\n     </g>\n    </g>\n    <g id=\"patch_20\">\n     <path d=\"M 326.366875 229.158437 \nL 346.366875 229.158437 \nL 346.366875 222.158437 \nL 326.366875 222.158437 \nz\n\" style=\"fill:#98fb98;\"/>\n    </g>\n    <g id=\"text_15\">\n     <!-- Nos nombres -->\n     <g transform=\"translate(354.366875 229.158437)scale(0.1 -0.1)\">\n      <defs>\n       <path d=\"M 628 4666 \nL 1478 4666 \nL 3547 763 \nL 3547 4666 \nL 4159 4666 \nL 4159 0 \nL 3309 0 \nL 1241 3903 \nL 1241 0 \nL 628 0 \nL 628 4666 \nz\n\" id=\"DejaVuSans-4e\" transform=\"scale(0.015625)\"/>\n      </defs>\n      <use xlink:href=\"#DejaVuSans-4e\"/>\n      <use x=\"74.804688\" xlink:href=\"#DejaVuSans-6f\"/>\n      <use x=\"135.986328\" xlink:href=\"#DejaVuSans-73\"/>\n      <use x=\"188.085938\" xlink:href=\"#DejaVuSans-20\"/>\n      <use x=\"219.873047\" xlink:href=\"#DejaVuSans-6e\"/>\n      <use x=\"283.251953\" xlink:href=\"#DejaVuSans-6f\"/>\n      <use x=\"344.433594\" xlink:href=\"#DejaVuSans-6d\"/>\n      <use x=\"441.845703\" xlink:href=\"#DejaVuSans-62\"/>\n      <use x=\"505.322266\" xlink:href=\"#DejaVuSans-72\"/>\n      <use x=\"544.185547\" xlink:href=\"#DejaVuSans-65\"/>\n      <use x=\"605.708984\" xlink:href=\"#DejaVuSans-73\"/>\n     </g>\n    </g>\n   </g>\n  </g>\n </g>\n <defs>\n  <clipPath id=\"pd987b702ac\">\n   <rect height=\"217.44\" width=\"334.8\" x=\"94.348125\" y=\"22.798125\"/>\n  </clipPath>\n </defs>\n</svg>\n",
      "image/png": "[encoded data removed]"
     },
     "metadata": {
      "needs_background": "light"
     }
    }
   ],
   "source": [
    "def comp_histo(data_1, data_2):\n",
    "    plt.figure()\n",
    "    plt.hist(data_2, color='palegreen', histtype='barstacked')\n",
    "    plt.hist(data_1, color='darkblue', histtype='step')\n",
    "    plt.legend({'Nos nombres', 'Python'}, loc=4)\n",
    "    plt.title(\"Comparaison entre les nombres que nous avons générés et ceux du module random\")\n",
    "    plt.ylabel('Count')\n",
    "    plt.savefig('histo_comp.png')\n",
    "    plt.show()\n",
    "\n",
    "comp_histo(numbers_python, gen_numbers)"
   ],
   "metadata": {
    "collapsed": false,
    "pycharm": {
     "name": "#%%\n"
    }
   }
  }
 ],
 "metadata": {
  "kernelspec": {
   "name": "python394jvsc74a57bd0767d51c1340bd893661ea55ea3124f6de3c7a262a8b4abca0554b478b1e2ff90",
   "display_name": "Python 3.9.4 64-bit"
  },
  "language_info": {
   "codemirror_mode": {
    "name": "ipython",
    "version": 2
   },
   "file_extension": ".py",
   "mimetype": "text/x-python",
   "name": "python",
   "nbconvert_exporter": "python",
   "pygments_lexer": "ipython2",
   "version": "3.9.4"
  },
  "metadata": {
   "interpreter": {
    "hash": "767d51c1340bd893661ea55ea3124f6de3c7a262a8b4abca0554b478b1e2ff90"
   }
  }
 },
 "nbformat": 4,
 "nbformat_minor": 0
}