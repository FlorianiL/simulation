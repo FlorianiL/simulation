{
 "cells": [
  {
   "cell_type": "markdown",
   "metadata": {
    "collapsed": true,
    "pycharm": {
     "name": "#%% md\n"
    }
   },
   "source": [
    "# Simulation - Projet"
   ]
  },
  {
   "cell_type": "markdown",
   "source": [
    "## Importation des modules nécessaires"
   ],
   "metadata": {
    "collapsed": false
   }
  },
  {
   "cell_type": "code",
   "execution_count": 9,
   "outputs": [],
   "source": [
    "import numpy as np\n",
    "import matplotlib.pyplot as plt\n",
    "import scipy.stats as stat\n",
    "import math\n",
    "import seaborn as sns\n",
    "import pandas as pd\n",
    "import random"
   ],
   "metadata": {
    "collapsed": false,
    "pycharm": {
     "name": "#%%\n"
    }
   }
  },
  {
   "cell_type": "markdown",
   "source": [
    "## Répartition des décimales d’exponentielle\n",
    "\n",
    "### Premier aperçu"
   ],
   "metadata": {
    "collapsed": false
   }
  },
  {
   "cell_type": "code",
   "execution_count": 10,
   "outputs": [
    {
     "output_type": "stream",
     "name": "stdout",
     "text": [
      "Les 2.000.000 premières décimales d' exp :\n [7 1 8 ... 0 2 3]\n"
     ]
    }
   ],
   "source": [
    "def e_numbers():\n",
    "    with open(\"exp.txt\", \"r\") as e:\n",
    "        for line in e:\n",
    "            line = line.strip()\n",
    "            if \".\" in line:\n",
    "                line = line.split(\".\")[1]\n",
    "            for c in line:\n",
    "                yield int(c)\n",
    "\n",
    "e_numbers = np.array(list(e_numbers()))\n",
    "print(f'Les 2.000.000 premières décimales d\\' exp :\\n {e_numbers}')"
   ],
   "metadata": {
    "collapsed": false,
    "pycharm": {
     "name": "#%%\n"
    }
   }
  },
  {
   "cell_type": "code",
   "execution_count": 11,
   "outputs": [
    {
     "output_type": "stream",
     "name": "stdout",
     "text": [
      "Les chiffres apparaissant dans les décimales d' exp : \n [0 1 2 3 4 5 6 7 8 9]\nLeur fréquences d'apparition : \n [199093 200171 199471 200361 199923 200285 200395 199789 200098 200414]\n"
     ]
    }
   ],
   "source": [
    "def count_number(data):\n",
    "    values, counts = np.unique(data, return_counts=True)\n",
    "    return values, counts\n",
    "\n",
    "e_labels, e_counts = count_number(e_numbers)\n",
    "print(f'Les chiffres apparaissant dans les décimales d\\' exp : \\n {e_labels}')\n",
    "print(f'Leur fréquences d\\'apparition : \\n {e_counts}')"
   ],
   "metadata": {
    "collapsed": false,
    "pycharm": {
     "name": "#%%\n"
    }
   }
  },
  {
   "cell_type": "code",
   "execution_count": 12,
   "outputs": [
    {
     "output_type": "display_data",
     "data": {
      "text/plain": "<Figure size 432x288 with 1 Axes>",
      "image/svg+xml": "<?xml version=\"1.0\" encoding=\"utf-8\" standalone=\"no\"?>\n<!DOCTYPE svg PUBLIC \"-//W3C//DTD SVG 1.1//EN\"\n  \"http://www.w3.org/Graphics/SVG/1.1/DTD/svg11.dtd\">\n<svg height=\"264.11625pt\" version=\"1.1\" viewBox=\"0 0 408.053125 264.11625\" width=\"408.053125pt\" xmlns=\"http://www.w3.org/2000/svg\" xmlns:xlink=\"http://www.w3.org/1999/xlink\">\n <metadata>\n  <rdf:RDF xmlns:cc=\"http://creativecommons.org/ns#\" xmlns:dc=\"http://purl.org/dc/elements/1.1/\" xmlns:rdf=\"http://www.w3.org/1999/02/22-rdf-syntax-ns#\">\n   <cc:Work>\n    <dc:type rdf:resource=\"http://purl.org/dc/dcmitype/StillImage\"/>\n    <dc:date>2021-05-02T20:01:29.278292</dc:date>\n    <dc:format>image/svg+xml</dc:format>\n    <dc:creator>\n     <cc:Agent>\n      <dc:title>Matplotlib v3.4.1, https://matplotlib.org/</dc:title>\n     </cc:Agent>\n    </dc:creator>\n   </cc:Work>\n  </rdf:RDF>\n </metadata>\n <defs>\n  <style type=\"text/css\">*{stroke-linecap:butt;stroke-linejoin:round;}</style>\n </defs>\n <g id=\"figure_1\">\n  <g id=\"patch_1\">\n   <path d=\"M 0 264.11625 \nL 408.053125 264.11625 \nL 408.053125 0 \nL 0 0 \nz\n\" style=\"fill:none;\"/>\n  </g>\n  <g id=\"axes_1\">\n   <g id=\"patch_2\">\n    <path d=\"M 66.053125 240.238125 \nL 400.853125 240.238125 \nL 400.853125 22.798125 \nL 66.053125 22.798125 \nz\n\" style=\"fill:#ffffff;\"/>\n   </g>\n   <g id=\"patch_3\">\n    <path clip-path=\"url(#pf01dde811f)\" d=\"M 81.271307 240.238125 \nL 106.117318 240.238125 \nL 106.117318 34.517386 \nL 81.271307 34.517386 \nz\n\" style=\"fill:#98fb98;\"/>\n   </g>\n   <g id=\"patch_4\">\n    <path clip-path=\"url(#pf01dde811f)\" d=\"M 112.328821 240.238125 \nL 137.174832 240.238125 \nL 137.174832 33.4035 \nL 112.328821 33.4035 \nz\n\" style=\"fill:#98fb98;\"/>\n   </g>\n   <g id=\"patch_5\">\n    <path clip-path=\"url(#pf01dde811f)\" d=\"M 143.386335 240.238125 \nL 168.232346 240.238125 \nL 168.232346 34.126803 \nL 143.386335 34.126803 \nz\n\" style=\"fill:#98fb98;\"/>\n   </g>\n   <g id=\"patch_6\">\n    <path clip-path=\"url(#pf01dde811f)\" d=\"M 174.443849 240.238125 \nL 199.28986 240.238125 \nL 199.28986 33.207175 \nL 174.443849 33.207175 \nz\n\" style=\"fill:#98fb98;\"/>\n   </g>\n   <g id=\"patch_7\">\n    <path clip-path=\"url(#pf01dde811f)\" d=\"M 205.501362 240.238125 \nL 230.347374 240.238125 \nL 230.347374 33.659756 \nL 205.501362 33.659756 \nz\n\" style=\"fill:#98fb98;\"/>\n   </g>\n   <g id=\"patch_8\">\n    <path clip-path=\"url(#pf01dde811f)\" d=\"M 236.558876 240.238125 \nL 261.404888 240.238125 \nL 261.404888 33.285705 \nL 236.558876 33.285705 \nz\n\" style=\"fill:#98fb98;\"/>\n   </g>\n   <g id=\"patch_9\">\n    <path clip-path=\"url(#pf01dde811f)\" d=\"M 267.61639 240.238125 \nL 292.462401 240.238125 \nL 292.462401 33.172043 \nL 267.61639 33.172043 \nz\n\" style=\"fill:#98fb98;\"/>\n   </g>\n   <g id=\"patch_10\">\n    <path clip-path=\"url(#pf01dde811f)\" d=\"M 298.673904 240.238125 \nL 323.519915 240.238125 \nL 323.519915 33.798217 \nL 298.673904 33.798217 \nz\n\" style=\"fill:#98fb98;\"/>\n   </g>\n   <g id=\"patch_11\">\n    <path clip-path=\"url(#pf01dde811f)\" d=\"M 329.731418 240.238125 \nL 354.577429 240.238125 \nL 354.577429 33.47893 \nL 329.731418 33.47893 \nz\n\" style=\"fill:#98fb98;\"/>\n   </g>\n   <g id=\"patch_12\">\n    <path clip-path=\"url(#pf01dde811f)\" d=\"M 360.788932 240.238125 \nL 385.634943 240.238125 \nL 385.634943 33.152411 \nL 360.788932 33.152411 \nz\n\" style=\"fill:#98fb98;\"/>\n   </g>\n   <g id=\"matplotlib.axis_1\">\n    <g id=\"xtick_1\">\n     <g id=\"line2d_1\">\n      <defs>\n       <path d=\"M 0 0 \nL 0 3.5 \n\" id=\"m3d4e67d399\" style=\"stroke:#000000;stroke-width:0.8;\"/>\n      </defs>\n      <g>\n       <use style=\"stroke:#000000;stroke-width:0.8;\" x=\"93.694312\" xlink:href=\"#m3d4e67d399\" y=\"240.238125\"/>\n      </g>\n     </g>\n     <g id=\"text_1\">\n      <!-- 0 -->\n      <g transform=\"translate(90.513062 254.836562)scale(0.1 -0.1)\">\n       <defs>\n        <path d=\"M 2034 4250 \nQ 1547 4250 1301 3770 \nQ 1056 3291 1056 2328 \nQ 1056 1369 1301 889 \nQ 1547 409 2034 409 \nQ 2525 409 2770 889 \nQ 3016 1369 3016 2328 \nQ 3016 3291 2770 3770 \nQ 2525 4250 2034 4250 \nz\nM 2034 4750 \nQ 2819 4750 3233 4129 \nQ 3647 3509 3647 2328 \nQ 3647 1150 3233 529 \nQ 2819 -91 2034 -91 \nQ 1250 -91 836 529 \nQ 422 1150 422 2328 \nQ 422 3509 836 4129 \nQ 1250 4750 2034 4750 \nz\n\" id=\"DejaVuSans-30\" transform=\"scale(0.015625)\"/>\n       </defs>\n       <use xlink:href=\"#DejaVuSans-30\"/>\n      </g>\n     </g>\n    </g>\n    <g id=\"xtick_2\">\n     <g id=\"line2d_2\">\n      <g>\n       <use style=\"stroke:#000000;stroke-width:0.8;\" x=\"155.80934\" xlink:href=\"#m3d4e67d399\" y=\"240.238125\"/>\n      </g>\n     </g>\n     <g id=\"text_2\">\n      <!-- 2 -->\n      <g transform=\"translate(152.62809 254.836562)scale(0.1 -0.1)\">\n       <defs>\n        <path d=\"M 1228 531 \nL 3431 531 \nL 3431 0 \nL 469 0 \nL 469 531 \nQ 828 903 1448 1529 \nQ 2069 2156 2228 2338 \nQ 2531 2678 2651 2914 \nQ 2772 3150 2772 3378 \nQ 2772 3750 2511 3984 \nQ 2250 4219 1831 4219 \nQ 1534 4219 1204 4116 \nQ 875 4013 500 3803 \nL 500 4441 \nQ 881 4594 1212 4672 \nQ 1544 4750 1819 4750 \nQ 2544 4750 2975 4387 \nQ 3406 4025 3406 3419 \nQ 3406 3131 3298 2873 \nQ 3191 2616 2906 2266 \nQ 2828 2175 2409 1742 \nQ 1991 1309 1228 531 \nz\n\" id=\"DejaVuSans-32\" transform=\"scale(0.015625)\"/>\n       </defs>\n       <use xlink:href=\"#DejaVuSans-32\"/>\n      </g>\n     </g>\n    </g>\n    <g id=\"xtick_3\">\n     <g id=\"line2d_3\">\n      <g>\n       <use style=\"stroke:#000000;stroke-width:0.8;\" x=\"217.924368\" xlink:href=\"#m3d4e67d399\" y=\"240.238125\"/>\n      </g>\n     </g>\n     <g id=\"text_3\">\n      <!-- 4 -->\n      <g transform=\"translate(214.743118 254.836562)scale(0.1 -0.1)\">\n       <defs>\n        <path d=\"M 2419 4116 \nL 825 1625 \nL 2419 1625 \nL 2419 4116 \nz\nM 2253 4666 \nL 3047 4666 \nL 3047 1625 \nL 3713 1625 \nL 3713 1100 \nL 3047 1100 \nL 3047 0 \nL 2419 0 \nL 2419 1100 \nL 313 1100 \nL 313 1709 \nL 2253 4666 \nz\n\" id=\"DejaVuSans-34\" transform=\"scale(0.015625)\"/>\n       </defs>\n       <use xlink:href=\"#DejaVuSans-34\"/>\n      </g>\n     </g>\n    </g>\n    <g id=\"xtick_4\">\n     <g id=\"line2d_4\">\n      <g>\n       <use style=\"stroke:#000000;stroke-width:0.8;\" x=\"280.039396\" xlink:href=\"#m3d4e67d399\" y=\"240.238125\"/>\n      </g>\n     </g>\n     <g id=\"text_4\">\n      <!-- 6 -->\n      <g transform=\"translate(276.858146 254.836562)scale(0.1 -0.1)\">\n       <defs>\n        <path d=\"M 2113 2584 \nQ 1688 2584 1439 2293 \nQ 1191 2003 1191 1497 \nQ 1191 994 1439 701 \nQ 1688 409 2113 409 \nQ 2538 409 2786 701 \nQ 3034 994 3034 1497 \nQ 3034 2003 2786 2293 \nQ 2538 2584 2113 2584 \nz\nM 3366 4563 \nL 3366 3988 \nQ 3128 4100 2886 4159 \nQ 2644 4219 2406 4219 \nQ 1781 4219 1451 3797 \nQ 1122 3375 1075 2522 \nQ 1259 2794 1537 2939 \nQ 1816 3084 2150 3084 \nQ 2853 3084 3261 2657 \nQ 3669 2231 3669 1497 \nQ 3669 778 3244 343 \nQ 2819 -91 2113 -91 \nQ 1303 -91 875 529 \nQ 447 1150 447 2328 \nQ 447 3434 972 4092 \nQ 1497 4750 2381 4750 \nQ 2619 4750 2861 4703 \nQ 3103 4656 3366 4563 \nz\n\" id=\"DejaVuSans-36\" transform=\"scale(0.015625)\"/>\n       </defs>\n       <use xlink:href=\"#DejaVuSans-36\"/>\n      </g>\n     </g>\n    </g>\n    <g id=\"xtick_5\">\n     <g id=\"line2d_5\">\n      <g>\n       <use style=\"stroke:#000000;stroke-width:0.8;\" x=\"342.154424\" xlink:href=\"#m3d4e67d399\" y=\"240.238125\"/>\n      </g>\n     </g>\n     <g id=\"text_5\">\n      <!-- 8 -->\n      <g transform=\"translate(338.973174 254.836562)scale(0.1 -0.1)\">\n       <defs>\n        <path d=\"M 2034 2216 \nQ 1584 2216 1326 1975 \nQ 1069 1734 1069 1313 \nQ 1069 891 1326 650 \nQ 1584 409 2034 409 \nQ 2484 409 2743 651 \nQ 3003 894 3003 1313 \nQ 3003 1734 2745 1975 \nQ 2488 2216 2034 2216 \nz\nM 1403 2484 \nQ 997 2584 770 2862 \nQ 544 3141 544 3541 \nQ 544 4100 942 4425 \nQ 1341 4750 2034 4750 \nQ 2731 4750 3128 4425 \nQ 3525 4100 3525 3541 \nQ 3525 3141 3298 2862 \nQ 3072 2584 2669 2484 \nQ 3125 2378 3379 2068 \nQ 3634 1759 3634 1313 \nQ 3634 634 3220 271 \nQ 2806 -91 2034 -91 \nQ 1263 -91 848 271 \nQ 434 634 434 1313 \nQ 434 1759 690 2068 \nQ 947 2378 1403 2484 \nz\nM 1172 3481 \nQ 1172 3119 1398 2916 \nQ 1625 2713 2034 2713 \nQ 2441 2713 2670 2916 \nQ 2900 3119 2900 3481 \nQ 2900 3844 2670 4047 \nQ 2441 4250 2034 4250 \nQ 1625 4250 1398 4047 \nQ 1172 3844 1172 3481 \nz\n\" id=\"DejaVuSans-38\" transform=\"scale(0.015625)\"/>\n       </defs>\n       <use xlink:href=\"#DejaVuSans-38\"/>\n      </g>\n     </g>\n    </g>\n   </g>\n   <g id=\"matplotlib.axis_2\">\n    <g id=\"ytick_1\">\n     <g id=\"line2d_6\">\n      <defs>\n       <path d=\"M 0 0 \nL -3.5 0 \n\" id=\"m96f040ecb5\" style=\"stroke:#000000;stroke-width:0.8;\"/>\n      </defs>\n      <g>\n       <use style=\"stroke:#000000;stroke-width:0.8;\" x=\"66.053125\" xlink:href=\"#m96f040ecb5\" y=\"240.238125\"/>\n      </g>\n     </g>\n     <g id=\"text_6\">\n      <!-- 0 -->\n      <g transform=\"translate(52.690625 244.037344)scale(0.1 -0.1)\">\n       <use xlink:href=\"#DejaVuSans-30\"/>\n      </g>\n     </g>\n    </g>\n    <g id=\"ytick_2\">\n     <g id=\"line2d_7\">\n      <g>\n       <use style=\"stroke:#000000;stroke-width:0.8;\" x=\"66.053125\" xlink:href=\"#m96f040ecb5\" y=\"214.405883\"/>\n      </g>\n     </g>\n     <g id=\"text_7\">\n      <!-- 25000 -->\n      <g transform=\"translate(27.240625 218.205102)scale(0.1 -0.1)\">\n       <defs>\n        <path d=\"M 691 4666 \nL 3169 4666 \nL 3169 4134 \nL 1269 4134 \nL 1269 2991 \nQ 1406 3038 1543 3061 \nQ 1681 3084 1819 3084 \nQ 2600 3084 3056 2656 \nQ 3513 2228 3513 1497 \nQ 3513 744 3044 326 \nQ 2575 -91 1722 -91 \nQ 1428 -91 1123 -41 \nQ 819 9 494 109 \nL 494 744 \nQ 775 591 1075 516 \nQ 1375 441 1709 441 \nQ 2250 441 2565 725 \nQ 2881 1009 2881 1497 \nQ 2881 1984 2565 2268 \nQ 2250 2553 1709 2553 \nQ 1456 2553 1204 2497 \nQ 953 2441 691 2322 \nL 691 4666 \nz\n\" id=\"DejaVuSans-35\" transform=\"scale(0.015625)\"/>\n       </defs>\n       <use xlink:href=\"#DejaVuSans-32\"/>\n       <use x=\"63.623047\" xlink:href=\"#DejaVuSans-35\"/>\n       <use x=\"127.246094\" xlink:href=\"#DejaVuSans-30\"/>\n       <use x=\"190.869141\" xlink:href=\"#DejaVuSans-30\"/>\n       <use x=\"254.492188\" xlink:href=\"#DejaVuSans-30\"/>\n      </g>\n     </g>\n    </g>\n    <g id=\"ytick_3\">\n     <g id=\"line2d_8\">\n      <g>\n       <use style=\"stroke:#000000;stroke-width:0.8;\" x=\"66.053125\" xlink:href=\"#m96f040ecb5\" y=\"188.573642\"/>\n      </g>\n     </g>\n     <g id=\"text_8\">\n      <!-- 50000 -->\n      <g transform=\"translate(27.240625 192.372861)scale(0.1 -0.1)\">\n       <use xlink:href=\"#DejaVuSans-35\"/>\n       <use x=\"63.623047\" xlink:href=\"#DejaVuSans-30\"/>\n       <use x=\"127.246094\" xlink:href=\"#DejaVuSans-30\"/>\n       <use x=\"190.869141\" xlink:href=\"#DejaVuSans-30\"/>\n       <use x=\"254.492188\" xlink:href=\"#DejaVuSans-30\"/>\n      </g>\n     </g>\n    </g>\n    <g id=\"ytick_4\">\n     <g id=\"line2d_9\">\n      <g>\n       <use style=\"stroke:#000000;stroke-width:0.8;\" x=\"66.053125\" xlink:href=\"#m96f040ecb5\" y=\"162.7414\"/>\n      </g>\n     </g>\n     <g id=\"text_9\">\n      <!-- 75000 -->\n      <g transform=\"translate(27.240625 166.540619)scale(0.1 -0.1)\">\n       <defs>\n        <path d=\"M 525 4666 \nL 3525 4666 \nL 3525 4397 \nL 1831 0 \nL 1172 0 \nL 2766 4134 \nL 525 4134 \nL 525 4666 \nz\n\" id=\"DejaVuSans-37\" transform=\"scale(0.015625)\"/>\n       </defs>\n       <use xlink:href=\"#DejaVuSans-37\"/>\n       <use x=\"63.623047\" xlink:href=\"#DejaVuSans-35\"/>\n       <use x=\"127.246094\" xlink:href=\"#DejaVuSans-30\"/>\n       <use x=\"190.869141\" xlink:href=\"#DejaVuSans-30\"/>\n       <use x=\"254.492188\" xlink:href=\"#DejaVuSans-30\"/>\n      </g>\n     </g>\n    </g>\n    <g id=\"ytick_5\">\n     <g id=\"line2d_10\">\n      <g>\n       <use style=\"stroke:#000000;stroke-width:0.8;\" x=\"66.053125\" xlink:href=\"#m96f040ecb5\" y=\"136.909159\"/>\n      </g>\n     </g>\n     <g id=\"text_10\">\n      <!-- 100000 -->\n      <g transform=\"translate(20.878125 140.708378)scale(0.1 -0.1)\">\n       <defs>\n        <path d=\"M 794 531 \nL 1825 531 \nL 1825 4091 \nL 703 3866 \nL 703 4441 \nL 1819 4666 \nL 2450 4666 \nL 2450 531 \nL 3481 531 \nL 3481 0 \nL 794 0 \nL 794 531 \nz\n\" id=\"DejaVuSans-31\" transform=\"scale(0.015625)\"/>\n       </defs>\n       <use xlink:href=\"#DejaVuSans-31\"/>\n       <use x=\"63.623047\" xlink:href=\"#DejaVuSans-30\"/>\n       <use x=\"127.246094\" xlink:href=\"#DejaVuSans-30\"/>\n       <use x=\"190.869141\" xlink:href=\"#DejaVuSans-30\"/>\n       <use x=\"254.492188\" xlink:href=\"#DejaVuSans-30\"/>\n       <use x=\"318.115234\" xlink:href=\"#DejaVuSans-30\"/>\n      </g>\n     </g>\n    </g>\n    <g id=\"ytick_6\">\n     <g id=\"line2d_11\">\n      <g>\n       <use style=\"stroke:#000000;stroke-width:0.8;\" x=\"66.053125\" xlink:href=\"#m96f040ecb5\" y=\"111.076917\"/>\n      </g>\n     </g>\n     <g id=\"text_11\">\n      <!-- 125000 -->\n      <g transform=\"translate(20.878125 114.876136)scale(0.1 -0.1)\">\n       <use xlink:href=\"#DejaVuSans-31\"/>\n       <use x=\"63.623047\" xlink:href=\"#DejaVuSans-32\"/>\n       <use x=\"127.246094\" xlink:href=\"#DejaVuSans-35\"/>\n       <use x=\"190.869141\" xlink:href=\"#DejaVuSans-30\"/>\n       <use x=\"254.492188\" xlink:href=\"#DejaVuSans-30\"/>\n       <use x=\"318.115234\" xlink:href=\"#DejaVuSans-30\"/>\n      </g>\n     </g>\n    </g>\n    <g id=\"ytick_7\">\n     <g id=\"line2d_12\">\n      <g>\n       <use style=\"stroke:#000000;stroke-width:0.8;\" x=\"66.053125\" xlink:href=\"#m96f040ecb5\" y=\"85.244676\"/>\n      </g>\n     </g>\n     <g id=\"text_12\">\n      <!-- 150000 -->\n      <g transform=\"translate(20.878125 89.043894)scale(0.1 -0.1)\">\n       <use xlink:href=\"#DejaVuSans-31\"/>\n       <use x=\"63.623047\" xlink:href=\"#DejaVuSans-35\"/>\n       <use x=\"127.246094\" xlink:href=\"#DejaVuSans-30\"/>\n       <use x=\"190.869141\" xlink:href=\"#DejaVuSans-30\"/>\n       <use x=\"254.492188\" xlink:href=\"#DejaVuSans-30\"/>\n       <use x=\"318.115234\" xlink:href=\"#DejaVuSans-30\"/>\n      </g>\n     </g>\n    </g>\n    <g id=\"ytick_8\">\n     <g id=\"line2d_13\">\n      <g>\n       <use style=\"stroke:#000000;stroke-width:0.8;\" x=\"66.053125\" xlink:href=\"#m96f040ecb5\" y=\"59.412434\"/>\n      </g>\n     </g>\n     <g id=\"text_13\">\n      <!-- 175000 -->\n      <g transform=\"translate(20.878125 63.211653)scale(0.1 -0.1)\">\n       <use xlink:href=\"#DejaVuSans-31\"/>\n       <use x=\"63.623047\" xlink:href=\"#DejaVuSans-37\"/>\n       <use x=\"127.246094\" xlink:href=\"#DejaVuSans-35\"/>\n       <use x=\"190.869141\" xlink:href=\"#DejaVuSans-30\"/>\n       <use x=\"254.492188\" xlink:href=\"#DejaVuSans-30\"/>\n       <use x=\"318.115234\" xlink:href=\"#DejaVuSans-30\"/>\n      </g>\n     </g>\n    </g>\n    <g id=\"ytick_9\">\n     <g id=\"line2d_14\">\n      <g>\n       <use style=\"stroke:#000000;stroke-width:0.8;\" x=\"66.053125\" xlink:href=\"#m96f040ecb5\" y=\"33.580193\"/>\n      </g>\n     </g>\n     <g id=\"text_14\">\n      <!-- 200000 -->\n      <g transform=\"translate(20.878125 37.379411)scale(0.1 -0.1)\">\n       <use xlink:href=\"#DejaVuSans-32\"/>\n       <use x=\"63.623047\" xlink:href=\"#DejaVuSans-30\"/>\n       <use x=\"127.246094\" xlink:href=\"#DejaVuSans-30\"/>\n       <use x=\"190.869141\" xlink:href=\"#DejaVuSans-30\"/>\n       <use x=\"254.492188\" xlink:href=\"#DejaVuSans-30\"/>\n       <use x=\"318.115234\" xlink:href=\"#DejaVuSans-30\"/>\n      </g>\n     </g>\n    </g>\n    <g id=\"text_15\">\n     <!-- Count -->\n     <g transform=\"translate(14.798438 146.366562)rotate(-90)scale(0.1 -0.1)\">\n      <defs>\n       <path d=\"M 4122 4306 \nL 4122 3641 \nQ 3803 3938 3442 4084 \nQ 3081 4231 2675 4231 \nQ 1875 4231 1450 3742 \nQ 1025 3253 1025 2328 \nQ 1025 1406 1450 917 \nQ 1875 428 2675 428 \nQ 3081 428 3442 575 \nQ 3803 722 4122 1019 \nL 4122 359 \nQ 3791 134 3420 21 \nQ 3050 -91 2638 -91 \nQ 1578 -91 968 557 \nQ 359 1206 359 2328 \nQ 359 3453 968 4101 \nQ 1578 4750 2638 4750 \nQ 3056 4750 3426 4639 \nQ 3797 4528 4122 4306 \nz\n\" id=\"DejaVuSans-43\" transform=\"scale(0.015625)\"/>\n       <path d=\"M 1959 3097 \nQ 1497 3097 1228 2736 \nQ 959 2375 959 1747 \nQ 959 1119 1226 758 \nQ 1494 397 1959 397 \nQ 2419 397 2687 759 \nQ 2956 1122 2956 1747 \nQ 2956 2369 2687 2733 \nQ 2419 3097 1959 3097 \nz\nM 1959 3584 \nQ 2709 3584 3137 3096 \nQ 3566 2609 3566 1747 \nQ 3566 888 3137 398 \nQ 2709 -91 1959 -91 \nQ 1206 -91 779 398 \nQ 353 888 353 1747 \nQ 353 2609 779 3096 \nQ 1206 3584 1959 3584 \nz\n\" id=\"DejaVuSans-6f\" transform=\"scale(0.015625)\"/>\n       <path d=\"M 544 1381 \nL 544 3500 \nL 1119 3500 \nL 1119 1403 \nQ 1119 906 1312 657 \nQ 1506 409 1894 409 \nQ 2359 409 2629 706 \nQ 2900 1003 2900 1516 \nL 2900 3500 \nL 3475 3500 \nL 3475 0 \nL 2900 0 \nL 2900 538 \nQ 2691 219 2414 64 \nQ 2138 -91 1772 -91 \nQ 1169 -91 856 284 \nQ 544 659 544 1381 \nz\nM 1991 3584 \nL 1991 3584 \nz\n\" id=\"DejaVuSans-75\" transform=\"scale(0.015625)\"/>\n       <path d=\"M 3513 2113 \nL 3513 0 \nL 2938 0 \nL 2938 2094 \nQ 2938 2591 2744 2837 \nQ 2550 3084 2163 3084 \nQ 1697 3084 1428 2787 \nQ 1159 2491 1159 1978 \nL 1159 0 \nL 581 0 \nL 581 3500 \nL 1159 3500 \nL 1159 2956 \nQ 1366 3272 1645 3428 \nQ 1925 3584 2291 3584 \nQ 2894 3584 3203 3211 \nQ 3513 2838 3513 2113 \nz\n\" id=\"DejaVuSans-6e\" transform=\"scale(0.015625)\"/>\n       <path d=\"M 1172 4494 \nL 1172 3500 \nL 2356 3500 \nL 2356 3053 \nL 1172 3053 \nL 1172 1153 \nQ 1172 725 1289 603 \nQ 1406 481 1766 481 \nL 2356 481 \nL 2356 0 \nL 1766 0 \nQ 1100 0 847 248 \nQ 594 497 594 1153 \nL 594 3053 \nL 172 3053 \nL 172 3500 \nL 594 3500 \nL 594 4494 \nL 1172 4494 \nz\n\" id=\"DejaVuSans-74\" transform=\"scale(0.015625)\"/>\n      </defs>\n      <use xlink:href=\"#DejaVuSans-43\"/>\n      <use x=\"69.824219\" xlink:href=\"#DejaVuSans-6f\"/>\n      <use x=\"131.005859\" xlink:href=\"#DejaVuSans-75\"/>\n      <use x=\"194.384766\" xlink:href=\"#DejaVuSans-6e\"/>\n      <use x=\"257.763672\" xlink:href=\"#DejaVuSans-74\"/>\n     </g>\n    </g>\n   </g>\n   <g id=\"patch_13\">\n    <path d=\"M 66.053125 240.238125 \nL 66.053125 22.798125 \n\" style=\"fill:none;stroke:#000000;stroke-linecap:square;stroke-linejoin:miter;stroke-width:0.8;\"/>\n   </g>\n   <g id=\"patch_14\">\n    <path d=\"M 400.853125 240.238125 \nL 400.853125 22.798125 \n\" style=\"fill:none;stroke:#000000;stroke-linecap:square;stroke-linejoin:miter;stroke-width:0.8;\"/>\n   </g>\n   <g id=\"patch_15\">\n    <path d=\"M 66.053125 240.238125 \nL 400.853125 240.238125 \n\" style=\"fill:none;stroke:#000000;stroke-linecap:square;stroke-linejoin:miter;stroke-width:0.8;\"/>\n   </g>\n   <g id=\"patch_16\">\n    <path d=\"M 66.053125 22.798125 \nL 400.853125 22.798125 \n\" style=\"fill:none;stroke:#000000;stroke-linecap:square;stroke-linejoin:miter;stroke-width:0.8;\"/>\n   </g>\n   <g id=\"text_16\">\n    <!-- Répartition des décimales de l'exponentielle -->\n    <g transform=\"translate(100.2025 16.798125)scale(0.12 -0.12)\">\n     <defs>\n      <path d=\"M 2841 2188 \nQ 3044 2119 3236 1894 \nQ 3428 1669 3622 1275 \nL 4263 0 \nL 3584 0 \nL 2988 1197 \nQ 2756 1666 2539 1819 \nQ 2322 1972 1947 1972 \nL 1259 1972 \nL 1259 0 \nL 628 0 \nL 628 4666 \nL 2053 4666 \nQ 2853 4666 3247 4331 \nQ 3641 3997 3641 3322 \nQ 3641 2881 3436 2590 \nQ 3231 2300 2841 2188 \nz\nM 1259 4147 \nL 1259 2491 \nL 2053 2491 \nQ 2509 2491 2742 2702 \nQ 2975 2913 2975 3322 \nQ 2975 3731 2742 3939 \nQ 2509 4147 2053 4147 \nL 1259 4147 \nz\n\" id=\"DejaVuSans-52\" transform=\"scale(0.015625)\"/>\n      <path d=\"M 3597 1894 \nL 3597 1613 \nL 953 1613 \nQ 991 1019 1311 708 \nQ 1631 397 2203 397 \nQ 2534 397 2845 478 \nQ 3156 559 3463 722 \nL 3463 178 \nQ 3153 47 2828 -22 \nQ 2503 -91 2169 -91 \nQ 1331 -91 842 396 \nQ 353 884 353 1716 \nQ 353 2575 817 3079 \nQ 1281 3584 2069 3584 \nQ 2775 3584 3186 3129 \nQ 3597 2675 3597 1894 \nz\nM 3022 2063 \nQ 3016 2534 2758 2815 \nQ 2500 3097 2075 3097 \nQ 1594 3097 1305 2825 \nQ 1016 2553 972 2059 \nL 3022 2063 \nz\nM 2469 5119 \nL 3091 5119 \nL 2072 3944 \nL 1594 3944 \nL 2469 5119 \nz\n\" id=\"DejaVuSans-e9\" transform=\"scale(0.015625)\"/>\n      <path d=\"M 1159 525 \nL 1159 -1331 \nL 581 -1331 \nL 581 3500 \nL 1159 3500 \nL 1159 2969 \nQ 1341 3281 1617 3432 \nQ 1894 3584 2278 3584 \nQ 2916 3584 3314 3078 \nQ 3713 2572 3713 1747 \nQ 3713 922 3314 415 \nQ 2916 -91 2278 -91 \nQ 1894 -91 1617 61 \nQ 1341 213 1159 525 \nz\nM 3116 1747 \nQ 3116 2381 2855 2742 \nQ 2594 3103 2138 3103 \nQ 1681 3103 1420 2742 \nQ 1159 2381 1159 1747 \nQ 1159 1113 1420 752 \nQ 1681 391 2138 391 \nQ 2594 391 2855 752 \nQ 3116 1113 3116 1747 \nz\n\" id=\"DejaVuSans-70\" transform=\"scale(0.015625)\"/>\n      <path d=\"M 2194 1759 \nQ 1497 1759 1228 1600 \nQ 959 1441 959 1056 \nQ 959 750 1161 570 \nQ 1363 391 1709 391 \nQ 2188 391 2477 730 \nQ 2766 1069 2766 1631 \nL 2766 1759 \nL 2194 1759 \nz\nM 3341 1997 \nL 3341 0 \nL 2766 0 \nL 2766 531 \nQ 2569 213 2275 61 \nQ 1981 -91 1556 -91 \nQ 1019 -91 701 211 \nQ 384 513 384 1019 \nQ 384 1609 779 1909 \nQ 1175 2209 1959 2209 \nL 2766 2209 \nL 2766 2266 \nQ 2766 2663 2505 2880 \nQ 2244 3097 1772 3097 \nQ 1472 3097 1187 3025 \nQ 903 2953 641 2809 \nL 641 3341 \nQ 956 3463 1253 3523 \nQ 1550 3584 1831 3584 \nQ 2591 3584 2966 3190 \nQ 3341 2797 3341 1997 \nz\n\" id=\"DejaVuSans-61\" transform=\"scale(0.015625)\"/>\n      <path d=\"M 2631 2963 \nQ 2534 3019 2420 3045 \nQ 2306 3072 2169 3072 \nQ 1681 3072 1420 2755 \nQ 1159 2438 1159 1844 \nL 1159 0 \nL 581 0 \nL 581 3500 \nL 1159 3500 \nL 1159 2956 \nQ 1341 3275 1631 3429 \nQ 1922 3584 2338 3584 \nQ 2397 3584 2469 3576 \nQ 2541 3569 2628 3553 \nL 2631 2963 \nz\n\" id=\"DejaVuSans-72\" transform=\"scale(0.015625)\"/>\n      <path d=\"M 603 3500 \nL 1178 3500 \nL 1178 0 \nL 603 0 \nL 603 3500 \nz\nM 603 4863 \nL 1178 4863 \nL 1178 4134 \nL 603 4134 \nL 603 4863 \nz\n\" id=\"DejaVuSans-69\" transform=\"scale(0.015625)\"/>\n      <path id=\"DejaVuSans-20\" transform=\"scale(0.015625)\"/>\n      <path d=\"M 2906 2969 \nL 2906 4863 \nL 3481 4863 \nL 3481 0 \nL 2906 0 \nL 2906 525 \nQ 2725 213 2448 61 \nQ 2172 -91 1784 -91 \nQ 1150 -91 751 415 \nQ 353 922 353 1747 \nQ 353 2572 751 3078 \nQ 1150 3584 1784 3584 \nQ 2172 3584 2448 3432 \nQ 2725 3281 2906 2969 \nz\nM 947 1747 \nQ 947 1113 1208 752 \nQ 1469 391 1925 391 \nQ 2381 391 2643 752 \nQ 2906 1113 2906 1747 \nQ 2906 2381 2643 2742 \nQ 2381 3103 1925 3103 \nQ 1469 3103 1208 2742 \nQ 947 2381 947 1747 \nz\n\" id=\"DejaVuSans-64\" transform=\"scale(0.015625)\"/>\n      <path d=\"M 3597 1894 \nL 3597 1613 \nL 953 1613 \nQ 991 1019 1311 708 \nQ 1631 397 2203 397 \nQ 2534 397 2845 478 \nQ 3156 559 3463 722 \nL 3463 178 \nQ 3153 47 2828 -22 \nQ 2503 -91 2169 -91 \nQ 1331 -91 842 396 \nQ 353 884 353 1716 \nQ 353 2575 817 3079 \nQ 1281 3584 2069 3584 \nQ 2775 3584 3186 3129 \nQ 3597 2675 3597 1894 \nz\nM 3022 2063 \nQ 3016 2534 2758 2815 \nQ 2500 3097 2075 3097 \nQ 1594 3097 1305 2825 \nQ 1016 2553 972 2059 \nL 3022 2063 \nz\n\" id=\"DejaVuSans-65\" transform=\"scale(0.015625)\"/>\n      <path d=\"M 2834 3397 \nL 2834 2853 \nQ 2591 2978 2328 3040 \nQ 2066 3103 1784 3103 \nQ 1356 3103 1142 2972 \nQ 928 2841 928 2578 \nQ 928 2378 1081 2264 \nQ 1234 2150 1697 2047 \nL 1894 2003 \nQ 2506 1872 2764 1633 \nQ 3022 1394 3022 966 \nQ 3022 478 2636 193 \nQ 2250 -91 1575 -91 \nQ 1294 -91 989 -36 \nQ 684 19 347 128 \nL 347 722 \nQ 666 556 975 473 \nQ 1284 391 1588 391 \nQ 1994 391 2212 530 \nQ 2431 669 2431 922 \nQ 2431 1156 2273 1281 \nQ 2116 1406 1581 1522 \nL 1381 1569 \nQ 847 1681 609 1914 \nQ 372 2147 372 2553 \nQ 372 3047 722 3315 \nQ 1072 3584 1716 3584 \nQ 2034 3584 2315 3537 \nQ 2597 3491 2834 3397 \nz\n\" id=\"DejaVuSans-73\" transform=\"scale(0.015625)\"/>\n      <path d=\"M 3122 3366 \nL 3122 2828 \nQ 2878 2963 2633 3030 \nQ 2388 3097 2138 3097 \nQ 1578 3097 1268 2742 \nQ 959 2388 959 1747 \nQ 959 1106 1268 751 \nQ 1578 397 2138 397 \nQ 2388 397 2633 464 \nQ 2878 531 3122 666 \nL 3122 134 \nQ 2881 22 2623 -34 \nQ 2366 -91 2075 -91 \nQ 1284 -91 818 406 \nQ 353 903 353 1747 \nQ 353 2603 823 3093 \nQ 1294 3584 2113 3584 \nQ 2378 3584 2631 3529 \nQ 2884 3475 3122 3366 \nz\n\" id=\"DejaVuSans-63\" transform=\"scale(0.015625)\"/>\n      <path d=\"M 3328 2828 \nQ 3544 3216 3844 3400 \nQ 4144 3584 4550 3584 \nQ 5097 3584 5394 3201 \nQ 5691 2819 5691 2113 \nL 5691 0 \nL 5113 0 \nL 5113 2094 \nQ 5113 2597 4934 2840 \nQ 4756 3084 4391 3084 \nQ 3944 3084 3684 2787 \nQ 3425 2491 3425 1978 \nL 3425 0 \nL 2847 0 \nL 2847 2094 \nQ 2847 2600 2669 2842 \nQ 2491 3084 2119 3084 \nQ 1678 3084 1418 2786 \nQ 1159 2488 1159 1978 \nL 1159 0 \nL 581 0 \nL 581 3500 \nL 1159 3500 \nL 1159 2956 \nQ 1356 3278 1631 3431 \nQ 1906 3584 2284 3584 \nQ 2666 3584 2933 3390 \nQ 3200 3197 3328 2828 \nz\n\" id=\"DejaVuSans-6d\" transform=\"scale(0.015625)\"/>\n      <path d=\"M 603 4863 \nL 1178 4863 \nL 1178 0 \nL 603 0 \nL 603 4863 \nz\n\" id=\"DejaVuSans-6c\" transform=\"scale(0.015625)\"/>\n      <path d=\"M 1147 4666 \nL 1147 2931 \nL 616 2931 \nL 616 4666 \nL 1147 4666 \nz\n\" id=\"DejaVuSans-27\" transform=\"scale(0.015625)\"/>\n      <path d=\"M 3513 3500 \nL 2247 1797 \nL 3578 0 \nL 2900 0 \nL 1881 1375 \nL 863 0 \nL 184 0 \nL 1544 1831 \nL 300 3500 \nL 978 3500 \nL 1906 2253 \nL 2834 3500 \nL 3513 3500 \nz\n\" id=\"DejaVuSans-78\" transform=\"scale(0.015625)\"/>\n     </defs>\n     <use xlink:href=\"#DejaVuSans-52\"/>\n     <use x=\"64.982422\" xlink:href=\"#DejaVuSans-e9\"/>\n     <use x=\"126.505859\" xlink:href=\"#DejaVuSans-70\"/>\n     <use x=\"189.982422\" xlink:href=\"#DejaVuSans-61\"/>\n     <use x=\"251.261719\" xlink:href=\"#DejaVuSans-72\"/>\n     <use x=\"292.375\" xlink:href=\"#DejaVuSans-74\"/>\n     <use x=\"331.583984\" xlink:href=\"#DejaVuSans-69\"/>\n     <use x=\"359.367188\" xlink:href=\"#DejaVuSans-74\"/>\n     <use x=\"398.576172\" xlink:href=\"#DejaVuSans-69\"/>\n     <use x=\"426.359375\" xlink:href=\"#DejaVuSans-6f\"/>\n     <use x=\"487.541016\" xlink:href=\"#DejaVuSans-6e\"/>\n     <use x=\"550.919922\" xlink:href=\"#DejaVuSans-20\"/>\n     <use x=\"582.707031\" xlink:href=\"#DejaVuSans-64\"/>\n     <use x=\"646.183594\" xlink:href=\"#DejaVuSans-65\"/>\n     <use x=\"707.707031\" xlink:href=\"#DejaVuSans-73\"/>\n     <use x=\"759.806641\" xlink:href=\"#DejaVuSans-20\"/>\n     <use x=\"791.59375\" xlink:href=\"#DejaVuSans-64\"/>\n     <use x=\"855.070312\" xlink:href=\"#DejaVuSans-e9\"/>\n     <use x=\"916.59375\" xlink:href=\"#DejaVuSans-63\"/>\n     <use x=\"971.574219\" xlink:href=\"#DejaVuSans-69\"/>\n     <use x=\"999.357422\" xlink:href=\"#DejaVuSans-6d\"/>\n     <use x=\"1096.769531\" xlink:href=\"#DejaVuSans-61\"/>\n     <use x=\"1158.048828\" xlink:href=\"#DejaVuSans-6c\"/>\n     <use x=\"1185.832031\" xlink:href=\"#DejaVuSans-65\"/>\n     <use x=\"1247.355469\" xlink:href=\"#DejaVuSans-73\"/>\n     <use x=\"1299.455078\" xlink:href=\"#DejaVuSans-20\"/>\n     <use x=\"1331.242188\" xlink:href=\"#DejaVuSans-64\"/>\n     <use x=\"1394.71875\" xlink:href=\"#DejaVuSans-65\"/>\n     <use x=\"1456.242188\" xlink:href=\"#DejaVuSans-20\"/>\n     <use x=\"1488.029297\" xlink:href=\"#DejaVuSans-6c\"/>\n     <use x=\"1515.8125\" xlink:href=\"#DejaVuSans-27\"/>\n     <use x=\"1543.302734\" xlink:href=\"#DejaVuSans-65\"/>\n     <use x=\"1603.076172\" xlink:href=\"#DejaVuSans-78\"/>\n     <use x=\"1662.255859\" xlink:href=\"#DejaVuSans-70\"/>\n     <use x=\"1725.732422\" xlink:href=\"#DejaVuSans-6f\"/>\n     <use x=\"1786.914062\" xlink:href=\"#DejaVuSans-6e\"/>\n     <use x=\"1850.292969\" xlink:href=\"#DejaVuSans-65\"/>\n     <use x=\"1911.816406\" xlink:href=\"#DejaVuSans-6e\"/>\n     <use x=\"1975.195312\" xlink:href=\"#DejaVuSans-74\"/>\n     <use x=\"2014.404297\" xlink:href=\"#DejaVuSans-69\"/>\n     <use x=\"2042.1875\" xlink:href=\"#DejaVuSans-65\"/>\n     <use x=\"2103.710938\" xlink:href=\"#DejaVuSans-6c\"/>\n     <use x=\"2131.494141\" xlink:href=\"#DejaVuSans-6c\"/>\n     <use x=\"2159.277344\" xlink:href=\"#DejaVuSans-65\"/>\n    </g>\n   </g>\n  </g>\n </g>\n <defs>\n  <clipPath id=\"pf01dde811f\">\n   <rect height=\"217.44\" width=\"334.8\" x=\"66.053125\" y=\"22.798125\"/>\n  </clipPath>\n </defs>\n</svg>\n",
      "image/png": "[encoded data removed]"
     },
     "metadata": {
      "needs_background": "light"
     }
    }
   ],
   "source": [
    "def construct_hist(labels, counts):\n",
    "    plt.figure()\n",
    "    plt.bar(labels, counts, color='palegreen')\n",
    "    plt.title('Répartition des décimales de l\\'exponentielle')\n",
    "    plt.ylabel('Count')\n",
    "    plt.savefig('histo_exp.png')\n",
    "    plt.show()\n",
    "\n",
    "construct_hist(e_labels, e_counts)"
   ],
   "metadata": {
    "collapsed": false,
    "pycharm": {
     "name": "#%%\n"
    }
   }
  },
  {
   "cell_type": "markdown",
   "source": [
    "### Test du Chi-Carré"
   ],
   "metadata": {
    "collapsed": false,
    "pycharm": {
     "name": "#%% md\n"
    }
   }
  },
  {
   "cell_type": "code",
   "execution_count": 13,
   "outputs": [
    {
     "output_type": "stream",
     "name": "stdout",
     "text": [
      "Test du Chi-Carré pour les décimales d'exponentiells : \n(True, 8.65376, 16.918977604620448)\n"
     ]
    }
   ],
   "source": [
    "def chi_squarred(observed, theorical):\n",
    "    kr = np.sum(((observed-theorical)**2)/theorical)\n",
    "    critical = stat.chi2.ppf(q=0.95, df=len(observed)-1)\n",
    "    return kr <= critical, kr, critical\n",
    "\n",
    "def chi_squared_uniform(observed):\n",
    "    proba = 1 / len(observed)\n",
    "    N = sum(observed)\n",
    "    theorical = np.array([N * proba for _ in range(len(observed))])\n",
    "    return chi_squarred(observed, theorical)\n",
    "\n",
    "print(f\"Test du Chi-Carré pour les décimales d'exponentiells : \\n\"\n",
    "      f\"{chi_squared_uniform(e_counts)}\")"
   ],
   "metadata": {
    "collapsed": false,
    "pycharm": {
     "name": "#%%\n"
    }
   }
  },
  {
   "cell_type": "markdown",
   "source": [
    "### Test du Poker"
   ],
   "metadata": {
    "collapsed": false
   }
  },
  {
   "cell_type": "code",
   "execution_count": 14,
   "outputs": [
    {
     "output_type": "stream",
     "name": "stdout",
     "text": [
      "Test du Poker pour les décimales d'exponentielle : \n(True, 1.2631547619047618, 9.487729036781154)\n"
     ]
    }
   ],
   "source": [
    "def poker_test(data):\n",
    "    number_lists = len(data)/4\n",
    "    lists = np.split(data, number_lists)\n",
    "    all_diff = 0\n",
    "    one_pair = 0\n",
    "    two_pair = 0\n",
    "    triplet = 0\n",
    "    quadr = 0\n",
    "    for li in lists:\n",
    "        vals, cts = np.unique(li, return_counts=True)\n",
    "        if len(cts) == 4:\n",
    "            all_diff += 1\n",
    "        elif len(cts) == 3:\n",
    "            one_pair += 1\n",
    "        elif len(cts) == 2:\n",
    "            if 3 in cts:\n",
    "                triplet += 1\n",
    "            else:\n",
    "                two_pair += 1\n",
    "        else:\n",
    "            quadr += 1\n",
    "    return chi_squarred_poker(np.array([all_diff, one_pair, triplet, two_pair, quadr]), len(lists))\n",
    "\n",
    "def chi_squarred_poker(observed, N):    # P(all_diff) > P(one_pair) > P(triplet) > P(two_pair) > P(quadr)\n",
    "    probas = np.array([0.504, 0.432, 0.036, 0.027, 0.001])\n",
    "    theorical = probas * N\n",
    "    return chi_squarred(observed, theorical)\n",
    "\n",
    "print(f\"Test du Poker pour les décimales d\\'exponentielle : \\n\"\n",
    "      f\"{poker_test(e_numbers)}\")"
   ],
   "metadata": {
    "collapsed": false,
    "pycharm": {
     "name": "#%%\n"
    }
   }
  },
  {
   "cell_type": "markdown",
   "source": [
    "### Test du gap"
   ],
   "metadata": {
    "collapsed": false
   }
  },
  {
   "cell_type": "code",
   "execution_count": 15,
   "outputs": [
    {
     "output_type": "stream",
     "name": "stdout",
     "text": [
      "labels [ 1  2  3  4  5  6  7  8  9 10 11 12 13 14 15 16 17 18 20 23] observed [498508 250019 125357  62699  31187  15611   7818   3926   1995    956\n    473    223    124     59     29     22      8      3      1      1]\nTest du Gap pour les décimales d'exponentielle : \n (True, 16.078953572083208, 33.92443847144381)\n"
     ]
    }
   ],
   "source": [
    "def gap_test(data, proba, a, b):\n",
    "    intervals = []\n",
    "    length_series_not_in = 1\n",
    "    total_gaps = 0\n",
    "    sequence_length = 0\n",
    "    for nb in data:\n",
    "        if a <= nb < b:\n",
    "            # nb in interval, with probability `probability`\n",
    "            intervals.append(length_series_not_in)\n",
    "            length_series_not_in = 1\n",
    "        else:\n",
    "            # nb not in interval\n",
    "            length_series_not_in += 1\n",
    "            total_gaps += 1\n",
    "        sequence_length += 1\n",
    "    labels, observed = np.unique(np.array(intervals), return_counts=True)\n",
    "    print(f\"labels {labels} observed {observed}\")\n",
    "    observed = complete_labels(labels, observed)\n",
    "    theorical = np.array([(1 - proba)**(n+1) for n in range(max(labels))])*sum(observed)\n",
    "    return chi_squarred(observed, theorical)\n",
    "\n",
    "def gap_test_discrete(data, a: int = 0, b: int = 5, total_numbers: int = 10):\n",
    "    assert a < b\n",
    "    proba = (b - a) / total_numbers  # => proba 1/2 d'être marqué\n",
    "    return gap_test(data, proba, a, b)\n",
    "\n",
    "def complete_labels(labels, observed):\n",
    "    res_labels = []\n",
    "    res_observed = []\n",
    "    n = 0\n",
    "    j = 0\n",
    "    for expected in range(1, np.max(labels)+1):\n",
    "        label = labels[j-n]\n",
    "        if expected != label:\n",
    "            res_labels.append(expected)\n",
    "            res_observed.append(0)\n",
    "            n += 1\n",
    "        else:\n",
    "            res_labels.append(label)\n",
    "            res_observed.append(observed[j-n])\n",
    "            j += 1\n",
    "    return res_observed\n",
    "\n",
    "\n",
    "print(f\"Test du Gap pour les décimales d'exponentielle : \\n \"\n",
    "      f\"{gap_test_discrete(e_numbers, 0, 5)}\")"
   ],
   "metadata": {
    "collapsed": false,
    "pycharm": {
     "name": "#%%\n"
    }
   }
  },
  {
   "cell_type": "markdown",
   "source": [
    "## Générateur de nombres aléatoires\n",
    "\n",
    "### Technique employée"
   ],
   "metadata": {
    "collapsed": false
   }
  },
  {
   "cell_type": "code",
   "execution_count": 16,
   "outputs": [
    {
     "output_type": "stream",
     "name": "stdout",
     "text": [
      "Résultat de notre générateur : \n[0.3356334294, 0.2856488696, 0.3123309692, 0.2357304731, 0.6877939038, 0.4928991741, 0.4189801214, 0.4756094296, 0.4486305044, 0.7926444094, 0.6478315694, 0.3827634648, 0.3582035001, 0.4885615504, 0.3343011284, 0.0359699794, 0.3986881544, 0.4416345391, 0.2726911048, 0.3616914894, 0.4848208236, 0.4556271891, 0.3549209318, 0.3912005284, 0.3926344292, 0.6316885831, 0.3022984701, 0.0916905284, 0.3342281601, 0.4678881694, 0.2926075084, 0.3189405244, 0.4926319688, 0.3822944234, 0.4189011336, 0.3819901285, 0.6313011894, 0.2626081735, 0.6825311345, 0.6178305846, 0.3986609342, 0.2488049896, 0.2576314294, 0.3918331845, 0.3189611635, 0.392801103, 0.282934404, 0.3623081014, 0.4829644741, 0.261239181]\n"
     ]
    }
   ],
   "source": [
    "NB_DIGITS = 10\n",
    "\n",
    "class Generator0:\n",
    "\n",
    "    def __init__(self, seed=0, nb_digits = 10):\n",
    "        self.seed = seed\n",
    "        self.index = seed % len(e_numbers)\n",
    "        self.nb_digits = nb_digits\n",
    "\n",
    "    def random(self):\n",
    "        digits = []\n",
    "        for i in range(self.nb_digits):\n",
    "            digit = e_numbers[self.index]\n",
    "            digits.append(digit)\n",
    "            self.index += 1\n",
    "        return float(\"0.\" + \"\".join(map(lambda x: str(x), digits)))\n",
    "\n",
    "class Generator1:\n",
    "\n",
    "    def __init__(self, seed=0, nb_digits = 10):\n",
    "        self.seed = seed\n",
    "        self.index = seed % len(e_numbers)\n",
    "        self.nb_digits = nb_digits\n",
    "\n",
    "    def random(self):\n",
    "        digits = []\n",
    "        for i in range(self.nb_digits):\n",
    "            nb = e_numbers[self.index]\n",
    "            a = len(e_numbers) - nb\n",
    "            c = e_numbers[i + nb]\n",
    "            digit = (a * nb + c) % 10\n",
    "            digits.append(digit)\n",
    "            self.index += 1\n",
    "        return float(\"0.\" + \"\".join(map(lambda x: str(x), digits)))\n",
    "        \n",
    "\n",
    "class Generator2:\n",
    "\n",
    "    def __init__(self, seed=0, nb_digits = 10):\n",
    "        self.seed = seed\n",
    "        self.index = seed % len(e_numbers)\n",
    "        self.nb_digits = nb_digits\n",
    "    \n",
    "    def random(self):\n",
    "        xyz = []\n",
    "        for j in range(3):\n",
    "            digits = []\n",
    "            for k in range(self.nb_digits):\n",
    "                digit = e_numbers[self.index]\n",
    "                digits.append(digit)\n",
    "                self.index += 1\n",
    "            xyz.append(float(\"0.\" + \"\".join(map(lambda x: str(x), digits))))\n",
    "        yield math.sqrt(sum([x**2 for x in xyz]))/math.sqrt(3)\n",
    "\n",
    "class Generator3:\n",
    "\n",
    "    def __init__(self, seed=0, precision=57):\n",
    "        self.seed = seed\n",
    "        self.index = seed % len(e_numbers)\n",
    "        self.precision = precision          # IEE754 double has 57 bits of precision\n",
    "\n",
    "    def random(self):\n",
    "        bits = 0\n",
    "        generated = 0\n",
    "        while bits < self.precision:\n",
    "            rn = e_numbers[self.index]\n",
    "\n",
    "            if rn > 7:\n",
    "                self.index = (self.index + 1) % len(e_numbers)\n",
    "                continue\n",
    "\n",
    "            three_bits = (\n",
    "                rn & 1,\n",
    "                (rn & 2) // 2,\n",
    "                (rn & 4) // 4\n",
    "            )\n",
    "            \n",
    "            for i in range(3):\n",
    "                if bits >= self.precision:\n",
    "                    break\n",
    "                generated = (generated << 1) | three_bits[i]\n",
    "                bits += 1\n",
    "\n",
    "            self.index = (self.index + 1) % len(e_numbers)\n",
    "        return generated / 2**self.precision\n",
    "\n",
    "rng0 = Generator0(50)\n",
    "rng1 = Generator1(50)\n",
    "rng2 = Generator2(50)\n",
    "rng3 = Generator3(50)\n",
    "gen_numbers = [rng1.random() for _ in range(50)]\n",
    "print(f\"Résultat de notre générateur : \\n\"\n",
    "      f\"{gen_numbers}\")"
   ],
   "metadata": {
    "collapsed": false,
    "pycharm": {
     "name": "#%%\n"
    },
    "tags": []
   }
  },
  {
   "cell_type": "markdown",
   "metadata": {
    "pycharm": {
     "name": "#%% md\n"
    }
   },
   "source": [
    "### Test du Chi Carré"
   ]
  },
  {
   "cell_type": "code",
   "execution_count": 17,
   "outputs": [
    {
     "output_type": "stream",
     "name": "stdout",
     "text": [
      "Test du Chi Carré pour notre générateur : \n(False, 41.13999999999999, 12.591587243743977)\n"
     ]
    }
   ],
   "source": [
    "def split_in_groups(data):\n",
    "    data = np.sort(data)\n",
    "    i = 0\n",
    "    count = 0\n",
    "    res = []\n",
    "    for d in data:\n",
    "        if i <= d < (i + 0.1):\n",
    "            count += 1\n",
    "        else:\n",
    "            i += 0.10000000000000000000000000\n",
    "            res.append(count)\n",
    "            count = 0\n",
    "    return np.array(res)\n",
    "\n",
    "def chi_squared_continuous(data):\n",
    "    observed = split_in_groups(data)\n",
    "    N = len(data)\n",
    "    proba = 1/len(observed)\n",
    "    theorical = np.array([N * proba for _ in range(len(observed))])\n",
    "    return chi_squarred(observed, theorical)\n",
    "\n",
    "print(f\"Test du Chi Carré pour notre générateur : \\n\"\n",
    "      f\"{chi_squared_continuous(gen_numbers)}\")"
   ],
   "metadata": {
    "collapsed": false,
    "pycharm": {
     "name": "#%%\n"
    }
   }
  },
  {
   "cell_type": "markdown",
   "source": [
    "### Test de Kolmogorov-Smirnov"
   ],
   "metadata": {
    "collapsed": false,
    "pycharm": {
     "name": "#%% md\n"
    }
   }
  },
  {
   "cell_type": "code",
   "execution_count": 18,
   "outputs": [
    {
     "output_type": "stream",
     "name": "stdout",
     "text": [
      "Test de Kolmogorov-Smirnov pour notre générateur : \n(False, 0.718760819, 0.19205020177026633)\n"
     ]
    }
   ],
   "source": [
    "def kolmogorov_smirnov(numbers):\n",
    "    np.sort(numbers)\n",
    "    n = len(numbers)\n",
    "    distance = np.max(np.array([np.abs((i/n)-numbers[i]) for i in range(len(numbers))]))\n",
    "    critical = 1.358/math.sqrt(n)\n",
    "    return distance < critical, distance, critical\n",
    "\n",
    "print(f\"Test de Kolmogorov-Smirnov pour notre générateur : \\n\"\n",
    "      f\"{kolmogorov_smirnov(gen_numbers)}\")"
   ],
   "metadata": {
    "collapsed": false,
    "pycharm": {
     "name": "#%%\n"
    }
   }
  },
  {
   "cell_type": "markdown",
   "source": [
    "### Test du gap"
   ],
   "metadata": {
    "collapsed": false
   }
  },
  {
   "cell_type": "code",
   "execution_count": 19,
   "outputs": [
    {
     "output_type": "stream",
     "name": "stdout",
     "text": [
      "labels [1 2 3] observed [38  3  2]\nTest du gap pour notre générateur : \n(False, 20.36918604651163, 5.991464547107979)\n"
     ]
    }
   ],
   "source": [
    "def gap_test_continue(data, a = 0.0, b = 0.5):\n",
    "    assert a < b\n",
    "    proba = b - a  # => proba 1/2 d'être marqué\n",
    "    return gap_test(data, proba, a, b)\n",
    "\n",
    "print(f\"Test du gap pour notre générateur : \\n\"\n",
    "      f\"{gap_test_continue(gen_numbers, 0.0, 0.5)}\")"
   ],
   "metadata": {
    "collapsed": false,
    "pycharm": {
     "name": "#%%\n"
    }
   }
  },
  {
   "cell_type": "markdown",
   "source": [
    "### Comparaison avec le générateur de Python"
   ],
   "metadata": {
    "collapsed": false,
    "pycharm": {
     "name": "#%% md\n"
    }
   }
  },
  {
   "cell_type": "code",
   "execution_count": 20,
   "metadata": {
    "pycharm": {
     "name": "#%%\n"
    }
   },
   "outputs": [],
   "source": [
    "numbers_python = []\n",
    "for _ in range(len(gen_numbers)):\n",
    "    numbers_python.append(random.uniform(0, 1))"
   ]
  },
  {
   "cell_type": "code",
   "execution_count": 21,
   "outputs": [
    {
     "output_type": "display_data",
     "data": {
      "text/plain": "<Figure size 432x288 with 1 Axes>",
      "image/svg+xml": "<?xml version=\"1.0\" encoding=\"utf-8\" standalone=\"no\"?>\n<!DOCTYPE svg PUBLIC \"-//W3C//DTD SVG 1.1//EN\"\n  \"http://www.w3.org/Graphics/SVG/1.1/DTD/svg11.dtd\">\n<svg height=\"264.11625pt\" version=\"1.1\" viewBox=\"0 0 523.49625 264.11625\" width=\"523.49625pt\" xmlns=\"http://www.w3.org/2000/svg\" xmlns:xlink=\"http://www.w3.org/1999/xlink\">\n <metadata>\n  <rdf:RDF xmlns:cc=\"http://creativecommons.org/ns#\" xmlns:dc=\"http://purl.org/dc/elements/1.1/\" xmlns:rdf=\"http://www.w3.org/1999/02/22-rdf-syntax-ns#\">\n   <cc:Work>\n    <dc:type rdf:resource=\"http://purl.org/dc/dcmitype/StillImage\"/>\n    <dc:date>2021-05-02T20:01:52.331421</dc:date>\n    <dc:format>image/svg+xml</dc:format>\n    <dc:creator>\n     <cc:Agent>\n      <dc:title>Matplotlib v3.4.1, https://matplotlib.org/</dc:title>\n     </cc:Agent>\n    </dc:creator>\n   </cc:Work>\n  </rdf:RDF>\n </metadata>\n <defs>\n  <style type=\"text/css\">*{stroke-linecap:butt;stroke-linejoin:round;}</style>\n </defs>\n <g id=\"figure_1\">\n  <g id=\"patch_1\">\n   <path d=\"M 0 264.11625 \nL 523.49625 264.11625 \nL 523.49625 0 \nL 0 0 \nz\n\" style=\"fill:none;\"/>\n  </g>\n  <g id=\"axes_1\">\n   <g id=\"patch_2\">\n    <path d=\"M 94.348125 240.238125 \nL 429.148125 240.238125 \nL 429.148125 22.798125 \nL 94.348125 22.798125 \nz\n\" style=\"fill:#ffffff;\"/>\n   </g>\n   <g id=\"patch_3\">\n    <path clip-path=\"url(#p4dafc1de9f)\" d=\"M 115.708498 240.238125 \nL 139.411493 240.238125 \nL 139.411493 208.378784 \nL 115.708498 208.378784 \nz\n\" style=\"fill:#98fb98;\"/>\n   </g>\n   <g id=\"patch_4\">\n    <path clip-path=\"url(#p4dafc1de9f)\" d=\"M 139.411493 240.238125 \nL 163.114488 240.238125 \nL 163.114488 240.238125 \nL 139.411493 240.238125 \nz\n\" style=\"fill:#98fb98;\"/>\n   </g>\n   <g id=\"patch_5\">\n    <path clip-path=\"url(#p4dafc1de9f)\" d=\"M 163.114488 240.238125 \nL 186.817483 240.238125 \nL 186.817483 160.589773 \nL 163.114488 160.589773 \nz\n\" style=\"fill:#98fb98;\"/>\n   </g>\n   <g id=\"patch_6\">\n    <path clip-path=\"url(#p4dafc1de9f)\" d=\"M 186.817483 240.238125 \nL 210.520478 240.238125 \nL 210.520478 65.011751 \nL 186.817483 65.011751 \nz\n\" style=\"fill:#98fb98;\"/>\n   </g>\n   <g id=\"patch_7\">\n    <path clip-path=\"url(#p4dafc1de9f)\" d=\"M 210.520478 240.238125 \nL 234.223473 240.238125 \nL 234.223473 33.152411 \nL 210.520478 33.152411 \nz\n\" style=\"fill:#98fb98;\"/>\n   </g>\n   <g id=\"patch_8\">\n    <path clip-path=\"url(#p4dafc1de9f)\" d=\"M 234.223473 240.238125 \nL 257.926468 240.238125 \nL 257.926468 80.941422 \nL 234.223473 80.941422 \nz\n\" style=\"fill:#98fb98;\"/>\n   </g>\n   <g id=\"patch_9\">\n    <path clip-path=\"url(#p4dafc1de9f)\" d=\"M 257.926468 240.238125 \nL 281.629463 240.238125 \nL 281.629463 208.378784 \nL 257.926468 208.378784 \nz\n\" style=\"fill:#98fb98;\"/>\n   </g>\n   <g id=\"patch_10\">\n    <path clip-path=\"url(#p4dafc1de9f)\" d=\"M 281.629463 240.238125 \nL 305.332458 240.238125 \nL 305.332458 192.449114 \nL 281.629463 192.449114 \nz\n\" style=\"fill:#98fb98;\"/>\n   </g>\n   <g id=\"patch_11\">\n    <path clip-path=\"url(#p4dafc1de9f)\" d=\"M 305.332458 240.238125 \nL 329.035453 240.238125 \nL 329.035453 192.449114 \nL 305.332458 192.449114 \nz\n\" style=\"fill:#98fb98;\"/>\n   </g>\n   <g id=\"patch_12\">\n    <path clip-path=\"url(#p4dafc1de9f)\" d=\"M 329.035453 240.238125 \nL 352.738448 240.238125 \nL 352.738448 224.308455 \nL 329.035453 224.308455 \nz\n\" style=\"fill:#98fb98;\"/>\n   </g>\n   <g id=\"matplotlib.axis_1\">\n    <g id=\"xtick_1\">\n     <g id=\"line2d_1\">\n      <defs>\n       <path d=\"M 0 0 \nL 0 3.5 \n\" id=\"m7b9ff24aa4\" style=\"stroke:#000000;stroke-width:0.8;\"/>\n      </defs>\n      <g>\n       <use style=\"stroke:#000000;stroke-width:0.8;\" x=\"104.440822\" xlink:href=\"#m7b9ff24aa4\" y=\"240.238125\"/>\n      </g>\n     </g>\n     <g id=\"text_1\">\n      <!-- 0.0 -->\n      <g transform=\"translate(96.48926 254.836562)scale(0.1 -0.1)\">\n       <defs>\n        <path d=\"M 2034 4250 \nQ 1547 4250 1301 3770 \nQ 1056 3291 1056 2328 \nQ 1056 1369 1301 889 \nQ 1547 409 2034 409 \nQ 2525 409 2770 889 \nQ 3016 1369 3016 2328 \nQ 3016 3291 2770 3770 \nQ 2525 4250 2034 4250 \nz\nM 2034 4750 \nQ 2819 4750 3233 4129 \nQ 3647 3509 3647 2328 \nQ 3647 1150 3233 529 \nQ 2819 -91 2034 -91 \nQ 1250 -91 836 529 \nQ 422 1150 422 2328 \nQ 422 3509 836 4129 \nQ 1250 4750 2034 4750 \nz\n\" id=\"DejaVuSans-30\" transform=\"scale(0.015625)\"/>\n        <path d=\"M 684 794 \nL 1344 794 \nL 1344 0 \nL 684 0 \nL 684 794 \nz\n\" id=\"DejaVuSans-2e\" transform=\"scale(0.015625)\"/>\n       </defs>\n       <use xlink:href=\"#DejaVuSans-30\"/>\n       <use x=\"63.623047\" xlink:href=\"#DejaVuSans-2e\"/>\n       <use x=\"95.410156\" xlink:href=\"#DejaVuSans-30\"/>\n      </g>\n     </g>\n    </g>\n    <g id=\"xtick_2\">\n     <g id=\"line2d_2\">\n      <g>\n       <use style=\"stroke:#000000;stroke-width:0.8;\" x=\"167.091267\" xlink:href=\"#m7b9ff24aa4\" y=\"240.238125\"/>\n      </g>\n     </g>\n     <g id=\"text_2\">\n      <!-- 0.2 -->\n      <g transform=\"translate(159.139705 254.836562)scale(0.1 -0.1)\">\n       <defs>\n        <path d=\"M 1228 531 \nL 3431 531 \nL 3431 0 \nL 469 0 \nL 469 531 \nQ 828 903 1448 1529 \nQ 2069 2156 2228 2338 \nQ 2531 2678 2651 2914 \nQ 2772 3150 2772 3378 \nQ 2772 3750 2511 3984 \nQ 2250 4219 1831 4219 \nQ 1534 4219 1204 4116 \nQ 875 4013 500 3803 \nL 500 4441 \nQ 881 4594 1212 4672 \nQ 1544 4750 1819 4750 \nQ 2544 4750 2975 4387 \nQ 3406 4025 3406 3419 \nQ 3406 3131 3298 2873 \nQ 3191 2616 2906 2266 \nQ 2828 2175 2409 1742 \nQ 1991 1309 1228 531 \nz\n\" id=\"DejaVuSans-32\" transform=\"scale(0.015625)\"/>\n       </defs>\n       <use xlink:href=\"#DejaVuSans-30\"/>\n       <use x=\"63.623047\" xlink:href=\"#DejaVuSans-2e\"/>\n       <use x=\"95.410156\" xlink:href=\"#DejaVuSans-32\"/>\n      </g>\n     </g>\n    </g>\n    <g id=\"xtick_3\">\n     <g id=\"line2d_3\">\n      <g>\n       <use style=\"stroke:#000000;stroke-width:0.8;\" x=\"229.741712\" xlink:href=\"#m7b9ff24aa4\" y=\"240.238125\"/>\n      </g>\n     </g>\n     <g id=\"text_3\">\n      <!-- 0.4 -->\n      <g transform=\"translate(221.79015 254.836562)scale(0.1 -0.1)\">\n       <defs>\n        <path d=\"M 2419 4116 \nL 825 1625 \nL 2419 1625 \nL 2419 4116 \nz\nM 2253 4666 \nL 3047 4666 \nL 3047 1625 \nL 3713 1625 \nL 3713 1100 \nL 3047 1100 \nL 3047 0 \nL 2419 0 \nL 2419 1100 \nL 313 1100 \nL 313 1709 \nL 2253 4666 \nz\n\" id=\"DejaVuSans-34\" transform=\"scale(0.015625)\"/>\n       </defs>\n       <use xlink:href=\"#DejaVuSans-30\"/>\n       <use x=\"63.623047\" xlink:href=\"#DejaVuSans-2e\"/>\n       <use x=\"95.410156\" xlink:href=\"#DejaVuSans-34\"/>\n      </g>\n     </g>\n    </g>\n    <g id=\"xtick_4\">\n     <g id=\"line2d_4\">\n      <g>\n       <use style=\"stroke:#000000;stroke-width:0.8;\" x=\"292.392158\" xlink:href=\"#m7b9ff24aa4\" y=\"240.238125\"/>\n      </g>\n     </g>\n     <g id=\"text_4\">\n      <!-- 0.6 -->\n      <g transform=\"translate(284.440595 254.836562)scale(0.1 -0.1)\">\n       <defs>\n        <path d=\"M 2113 2584 \nQ 1688 2584 1439 2293 \nQ 1191 2003 1191 1497 \nQ 1191 994 1439 701 \nQ 1688 409 2113 409 \nQ 2538 409 2786 701 \nQ 3034 994 3034 1497 \nQ 3034 2003 2786 2293 \nQ 2538 2584 2113 2584 \nz\nM 3366 4563 \nL 3366 3988 \nQ 3128 4100 2886 4159 \nQ 2644 4219 2406 4219 \nQ 1781 4219 1451 3797 \nQ 1122 3375 1075 2522 \nQ 1259 2794 1537 2939 \nQ 1816 3084 2150 3084 \nQ 2853 3084 3261 2657 \nQ 3669 2231 3669 1497 \nQ 3669 778 3244 343 \nQ 2819 -91 2113 -91 \nQ 1303 -91 875 529 \nQ 447 1150 447 2328 \nQ 447 3434 972 4092 \nQ 1497 4750 2381 4750 \nQ 2619 4750 2861 4703 \nQ 3103 4656 3366 4563 \nz\n\" id=\"DejaVuSans-36\" transform=\"scale(0.015625)\"/>\n       </defs>\n       <use xlink:href=\"#DejaVuSans-30\"/>\n       <use x=\"63.623047\" xlink:href=\"#DejaVuSans-2e\"/>\n       <use x=\"95.410156\" xlink:href=\"#DejaVuSans-36\"/>\n      </g>\n     </g>\n    </g>\n    <g id=\"xtick_5\">\n     <g id=\"line2d_5\">\n      <g>\n       <use style=\"stroke:#000000;stroke-width:0.8;\" x=\"355.042603\" xlink:href=\"#m7b9ff24aa4\" y=\"240.238125\"/>\n      </g>\n     </g>\n     <g id=\"text_5\">\n      <!-- 0.8 -->\n      <g transform=\"translate(347.09104 254.836562)scale(0.1 -0.1)\">\n       <defs>\n        <path d=\"M 2034 2216 \nQ 1584 2216 1326 1975 \nQ 1069 1734 1069 1313 \nQ 1069 891 1326 650 \nQ 1584 409 2034 409 \nQ 2484 409 2743 651 \nQ 3003 894 3003 1313 \nQ 3003 1734 2745 1975 \nQ 2488 2216 2034 2216 \nz\nM 1403 2484 \nQ 997 2584 770 2862 \nQ 544 3141 544 3541 \nQ 544 4100 942 4425 \nQ 1341 4750 2034 4750 \nQ 2731 4750 3128 4425 \nQ 3525 4100 3525 3541 \nQ 3525 3141 3298 2862 \nQ 3072 2584 2669 2484 \nQ 3125 2378 3379 2068 \nQ 3634 1759 3634 1313 \nQ 3634 634 3220 271 \nQ 2806 -91 2034 -91 \nQ 1263 -91 848 271 \nQ 434 634 434 1313 \nQ 434 1759 690 2068 \nQ 947 2378 1403 2484 \nz\nM 1172 3481 \nQ 1172 3119 1398 2916 \nQ 1625 2713 2034 2713 \nQ 2441 2713 2670 2916 \nQ 2900 3119 2900 3481 \nQ 2900 3844 2670 4047 \nQ 2441 4250 2034 4250 \nQ 1625 4250 1398 4047 \nQ 1172 3844 1172 3481 \nz\n\" id=\"DejaVuSans-38\" transform=\"scale(0.015625)\"/>\n       </defs>\n       <use xlink:href=\"#DejaVuSans-30\"/>\n       <use x=\"63.623047\" xlink:href=\"#DejaVuSans-2e\"/>\n       <use x=\"95.410156\" xlink:href=\"#DejaVuSans-38\"/>\n      </g>\n     </g>\n    </g>\n    <g id=\"xtick_6\">\n     <g id=\"line2d_6\">\n      <g>\n       <use style=\"stroke:#000000;stroke-width:0.8;\" x=\"417.693048\" xlink:href=\"#m7b9ff24aa4\" y=\"240.238125\"/>\n      </g>\n     </g>\n     <g id=\"text_6\">\n      <!-- 1.0 -->\n      <g transform=\"translate(409.741485 254.836562)scale(0.1 -0.1)\">\n       <defs>\n        <path d=\"M 794 531 \nL 1825 531 \nL 1825 4091 \nL 703 3866 \nL 703 4441 \nL 1819 4666 \nL 2450 4666 \nL 2450 531 \nL 3481 531 \nL 3481 0 \nL 794 0 \nL 794 531 \nz\n\" id=\"DejaVuSans-31\" transform=\"scale(0.015625)\"/>\n       </defs>\n       <use xlink:href=\"#DejaVuSans-31\"/>\n       <use x=\"63.623047\" xlink:href=\"#DejaVuSans-2e\"/>\n       <use x=\"95.410156\" xlink:href=\"#DejaVuSans-30\"/>\n      </g>\n     </g>\n    </g>\n   </g>\n   <g id=\"matplotlib.axis_2\">\n    <g id=\"ytick_1\">\n     <g id=\"line2d_7\">\n      <defs>\n       <path d=\"M 0 0 \nL -3.5 0 \n\" id=\"m936cb0c957\" style=\"stroke:#000000;stroke-width:0.8;\"/>\n      </defs>\n      <g>\n       <use style=\"stroke:#000000;stroke-width:0.8;\" x=\"94.348125\" xlink:href=\"#m936cb0c957\" y=\"240.238125\"/>\n      </g>\n     </g>\n     <g id=\"text_7\">\n      <!-- 0 -->\n      <g transform=\"translate(80.985625 244.037344)scale(0.1 -0.1)\">\n       <use xlink:href=\"#DejaVuSans-30\"/>\n      </g>\n     </g>\n    </g>\n    <g id=\"ytick_2\">\n     <g id=\"line2d_8\">\n      <g>\n       <use style=\"stroke:#000000;stroke-width:0.8;\" x=\"94.348125\" xlink:href=\"#m936cb0c957\" y=\"208.378784\"/>\n      </g>\n     </g>\n     <g id=\"text_8\">\n      <!-- 2 -->\n      <g transform=\"translate(80.985625 212.178003)scale(0.1 -0.1)\">\n       <use xlink:href=\"#DejaVuSans-32\"/>\n      </g>\n     </g>\n    </g>\n    <g id=\"ytick_3\">\n     <g id=\"line2d_9\">\n      <g>\n       <use style=\"stroke:#000000;stroke-width:0.8;\" x=\"94.348125\" xlink:href=\"#m936cb0c957\" y=\"176.519444\"/>\n      </g>\n     </g>\n     <g id=\"text_9\">\n      <!-- 4 -->\n      <g transform=\"translate(80.985625 180.318662)scale(0.1 -0.1)\">\n       <use xlink:href=\"#DejaVuSans-34\"/>\n      </g>\n     </g>\n    </g>\n    <g id=\"ytick_4\">\n     <g id=\"line2d_10\">\n      <g>\n       <use style=\"stroke:#000000;stroke-width:0.8;\" x=\"94.348125\" xlink:href=\"#m936cb0c957\" y=\"144.660103\"/>\n      </g>\n     </g>\n     <g id=\"text_10\">\n      <!-- 6 -->\n      <g transform=\"translate(80.985625 148.459322)scale(0.1 -0.1)\">\n       <use xlink:href=\"#DejaVuSans-36\"/>\n      </g>\n     </g>\n    </g>\n    <g id=\"ytick_5\">\n     <g id=\"line2d_11\">\n      <g>\n       <use style=\"stroke:#000000;stroke-width:0.8;\" x=\"94.348125\" xlink:href=\"#m936cb0c957\" y=\"112.800762\"/>\n      </g>\n     </g>\n     <g id=\"text_11\">\n      <!-- 8 -->\n      <g transform=\"translate(80.985625 116.599981)scale(0.1 -0.1)\">\n       <use xlink:href=\"#DejaVuSans-38\"/>\n      </g>\n     </g>\n    </g>\n    <g id=\"ytick_6\">\n     <g id=\"line2d_12\">\n      <g>\n       <use style=\"stroke:#000000;stroke-width:0.8;\" x=\"94.348125\" xlink:href=\"#m936cb0c957\" y=\"80.941422\"/>\n      </g>\n     </g>\n     <g id=\"text_12\">\n      <!-- 10 -->\n      <g transform=\"translate(74.623125 84.74064)scale(0.1 -0.1)\">\n       <use xlink:href=\"#DejaVuSans-31\"/>\n       <use x=\"63.623047\" xlink:href=\"#DejaVuSans-30\"/>\n      </g>\n     </g>\n    </g>\n    <g id=\"ytick_7\">\n     <g id=\"line2d_13\">\n      <g>\n       <use style=\"stroke:#000000;stroke-width:0.8;\" x=\"94.348125\" xlink:href=\"#m936cb0c957\" y=\"49.082081\"/>\n      </g>\n     </g>\n     <g id=\"text_13\">\n      <!-- 12 -->\n      <g transform=\"translate(74.623125 52.8813)scale(0.1 -0.1)\">\n       <use xlink:href=\"#DejaVuSans-31\"/>\n       <use x=\"63.623047\" xlink:href=\"#DejaVuSans-32\"/>\n      </g>\n     </g>\n    </g>\n    <g id=\"text_14\">\n     <!-- Count -->\n     <g transform=\"translate(68.543437 146.366562)rotate(-90)scale(0.1 -0.1)\">\n      <defs>\n       <path d=\"M 4122 4306 \nL 4122 3641 \nQ 3803 3938 3442 4084 \nQ 3081 4231 2675 4231 \nQ 1875 4231 1450 3742 \nQ 1025 3253 1025 2328 \nQ 1025 1406 1450 917 \nQ 1875 428 2675 428 \nQ 3081 428 3442 575 \nQ 3803 722 4122 1019 \nL 4122 359 \nQ 3791 134 3420 21 \nQ 3050 -91 2638 -91 \nQ 1578 -91 968 557 \nQ 359 1206 359 2328 \nQ 359 3453 968 4101 \nQ 1578 4750 2638 4750 \nQ 3056 4750 3426 4639 \nQ 3797 4528 4122 4306 \nz\n\" id=\"DejaVuSans-43\" transform=\"scale(0.015625)\"/>\n       <path d=\"M 1959 3097 \nQ 1497 3097 1228 2736 \nQ 959 2375 959 1747 \nQ 959 1119 1226 758 \nQ 1494 397 1959 397 \nQ 2419 397 2687 759 \nQ 2956 1122 2956 1747 \nQ 2956 2369 2687 2733 \nQ 2419 3097 1959 3097 \nz\nM 1959 3584 \nQ 2709 3584 3137 3096 \nQ 3566 2609 3566 1747 \nQ 3566 888 3137 398 \nQ 2709 -91 1959 -91 \nQ 1206 -91 779 398 \nQ 353 888 353 1747 \nQ 353 2609 779 3096 \nQ 1206 3584 1959 3584 \nz\n\" id=\"DejaVuSans-6f\" transform=\"scale(0.015625)\"/>\n       <path d=\"M 544 1381 \nL 544 3500 \nL 1119 3500 \nL 1119 1403 \nQ 1119 906 1312 657 \nQ 1506 409 1894 409 \nQ 2359 409 2629 706 \nQ 2900 1003 2900 1516 \nL 2900 3500 \nL 3475 3500 \nL 3475 0 \nL 2900 0 \nL 2900 538 \nQ 2691 219 2414 64 \nQ 2138 -91 1772 -91 \nQ 1169 -91 856 284 \nQ 544 659 544 1381 \nz\nM 1991 3584 \nL 1991 3584 \nz\n\" id=\"DejaVuSans-75\" transform=\"scale(0.015625)\"/>\n       <path d=\"M 3513 2113 \nL 3513 0 \nL 2938 0 \nL 2938 2094 \nQ 2938 2591 2744 2837 \nQ 2550 3084 2163 3084 \nQ 1697 3084 1428 2787 \nQ 1159 2491 1159 1978 \nL 1159 0 \nL 581 0 \nL 581 3500 \nL 1159 3500 \nL 1159 2956 \nQ 1366 3272 1645 3428 \nQ 1925 3584 2291 3584 \nQ 2894 3584 3203 3211 \nQ 3513 2838 3513 2113 \nz\n\" id=\"DejaVuSans-6e\" transform=\"scale(0.015625)\"/>\n       <path d=\"M 1172 4494 \nL 1172 3500 \nL 2356 3500 \nL 2356 3053 \nL 1172 3053 \nL 1172 1153 \nQ 1172 725 1289 603 \nQ 1406 481 1766 481 \nL 2356 481 \nL 2356 0 \nL 1766 0 \nQ 1100 0 847 248 \nQ 594 497 594 1153 \nL 594 3053 \nL 172 3053 \nL 172 3500 \nL 594 3500 \nL 594 4494 \nL 1172 4494 \nz\n\" id=\"DejaVuSans-74\" transform=\"scale(0.015625)\"/>\n      </defs>\n      <use xlink:href=\"#DejaVuSans-43\"/>\n      <use x=\"69.824219\" xlink:href=\"#DejaVuSans-6f\"/>\n      <use x=\"131.005859\" xlink:href=\"#DejaVuSans-75\"/>\n      <use x=\"194.384766\" xlink:href=\"#DejaVuSans-6e\"/>\n      <use x=\"257.763672\" xlink:href=\"#DejaVuSans-74\"/>\n     </g>\n    </g>\n   </g>\n   <g id=\"patch_13\">\n    <path clip-path=\"url(#p4dafc1de9f)\" d=\"M 109.566307 240.238125 \nL 109.566307 160.589773 \nL 140.00267 160.589773 \nL 140.00267 80.941422 \nL 170.439034 80.941422 \nL 170.439034 160.589773 \nL 200.875398 160.589773 \nL 200.875398 208.378784 \nL 231.311761 208.378784 \nL 231.311761 176.519444 \nL 261.748125 176.519444 \nL 261.748125 160.589773 \nL 292.184489 160.589773 \nL 292.184489 112.800762 \nL 322.620852 112.800762 \nL 322.620852 192.449114 \nL 353.057216 192.449114 \nL 353.057216 192.449114 \nL 383.49358 192.449114 \nL 383.49358 160.589773 \nL 413.929943 160.589773 \nL 413.929943 240.238125 \n\" style=\"fill:none;stroke:#00008b;stroke-linejoin:miter;\"/>\n   </g>\n   <g id=\"patch_14\">\n    <path d=\"M 94.348125 240.238125 \nL 94.348125 22.798125 \n\" style=\"fill:none;stroke:#000000;stroke-linecap:square;stroke-linejoin:miter;stroke-width:0.8;\"/>\n   </g>\n   <g id=\"patch_15\">\n    <path d=\"M 429.148125 240.238125 \nL 429.148125 22.798125 \n\" style=\"fill:none;stroke:#000000;stroke-linecap:square;stroke-linejoin:miter;stroke-width:0.8;\"/>\n   </g>\n   <g id=\"patch_16\">\n    <path d=\"M 94.348125 240.238125 \nL 429.148125 240.238125 \n\" style=\"fill:none;stroke:#000000;stroke-linecap:square;stroke-linejoin:miter;stroke-width:0.8;\"/>\n   </g>\n   <g id=\"patch_17\">\n    <path d=\"M 94.348125 22.798125 \nL 429.148125 22.798125 \n\" style=\"fill:none;stroke:#000000;stroke-linecap:square;stroke-linejoin:miter;stroke-width:0.8;\"/>\n   </g>\n   <g id=\"text_15\">\n    <!-- Comparaison entre les nombres que nous avons générés et ceux du module random -->\n    <g transform=\"translate(7.2 16.798125)scale(0.12 -0.12)\">\n     <defs>\n      <path d=\"M 3328 2828 \nQ 3544 3216 3844 3400 \nQ 4144 3584 4550 3584 \nQ 5097 3584 5394 3201 \nQ 5691 2819 5691 2113 \nL 5691 0 \nL 5113 0 \nL 5113 2094 \nQ 5113 2597 4934 2840 \nQ 4756 3084 4391 3084 \nQ 3944 3084 3684 2787 \nQ 3425 2491 3425 1978 \nL 3425 0 \nL 2847 0 \nL 2847 2094 \nQ 2847 2600 2669 2842 \nQ 2491 3084 2119 3084 \nQ 1678 3084 1418 2786 \nQ 1159 2488 1159 1978 \nL 1159 0 \nL 581 0 \nL 581 3500 \nL 1159 3500 \nL 1159 2956 \nQ 1356 3278 1631 3431 \nQ 1906 3584 2284 3584 \nQ 2666 3584 2933 3390 \nQ 3200 3197 3328 2828 \nz\n\" id=\"DejaVuSans-6d\" transform=\"scale(0.015625)\"/>\n      <path d=\"M 1159 525 \nL 1159 -1331 \nL 581 -1331 \nL 581 3500 \nL 1159 3500 \nL 1159 2969 \nQ 1341 3281 1617 3432 \nQ 1894 3584 2278 3584 \nQ 2916 3584 3314 3078 \nQ 3713 2572 3713 1747 \nQ 3713 922 3314 415 \nQ 2916 -91 2278 -91 \nQ 1894 -91 1617 61 \nQ 1341 213 1159 525 \nz\nM 3116 1747 \nQ 3116 2381 2855 2742 \nQ 2594 3103 2138 3103 \nQ 1681 3103 1420 2742 \nQ 1159 2381 1159 1747 \nQ 1159 1113 1420 752 \nQ 1681 391 2138 391 \nQ 2594 391 2855 752 \nQ 3116 1113 3116 1747 \nz\n\" id=\"DejaVuSans-70\" transform=\"scale(0.015625)\"/>\n      <path d=\"M 2194 1759 \nQ 1497 1759 1228 1600 \nQ 959 1441 959 1056 \nQ 959 750 1161 570 \nQ 1363 391 1709 391 \nQ 2188 391 2477 730 \nQ 2766 1069 2766 1631 \nL 2766 1759 \nL 2194 1759 \nz\nM 3341 1997 \nL 3341 0 \nL 2766 0 \nL 2766 531 \nQ 2569 213 2275 61 \nQ 1981 -91 1556 -91 \nQ 1019 -91 701 211 \nQ 384 513 384 1019 \nQ 384 1609 779 1909 \nQ 1175 2209 1959 2209 \nL 2766 2209 \nL 2766 2266 \nQ 2766 2663 2505 2880 \nQ 2244 3097 1772 3097 \nQ 1472 3097 1187 3025 \nQ 903 2953 641 2809 \nL 641 3341 \nQ 956 3463 1253 3523 \nQ 1550 3584 1831 3584 \nQ 2591 3584 2966 3190 \nQ 3341 2797 3341 1997 \nz\n\" id=\"DejaVuSans-61\" transform=\"scale(0.015625)\"/>\n      <path d=\"M 2631 2963 \nQ 2534 3019 2420 3045 \nQ 2306 3072 2169 3072 \nQ 1681 3072 1420 2755 \nQ 1159 2438 1159 1844 \nL 1159 0 \nL 581 0 \nL 581 3500 \nL 1159 3500 \nL 1159 2956 \nQ 1341 3275 1631 3429 \nQ 1922 3584 2338 3584 \nQ 2397 3584 2469 3576 \nQ 2541 3569 2628 3553 \nL 2631 2963 \nz\n\" id=\"DejaVuSans-72\" transform=\"scale(0.015625)\"/>\n      <path d=\"M 603 3500 \nL 1178 3500 \nL 1178 0 \nL 603 0 \nL 603 3500 \nz\nM 603 4863 \nL 1178 4863 \nL 1178 4134 \nL 603 4134 \nL 603 4863 \nz\n\" id=\"DejaVuSans-69\" transform=\"scale(0.015625)\"/>\n      <path d=\"M 2834 3397 \nL 2834 2853 \nQ 2591 2978 2328 3040 \nQ 2066 3103 1784 3103 \nQ 1356 3103 1142 2972 \nQ 928 2841 928 2578 \nQ 928 2378 1081 2264 \nQ 1234 2150 1697 2047 \nL 1894 2003 \nQ 2506 1872 2764 1633 \nQ 3022 1394 3022 966 \nQ 3022 478 2636 193 \nQ 2250 -91 1575 -91 \nQ 1294 -91 989 -36 \nQ 684 19 347 128 \nL 347 722 \nQ 666 556 975 473 \nQ 1284 391 1588 391 \nQ 1994 391 2212 530 \nQ 2431 669 2431 922 \nQ 2431 1156 2273 1281 \nQ 2116 1406 1581 1522 \nL 1381 1569 \nQ 847 1681 609 1914 \nQ 372 2147 372 2553 \nQ 372 3047 722 3315 \nQ 1072 3584 1716 3584 \nQ 2034 3584 2315 3537 \nQ 2597 3491 2834 3397 \nz\n\" id=\"DejaVuSans-73\" transform=\"scale(0.015625)\"/>\n      <path id=\"DejaVuSans-20\" transform=\"scale(0.015625)\"/>\n      <path d=\"M 3597 1894 \nL 3597 1613 \nL 953 1613 \nQ 991 1019 1311 708 \nQ 1631 397 2203 397 \nQ 2534 397 2845 478 \nQ 3156 559 3463 722 \nL 3463 178 \nQ 3153 47 2828 -22 \nQ 2503 -91 2169 -91 \nQ 1331 -91 842 396 \nQ 353 884 353 1716 \nQ 353 2575 817 3079 \nQ 1281 3584 2069 3584 \nQ 2775 3584 3186 3129 \nQ 3597 2675 3597 1894 \nz\nM 3022 2063 \nQ 3016 2534 2758 2815 \nQ 2500 3097 2075 3097 \nQ 1594 3097 1305 2825 \nQ 1016 2553 972 2059 \nL 3022 2063 \nz\n\" id=\"DejaVuSans-65\" transform=\"scale(0.015625)\"/>\n      <path d=\"M 603 4863 \nL 1178 4863 \nL 1178 0 \nL 603 0 \nL 603 4863 \nz\n\" id=\"DejaVuSans-6c\" transform=\"scale(0.015625)\"/>\n      <path d=\"M 3116 1747 \nQ 3116 2381 2855 2742 \nQ 2594 3103 2138 3103 \nQ 1681 3103 1420 2742 \nQ 1159 2381 1159 1747 \nQ 1159 1113 1420 752 \nQ 1681 391 2138 391 \nQ 2594 391 2855 752 \nQ 3116 1113 3116 1747 \nz\nM 1159 2969 \nQ 1341 3281 1617 3432 \nQ 1894 3584 2278 3584 \nQ 2916 3584 3314 3078 \nQ 3713 2572 3713 1747 \nQ 3713 922 3314 415 \nQ 2916 -91 2278 -91 \nQ 1894 -91 1617 61 \nQ 1341 213 1159 525 \nL 1159 0 \nL 581 0 \nL 581 4863 \nL 1159 4863 \nL 1159 2969 \nz\n\" id=\"DejaVuSans-62\" transform=\"scale(0.015625)\"/>\n      <path d=\"M 947 1747 \nQ 947 1113 1208 752 \nQ 1469 391 1925 391 \nQ 2381 391 2643 752 \nQ 2906 1113 2906 1747 \nQ 2906 2381 2643 2742 \nQ 2381 3103 1925 3103 \nQ 1469 3103 1208 2742 \nQ 947 2381 947 1747 \nz\nM 2906 525 \nQ 2725 213 2448 61 \nQ 2172 -91 1784 -91 \nQ 1150 -91 751 415 \nQ 353 922 353 1747 \nQ 353 2572 751 3078 \nQ 1150 3584 1784 3584 \nQ 2172 3584 2448 3432 \nQ 2725 3281 2906 2969 \nL 2906 3500 \nL 3481 3500 \nL 3481 -1331 \nL 2906 -1331 \nL 2906 525 \nz\n\" id=\"DejaVuSans-71\" transform=\"scale(0.015625)\"/>\n      <path d=\"M 191 3500 \nL 800 3500 \nL 1894 563 \nL 2988 3500 \nL 3597 3500 \nL 2284 0 \nL 1503 0 \nL 191 3500 \nz\n\" id=\"DejaVuSans-76\" transform=\"scale(0.015625)\"/>\n      <path d=\"M 2906 1791 \nQ 2906 2416 2648 2759 \nQ 2391 3103 1925 3103 \nQ 1463 3103 1205 2759 \nQ 947 2416 947 1791 \nQ 947 1169 1205 825 \nQ 1463 481 1925 481 \nQ 2391 481 2648 825 \nQ 2906 1169 2906 1791 \nz\nM 3481 434 \nQ 3481 -459 3084 -895 \nQ 2688 -1331 1869 -1331 \nQ 1566 -1331 1297 -1286 \nQ 1028 -1241 775 -1147 \nL 775 -588 \nQ 1028 -725 1275 -790 \nQ 1522 -856 1778 -856 \nQ 2344 -856 2625 -561 \nQ 2906 -266 2906 331 \nL 2906 616 \nQ 2728 306 2450 153 \nQ 2172 0 1784 0 \nQ 1141 0 747 490 \nQ 353 981 353 1791 \nQ 353 2603 747 3093 \nQ 1141 3584 1784 3584 \nQ 2172 3584 2450 3431 \nQ 2728 3278 2906 2969 \nL 2906 3500 \nL 3481 3500 \nL 3481 434 \nz\n\" id=\"DejaVuSans-67\" transform=\"scale(0.015625)\"/>\n      <path d=\"M 3597 1894 \nL 3597 1613 \nL 953 1613 \nQ 991 1019 1311 708 \nQ 1631 397 2203 397 \nQ 2534 397 2845 478 \nQ 3156 559 3463 722 \nL 3463 178 \nQ 3153 47 2828 -22 \nQ 2503 -91 2169 -91 \nQ 1331 -91 842 396 \nQ 353 884 353 1716 \nQ 353 2575 817 3079 \nQ 1281 3584 2069 3584 \nQ 2775 3584 3186 3129 \nQ 3597 2675 3597 1894 \nz\nM 3022 2063 \nQ 3016 2534 2758 2815 \nQ 2500 3097 2075 3097 \nQ 1594 3097 1305 2825 \nQ 1016 2553 972 2059 \nL 3022 2063 \nz\nM 2469 5119 \nL 3091 5119 \nL 2072 3944 \nL 1594 3944 \nL 2469 5119 \nz\n\" id=\"DejaVuSans-e9\" transform=\"scale(0.015625)\"/>\n      <path d=\"M 3122 3366 \nL 3122 2828 \nQ 2878 2963 2633 3030 \nQ 2388 3097 2138 3097 \nQ 1578 3097 1268 2742 \nQ 959 2388 959 1747 \nQ 959 1106 1268 751 \nQ 1578 397 2138 397 \nQ 2388 397 2633 464 \nQ 2878 531 3122 666 \nL 3122 134 \nQ 2881 22 2623 -34 \nQ 2366 -91 2075 -91 \nQ 1284 -91 818 406 \nQ 353 903 353 1747 \nQ 353 2603 823 3093 \nQ 1294 3584 2113 3584 \nQ 2378 3584 2631 3529 \nQ 2884 3475 3122 3366 \nz\n\" id=\"DejaVuSans-63\" transform=\"scale(0.015625)\"/>\n      <path d=\"M 3513 3500 \nL 2247 1797 \nL 3578 0 \nL 2900 0 \nL 1881 1375 \nL 863 0 \nL 184 0 \nL 1544 1831 \nL 300 3500 \nL 978 3500 \nL 1906 2253 \nL 2834 3500 \nL 3513 3500 \nz\n\" id=\"DejaVuSans-78\" transform=\"scale(0.015625)\"/>\n      <path d=\"M 2906 2969 \nL 2906 4863 \nL 3481 4863 \nL 3481 0 \nL 2906 0 \nL 2906 525 \nQ 2725 213 2448 61 \nQ 2172 -91 1784 -91 \nQ 1150 -91 751 415 \nQ 353 922 353 1747 \nQ 353 2572 751 3078 \nQ 1150 3584 1784 3584 \nQ 2172 3584 2448 3432 \nQ 2725 3281 2906 2969 \nz\nM 947 1747 \nQ 947 1113 1208 752 \nQ 1469 391 1925 391 \nQ 2381 391 2643 752 \nQ 2906 1113 2906 1747 \nQ 2906 2381 2643 2742 \nQ 2381 3103 1925 3103 \nQ 1469 3103 1208 2742 \nQ 947 2381 947 1747 \nz\n\" id=\"DejaVuSans-64\" transform=\"scale(0.015625)\"/>\n     </defs>\n     <use xlink:href=\"#DejaVuSans-43\"/>\n     <use x=\"69.824219\" xlink:href=\"#DejaVuSans-6f\"/>\n     <use x=\"131.005859\" xlink:href=\"#DejaVuSans-6d\"/>\n     <use x=\"228.417969\" xlink:href=\"#DejaVuSans-70\"/>\n     <use x=\"291.894531\" xlink:href=\"#DejaVuSans-61\"/>\n     <use x=\"353.173828\" xlink:href=\"#DejaVuSans-72\"/>\n     <use x=\"394.287109\" xlink:href=\"#DejaVuSans-61\"/>\n     <use x=\"455.566406\" xlink:href=\"#DejaVuSans-69\"/>\n     <use x=\"483.349609\" xlink:href=\"#DejaVuSans-73\"/>\n     <use x=\"535.449219\" xlink:href=\"#DejaVuSans-6f\"/>\n     <use x=\"596.630859\" xlink:href=\"#DejaVuSans-6e\"/>\n     <use x=\"660.009766\" xlink:href=\"#DejaVuSans-20\"/>\n     <use x=\"691.796875\" xlink:href=\"#DejaVuSans-65\"/>\n     <use x=\"753.320312\" xlink:href=\"#DejaVuSans-6e\"/>\n     <use x=\"816.699219\" xlink:href=\"#DejaVuSans-74\"/>\n     <use x=\"855.908203\" xlink:href=\"#DejaVuSans-72\"/>\n     <use x=\"894.771484\" xlink:href=\"#DejaVuSans-65\"/>\n     <use x=\"956.294922\" xlink:href=\"#DejaVuSans-20\"/>\n     <use x=\"988.082031\" xlink:href=\"#DejaVuSans-6c\"/>\n     <use x=\"1015.865234\" xlink:href=\"#DejaVuSans-65\"/>\n     <use x=\"1077.388672\" xlink:href=\"#DejaVuSans-73\"/>\n     <use x=\"1129.488281\" xlink:href=\"#DejaVuSans-20\"/>\n     <use x=\"1161.275391\" xlink:href=\"#DejaVuSans-6e\"/>\n     <use x=\"1224.654297\" xlink:href=\"#DejaVuSans-6f\"/>\n     <use x=\"1285.835938\" xlink:href=\"#DejaVuSans-6d\"/>\n     <use x=\"1383.248047\" xlink:href=\"#DejaVuSans-62\"/>\n     <use x=\"1446.724609\" xlink:href=\"#DejaVuSans-72\"/>\n     <use x=\"1485.587891\" xlink:href=\"#DejaVuSans-65\"/>\n     <use x=\"1547.111328\" xlink:href=\"#DejaVuSans-73\"/>\n     <use x=\"1599.210938\" xlink:href=\"#DejaVuSans-20\"/>\n     <use x=\"1630.998047\" xlink:href=\"#DejaVuSans-71\"/>\n     <use x=\"1694.474609\" xlink:href=\"#DejaVuSans-75\"/>\n     <use x=\"1757.853516\" xlink:href=\"#DejaVuSans-65\"/>\n     <use x=\"1819.376953\" xlink:href=\"#DejaVuSans-20\"/>\n     <use x=\"1851.164062\" xlink:href=\"#DejaVuSans-6e\"/>\n     <use x=\"1914.542969\" xlink:href=\"#DejaVuSans-6f\"/>\n     <use x=\"1975.724609\" xlink:href=\"#DejaVuSans-75\"/>\n     <use x=\"2039.103516\" xlink:href=\"#DejaVuSans-73\"/>\n     <use x=\"2091.203125\" xlink:href=\"#DejaVuSans-20\"/>\n     <use x=\"2122.990234\" xlink:href=\"#DejaVuSans-61\"/>\n     <use x=\"2184.269531\" xlink:href=\"#DejaVuSans-76\"/>\n     <use x=\"2243.449219\" xlink:href=\"#DejaVuSans-6f\"/>\n     <use x=\"2304.630859\" xlink:href=\"#DejaVuSans-6e\"/>\n     <use x=\"2368.009766\" xlink:href=\"#DejaVuSans-73\"/>\n     <use x=\"2420.109375\" xlink:href=\"#DejaVuSans-20\"/>\n     <use x=\"2451.896484\" xlink:href=\"#DejaVuSans-67\"/>\n     <use x=\"2515.373047\" xlink:href=\"#DejaVuSans-e9\"/>\n     <use x=\"2576.896484\" xlink:href=\"#DejaVuSans-6e\"/>\n     <use x=\"2640.275391\" xlink:href=\"#DejaVuSans-e9\"/>\n     <use x=\"2701.798828\" xlink:href=\"#DejaVuSans-72\"/>\n     <use x=\"2740.662109\" xlink:href=\"#DejaVuSans-e9\"/>\n     <use x=\"2802.185547\" xlink:href=\"#DejaVuSans-73\"/>\n     <use x=\"2854.285156\" xlink:href=\"#DejaVuSans-20\"/>\n     <use x=\"2886.072266\" xlink:href=\"#DejaVuSans-65\"/>\n     <use x=\"2947.595703\" xlink:href=\"#DejaVuSans-74\"/>\n     <use x=\"2986.804688\" xlink:href=\"#DejaVuSans-20\"/>\n     <use x=\"3018.591797\" xlink:href=\"#DejaVuSans-63\"/>\n     <use x=\"3073.572266\" xlink:href=\"#DejaVuSans-65\"/>\n     <use x=\"3135.095703\" xlink:href=\"#DejaVuSans-75\"/>\n     <use x=\"3198.474609\" xlink:href=\"#DejaVuSans-78\"/>\n     <use x=\"3257.654297\" xlink:href=\"#DejaVuSans-20\"/>\n     <use x=\"3289.441406\" xlink:href=\"#DejaVuSans-64\"/>\n     <use x=\"3352.917969\" xlink:href=\"#DejaVuSans-75\"/>\n     <use x=\"3416.296875\" xlink:href=\"#DejaVuSans-20\"/>\n     <use x=\"3448.083984\" xlink:href=\"#DejaVuSans-6d\"/>\n     <use x=\"3545.496094\" xlink:href=\"#DejaVuSans-6f\"/>\n     <use x=\"3606.677734\" xlink:href=\"#DejaVuSans-64\"/>\n     <use x=\"3670.154297\" xlink:href=\"#DejaVuSans-75\"/>\n     <use x=\"3733.533203\" xlink:href=\"#DejaVuSans-6c\"/>\n     <use x=\"3761.316406\" xlink:href=\"#DejaVuSans-65\"/>\n     <use x=\"3822.839844\" xlink:href=\"#DejaVuSans-20\"/>\n     <use x=\"3854.626953\" xlink:href=\"#DejaVuSans-72\"/>\n     <use x=\"3895.740234\" xlink:href=\"#DejaVuSans-61\"/>\n     <use x=\"3957.019531\" xlink:href=\"#DejaVuSans-6e\"/>\n     <use x=\"4020.398438\" xlink:href=\"#DejaVuSans-64\"/>\n     <use x=\"4083.875\" xlink:href=\"#DejaVuSans-6f\"/>\n     <use x=\"4145.056641\" xlink:href=\"#DejaVuSans-6d\"/>\n    </g>\n   </g>\n   <g id=\"legend_1\">\n    <g id=\"patch_18\">\n     <path d=\"M 324.366875 235.238125 \nL 422.148125 235.238125 \nQ 424.148125 235.238125 424.148125 233.238125 \nL 424.148125 204.881875 \nQ 424.148125 202.881875 422.148125 202.881875 \nL 324.366875 202.881875 \nQ 322.366875 202.881875 322.366875 204.881875 \nL 322.366875 233.238125 \nQ 322.366875 235.238125 324.366875 235.238125 \nz\n\" style=\"fill:#ffffff;opacity:0.8;stroke:#cccccc;stroke-linejoin:miter;\"/>\n    </g>\n    <g id=\"patch_19\">\n     <path d=\"M 326.366875 214.480312 \nL 346.366875 214.480312 \nL 346.366875 207.480312 \nL 326.366875 207.480312 \nz\n\" style=\"fill:none;stroke:#00008b;stroke-linejoin:miter;\"/>\n    </g>\n    <g id=\"text_16\">\n     <!-- Python -->\n     <g transform=\"translate(354.366875 214.480312)scale(0.1 -0.1)\">\n      <defs>\n       <path d=\"M 1259 4147 \nL 1259 2394 \nL 2053 2394 \nQ 2494 2394 2734 2622 \nQ 2975 2850 2975 3272 \nQ 2975 3691 2734 3919 \nQ 2494 4147 2053 4147 \nL 1259 4147 \nz\nM 628 4666 \nL 2053 4666 \nQ 2838 4666 3239 4311 \nQ 3641 3956 3641 3272 \nQ 3641 2581 3239 2228 \nQ 2838 1875 2053 1875 \nL 1259 1875 \nL 1259 0 \nL 628 0 \nL 628 4666 \nz\n\" id=\"DejaVuSans-50\" transform=\"scale(0.015625)\"/>\n       <path d=\"M 2059 -325 \nQ 1816 -950 1584 -1140 \nQ 1353 -1331 966 -1331 \nL 506 -1331 \nL 506 -850 \nL 844 -850 \nQ 1081 -850 1212 -737 \nQ 1344 -625 1503 -206 \nL 1606 56 \nL 191 3500 \nL 800 3500 \nL 1894 763 \nL 2988 3500 \nL 3597 3500 \nL 2059 -325 \nz\n\" id=\"DejaVuSans-79\" transform=\"scale(0.015625)\"/>\n       <path d=\"M 3513 2113 \nL 3513 0 \nL 2938 0 \nL 2938 2094 \nQ 2938 2591 2744 2837 \nQ 2550 3084 2163 3084 \nQ 1697 3084 1428 2787 \nQ 1159 2491 1159 1978 \nL 1159 0 \nL 581 0 \nL 581 4863 \nL 1159 4863 \nL 1159 2956 \nQ 1366 3272 1645 3428 \nQ 1925 3584 2291 3584 \nQ 2894 3584 3203 3211 \nQ 3513 2838 3513 2113 \nz\n\" id=\"DejaVuSans-68\" transform=\"scale(0.015625)\"/>\n      </defs>\n      <use xlink:href=\"#DejaVuSans-50\"/>\n      <use x=\"60.302734\" xlink:href=\"#DejaVuSans-79\"/>\n      <use x=\"119.482422\" xlink:href=\"#DejaVuSans-74\"/>\n      <use x=\"158.691406\" xlink:href=\"#DejaVuSans-68\"/>\n      <use x=\"222.070312\" xlink:href=\"#DejaVuSans-6f\"/>\n      <use x=\"283.251953\" xlink:href=\"#DejaVuSans-6e\"/>\n     </g>\n    </g>\n    <g id=\"patch_20\">\n     <path d=\"M 326.366875 229.158437 \nL 346.366875 229.158437 \nL 346.366875 222.158437 \nL 326.366875 222.158437 \nz\n\" style=\"fill:#98fb98;\"/>\n    </g>\n    <g id=\"text_17\">\n     <!-- Nos nombres -->\n     <g transform=\"translate(354.366875 229.158437)scale(0.1 -0.1)\">\n      <defs>\n       <path d=\"M 628 4666 \nL 1478 4666 \nL 3547 763 \nL 3547 4666 \nL 4159 4666 \nL 4159 0 \nL 3309 0 \nL 1241 3903 \nL 1241 0 \nL 628 0 \nL 628 4666 \nz\n\" id=\"DejaVuSans-4e\" transform=\"scale(0.015625)\"/>\n      </defs>\n      <use xlink:href=\"#DejaVuSans-4e\"/>\n      <use x=\"74.804688\" xlink:href=\"#DejaVuSans-6f\"/>\n      <use x=\"135.986328\" xlink:href=\"#DejaVuSans-73\"/>\n      <use x=\"188.085938\" xlink:href=\"#DejaVuSans-20\"/>\n      <use x=\"219.873047\" xlink:href=\"#DejaVuSans-6e\"/>\n      <use x=\"283.251953\" xlink:href=\"#DejaVuSans-6f\"/>\n      <use x=\"344.433594\" xlink:href=\"#DejaVuSans-6d\"/>\n      <use x=\"441.845703\" xlink:href=\"#DejaVuSans-62\"/>\n      <use x=\"505.322266\" xlink:href=\"#DejaVuSans-72\"/>\n      <use x=\"544.185547\" xlink:href=\"#DejaVuSans-65\"/>\n      <use x=\"605.708984\" xlink:href=\"#DejaVuSans-73\"/>\n     </g>\n    </g>\n   </g>\n  </g>\n </g>\n <defs>\n  <clipPath id=\"p4dafc1de9f\">\n   <rect height=\"217.44\" width=\"334.8\" x=\"94.348125\" y=\"22.798125\"/>\n  </clipPath>\n </defs>\n</svg>\n",
      "image/png": "[encoded data removed]"
     },
     "metadata": {
      "needs_background": "light"
     }
    }
   ],
   "source": [
    "def comp_histo(data_1, data_2):\n",
    "    plt.figure()\n",
    "    plt.hist(data_2, color='palegreen', histtype='barstacked')\n",
    "    plt.hist(data_1, color='darkblue', histtype='step')\n",
    "    plt.legend({'Nos nombres', 'Python'}, loc=4)\n",
    "    plt.title(\"Comparaison entre les nombres que nous avons générés et ceux du module random\")\n",
    "    plt.ylabel('Count')\n",
    "    plt.savefig('histo_comp.png')\n",
    "    plt.show()\n",
    "\n",
    "comp_histo(numbers_python, gen_numbers)"
   ],
   "metadata": {
    "collapsed": false,
    "pycharm": {
     "name": "#%%\n"
    }
   }
  }
 ],
 "metadata": {
  "kernelspec": {
   "name": "python394jvsc74a57bd0767d51c1340bd893661ea55ea3124f6de3c7a262a8b4abca0554b478b1e2ff90",
   "display_name": "Python 3.9.4 64-bit"
  },
  "language_info": {
   "codemirror_mode": {
    "name": "ipython",
    "version": 2
   },
   "file_extension": ".py",
   "mimetype": "text/x-python",
   "name": "python",
   "nbconvert_exporter": "python",
   "pygments_lexer": "ipython2",
   "version": "3.9.4"
  },
  "metadata": {
   "interpreter": {
    "hash": "767d51c1340bd893661ea55ea3124f6de3c7a262a8b4abca0554b478b1e2ff90"
   }
  }
 },
 "nbformat": 4,
 "nbformat_minor": 0
}