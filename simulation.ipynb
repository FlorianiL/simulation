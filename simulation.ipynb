{
 "cells": [
  {
   "cell_type": "markdown",
   "metadata": {
    "collapsed": true,
    "pycharm": {
     "name": "#%% md\n"
    }
   },
   "source": [
    "# Simulation - Projet"
   ]
  },
  {
   "cell_type": "markdown",
   "source": [
    "## Importation des modules nécessaires\n"
   ],
   "metadata": {
    "collapsed": false
   }
  },
  {
   "cell_type": "code",
   "execution_count": 116,
   "outputs": [],
   "source": [
    "from collections import Counter\n",
    "\n",
    "import numpy as np\n",
    "import matplotlib.pyplot as plt\n",
    "import scipy.stats as stat\n",
    "import math"
   ],
   "metadata": {
    "collapsed": false,
    "pycharm": {
     "name": "#%%\n"
    }
   }
  },
  {
   "cell_type": "markdown",
   "source": [
    "## Lecture du fichier d'entrée"
   ],
   "metadata": {
    "collapsed": false
   }
  },
  {
   "cell_type": "code",
   "execution_count": 117,
   "outputs": [
    {
     "output_type": "stream",
     "name": "stdout",
     "text": [
      "Les 2.000.000 premières décimales d' exp :\n [7 1 8 ... 0 2 3]\n"
     ]
    }
   ],
   "source": [
    "def e_numbers():\n",
    "    with open(\"exp.txt\", \"r\") as e:\n",
    "        for line in e:\n",
    "            line = line.strip()\n",
    "            if \".\" in line:\n",
    "                line = line.split(\".\")[1]\n",
    "            for c in line:\n",
    "                yield int(c)\n",
    "\n",
    "e_numbers = np.array(list(e_numbers()))\n",
    "print(f'Les 2.000.000 premières décimales d\\' exp :\\n {e_numbers}')"
   ],
   "metadata": {
    "collapsed": false,
    "pycharm": {
     "name": "#%%\n"
    }
   }
  },
  {
   "cell_type": "markdown",
   "source": [
    "## Compter effectif"
   ],
   "metadata": {
    "collapsed": false,
    "pycharm": {
     "name": "#%% md\n"
    }
   }
  },
  {
   "cell_type": "code",
   "execution_count": 118,
   "outputs": [
    {
     "output_type": "stream",
     "name": "stdout",
     "text": [
      "Les chiffres apparaissant dans les décimales d' exp : \n [0 1 2 3 4 5 6 7 8 9]\nLeur fréquences d'apparition : \n [199093 200171 199471 200361 199923 200285 200395 199789 200098 200414]\n"
     ]
    }
   ],
   "source": [
    "def count_number(data):\n",
    "    values, counts = np.unique(data, return_counts=True)\n",
    "    return values, counts\n",
    "\n",
    "e_labels, e_counts = count_number(e_numbers)\n",
    "print(f'Les chiffres apparaissant dans les décimales d\\' exp : \\n {e_labels}')\n",
    "print(f'Leur fréquences d\\'apparition : \\n {e_counts}')"
   ],
   "metadata": {
    "collapsed": false,
    "pycharm": {
     "name": "#%%\n"
    }
   }
  },
  {
   "cell_type": "markdown",
   "source": [
    "## Construire histogramme\n"
   ],
   "metadata": {
    "collapsed": false,
    "pycharm": {
     "name": "#%% md\n"
    }
   }
  },
  {
   "cell_type": "code",
   "execution_count": 119,
   "outputs": [
    {
     "output_type": "display_data",
     "data": {
      "text/plain": "<Figure size 432x288 with 1 Axes>",
      "image/svg+xml": "<?xml version=\"1.0\" encoding=\"utf-8\" standalone=\"no\"?>\n<!DOCTYPE svg PUBLIC \"-//W3C//DTD SVG 1.1//EN\"\n  \"http://www.w3.org/Graphics/SVG/1.1/DTD/svg11.dtd\">\n<svg height=\"248.518125pt\" version=\"1.1\" viewBox=\"0 0 394.375 248.518125\" width=\"394.375pt\" xmlns=\"http://www.w3.org/2000/svg\" xmlns:xlink=\"http://www.w3.org/1999/xlink\">\n <metadata>\n  <rdf:RDF xmlns:cc=\"http://creativecommons.org/ns#\" xmlns:dc=\"http://purl.org/dc/elements/1.1/\" xmlns:rdf=\"http://www.w3.org/1999/02/22-rdf-syntax-ns#\">\n   <cc:Work>\n    <dc:type rdf:resource=\"http://purl.org/dc/dcmitype/StillImage\"/>\n    <dc:date>2021-04-25T16:59:28.762948</dc:date>\n    <dc:format>image/svg+xml</dc:format>\n    <dc:creator>\n     <cc:Agent>\n      <dc:title>Matplotlib v3.4.1, https://matplotlib.org/</dc:title>\n     </cc:Agent>\n    </dc:creator>\n   </cc:Work>\n  </rdf:RDF>\n </metadata>\n <defs>\n  <style type=\"text/css\">*{stroke-linecap:butt;stroke-linejoin:round;}</style>\n </defs>\n <g id=\"figure_1\">\n  <g id=\"patch_1\">\n   <path d=\"M 0 248.518125 \nL 394.375 248.518125 \nL 394.375 0 \nL 0 0 \nz\n\" style=\"fill:none;\"/>\n  </g>\n  <g id=\"axes_1\">\n   <g id=\"patch_2\">\n    <path d=\"M 52.375 224.64 \nL 387.175 224.64 \nL 387.175 7.2 \nL 52.375 7.2 \nz\n\" style=\"fill:#ffffff;\"/>\n   </g>\n   <g id=\"patch_3\">\n    <path clip-path=\"url(#p269ba3d0d2)\" d=\"M 67.593182 224.64 \nL 92.439193 224.64 \nL 92.439193 18.919261 \nL 67.593182 18.919261 \nz\n\" style=\"fill:#98fb98;\"/>\n   </g>\n   <g id=\"patch_4\">\n    <path clip-path=\"url(#p269ba3d0d2)\" d=\"M 98.650696 224.64 \nL 123.496707 224.64 \nL 123.496707 17.805375 \nL 98.650696 17.805375 \nz\n\" style=\"fill:#98fb98;\"/>\n   </g>\n   <g id=\"patch_5\">\n    <path clip-path=\"url(#p269ba3d0d2)\" d=\"M 129.70821 224.64 \nL 154.554221 224.64 \nL 154.554221 18.528678 \nL 129.70821 18.528678 \nz\n\" style=\"fill:#98fb98;\"/>\n   </g>\n   <g id=\"patch_6\">\n    <path clip-path=\"url(#p269ba3d0d2)\" d=\"M 160.765724 224.64 \nL 185.611735 224.64 \nL 185.611735 17.60905 \nL 160.765724 17.60905 \nz\n\" style=\"fill:#98fb98;\"/>\n   </g>\n   <g id=\"patch_7\">\n    <path clip-path=\"url(#p269ba3d0d2)\" d=\"M 191.823237 224.64 \nL 216.669249 224.64 \nL 216.669249 18.061631 \nL 191.823237 18.061631 \nz\n\" style=\"fill:#98fb98;\"/>\n   </g>\n   <g id=\"patch_8\">\n    <path clip-path=\"url(#p269ba3d0d2)\" d=\"M 222.880751 224.64 \nL 247.726763 224.64 \nL 247.726763 17.68758 \nL 222.880751 17.68758 \nz\n\" style=\"fill:#98fb98;\"/>\n   </g>\n   <g id=\"patch_9\">\n    <path clip-path=\"url(#p269ba3d0d2)\" d=\"M 253.938265 224.64 \nL 278.784276 224.64 \nL 278.784276 17.573918 \nL 253.938265 17.573918 \nz\n\" style=\"fill:#98fb98;\"/>\n   </g>\n   <g id=\"patch_10\">\n    <path clip-path=\"url(#p269ba3d0d2)\" d=\"M 284.995779 224.64 \nL 309.84179 224.64 \nL 309.84179 18.200092 \nL 284.995779 18.200092 \nz\n\" style=\"fill:#98fb98;\"/>\n   </g>\n   <g id=\"patch_11\">\n    <path clip-path=\"url(#p269ba3d0d2)\" d=\"M 316.053293 224.64 \nL 340.899304 224.64 \nL 340.899304 17.880805 \nL 316.053293 17.880805 \nz\n\" style=\"fill:#98fb98;\"/>\n   </g>\n   <g id=\"patch_12\">\n    <path clip-path=\"url(#p269ba3d0d2)\" d=\"M 347.110807 224.64 \nL 371.956818 224.64 \nL 371.956818 17.554286 \nL 347.110807 17.554286 \nz\n\" style=\"fill:#98fb98;\"/>\n   </g>\n   <g id=\"matplotlib.axis_1\">\n    <g id=\"xtick_1\">\n     <g id=\"line2d_1\">\n      <defs>\n       <path d=\"M 0 0 \nL 0 3.5 \n\" id=\"m65c4f31bfb\" style=\"stroke:#000000;stroke-width:0.8;\"/>\n      </defs>\n      <g>\n       <use style=\"stroke:#000000;stroke-width:0.8;\" x=\"80.016187\" xlink:href=\"#m65c4f31bfb\" y=\"224.64\"/>\n      </g>\n     </g>\n     <g id=\"text_1\">\n      <!-- 0 -->\n      <g transform=\"translate(76.834937 239.238437)scale(0.1 -0.1)\">\n       <defs>\n        <path d=\"M 2034 4250 \nQ 1547 4250 1301 3770 \nQ 1056 3291 1056 2328 \nQ 1056 1369 1301 889 \nQ 1547 409 2034 409 \nQ 2525 409 2770 889 \nQ 3016 1369 3016 2328 \nQ 3016 3291 2770 3770 \nQ 2525 4250 2034 4250 \nz\nM 2034 4750 \nQ 2819 4750 3233 4129 \nQ 3647 3509 3647 2328 \nQ 3647 1150 3233 529 \nQ 2819 -91 2034 -91 \nQ 1250 -91 836 529 \nQ 422 1150 422 2328 \nQ 422 3509 836 4129 \nQ 1250 4750 2034 4750 \nz\n\" id=\"DejaVuSans-30\" transform=\"scale(0.015625)\"/>\n       </defs>\n       <use xlink:href=\"#DejaVuSans-30\"/>\n      </g>\n     </g>\n    </g>\n    <g id=\"xtick_2\">\n     <g id=\"line2d_2\">\n      <g>\n       <use style=\"stroke:#000000;stroke-width:0.8;\" x=\"142.131215\" xlink:href=\"#m65c4f31bfb\" y=\"224.64\"/>\n      </g>\n     </g>\n     <g id=\"text_2\">\n      <!-- 2 -->\n      <g transform=\"translate(138.949965 239.238437)scale(0.1 -0.1)\">\n       <defs>\n        <path d=\"M 1228 531 \nL 3431 531 \nL 3431 0 \nL 469 0 \nL 469 531 \nQ 828 903 1448 1529 \nQ 2069 2156 2228 2338 \nQ 2531 2678 2651 2914 \nQ 2772 3150 2772 3378 \nQ 2772 3750 2511 3984 \nQ 2250 4219 1831 4219 \nQ 1534 4219 1204 4116 \nQ 875 4013 500 3803 \nL 500 4441 \nQ 881 4594 1212 4672 \nQ 1544 4750 1819 4750 \nQ 2544 4750 2975 4387 \nQ 3406 4025 3406 3419 \nQ 3406 3131 3298 2873 \nQ 3191 2616 2906 2266 \nQ 2828 2175 2409 1742 \nQ 1991 1309 1228 531 \nz\n\" id=\"DejaVuSans-32\" transform=\"scale(0.015625)\"/>\n       </defs>\n       <use xlink:href=\"#DejaVuSans-32\"/>\n      </g>\n     </g>\n    </g>\n    <g id=\"xtick_3\">\n     <g id=\"line2d_3\">\n      <g>\n       <use style=\"stroke:#000000;stroke-width:0.8;\" x=\"204.246243\" xlink:href=\"#m65c4f31bfb\" y=\"224.64\"/>\n      </g>\n     </g>\n     <g id=\"text_3\">\n      <!-- 4 -->\n      <g transform=\"translate(201.064993 239.238437)scale(0.1 -0.1)\">\n       <defs>\n        <path d=\"M 2419 4116 \nL 825 1625 \nL 2419 1625 \nL 2419 4116 \nz\nM 2253 4666 \nL 3047 4666 \nL 3047 1625 \nL 3713 1625 \nL 3713 1100 \nL 3047 1100 \nL 3047 0 \nL 2419 0 \nL 2419 1100 \nL 313 1100 \nL 313 1709 \nL 2253 4666 \nz\n\" id=\"DejaVuSans-34\" transform=\"scale(0.015625)\"/>\n       </defs>\n       <use xlink:href=\"#DejaVuSans-34\"/>\n      </g>\n     </g>\n    </g>\n    <g id=\"xtick_4\">\n     <g id=\"line2d_4\">\n      <g>\n       <use style=\"stroke:#000000;stroke-width:0.8;\" x=\"266.361271\" xlink:href=\"#m65c4f31bfb\" y=\"224.64\"/>\n      </g>\n     </g>\n     <g id=\"text_4\">\n      <!-- 6 -->\n      <g transform=\"translate(263.180021 239.238437)scale(0.1 -0.1)\">\n       <defs>\n        <path d=\"M 2113 2584 \nQ 1688 2584 1439 2293 \nQ 1191 2003 1191 1497 \nQ 1191 994 1439 701 \nQ 1688 409 2113 409 \nQ 2538 409 2786 701 \nQ 3034 994 3034 1497 \nQ 3034 2003 2786 2293 \nQ 2538 2584 2113 2584 \nz\nM 3366 4563 \nL 3366 3988 \nQ 3128 4100 2886 4159 \nQ 2644 4219 2406 4219 \nQ 1781 4219 1451 3797 \nQ 1122 3375 1075 2522 \nQ 1259 2794 1537 2939 \nQ 1816 3084 2150 3084 \nQ 2853 3084 3261 2657 \nQ 3669 2231 3669 1497 \nQ 3669 778 3244 343 \nQ 2819 -91 2113 -91 \nQ 1303 -91 875 529 \nQ 447 1150 447 2328 \nQ 447 3434 972 4092 \nQ 1497 4750 2381 4750 \nQ 2619 4750 2861 4703 \nQ 3103 4656 3366 4563 \nz\n\" id=\"DejaVuSans-36\" transform=\"scale(0.015625)\"/>\n       </defs>\n       <use xlink:href=\"#DejaVuSans-36\"/>\n      </g>\n     </g>\n    </g>\n    <g id=\"xtick_5\">\n     <g id=\"line2d_5\">\n      <g>\n       <use style=\"stroke:#000000;stroke-width:0.8;\" x=\"328.476299\" xlink:href=\"#m65c4f31bfb\" y=\"224.64\"/>\n      </g>\n     </g>\n     <g id=\"text_5\">\n      <!-- 8 -->\n      <g transform=\"translate(325.295049 239.238437)scale(0.1 -0.1)\">\n       <defs>\n        <path d=\"M 2034 2216 \nQ 1584 2216 1326 1975 \nQ 1069 1734 1069 1313 \nQ 1069 891 1326 650 \nQ 1584 409 2034 409 \nQ 2484 409 2743 651 \nQ 3003 894 3003 1313 \nQ 3003 1734 2745 1975 \nQ 2488 2216 2034 2216 \nz\nM 1403 2484 \nQ 997 2584 770 2862 \nQ 544 3141 544 3541 \nQ 544 4100 942 4425 \nQ 1341 4750 2034 4750 \nQ 2731 4750 3128 4425 \nQ 3525 4100 3525 3541 \nQ 3525 3141 3298 2862 \nQ 3072 2584 2669 2484 \nQ 3125 2378 3379 2068 \nQ 3634 1759 3634 1313 \nQ 3634 634 3220 271 \nQ 2806 -91 2034 -91 \nQ 1263 -91 848 271 \nQ 434 634 434 1313 \nQ 434 1759 690 2068 \nQ 947 2378 1403 2484 \nz\nM 1172 3481 \nQ 1172 3119 1398 2916 \nQ 1625 2713 2034 2713 \nQ 2441 2713 2670 2916 \nQ 2900 3119 2900 3481 \nQ 2900 3844 2670 4047 \nQ 2441 4250 2034 4250 \nQ 1625 4250 1398 4047 \nQ 1172 3844 1172 3481 \nz\n\" id=\"DejaVuSans-38\" transform=\"scale(0.015625)\"/>\n       </defs>\n       <use xlink:href=\"#DejaVuSans-38\"/>\n      </g>\n     </g>\n    </g>\n   </g>\n   <g id=\"matplotlib.axis_2\">\n    <g id=\"ytick_1\">\n     <g id=\"line2d_6\">\n      <defs>\n       <path d=\"M 0 0 \nL -3.5 0 \n\" id=\"md6798a5d86\" style=\"stroke:#000000;stroke-width:0.8;\"/>\n      </defs>\n      <g>\n       <use style=\"stroke:#000000;stroke-width:0.8;\" x=\"52.375\" xlink:href=\"#md6798a5d86\" y=\"224.64\"/>\n      </g>\n     </g>\n     <g id=\"text_6\">\n      <!-- 0 -->\n      <g transform=\"translate(39.0125 228.439219)scale(0.1 -0.1)\">\n       <use xlink:href=\"#DejaVuSans-30\"/>\n      </g>\n     </g>\n    </g>\n    <g id=\"ytick_2\">\n     <g id=\"line2d_7\">\n      <g>\n       <use style=\"stroke:#000000;stroke-width:0.8;\" x=\"52.375\" xlink:href=\"#md6798a5d86\" y=\"198.807758\"/>\n      </g>\n     </g>\n     <g id=\"text_7\">\n      <!-- 25000 -->\n      <g transform=\"translate(13.5625 202.606977)scale(0.1 -0.1)\">\n       <defs>\n        <path d=\"M 691 4666 \nL 3169 4666 \nL 3169 4134 \nL 1269 4134 \nL 1269 2991 \nQ 1406 3038 1543 3061 \nQ 1681 3084 1819 3084 \nQ 2600 3084 3056 2656 \nQ 3513 2228 3513 1497 \nQ 3513 744 3044 326 \nQ 2575 -91 1722 -91 \nQ 1428 -91 1123 -41 \nQ 819 9 494 109 \nL 494 744 \nQ 775 591 1075 516 \nQ 1375 441 1709 441 \nQ 2250 441 2565 725 \nQ 2881 1009 2881 1497 \nQ 2881 1984 2565 2268 \nQ 2250 2553 1709 2553 \nQ 1456 2553 1204 2497 \nQ 953 2441 691 2322 \nL 691 4666 \nz\n\" id=\"DejaVuSans-35\" transform=\"scale(0.015625)\"/>\n       </defs>\n       <use xlink:href=\"#DejaVuSans-32\"/>\n       <use x=\"63.623047\" xlink:href=\"#DejaVuSans-35\"/>\n       <use x=\"127.246094\" xlink:href=\"#DejaVuSans-30\"/>\n       <use x=\"190.869141\" xlink:href=\"#DejaVuSans-30\"/>\n       <use x=\"254.492188\" xlink:href=\"#DejaVuSans-30\"/>\n      </g>\n     </g>\n    </g>\n    <g id=\"ytick_3\">\n     <g id=\"line2d_8\">\n      <g>\n       <use style=\"stroke:#000000;stroke-width:0.8;\" x=\"52.375\" xlink:href=\"#md6798a5d86\" y=\"172.975517\"/>\n      </g>\n     </g>\n     <g id=\"text_8\">\n      <!-- 50000 -->\n      <g transform=\"translate(13.5625 176.774736)scale(0.1 -0.1)\">\n       <use xlink:href=\"#DejaVuSans-35\"/>\n       <use x=\"63.623047\" xlink:href=\"#DejaVuSans-30\"/>\n       <use x=\"127.246094\" xlink:href=\"#DejaVuSans-30\"/>\n       <use x=\"190.869141\" xlink:href=\"#DejaVuSans-30\"/>\n       <use x=\"254.492188\" xlink:href=\"#DejaVuSans-30\"/>\n      </g>\n     </g>\n    </g>\n    <g id=\"ytick_4\">\n     <g id=\"line2d_9\">\n      <g>\n       <use style=\"stroke:#000000;stroke-width:0.8;\" x=\"52.375\" xlink:href=\"#md6798a5d86\" y=\"147.143275\"/>\n      </g>\n     </g>\n     <g id=\"text_9\">\n      <!-- 75000 -->\n      <g transform=\"translate(13.5625 150.942494)scale(0.1 -0.1)\">\n       <defs>\n        <path d=\"M 525 4666 \nL 3525 4666 \nL 3525 4397 \nL 1831 0 \nL 1172 0 \nL 2766 4134 \nL 525 4134 \nL 525 4666 \nz\n\" id=\"DejaVuSans-37\" transform=\"scale(0.015625)\"/>\n       </defs>\n       <use xlink:href=\"#DejaVuSans-37\"/>\n       <use x=\"63.623047\" xlink:href=\"#DejaVuSans-35\"/>\n       <use x=\"127.246094\" xlink:href=\"#DejaVuSans-30\"/>\n       <use x=\"190.869141\" xlink:href=\"#DejaVuSans-30\"/>\n       <use x=\"254.492188\" xlink:href=\"#DejaVuSans-30\"/>\n      </g>\n     </g>\n    </g>\n    <g id=\"ytick_5\">\n     <g id=\"line2d_10\">\n      <g>\n       <use style=\"stroke:#000000;stroke-width:0.8;\" x=\"52.375\" xlink:href=\"#md6798a5d86\" y=\"121.311034\"/>\n      </g>\n     </g>\n     <g id=\"text_10\">\n      <!-- 100000 -->\n      <g transform=\"translate(7.2 125.110253)scale(0.1 -0.1)\">\n       <defs>\n        <path d=\"M 794 531 \nL 1825 531 \nL 1825 4091 \nL 703 3866 \nL 703 4441 \nL 1819 4666 \nL 2450 4666 \nL 2450 531 \nL 3481 531 \nL 3481 0 \nL 794 0 \nL 794 531 \nz\n\" id=\"DejaVuSans-31\" transform=\"scale(0.015625)\"/>\n       </defs>\n       <use xlink:href=\"#DejaVuSans-31\"/>\n       <use x=\"63.623047\" xlink:href=\"#DejaVuSans-30\"/>\n       <use x=\"127.246094\" xlink:href=\"#DejaVuSans-30\"/>\n       <use x=\"190.869141\" xlink:href=\"#DejaVuSans-30\"/>\n       <use x=\"254.492188\" xlink:href=\"#DejaVuSans-30\"/>\n       <use x=\"318.115234\" xlink:href=\"#DejaVuSans-30\"/>\n      </g>\n     </g>\n    </g>\n    <g id=\"ytick_6\">\n     <g id=\"line2d_11\">\n      <g>\n       <use style=\"stroke:#000000;stroke-width:0.8;\" x=\"52.375\" xlink:href=\"#md6798a5d86\" y=\"95.478792\"/>\n      </g>\n     </g>\n     <g id=\"text_11\">\n      <!-- 125000 -->\n      <g transform=\"translate(7.2 99.278011)scale(0.1 -0.1)\">\n       <use xlink:href=\"#DejaVuSans-31\"/>\n       <use x=\"63.623047\" xlink:href=\"#DejaVuSans-32\"/>\n       <use x=\"127.246094\" xlink:href=\"#DejaVuSans-35\"/>\n       <use x=\"190.869141\" xlink:href=\"#DejaVuSans-30\"/>\n       <use x=\"254.492188\" xlink:href=\"#DejaVuSans-30\"/>\n       <use x=\"318.115234\" xlink:href=\"#DejaVuSans-30\"/>\n      </g>\n     </g>\n    </g>\n    <g id=\"ytick_7\">\n     <g id=\"line2d_12\">\n      <g>\n       <use style=\"stroke:#000000;stroke-width:0.8;\" x=\"52.375\" xlink:href=\"#md6798a5d86\" y=\"69.646551\"/>\n      </g>\n     </g>\n     <g id=\"text_12\">\n      <!-- 150000 -->\n      <g transform=\"translate(7.2 73.445769)scale(0.1 -0.1)\">\n       <use xlink:href=\"#DejaVuSans-31\"/>\n       <use x=\"63.623047\" xlink:href=\"#DejaVuSans-35\"/>\n       <use x=\"127.246094\" xlink:href=\"#DejaVuSans-30\"/>\n       <use x=\"190.869141\" xlink:href=\"#DejaVuSans-30\"/>\n       <use x=\"254.492188\" xlink:href=\"#DejaVuSans-30\"/>\n       <use x=\"318.115234\" xlink:href=\"#DejaVuSans-30\"/>\n      </g>\n     </g>\n    </g>\n    <g id=\"ytick_8\">\n     <g id=\"line2d_13\">\n      <g>\n       <use style=\"stroke:#000000;stroke-width:0.8;\" x=\"52.375\" xlink:href=\"#md6798a5d86\" y=\"43.814309\"/>\n      </g>\n     </g>\n     <g id=\"text_13\">\n      <!-- 175000 -->\n      <g transform=\"translate(7.2 47.613528)scale(0.1 -0.1)\">\n       <use xlink:href=\"#DejaVuSans-31\"/>\n       <use x=\"63.623047\" xlink:href=\"#DejaVuSans-37\"/>\n       <use x=\"127.246094\" xlink:href=\"#DejaVuSans-35\"/>\n       <use x=\"190.869141\" xlink:href=\"#DejaVuSans-30\"/>\n       <use x=\"254.492188\" xlink:href=\"#DejaVuSans-30\"/>\n       <use x=\"318.115234\" xlink:href=\"#DejaVuSans-30\"/>\n      </g>\n     </g>\n    </g>\n    <g id=\"ytick_9\">\n     <g id=\"line2d_14\">\n      <g>\n       <use style=\"stroke:#000000;stroke-width:0.8;\" x=\"52.375\" xlink:href=\"#md6798a5d86\" y=\"17.982068\"/>\n      </g>\n     </g>\n     <g id=\"text_14\">\n      <!-- 200000 -->\n      <g transform=\"translate(7.2 21.781286)scale(0.1 -0.1)\">\n       <use xlink:href=\"#DejaVuSans-32\"/>\n       <use x=\"63.623047\" xlink:href=\"#DejaVuSans-30\"/>\n       <use x=\"127.246094\" xlink:href=\"#DejaVuSans-30\"/>\n       <use x=\"190.869141\" xlink:href=\"#DejaVuSans-30\"/>\n       <use x=\"254.492188\" xlink:href=\"#DejaVuSans-30\"/>\n       <use x=\"318.115234\" xlink:href=\"#DejaVuSans-30\"/>\n      </g>\n     </g>\n    </g>\n   </g>\n   <g id=\"patch_13\">\n    <path d=\"M 52.375 224.64 \nL 52.375 7.2 \n\" style=\"fill:none;stroke:#000000;stroke-linecap:square;stroke-linejoin:miter;stroke-width:0.8;\"/>\n   </g>\n   <g id=\"patch_14\">\n    <path d=\"M 387.175 224.64 \nL 387.175 7.2 \n\" style=\"fill:none;stroke:#000000;stroke-linecap:square;stroke-linejoin:miter;stroke-width:0.8;\"/>\n   </g>\n   <g id=\"patch_15\">\n    <path d=\"M 52.375 224.64 \nL 387.175 224.64 \n\" style=\"fill:none;stroke:#000000;stroke-linecap:square;stroke-linejoin:miter;stroke-width:0.8;\"/>\n   </g>\n   <g id=\"patch_16\">\n    <path d=\"M 52.375 7.2 \nL 387.175 7.2 \n\" style=\"fill:none;stroke:#000000;stroke-linecap:square;stroke-linejoin:miter;stroke-width:0.8;\"/>\n   </g>\n  </g>\n </g>\n <defs>\n  <clipPath id=\"p269ba3d0d2\">\n   <rect height=\"217.44\" width=\"334.8\" x=\"52.375\" y=\"7.2\"/>\n  </clipPath>\n </defs>\n</svg>\n",
      "image/png": "[encoded data removed]"
     },
     "metadata": {
      "needs_background": "light"
     }
    }
   ],
   "source": [
    "def construct_hist(labels, counts):\n",
    "    fig, ax = plt.subplots()\n",
    "    ax.bar(labels, counts, color='palegreen')\n",
    "    plt.show()\n",
    "\n",
    "construct_hist(e_labels, e_counts)"
   ],
   "metadata": {
    "collapsed": false,
    "pycharm": {
     "name": "#%%\n"
    }
   }
  },
  {
   "cell_type": "markdown",
   "source": [
    "## Test du Chi-Carré"
   ],
   "metadata": {
    "collapsed": false,
    "pycharm": {
     "name": "#%% md\n"
    }
   }
  },
  {
   "cell_type": "code",
   "execution_count": 120,
   "outputs": [
    {
     "output_type": "stream",
     "name": "stdout",
     "text": [
      "Le résultat de notre test du Chi-Carré est : \n (True, 8.65376, 16.918977604620448)\n"
     ]
    }
   ],
   "source": [
    "def chi_squared_uniform(counts):\n",
    "    pi = 1 / len(counts)\n",
    "    N = sum(counts)\n",
    "    kr = np.sum(((counts-(N*pi))/(math.sqrt(N*pi)))**2)\n",
    "    critical = stat.chi2.ppf(q=0.95, df=9)\n",
    "    return kr <= critical, kr, critical\n",
    "\n",
    "print(f'Le résultat de notre test du Chi-Carré est : \\n {chi_squared_uniform(e_counts)}')"
   ],
   "metadata": {
    "collapsed": false,
    "pycharm": {
     "name": "#%%\n"
    }
   }
  },
  {
   "cell_type": "code",
   "execution_count": 121,
   "metadata": {},
   "outputs": [],
   "source": [
    "def split_in_groups(data, groups=10):\n",
    "    data = np.sort(data)\n",
    "    res = [data[np.where(np.logical_and(data < i, data > i-(1/groups)))] for i in np.arange(0.1, 1.1, 1/groups)]\n",
    "    return np.array(res)"
   ]
  },
  {
   "cell_type": "code",
   "execution_count": 122,
   "metadata": {},
   "outputs": [],
   "source": [
    "def chi_squared_continuous(data, groups=10):\n",
    "    splitted = split_in_groups(data, groups)\n",
    "    print(splitted)\n",
    "    _, counts = count_number(splitted)\n",
    "    return chi_squared_uniform(counts)\n"
   ]
  },
  {
   "cell_type": "markdown",
   "source": [
    "## Test de Kolmogorov-Smirnov"
   ],
   "metadata": {
    "collapsed": false
   }
  },
  {
   "cell_type": "code",
   "execution_count": 123,
   "outputs": [
    {
     "output_type": "stream",
     "name": "stdout",
     "text": [
      "(True, 0.0006325000000000358, 0.0030365803134447147)\n"
     ]
    }
   ],
   "source": [
    "def kolmogorov_smirnov(labels, counts):\n",
    "    assert len(labels) == len(counts)\n",
    "    proba = 1 / len(counts)\n",
    "    N = np.sum(counts)\n",
    "    real_repartition = np.cumsum(counts, axis=0)/N\n",
    "    th_repartition = np.cumsum(np.full(len(labels), proba))\n",
    "    maximum = np.max(np.abs(real_repartition-th_repartition))\n",
    "    critical = 1.358/math.sqrt(N/len(labels))\n",
    "    return maximum < critical, maximum, critical\n",
    "\n",
    "print(kolmogorov_smirnov(e_labels, e_counts))"
   ],
   "metadata": {
    "collapsed": false,
    "pycharm": {
     "name": "#%%\n"
    }
   }
  },
  {
   "cell_type": "markdown",
   "source": [
    "## Test du Poker"
   ],
   "metadata": {
    "collapsed": false
   }
  },
  {
   "cell_type": "code",
   "execution_count": 124,
   "outputs": [
    {
     "output_type": "stream",
     "name": "stdout",
     "text": [
      "(True, 1.2631547619047618, 9.487729036781154)\n"
     ]
    }
   ],
   "source": [
    "def poker_test(data, labels, counts):\n",
    "    number_lists = len(data)/4\n",
    "    lists = np.split(data, number_lists)\n",
    "    all_diff = 0\n",
    "    one_pair = 0\n",
    "    two_pair = 0\n",
    "    triplet = 0\n",
    "    quadr = 0\n",
    "    for li in lists:\n",
    "        vals, cts = np.unique(li, return_counts=True)\n",
    "        if len(cts) == 4:\n",
    "            all_diff += 1\n",
    "        elif len(cts) == 3:\n",
    "            one_pair += 1\n",
    "        elif len(cts) == 2:\n",
    "            if 3 in cts:\n",
    "                triplet += 1\n",
    "            else:\n",
    "                two_pair += 1\n",
    "        else:\n",
    "            quadr += 1\n",
    "    return chi_squarred_poker(np.array([all_diff, one_pair, triplet, two_pair, quadr]), len(lists))\n",
    "\n",
    "def chi_squarred_poker(observed, N):    # P(all_diff) > P(one_pair) > P(triplet) > P(two_pair) > P(quadr)\n",
    "    probas = np.array([0.504, 0.432, 0.036, 0.027, 0.001])\n",
    "    theorical = probas * N\n",
    "    kr = np.sum(((observed-theorical)**2)/theorical)\n",
    "    critical = stat.chi2.ppf(q=0.95, df=4)\n",
    "    return kr <= critical, kr, critical\n",
    "\n",
    "print(poker_test(e_numbers, e_labels, e_counts))"
   ],
   "metadata": {
    "collapsed": false,
    "pycharm": {
     "name": "#%%\n"
    }
   }
  },
  {
   "cell_type": "markdown",
   "source": [
    "## Test du gap"
   ],
   "metadata": {
    "collapsed": false
   }
  },
  {
   "cell_type": "code",
   "execution_count": 125,
   "outputs": [
    {
     "output_type": "execute_result",
     "data": {
      "text/plain": [
       "(True, 5.5117785465143285, 12.338014578790643)"
      ]
     },
     "metadata": {},
     "execution_count": 125
    }
   ],
   "source": [
    "def gap_test(data, a: int = 0, b: int = 5, total_numbers: int = 10):\n",
    "    assert a < b\n",
    "    probability = (b - a) / total_numbers  # => proba 1/2 d'être marqué\n",
    "    intervals = []\n",
    "    length_series_not_in = 0\n",
    "    total_gaps = 0\n",
    "    sequence_length = 0\n",
    "    for nb in data:\n",
    "        if a <= nb < b:\n",
    "            # nb in interval, with probability `probability`\n",
    "            intervals.append(length_series_not_in)\n",
    "            length_series_not_in = 1\n",
    "        else:\n",
    "            # nb not in interval\n",
    "            length_series_not_in += 1\n",
    "            total_gaps += 1\n",
    "        sequence_length += 1\n",
    "    labels, observed = np.unique(np.array(intervals), return_counts=True)\n",
    "    observed = np.cumsum(complete_labels(labels, observed)/sequence_length)\n",
    "    theorical = np.cumsum(np.array([probability ** (n + 1) for n in range(max(labels))]))\n",
    "    kr = np.sum(((observed - theorical) ** 2) / theorical)\n",
    "    crit = stat.chi2.ppf(q=0.05, df=len(observed) - 1)\n",
    "    return kr <= crit, kr, crit\n",
    "\n",
    "def complete_labels(labels, observed):\n",
    "    i = 1\n",
    "    j = 0\n",
    "    n = 1\n",
    "    res = []\n",
    "    while j < len(labels):\n",
    "        label = labels[j]\n",
    "        if i != label:\n",
    "            res.append(0)\n",
    "            n += 1\n",
    "        else:\n",
    "            res.append(observed[i-n])\n",
    "            j += 1\n",
    "        i += 1\n",
    "    return np.array(res)\n",
    "\n",
    "gap_test(e_numbers)"
   ],
   "metadata": {
    "collapsed": false,
    "pycharm": {
     "name": "#%%\n"
    }
   }
  },
  {
   "cell_type": "markdown",
   "source": [
    "## Generateur"
   ],
   "metadata": {
    "collapsed": false
   }
  },
  {
   "cell_type": "code",
   "execution_count": 129,
   "outputs": [
    {
     "output_type": "stream",
     "name": "stdout",
     "text": [
      "595569e-02, 5.54275540e-02, 5.56062555e-02, 5.90669596e-02,\n       6.01006136e-02, 6.04004010e-02, 6.06880875e-02, 6.46708167e-02,\n       6.53608282e-02, 6.60090092e-02, 6.61186803e-02, 6.75888827e-02,\n       6.88628882e-02, 7.07610861e-02, 7.10108748e-02, 7.11174800e-02,\n       7.47455924e-02, 7.60704738e-02, 7.62070003e-02, 7.84224023e-02,\n       7.90071927e-02, 8.15231036e-02, 8.28208925e-02, 8.46249994e-02,\n       8.81699057e-02, 8.98800243e-02, 9.11579740e-02, 9.24579774e-02,\n       9.46088434e-02, 9.48894843e-02, 9.51494130e-02, 9.55334114e-02,\n       9.58056889e-02, 9.66902499e-02, 9.69194283e-02, 9.70170737e-02,\n       9.89053999e-02, 9.97108127e-02, 9.99095595e-02, 1.00640419e-01,\n       1.01010660e-01, 1.01111717e-01, 1.01171531e-01, 1.01758155e-01,\n       1.01881108e-01, 1.07971012e-01, 1.08274413e-01, 1.09109881e-01,\n       1.10116156e-01, 1.10381139e-01, 1.10931331e-01, 1.11293021e-01,\n       1.11921130e-01, 1.12199921e-01, 1.13109923e-01, 1.13116136e-01,\n       1.13920190e-01, 1.14144112e-01, 1.14146615e-01, 1.14494994e-01,\n       1.15664032e-01, 1.16165960e-01, 1.16323114e-01, 1.17114717e-01,\n       1.17271272e-01, 1.17300910e-01, 1.17686724e-01, 1.19388138e-01,\n       1.20583801e-01, 1.21862244e-01, 1.22313182e-01, 1.22612132e-01,\n       1.22967727e-01, 1.25063316e-01, 1.25502572e-01, 1.25758545e-01,\n       1.27483328e-01, 1.28218183e-01, 1.28644210e-01, 1.28771588e-01,\n       1.29752545e-01, 1.31758579e-01, 1.33145952e-01, 1.33235314e-01,\n       1.36414346e-01, 1.37177185e-01, 1.39169950e-01, 1.41103331e-01,\n       1.41454111e-01, 1.43955555e-01, 1.45108580e-01, 1.45770794e-01,\n       1.47023187e-01, 1.48383763e-01, 1.50219550e-01, 1.51267718e-01,\n       1.51555555e-01, 1.51594515e-01, 1.52012100e-01, 1.55257601e-01,\n       1.55517952e-01, 1.56950064e-01, 1.58561819e-01, 1.59337195e-01,\n       1.61633761e-01, 1.63169316e-01, 1.63186131e-01, 1.64654692e-01,\n       1.65074715e-01, 1.67669945e-01, 1.69878344e-01, 1.70221101e-01,\n       1.70380074e-01, 1.71099099e-01, 1.71177711e-01, 1.71220161e-01,\n       1.71719799e-01, 1.71871178e-01, 1.71979914e-01, 1.72221747e-01,\n       1.73655151e-01, 1.74053571e-01, 1.74931001e-01, 1.75147124e-01,\n       1.75196304e-01, 1.75236356e-01, 1.77339116e-01, 1.77832197e-01,\n       1.78333868e-01, 1.78744876e-01, 1.80738139e-01, 1.81008007e-01,\n       1.81105121e-01, 1.81418139e-01, 1.85258090e-01, 1.85888688e-01,\n       1.89410044e-01, 1.90668978e-01, 1.91292002e-01, 1.95114719e-01,\n       1.96211132e-01, 1.96999913e-01, 1.98796089e-01, 2.02026791e-01,\n       2.03138292e-01, 2.05077756e-01, 2.05602908e-01, 2.07002041e-01,\n       2.08448206e-01, 2.11658052e-01, 2.12001355e-01, 2.12259111e-01,\n       2.14030399e-01, 2.14463931e-01, 2.15112263e-01, 2.15323331e-01,\n       2.15509423e-01, 2.16958832e-01, 2.18952323e-01, 2.19115921e-01,\n       2.21820189e-01, 2.22260645e-01, 2.22288889e-01, 2.22625178e-01,\n       2.22823024e-01, 2.23252236e-01, 2.23898241e-01, 2.24227930e-01,\n       2.26592559e-01, 2.26985223e-01, 2.27382832e-01, 2.28408263e-01,\n       2.32106629e-01, 2.32129233e-01, 2.32292529e-01, 2.32592485e-01,\n       2.32746292e-01, 2.33126119e-01, 2.33332240e-01, 2.33484028e-01,\n       2.33803322e-01, 2.35229994e-01, 2.38422285e-01, 2.38538594e-01,\n       2.40085079e-01, 2.40937833e-01, 2.42424474e-01, 2.43420646e-01,\n       2.44631248e-01, 2.45954929e-01, 2.48528489e-01, 2.50230886e-01,\n       2.50290082e-01, 2.50556775e-01, 2.52097720e-01, 2.52511041e-01,\n       2.52983521e-01, 2.54930985e-01, 2.55022289e-01, 2.56557223e-01,\n       2.56561665e-01, 2.60562780e-01, 2.61262253e-01, 2.62956066e-01,\n       2.64669268e-01, 2.66017633e-01, 2.66276521e-01, 2.66314361e-01,\n       2.67526669e-01, 2.68802224e-01, 2.68823624e-01, 2.69249311e-01,\n       2.71276179e-01, 2.74844882e-01, 2.76067201e-01, 2.77277776e-01,\n       2.77574880e-01, 2.78772828e-01, 2.78787287e-01, 2.79275254e-01,\n       2.79422724e-01, 2.79556762e-01, 2.80020688e-01, 2.80515876e-01,\n       2.81080188e-01, 2.82807420e-01, 2.82929221e-01, 2.83328031e-01,\n       2.84476846e-01, 2.84810337e-01, 2.85277728e-01, 2.85986970e-01,\n       2.86806603e-01, 2.88686687e-01, 2.89322372e-01, 2.92322232e-01,\n       2.93496623e-01, 2.94744479e-01, 2.95801396e-01, 2.97092222e-01,\n       2.99320320e-01, 2.99969829e-01, 3.00383303e-01, 3.00443004e-01,\n       3.03005647e-01, 3.03939931e-01, 3.04013110e-01, 3.06660909e-01,\n       3.08883484e-01, 3.10980708e-01, 3.13222331e-01, 3.13445181e-01,\n       3.14353376e-01, 3.17766633e-01, 3.18393918e-01, 3.18866619e-01,\n       3.19289133e-01, 3.20633353e-01, 3.22242299e-01, 3.24369378e-01,\n       3.25154455e-01, 3.25236063e-01, 3.26553856e-01, 3.30031587e-01,\n       3.30546599e-01, 3.30634030e-01, 3.31188142e-01, 3.32000304e-01,\n       3.33221334e-01, 3.33240152e-01, 3.33263297e-01, 3.33332317e-01,\n       3.33373111e-01, 3.33563563e-01, 3.33832836e-01, 3.33839112e-01,\n       3.34313812e-01, 3.35332803e-01, 3.37300976e-01, 3.38053300e-01,\n       3.38367738e-01, 3.38693914e-01, 3.39230728e-01, 3.39298343e-01,\n       3.39397513e-01, 3.39933737e-01, 3.40923244e-01, 3.41902399e-01,\n       3.43843619e-01, 3.44669399e-01, 3.45063436e-01, 3.46895364e-01,\n       3.47393479e-01, 3.48808478e-01, 3.49437944e-01, 3.51835789e-01,\n       3.53405089e-01, 3.53412639e-01, 3.55196504e-01, 3.55355312e-01,\n       3.55551517e-01, 3.62662674e-01, 3.63079033e-01, 3.63232232e-01,\n       3.63531618e-01, 3.64877633e-01, 3.66605634e-01, 3.66869553e-01,\n       3.67327153e-01, 3.68286675e-01, 3.69133664e-01, 3.73231721e-01,\n       3.74723237e-01, 3.75770520e-01, 3.77517482e-01, 3.77687781e-01,\n       3.77753539e-01, 3.77758009e-01, 3.78473545e-01, 3.82273778e-01,\n       3.82486224e-01, 3.83826687e-01, 3.83966496e-01, 3.84131824e-01,\n       3.87040607e-01, 3.88558709e-01, 3.88785382e-01, 3.88833079e-01,\n       3.89955335e-01, 3.91713714e-01, 3.92353323e-01, 3.93929992e-01,\n       3.95466470e-01, 3.96191419e-01, 3.96636119e-01, 3.98619307e-01,\n       3.99133115e-01, 3.99390940e-01, 3.99399991e-01, 3.99935973e-01,\n       4.00091902e-01, 4.00246448e-01, 4.00608487e-01, 4.01308282e-01,\n       4.03114201e-01, 4.04844048e-01, 4.05044303e-01, 4.06777705e-01,\n       4.08789508e-01, 4.09000041e-01, 4.10291441e-01, 4.11141982e-01,\n       4.11155553e-01, 4.12304763e-01, 4.12484328e-01, 4.13354346e-01,\n       4.14484734e-01, 4.14544555e-01, 4.14667019e-01, 4.18175406e-01,\n       4.19148128e-01, 4.19951912e-01, 4.22440914e-01, 4.22741209e-01,\n       4.22805778e-01, 4.24224322e-01, 4.24421397e-01, 4.26569910e-01,\n       4.28492295e-01, 4.28577226e-01, 4.28968394e-01, 4.30640041e-01,\n       4.30696660e-01, 4.31166643e-01, 4.33824115e-01, 4.35115717e-01,\n       4.40320043e-01, 4.40330431e-01, 4.40463883e-01, 4.42344492e-01,\n       4.42696677e-01, 4.43000912e-01, 4.43494704e-01, 4.44202038e-01,\n       4.44449494e-01, 4.44554350e-01, 4.44860411e-01, 4.46045456e-01,\n       4.46087755e-01, 4.46533635e-01, 4.46957599e-01, 4.48484484e-01,\n       4.48869605e-01, 4.49248955e-01, 4.49959796e-01, 4.50025005e-01,\n       4.50046035e-01, 4.52478746e-01, 4.52625154e-01, 4.54152012e-01,\n       4.54244728e-01, 4.59945326e-01, 4.60466901e-01, 4.64363886e-01,\n       4.64643850e-01, 4.64683600e-01, 4.65273132e-01, 4.65445845e-01,\n       4.65641909e-01, 4.66501564e-01, 4.66765449e-01, 4.66777576e-01,\n       4.74477132e-01, 4.74704747e-01, 4.75588746e-01, 4.77488778e-01,\n       4.77774274e-01, 4.78234732e-01, 4.78255573e-01, 4.79773978e-01,\n       4.80660697e-01, 4.81737374e-01, 4.81989869e-01, 4.82242205e-01,\n       4.83313334e-01, 4.83339640e-01, 4.83885846e-01, 4.84088004e-01,\n       4.84565058e-01, 4.86477156e-01, 4.87228822e-01, 4.88244081e-01,\n       4.88481872e-01, 4.89425923e-01, 4.90070478e-01, 4.90490958e-01,\n       4.91360301e-01, 4.91969999e-01, 4.92155495e-01, 4.97259231e-01,\n       4.97614750e-01, 4.99497895e-01, 4.99887747e-01, 5.04540040e-01,\n       5.06009449e-01, 5.07782087e-01, 5.07977571e-01, 5.09568048e-01,\n       5.09905444e-01, 5.11115757e-01, 5.11151314e-01, 5.11434703e-01,\n       5.11445965e-01, 5.12222413e-01, 5.14124182e-01, 5.15531377e-01,\n       5.16159196e-01, 5.19997660e-01, 5.21818549e-01, 5.22013118e-01,\n       5.23125323e-01, 5.25555456e-01, 5.26451912e-01, 5.27575990e-01,\n       5.27628623e-01, 5.27770055e-01, 5.28228252e-01, 5.29555991e-01,\n       5.32644113e-01, 5.32656258e-01, 5.34851258e-01, 5.36285682e-01,\n       5.36682560e-01, 5.37534337e-01, 5.44412848e-01, 5.44654441e-01,\n       5.45061586e-01, 5.45567462e-01, 5.49330500e-01, 5.51546615e-01,\n       5.52200281e-01, 5.52506805e-01, 5.52625559e-01, 5.53016192e-01,\n       5.53535253e-01, 5.54038846e-01, 5.54115165e-01, 5.54251520e-01,\n       5.54253088e-01, 5.54438414e-01, 5.54905545e-01, 5.55105507e-01,\n       5.55555156e-01, 5.55809536e-01, 5.56585070e-01, 5.56612566e-01,\n       5.56614642e-01, 5.57197529e-01, 5.58053506e-01, 5.58865566e-01,\n       5.59058598e-01, 5.61363903e-01, 5.62152955e-01, 5.63766558e-01,\n       5.65038853e-01, 5.65726867e-01, 5.66599398e-01, 5.67095555e-01,\n       5.69036936e-01, 5.69552306e-01, 5.70667046e-01, 5.72075549e-01,\n       5.72151122e-01, 5.74591223e-01, 5.75781849e-01, 5.76344483e-01,\n       5.76557647e-01, 5.78167572e-01, 5.79865366e-01, 5.79965927e-01,\n       5.81188582e-01, 5.81555311e-01, 5.83830033e-01, 5.84245254e-01,\n       5.84353333e-01, 5.84577472e-01, 5.84899849e-01, 5.85835853e-01,\n       5.86915512e-01, 5.88847449e-01, 5.90905512e-01, 5.91154600e-01,\n       5.91794160e-01, 5.93555293e-01, 5.93845859e-01, 5.94398994e-01,\n       5.97399793e-01, 5.98529092e-01, 5.99019923e-01, 5.99555120e-01,\n       6.02599701e-01, 6.04888638e-01, 6.05357377e-01, 6.06702718e-01,\n       6.07162141e-01, 6.09777567e-01, 6.10301192e-01, 6.11210721e-01,\n       6.11221882e-01, 6.12651062e-01, 6.13937677e-01, 6.15330060e-01,\n       6.16849838e-01, 6.18681668e-01, 6.22227252e-01, 6.23228123e-01,\n       6.23777809e-01, 6.23892127e-01, 6.24452225e-01, 6.25504666e-01,\n       6.26132552e-01, 6.26449492e-01, 6.27065879e-01, 6.28642279e-01,\n       6.29767237e-01, 6.32663627e-01, 6.33107350e-01, 6.33437353e-01,\n       6.34444854e-01, 6.35552806e-01, 6.35553507e-01, 6.36024698e-01,\n       6.36066666e-01, 6.36414450e-01, 6.38399999e-01, 6.38810408e-01,\n       6.40279060e-01, 6.41151617e-01, 6.42585633e-01, 6.44494315e-01,\n       6.45254428e-01, 6.46559500e-01, 6.47433467e-01, 6.47764817e-01,\n       6.48654855e-01, 6.49989695e-01, 6.51361131e-01, 6.51464642e-01,\n       6.55575377e-01, 6.55699662e-01, 6.55717145e-01, 6.56410265e-01,\n       6.56577545e-01, 6.61506536e-01, 6.61774773e-01, 6.61866081e-01,\n       6.62282486e-01, 6.63686738e-01, 6.64662036e-01, 6.65294330e-01,\n       6.65715656e-01, 6.66466482e-01, 6.66622943e-01, 6.66645756e-01,\n       6.66676528e-01, 6.67640604e-01, 6.69229933e-01, 6.69666856e-01,\n       6.69982856e-01, 6.71467316e-01, 6.73183336e-01, 6.74474019e-01,\n       6.74723765e-01, 6.77676063e-01, 6.77761786e-01, 6.78495647e-01,\n       6.82225763e-01, 6.83633520e-01, 6.84377640e-01, 6.84853126e-01,\n       6.85006524e-01, 6.85638546e-01, 6.86278810e-01, 6.86749887e-01,\n       6.87087447e-01, 6.87434488e-01, 6.87589776e-01, 6.88468867e-01,\n       6.88932389e-01, 6.90948067e-01, 6.91976178e-01, 6.92993254e-01,\n       6.92999272e-01, 6.94442648e-01, 6.94544670e-01, 6.94644064e-01,\n       6.95096941e-01, 6.96664399e-01, 6.97235675e-01, 6.97990797e-01,\n       6.98898688e-01, 6.99110310e-01, 7.03305650e-01, 7.04044077e-01,\n       7.04070305e-01, 7.06306509e-01, 7.07665357e-01, 7.07770578e-01,\n       7.07774744e-01, 7.09791506e-01, 7.11732022e-01, 7.12122661e-01,\n       7.15175668e-01, 7.15713368e-01, 7.17727052e-01, 7.19647490e-01,\n       7.20668362e-01, 7.20944113e-01, 7.22222320e-01, 7.22673231e-01,\n       7.24085044e-01, 7.24352737e-01, 7.27029786e-01, 7.27244143e-01,\n       7.27470789e-01, 7.27792500e-01, 7.28314496e-01, 7.28974235e-01,\n       7.29143938e-01, 7.30760262e-01, 7.32836223e-01, 7.35575787e-01,\n       7.36679767e-01, 7.37303377e-01, 7.44828708e-01, 7.45777851e-01,\n       7.47447260e-01, 7.48855038e-01, 7.49084889e-01, 7.49271411e-01,\n       7.52022568e-01, 7.53732253e-01, 7.54041774e-01, 7.54487061e-01,\n       7.55133337e-01, 7.55292730e-01, 7.55557579e-01, 7.57299870e-01,\n       7.57747570e-01, 7.57907096e-01, 7.58745577e-01, 7.62424449e-01,\n       7.62828826e-01, 7.63177674e-01, 7.65963074e-01, 7.66356540e-01,\n       7.66596755e-01, 7.66669568e-01, 7.66986649e-01, 7.67023372e-01,\n       7.67776994e-01, 7.67785573e-01, 7.69699178e-01, 7.69898993e-01,\n       7.69909571e-01, 7.70051669e-01, 7.70099771e-01, 7.70262108e-01,\n       7.70610747e-01, 7.70719763e-01, 7.71707773e-01, 7.72597227e-01,\n       7.73000595e-01, 7.73755752e-01, 7.74444945e-01, 7.76440098e-01,\n       7.77454475e-01, 7.77732232e-01, 7.77793722e-01, 7.77887724e-01,\n       7.78498948e-01, 7.79171871e-01, 7.79505561e-01, 7.80372900e-01,\n       7.80778099e-01, 7.80999854e-01, 7.82672158e-01, 7.83382833e-01,\n       7.84452880e-01, 7.85880666e-01, 7.87704456e-01, 7.88281828e-01,\n       7.88811958e-01, 7.89007889e-01, 7.89207583e-01, 7.89879828e-01,\n       7.92224042e-01, 7.93357779e-01, 7.95570000e-01, 7.95575675e-01,\n       7.95704499e-01, 7.96907071e-01, 7.99292996e-01, 7.99977800e-01,\n       8.01668697e-01, 8.01755105e-01, 8.07376087e-01, 8.07481750e-01,\n       8.07694806e-01, 8.08282842e-01, 8.09919782e-01, 8.10650489e-01,\n       8.11438323e-01, 8.11756088e-01, 8.12182452e-01, 8.12710972e-01,\n       8.13235552e-01, 8.13834415e-01, 8.15853539e-01, 8.16618066e-01,\n       8.17800858e-01, 8.18456754e-01, 8.18486883e-01, 8.19070102e-01,\n       8.22391941e-01, 8.22896899e-01, 8.28372276e-01, 8.28528850e-01,\n       8.30314703e-01, 8.30435834e-01, 8.31455444e-01, 8.31548131e-01,\n       8.33333317e-01, 8.33338548e-01, 8.33343549e-01, 8.36186162e-01,\n       8.37733967e-01, 8.38058858e-01, 8.38963883e-01, 8.41728223e-01,\n       8.42245999e-01, 8.42488468e-01, 8.43333844e-01, 8.45332564e-01,\n       8.45511821e-01, 8.47874774e-01, 8.50002111e-01, 8.51558728e-01,\n       8.52222295e-01, 8.53056880e-01, 8.54747784e-01, 8.55278384e-01,\n       8.55933393e-01, 8.57287077e-01, 8.58575752e-01, 8.58888872e-01,\n       8.60309762e-01, 8.60686896e-01, 8.60758580e-01, 8.60860483e-01,\n       8.65848493e-01, 8.67996884e-01, 8.70837485e-01, 8.72057558e-01,\n       8.73338334e-01, 8.73533347e-01, 8.73788182e-01, 8.75549965e-01,\n       8.76387891e-01, 8.77047449e-01, 8.78274778e-01, 8.80995343e-01,\n       8.82822828e-01, 8.82898820e-01, 8.82998189e-01, 8.83222354e-01,\n       8.83332323e-01, 8.83385323e-01, 8.83393039e-01, 8.83980798e-01,\n       8.84333845e-01, 8.84898339e-01, 8.85389893e-01, 8.85938595e-01,\n       8.86658618e-01, 8.87575158e-01, 8.87787756e-01, 8.88488881e-01,\n       8.88516788e-01, 8.88568284e-01, 8.88728429e-01, 8.88853856e-01,\n       8.89809412e-01, 8.90888094e-01, 8.90989435e-01, 8.91199850e-01,\n       8.91359591e-01, 8.94183448e-01, 8.94228444e-01, 9.00298904e-01,\n       9.00540595e-01, 9.00733633e-01, 9.00857630e-01, 9.00877798e-01,\n       9.03944233e-01, 9.04400044e-01, 9.05995296e-01, 9.09669495e-01,\n       9.09704646e-01, 9.12998815e-01, 9.17799193e-01, 9.17972918e-01,\n       9.19739379e-01, 9.20260663e-01, 9.20282702e-01, 9.21182222e-01,\n       9.21890008e-01, 9.22029730e-01, 9.22459028e-01, 9.23122120e-01,\n       9.23948398e-01, 9.24232656e-01, 9.24894144e-01, 9.27119713e-01,\n       9.27435753e-01, 9.27922493e-01, 9.29135972e-01, 9.29832303e-01,\n       9.30093304e-01, 9.31001031e-01, 9.33476003e-01, 9.34414100e-01,\n       9.34534354e-01, 9.37339372e-01, 9.38948188e-01, 9.39133148e-01,\n       9.39386397e-01, 9.42944067e-01, 9.42993143e-01, 9.43452541e-01,\n       9.44443789e-01, 9.44594560e-01, 9.44770607e-01, 9.44905495e-01,\n       9.44954600e-01, 9.46496122e-01, 9.46646610e-01, 9.46981732e-01,\n       9.46993992e-01, 9.48868645e-01, 9.49420290e-01, 9.50567511e-01,\n       9.51298599e-01, 9.51599662e-01, 9.51915158e-01, 9.52655152e-01,\n       9.53859758e-01, 9.56847904e-01, 9.57979095e-01, 9.64903010e-01,\n       9.68284422e-01, 9.69159717e-01, 9.69429967e-01, 9.69487675e-01,\n       9.69969900e-01, 9.71177448e-01, 9.75344656e-01, 9.75444890e-01,\n       9.77247475e-01, 9.77717197e-01, 9.77930000e-01, 9.77977928e-01,\n       9.79096226e-01, 9.79747703e-01, 9.79975898e-01, 9.81418011e-01,\n       9.82568256e-01, 9.82672528e-01, 9.85393567e-01, 9.86699962e-01,\n       9.86883689e-01, 9.87166719e-01, 9.87594947e-01, 9.88788880e-01,\n       9.88934487e-01, 9.89962226e-01, 9.89998596e-01, 9.90808557e-01,\n       9.91457175e-01, 9.93366437e-01, 9.94148224e-01, 9.94459999e-01,\n       9.95735565e-01, 9.95895900e-01, 9.95951555e-01, 9.96192464e-01,\n       9.96876697e-01, 9.98599785e-01, 9.99959300e-01, 9.99959957e-01]), array([1, 1, 1, 1, 1, 1, 1, 1, 1, 1, 1, 1, 1, 1, 1, 1, 1, 1, 1, 1, 1, 1,\n       1, 1, 1, 1, 1, 1, 1, 1, 1, 1, 1, 1, 1, 1, 1, 1, 1, 1, 1, 1, 1, 1,\n       1, 1, 1, 1, 1, 1, 1, 1, 1, 1, 1, 1, 1, 1, 1, 1, 1, 1, 1, 1, 1, 1,\n       1, 1, 1, 1, 1, 1, 1, 1, 1, 1, 1, 1, 1, 1, 1, 1, 1, 1, 1, 1, 1, 1,\n       1, 1, 1, 1, 1, 1, 1, 1, 1, 1, 1, 1, 1, 1, 1, 1, 1, 1, 1, 1, 1, 1,\n       1, 1, 1, 1, 1, 1, 1, 1, 1, 1, 1, 1, 1, 1, 1, 1, 1, 1, 1, 1, 1, 1,\n       1, 1, 1, 1, 1, 1, 1, 1, 1, 1, 1, 1, 1, 1, 1, 1, 1, 1, 1, 1, 1, 1,\n       1, 1, 1, 1, 1, 1, 1, 1, 1, 1, 1, 1, 1, 1, 1, 1, 1, 1, 1, 1, 1, 1,\n       1, 1, 1, 1, 1, 1, 1, 1, 1, 1, 1, 1, 1, 1, 1, 1, 1, 1, 1, 1, 1, 1,\n       1, 1, 1, 1, 1, 1, 1, 1, 1, 1, 1, 1, 1, 1, 1, 1, 1, 1, 1, 1, 1, 1,\n       1, 1, 1, 1, 1, 1, 1, 1, 1, 1, 1, 1, 1, 1, 1, 1, 1, 1, 1, 1, 1, 1,\n       1, 1, 1, 1, 1, 1, 1, 1, 1, 1, 1, 1, 1, 1, 1, 1, 1, 1, 1, 1, 1, 1,\n       1, 1, 1, 1, 1, 1, 1, 1, 1, 1, 1, 1, 1, 1, 1, 1, 1, 1, 1, 1, 1, 1,\n       1, 1, 1, 1, 1, 1, 1, 1, 1, 1, 1, 1, 1, 1, 1, 1, 1, 1, 1, 1, 1, 1,\n       1, 1, 1, 1, 1, 1, 1, 1, 1, 1, 1, 1, 1, 1, 1, 1, 1, 1, 1, 1, 1, 1,\n       1, 1, 1, 1, 1, 1, 1, 1, 1, 1, 1, 1, 1, 1, 1, 1, 1, 1, 1, 1, 1, 1,\n       1, 1, 1, 1, 1, 1, 1, 1, 1, 1, 1, 1, 1, 1, 1, 1, 1, 1, 1, 1, 1, 1,\n       1, 1, 1, 1, 1, 1, 1, 1, 1, 1, 1, 1, 1, 1, 1, 1, 1, 1, 1, 1, 1, 1,\n       1, 1, 1, 1, 1, 1, 1, 1, 1, 1, 1, 1, 1, 1, 1, 1, 1, 1, 1, 1, 1, 1,\n       1, 1, 1, 1, 1, 1, 1, 1, 1, 1, 1, 1, 1, 1, 1, 1, 1, 1, 1, 1, 1, 1,\n       1, 1, 1, 1, 1, 1, 1, 1, 1, 1, 1, 1, 1, 1, 1, 1, 1, 1, 1, 1, 1, 1,\n       1, 1, 1, 1, 1, 1, 1, 1, 1, 1, 1, 1, 1, 1, 1, 1, 1, 1, 1, 1, 1, 1,\n       1, 1, 1, 1, 1, 1, 1, 1, 1, 1, 1, 1, 1, 1, 1, 1, 1, 1, 1, 1, 1, 1,\n       1, 1, 1, 1, 1, 1, 1, 1, 1, 1, 1, 1, 1, 1, 1, 1, 1, 1, 1, 1, 1, 1,\n       1, 1, 1, 1, 1, 1, 1, 1, 1, 1, 1, 1, 1, 1, 1, 1, 1, 1, 1, 1, 1, 1,\n       1, 1, 1, 1, 1, 1, 1, 1, 1, 1, 1, 1, 1, 1, 1, 1, 1, 1, 1, 1, 1, 1,\n       1, 1, 1, 1, 1, 1, 1, 1, 1, 1, 1, 1, 1, 1, 1, 1, 1, 1, 1, 1, 1, 1,\n       1, 1, 1, 1, 1, 1, 1, 1, 1, 1, 1, 1, 1, 1, 1, 1, 1, 1, 1, 1, 1, 1,\n       1, 1, 1, 1, 1, 1, 1, 1, 1, 1, 1, 1, 1, 1, 1, 1, 1, 1, 1, 1, 1, 1,\n       1, 1, 1, 1, 1, 1, 1, 1, 1, 1, 1, 1, 1, 1, 1, 1, 1, 1, 1, 1, 1, 1,\n       1, 1, 1, 1, 1, 1, 1, 1, 1, 1, 1, 1, 1, 1, 1, 1, 1, 1, 1, 1, 1, 1,\n       1, 1, 1, 1, 1, 1, 1, 1, 1, 1, 1, 1, 1, 1, 1, 1, 1, 1, 1, 1, 1, 1,\n       1, 1, 1, 1, 1, 1, 1, 1, 1, 1, 1, 1, 1, 1, 1, 1, 1, 1, 1, 1, 1, 1,\n       1, 1, 1, 1, 1, 1, 1, 1, 1, 1, 1, 1, 1, 1, 1, 1, 1, 1, 1, 1, 1, 1,\n       1, 1, 1, 1, 1, 1, 1, 1, 1, 1, 1, 1, 1, 1, 1, 1, 1, 1, 1, 1, 1, 1,\n       1, 1, 1, 1, 1, 1, 1, 1, 1, 1, 1, 1, 1, 1, 1, 1, 1, 1, 1, 1, 1, 1,\n       1, 1, 1, 1, 1, 1, 1, 1, 1, 1, 1, 1, 1, 1, 1, 1, 1, 1, 1, 1, 1, 1,\n       1, 1, 1, 1, 1, 1, 1, 1, 1, 1, 1, 1, 1, 1, 1, 1, 1, 1, 1, 1, 1, 1,\n       1, 1, 1, 1, 1, 1, 1, 1, 1, 1, 1, 1, 1, 1, 1, 1, 1, 1, 1, 1, 1, 1,\n       1, 1, 1, 1, 1, 1, 1, 1, 1, 1, 1, 1, 1, 1, 1, 1, 1, 1, 1, 1, 1, 1,\n       1, 1, 1, 1, 1, 1, 1, 1, 1, 1, 1, 1, 1, 1, 1, 1, 1, 1, 1, 1, 1, 1,\n       1, 1, 1, 1, 1, 1, 1, 1, 1, 1, 1, 1, 1, 1, 1, 1, 1, 1, 1, 1, 1, 1,\n       1, 1, 1, 1, 1, 1, 1, 1, 1, 1, 1, 1, 1, 1, 1, 1, 1, 1, 1, 1, 1, 1,\n       1, 1, 1, 1, 1, 1, 1, 1, 1, 1, 1, 1, 1, 1, 1, 1, 1, 1, 1, 1, 1, 1,\n       1, 1, 1, 1, 1, 1, 1, 1, 1, 1, 1, 1, 1, 1, 1, 1, 1, 1, 1, 1, 1, 1,\n       1, 1, 1, 1, 1, 1, 1, 1, 1, 1]))\n"
     ]
    }
   ],
   "source": [
    "NB_DIGITS = 10\n",
    "\n",
    "def generator_1(n: int = 1, seed_: int = 0):\n",
    "    for i in range(n):\n",
    "        xyz = []\n",
    "        for j in range(3):\n",
    "            digits = []\n",
    "            for k in range(NB_DIGITS):\n",
    "                seed = e_numbers[seed_ + i + j + k]\n",
    "                a = len(e_numbers) - seed\n",
    "                c = e_numbers[i + seed]\n",
    "                digit = (a * seed + c) % 10\n",
    "                digits.append(digit)\n",
    "            xyz.append(float(\"0.\" + \"\".join(map(lambda x: str(x), digits))))\n",
    "        yield math.sqrt(sum([x**2 for x in xyz]))/math.sqrt(3)\n",
    "\n",
    "def generator(n: int = 1, seed_: int = 0):\n",
    "    for i in range(n):\n",
    "        digits = []\n",
    "        for k in range(NB_DIGITS):\n",
    "            seed = e_numbers[seed_ + i + k]\n",
    "            a = len(e_numbers) - seed\n",
    "            c = e_numbers[i + seed]\n",
    "            digit = (a * seed + c) % 10\n",
    "            digits.append(digit)\n",
    "        yield float(\"0.\" + \"\".join(map(lambda x: str(x), digits)))\n",
    "\n",
    "gen = list(generator(1000, 50))\n",
    "print(count_number(gen))"
   ],
   "metadata": {
    "collapsed": false,
    "pycharm": {
     "name": "#%%\n"
    },
    "tags": [
     "outputPrepend"
    ]
   }
  },
  {
   "cell_type": "code",
   "execution_count": 66,
   "metadata": {},
   "outputs": [],
   "source": [
    "## Test de notre générateur"
   ]
  },
  {
   "cell_type": "code",
   "execution_count": 130,
   "metadata": {},
   "outputs": [
    {
     "output_type": "stream",
     "name": "stdout",
     "text": [
      "[array([], dtype=float64)\n",
      " array([0.00023243, 0.00035242, 0.00071318, 0.0007721 , 0.00077708,\n",
      "        0.00110033, 0.00112121, 0.00155397, 0.00213532, 0.00217812,\n",
      "        0.00298903, 0.00314134, 0.00333032, 0.00381337, 0.00620604,\n",
      "        0.00646635, 0.0065603 , 0.00731161, 0.009063  , 0.0092674 ,\n",
      "        0.00949426, 0.01025582, 0.01164413, 0.01278719, 0.01334303,\n",
      "        0.01391933, 0.01901423, 0.02031304, 0.02077017, 0.02119219,\n",
      "        0.02340358, 0.02353939, 0.0236334 , 0.0242433 , 0.02442224,\n",
      "        0.02808884, 0.02856181, 0.02862413, 0.02966425, 0.0300003 ,\n",
      "        0.03033087, 0.03334431, 0.03355503, 0.03575737, 0.03707091,\n",
      "        0.03869039, 0.0388989 , 0.0402568 , 0.04154952, 0.04224552,\n",
      "        0.04319113, 0.0432033 , 0.0440695 , 0.04414997, 0.04664221,\n",
      "        0.05000051, 0.05015465, 0.05160152, 0.05181022, 0.05255151,\n",
      "        0.05455956, 0.05542755, 0.05560626, 0.05906696, 0.06010061,\n",
      "        0.0604004 , 0.06068809, 0.06467082, 0.06536083, 0.06600901,\n",
      "        0.06611868, 0.06758888, 0.06886289, 0.07076109, 0.07101087,\n",
      "        0.07111748, 0.07474559, 0.07607047, 0.076207  , 0.0784224 ,\n",
      "        0.07900719, 0.0815231 , 0.08282089, 0.084625  , 0.08816991,\n",
      "        0.08988002, 0.09115797, 0.09245798, 0.09460884, 0.09488948,\n",
      "        0.09514941, 0.09553341, 0.09580569, 0.09669025, 0.09691943,\n",
      "        0.09701707, 0.0989054 , 0.09971081, 0.09990956])\n",
      " array([0.10064042, 0.10101066, 0.10111172, 0.10117153, 0.10175816,\n",
      "        0.10188111, 0.10797101, 0.10827441, 0.10910988, 0.11011616,\n",
      "        0.11038114, 0.11093133, 0.11129302, 0.11192113, 0.11219992,\n",
      "        0.11310992, 0.11311614, 0.11392019, 0.11414411, 0.11414662,\n",
      "        0.11449499, 0.11566403, 0.11616596, 0.11632311, 0.11711472,\n",
      "        0.11727127, 0.11730091, 0.11768672, 0.11938814, 0.1205838 ,\n",
      "        0.12186224, 0.12231318, 0.12261213, 0.12296773, 0.12506332,\n",
      "        0.12550257, 0.12575854, 0.12748333, 0.12821818, 0.12864421,\n",
      "        0.12877159, 0.12975255, 0.13175858, 0.13314595, 0.13323531,\n",
      "        0.13641435, 0.13717719, 0.13916995, 0.14110333, 0.14145411,\n",
      "        0.14395556, 0.14510858, 0.14577079, 0.14702319, 0.14838376,\n",
      "        0.15021955, 0.15126772, 0.15155556, 0.15159452, 0.1520121 ,\n",
      "        0.1552576 , 0.15551795, 0.15695006, 0.15856182, 0.15933719,\n",
      "        0.16163376, 0.16316932, 0.16318613, 0.16465469, 0.16507472,\n",
      "        0.16766995, 0.16987834, 0.1702211 , 0.17038007, 0.1710991 ,\n",
      "        0.17117771, 0.17122016, 0.1717198 , 0.17187118, 0.17197991,\n",
      "        0.17222175, 0.17365515, 0.17405357, 0.174931  , 0.17514712,\n",
      "        0.1751963 , 0.17523636, 0.17733912, 0.1778322 , 0.17833387,\n",
      "        0.17874488, 0.18073814, 0.18100801, 0.18110512, 0.18141814,\n",
      "        0.18525809, 0.18588869, 0.18941004, 0.19066898, 0.191292  ,\n",
      "        0.19511472, 0.19621113, 0.19699991, 0.19879609])\n",
      " array([0.20202679, 0.20313829, 0.20507776, 0.20560291, 0.20700204,\n",
      "        0.20844821, 0.21165805, 0.21200136, 0.21225911, 0.2140304 ,\n",
      "        0.21446393, 0.21511226, 0.21532333, 0.21550942, 0.21695883,\n",
      "        0.21895232, 0.21911592, 0.22182019, 0.22226064, 0.22228889,\n",
      "        0.22262518, 0.22282302, 0.22325224, 0.22389824, 0.22422793,\n",
      "        0.22659256, 0.22698522, 0.22738283, 0.22840826, 0.23210663,\n",
      "        0.23212923, 0.23229253, 0.23259248, 0.23274629, 0.23312612,\n",
      "        0.23333224, 0.23348403, 0.23380332, 0.23522999, 0.23842229,\n",
      "        0.23853859, 0.24008508, 0.24093783, 0.24242447, 0.24342065,\n",
      "        0.24463125, 0.24595493, 0.24852849, 0.25023089, 0.25029008,\n",
      "        0.25055678, 0.25209772, 0.25251104, 0.25298352, 0.25493099,\n",
      "        0.25502229, 0.25655722, 0.25656167, 0.26056278, 0.26126225,\n",
      "        0.26295607, 0.26466927, 0.26601763, 0.26627652, 0.26631436,\n",
      "        0.26752667, 0.26880222, 0.26882362, 0.26924931, 0.27127618,\n",
      "        0.27484488, 0.2760672 , 0.27727778, 0.27757488, 0.27877283,\n",
      "        0.27878729, 0.27927525, 0.27942272, 0.27955676, 0.28002069,\n",
      "        0.28051588, 0.28108019, 0.28280742, 0.28292922, 0.28332803,\n",
      "        0.28447685, 0.28481034, 0.28527773, 0.28598697, 0.2868066 ,\n",
      "        0.28868669, 0.28932237, 0.29232223, 0.29349662, 0.29474448,\n",
      "        0.2958014 , 0.29709222, 0.29932032, 0.29996983])\n",
      " array([0.3003833 , 0.300443  , 0.30300565, 0.30393993, 0.30401311,\n",
      "        0.30666091, 0.30888348, 0.31098071, 0.31322233, 0.31344518,\n",
      "        0.31435338, 0.31776663, 0.31839392, 0.31886662, 0.31928913,\n",
      "        0.32063335, 0.3222423 , 0.32436938, 0.32515445, 0.32523606,\n",
      "        0.32655386, 0.33003159, 0.3305466 , 0.33063403, 0.33118814,\n",
      "        0.3320003 , 0.33322133, 0.33324015, 0.3332633 , 0.33333232,\n",
      "        0.33337311, 0.33356356, 0.33383284, 0.33383911, 0.33431381,\n",
      "        0.3353328 , 0.33730098, 0.3380533 , 0.33836774, 0.33869391,\n",
      "        0.33923073, 0.33929834, 0.33939751, 0.33993374, 0.34092324,\n",
      "        0.3419024 , 0.34384362, 0.3446694 , 0.34506344, 0.34689536,\n",
      "        0.34739348, 0.34880848, 0.34943794, 0.35183579, 0.35340509,\n",
      "        0.35341264, 0.3551965 , 0.35535531, 0.35555152, 0.36266267,\n",
      "        0.36307903, 0.36323223, 0.36353162, 0.36487763, 0.36660563,\n",
      "        0.36686955, 0.36732715, 0.36828668, 0.36913366, 0.37323172,\n",
      "        0.37472324, 0.37577052, 0.37751748, 0.37768778, 0.37775354,\n",
      "        0.37775801, 0.37847355, 0.38227378, 0.38248622, 0.38382669,\n",
      "        0.3839665 , 0.38413182, 0.38704061, 0.38855871, 0.38878538,\n",
      "        0.38883308, 0.38995534, 0.39171371, 0.39235332, 0.39392999,\n",
      "        0.39546647, 0.39619142, 0.39663612, 0.39861931, 0.39913312,\n",
      "        0.39939094, 0.39939999, 0.39993597])\n",
      " array([0.4000919 , 0.40024645, 0.40060849, 0.40130828, 0.4031142 ,\n",
      "        0.40484405, 0.4050443 , 0.4067777 , 0.40878951, 0.40900004,\n",
      "        0.41029144, 0.41114198, 0.41115555, 0.41230476, 0.41248433,\n",
      "        0.41335435, 0.41448473, 0.41454455, 0.41466702, 0.41817541,\n",
      "        0.41914813, 0.41995191, 0.42244091, 0.42274121, 0.42280578,\n",
      "        0.42422432, 0.4244214 , 0.42656991, 0.42849229, 0.42857723,\n",
      "        0.42896839, 0.43064004, 0.43069666, 0.43116664, 0.43382411,\n",
      "        0.43511572, 0.44032004, 0.44033043, 0.44046388, 0.44234449,\n",
      "        0.44269668, 0.44300091, 0.4434947 , 0.44420204, 0.44444949,\n",
      "        0.44455435, 0.44486041, 0.44604546, 0.44608775, 0.44653363,\n",
      "        0.4469576 , 0.44848448, 0.4488696 , 0.44924895, 0.4499598 ,\n",
      "        0.45002501, 0.45004603, 0.45247875, 0.45262515, 0.45415201,\n",
      "        0.45424473, 0.45994533, 0.4604669 , 0.46436389, 0.46464385,\n",
      "        0.4646836 , 0.46527313, 0.46544584, 0.46564191, 0.46650156,\n",
      "        0.46676545, 0.46677758, 0.47447713, 0.47470475, 0.47558875,\n",
      "        0.47748878, 0.47777427, 0.47823473, 0.47825557, 0.47977398,\n",
      "        0.4806607 , 0.48173737, 0.48198987, 0.4822422 , 0.48331333,\n",
      "        0.48333964, 0.48388585, 0.484088  , 0.48456506, 0.48647716,\n",
      "        0.48722882, 0.48824408, 0.48848187, 0.48942592, 0.49007048,\n",
      "        0.49049096, 0.4913603 , 0.49197   , 0.49215549, 0.49725923,\n",
      "        0.49761475, 0.49949789, 0.49988775])\n",
      " array([0.50454004, 0.50600945, 0.50778209, 0.50797757, 0.50956805,\n",
      "        0.50990544, 0.51111576, 0.51115131, 0.5114347 , 0.51144597,\n",
      "        0.51222241, 0.51412418, 0.51553138, 0.5161592 , 0.51999766,\n",
      "        0.52181855, 0.52201312, 0.52312532, 0.52555546, 0.52645191,\n",
      "        0.52757599, 0.52762862, 0.52777005, 0.52822825, 0.52955599,\n",
      "        0.53264411, 0.53265626, 0.53485126, 0.53628568, 0.53668256,\n",
      "        0.53753434, 0.54441285, 0.54465444, 0.54506159, 0.54556746,\n",
      "        0.5493305 , 0.55154662, 0.55220028, 0.55250681, 0.55262556,\n",
      "        0.55301619, 0.55353525, 0.55403885, 0.55411516, 0.55425152,\n",
      "        0.55425309, 0.55443841, 0.55490555, 0.55510551, 0.55555516,\n",
      "        0.55580954, 0.55658507, 0.55661257, 0.55661464, 0.55719753,\n",
      "        0.55805351, 0.55886557, 0.5590586 , 0.5613639 , 0.56215296,\n",
      "        0.56376656, 0.56503885, 0.56572687, 0.5665994 , 0.56709555,\n",
      "        0.56903694, 0.56955231, 0.57066705, 0.57207555, 0.57215112,\n",
      "        0.57459122, 0.57578185, 0.57634448, 0.57655765, 0.57816757,\n",
      "        0.57986537, 0.57996593, 0.58118858, 0.58155531, 0.58383003,\n",
      "        0.58424525, 0.58435333, 0.58457747, 0.58489985, 0.58583585,\n",
      "        0.58691551, 0.58884745, 0.59090551, 0.5911546 , 0.59179416,\n",
      "        0.59355529, 0.59384586, 0.59439899, 0.59739979, 0.59852909,\n",
      "        0.59901992, 0.59955512])\n",
      " array([0.6025997 , 0.60488864, 0.60535738, 0.60670272, 0.60716214,\n",
      "        0.60977757, 0.61030119, 0.61121072, 0.61122188, 0.61265106,\n",
      "        0.61393768, 0.61533006, 0.61684984, 0.61868167, 0.62222725,\n",
      "        0.62322812, 0.62377781, 0.62389213, 0.62445223, 0.62550467,\n",
      "        0.62613255, 0.62644949, 0.62706588, 0.62864228, 0.62976724,\n",
      "        0.63266363, 0.63310735, 0.63343735, 0.63444485, 0.63555281,\n",
      "        0.63555351, 0.6360247 , 0.63606667, 0.63641445, 0.6384    ,\n",
      "        0.63881041, 0.64027906, 0.64115162, 0.64258563, 0.64449431,\n",
      "        0.64525443, 0.6465595 , 0.64743347, 0.64776482, 0.64865485,\n",
      "        0.6499897 , 0.65136113, 0.65146464, 0.65557538, 0.65569966,\n",
      "        0.65571714, 0.65641027, 0.65657755, 0.66150654, 0.66177477,\n",
      "        0.66186608, 0.66228249, 0.66368674, 0.66466204, 0.66529433,\n",
      "        0.66571566, 0.66646648, 0.66662294, 0.66664576, 0.66667653,\n",
      "        0.6676406 , 0.66922993, 0.66966686, 0.66998286, 0.67146732,\n",
      "        0.67318334, 0.67447402, 0.67472376, 0.67767606, 0.67776179,\n",
      "        0.67849565, 0.68222576, 0.68363352, 0.68437764, 0.68485313,\n",
      "        0.68500652, 0.68563855, 0.68627881, 0.68674989, 0.68708745,\n",
      "        0.68743449, 0.68758978, 0.68846887, 0.68893239, 0.69094807,\n",
      "        0.69197618, 0.69299325, 0.69299927, 0.69444265, 0.69454467,\n",
      "        0.69464406, 0.69509694, 0.6966644 , 0.69723568, 0.6979908 ,\n",
      "        0.69889869, 0.69911031])\n",
      " array([0.70330565, 0.70404408, 0.70407031, 0.70630651, 0.70766536,\n",
      "        0.70777058, 0.70777474, 0.70979151, 0.71173202, 0.71212266,\n",
      "        0.71517567, 0.71571337, 0.71772705, 0.71964749, 0.72066836,\n",
      "        0.72094411, 0.72222232, 0.72267323, 0.72408504, 0.72435274,\n",
      "        0.72702979, 0.72724414, 0.72747079, 0.7277925 , 0.7283145 ,\n",
      "        0.72897423, 0.72914394, 0.73076026, 0.73283622, 0.73557579,\n",
      "        0.73667977, 0.73730338, 0.74482871, 0.74577785, 0.74744726,\n",
      "        0.74885504, 0.74908489, 0.74927141, 0.75202257, 0.75373225,\n",
      "        0.75404177, 0.75448706, 0.75513334, 0.75529273, 0.75555758,\n",
      "        0.75729987, 0.75774757, 0.7579071 , 0.75874558, 0.76242445,\n",
      "        0.76282883, 0.76317767, 0.76596307, 0.76635654, 0.76659675,\n",
      "        0.76666957, 0.76698665, 0.76702337, 0.76777699, 0.76778557,\n",
      "        0.76969918, 0.76989899, 0.76990957, 0.77005167, 0.77009977,\n",
      "        0.77026211, 0.77061075, 0.77071976, 0.77170777, 0.77259723,\n",
      "        0.7730006 , 0.77375575, 0.77444494, 0.7764401 , 0.77745447,\n",
      "        0.77773223, 0.77779372, 0.77788772, 0.77849895, 0.77917187,\n",
      "        0.77950556, 0.7803729 , 0.7807781 , 0.78099985, 0.78267216,\n",
      "        0.78338283, 0.78445288, 0.78588067, 0.78770446, 0.78828183,\n",
      "        0.78881196, 0.78900789, 0.78920758, 0.78987983, 0.79222404,\n",
      "        0.79335778, 0.79557   , 0.79557568, 0.7957045 , 0.79690707,\n",
      "        0.799293  , 0.7999778 ])\n",
      " array([0.8016687 , 0.80175511, 0.80737609, 0.80748175, 0.80769481,\n",
      "        0.80828284, 0.80991978, 0.81065049, 0.81143832, 0.81175609,\n",
      "        0.81218245, 0.81271097, 0.81323555, 0.81383441, 0.81585354,\n",
      "        0.81661807, 0.81780086, 0.81845675, 0.81848688, 0.8190701 ,\n",
      "        0.82239194, 0.8228969 , 0.82837228, 0.82852885, 0.8303147 ,\n",
      "        0.83043583, 0.83145544, 0.83154813, 0.83333332, 0.83333855,\n",
      "        0.83334355, 0.83618616, 0.83773397, 0.83805886, 0.83896388,\n",
      "        0.84172822, 0.842246  , 0.84248847, 0.84333384, 0.84533256,\n",
      "        0.84551182, 0.84787477, 0.85000211, 0.85155873, 0.8522223 ,\n",
      "        0.85305688, 0.85474778, 0.85527838, 0.85593339, 0.85728708,\n",
      "        0.85857575, 0.85888887, 0.86030976, 0.8606869 , 0.86075858,\n",
      "        0.86086048, 0.86584849, 0.86799688, 0.87083749, 0.87205756,\n",
      "        0.87333833, 0.87353335, 0.87378818, 0.87554996, 0.87638789,\n",
      "        0.87704745, 0.87827478, 0.88099534, 0.88282283, 0.88289882,\n",
      "        0.88299819, 0.88322235, 0.88333232, 0.88338532, 0.88339304,\n",
      "        0.8839808 , 0.88433384, 0.88489834, 0.88538989, 0.8859386 ,\n",
      "        0.88665862, 0.88757516, 0.88778776, 0.88848888, 0.88851679,\n",
      "        0.88856828, 0.88872843, 0.88885386, 0.88980941, 0.89088809,\n",
      "        0.89098943, 0.89119985, 0.89135959, 0.89418345, 0.89422844])]\n",
      "<ipython-input-121-aee1738b1e70>:4: VisibleDeprecationWarning: Creating an ndarray from ragged nested sequences (which is a list-or-tuple of lists-or-tuples-or ndarrays with different lengths or shapes) is deprecated. If you meant to do this, you must specify 'dtype=object' when creating the ndarray.\n",
      "  return np.array(res)\n"
     ]
    },
    {
     "output_type": "error",
     "ename": "ValueError",
     "evalue": "operands could not be broadcast together with shapes (99,) (0,) ",
     "traceback": [
      "\u001b[0;31m---------------------------------------------------------------------------\u001b[0m",
      "\u001b[0;31mValueError\u001b[0m                                Traceback (most recent call last)",
      "\u001b[0;32m<ipython-input-130-99cd54a347a2>\u001b[0m in \u001b[0;36m<module>\u001b[0;34m\u001b[0m\n\u001b[1;32m      1\u001b[0m \u001b[0mlst\u001b[0m \u001b[0;34m=\u001b[0m \u001b[0mlist\u001b[0m\u001b[0;34m(\u001b[0m\u001b[0mgenerator\u001b[0m\u001b[0;34m(\u001b[0m\u001b[0;36m1000\u001b[0m\u001b[0;34m,\u001b[0m \u001b[0;36m50\u001b[0m\u001b[0;34m)\u001b[0m\u001b[0;34m)\u001b[0m\u001b[0;34m\u001b[0m\u001b[0;34m\u001b[0m\u001b[0m\n\u001b[0;32m----> 2\u001b[0;31m \u001b[0mprint\u001b[0m\u001b[0;34m(\u001b[0m\u001b[0mchi_squared_continuous\u001b[0m\u001b[0;34m(\u001b[0m\u001b[0mlst\u001b[0m\u001b[0;34m)\u001b[0m\u001b[0;34m)\u001b[0m\u001b[0;34m\u001b[0m\u001b[0;34m\u001b[0m\u001b[0m\n\u001b[0m",
      "\u001b[0;32m<ipython-input-122-7f26d72a828f>\u001b[0m in \u001b[0;36mchi_squared_continuous\u001b[0;34m(data, groups)\u001b[0m\n\u001b[1;32m      2\u001b[0m     \u001b[0msplitted\u001b[0m \u001b[0;34m=\u001b[0m \u001b[0msplit_in_groups\u001b[0m\u001b[0;34m(\u001b[0m\u001b[0mdata\u001b[0m\u001b[0;34m,\u001b[0m \u001b[0mgroups\u001b[0m\u001b[0;34m)\u001b[0m\u001b[0;34m\u001b[0m\u001b[0;34m\u001b[0m\u001b[0m\n\u001b[1;32m      3\u001b[0m     \u001b[0mprint\u001b[0m\u001b[0;34m(\u001b[0m\u001b[0msplitted\u001b[0m\u001b[0;34m)\u001b[0m\u001b[0;34m\u001b[0m\u001b[0;34m\u001b[0m\u001b[0m\n\u001b[0;32m----> 4\u001b[0;31m     \u001b[0m_\u001b[0m\u001b[0;34m,\u001b[0m \u001b[0mcounts\u001b[0m \u001b[0;34m=\u001b[0m \u001b[0mcount_number\u001b[0m\u001b[0;34m(\u001b[0m\u001b[0msplitted\u001b[0m\u001b[0;34m)\u001b[0m\u001b[0;34m\u001b[0m\u001b[0;34m\u001b[0m\u001b[0m\n\u001b[0m\u001b[1;32m      5\u001b[0m     \u001b[0;32mreturn\u001b[0m \u001b[0mchi_squared_uniform\u001b[0m\u001b[0;34m(\u001b[0m\u001b[0mcounts\u001b[0m\u001b[0;34m)\u001b[0m\u001b[0;34m\u001b[0m\u001b[0;34m\u001b[0m\u001b[0m\n",
      "\u001b[0;32m<ipython-input-118-3c2470b557ed>\u001b[0m in \u001b[0;36mcount_number\u001b[0;34m(data)\u001b[0m\n\u001b[1;32m      1\u001b[0m \u001b[0;32mdef\u001b[0m \u001b[0mcount_number\u001b[0m\u001b[0;34m(\u001b[0m\u001b[0mdata\u001b[0m\u001b[0;34m)\u001b[0m\u001b[0;34m:\u001b[0m\u001b[0;34m\u001b[0m\u001b[0;34m\u001b[0m\u001b[0m\n\u001b[0;32m----> 2\u001b[0;31m     \u001b[0mvalues\u001b[0m\u001b[0;34m,\u001b[0m \u001b[0mcounts\u001b[0m \u001b[0;34m=\u001b[0m \u001b[0mnp\u001b[0m\u001b[0;34m.\u001b[0m\u001b[0munique\u001b[0m\u001b[0;34m(\u001b[0m\u001b[0mdata\u001b[0m\u001b[0;34m,\u001b[0m \u001b[0mreturn_counts\u001b[0m\u001b[0;34m=\u001b[0m\u001b[0;32mTrue\u001b[0m\u001b[0;34m)\u001b[0m\u001b[0;34m\u001b[0m\u001b[0;34m\u001b[0m\u001b[0m\n\u001b[0m\u001b[1;32m      3\u001b[0m     \u001b[0;32mreturn\u001b[0m \u001b[0mvalues\u001b[0m\u001b[0;34m,\u001b[0m \u001b[0mcounts\u001b[0m\u001b[0;34m\u001b[0m\u001b[0;34m\u001b[0m\u001b[0m\n\u001b[1;32m      4\u001b[0m \u001b[0;34m\u001b[0m\u001b[0m\n\u001b[1;32m      5\u001b[0m \u001b[0me_labels\u001b[0m\u001b[0;34m,\u001b[0m \u001b[0me_counts\u001b[0m \u001b[0;34m=\u001b[0m \u001b[0mcount_number\u001b[0m\u001b[0;34m(\u001b[0m\u001b[0me_numbers\u001b[0m\u001b[0;34m)\u001b[0m\u001b[0;34m\u001b[0m\u001b[0;34m\u001b[0m\u001b[0m\n",
      "\u001b[0;32m<__array_function__ internals>\u001b[0m in \u001b[0;36munique\u001b[0;34m(*args, **kwargs)\u001b[0m\n",
      "\u001b[0;32m/usr/lib/python3.9/site-packages/numpy/lib/arraysetops.py\u001b[0m in \u001b[0;36munique\u001b[0;34m(ar, return_index, return_inverse, return_counts, axis)\u001b[0m\n\u001b[1;32m    260\u001b[0m     \u001b[0mar\u001b[0m \u001b[0;34m=\u001b[0m \u001b[0mnp\u001b[0m\u001b[0;34m.\u001b[0m\u001b[0masanyarray\u001b[0m\u001b[0;34m(\u001b[0m\u001b[0mar\u001b[0m\u001b[0;34m)\u001b[0m\u001b[0;34m\u001b[0m\u001b[0;34m\u001b[0m\u001b[0m\n\u001b[1;32m    261\u001b[0m     \u001b[0;32mif\u001b[0m \u001b[0maxis\u001b[0m \u001b[0;32mis\u001b[0m \u001b[0;32mNone\u001b[0m\u001b[0;34m:\u001b[0m\u001b[0;34m\u001b[0m\u001b[0;34m\u001b[0m\u001b[0m\n\u001b[0;32m--> 262\u001b[0;31m         \u001b[0mret\u001b[0m \u001b[0;34m=\u001b[0m \u001b[0m_unique1d\u001b[0m\u001b[0;34m(\u001b[0m\u001b[0mar\u001b[0m\u001b[0;34m,\u001b[0m \u001b[0mreturn_index\u001b[0m\u001b[0;34m,\u001b[0m \u001b[0mreturn_inverse\u001b[0m\u001b[0;34m,\u001b[0m \u001b[0mreturn_counts\u001b[0m\u001b[0;34m)\u001b[0m\u001b[0;34m\u001b[0m\u001b[0;34m\u001b[0m\u001b[0m\n\u001b[0m\u001b[1;32m    263\u001b[0m         \u001b[0;32mreturn\u001b[0m \u001b[0m_unpack_tuple\u001b[0m\u001b[0;34m(\u001b[0m\u001b[0mret\u001b[0m\u001b[0;34m)\u001b[0m\u001b[0;34m\u001b[0m\u001b[0;34m\u001b[0m\u001b[0m\n\u001b[1;32m    264\u001b[0m \u001b[0;34m\u001b[0m\u001b[0m\n",
      "\u001b[0;32m/usr/lib/python3.9/site-packages/numpy/lib/arraysetops.py\u001b[0m in \u001b[0;36m_unique1d\u001b[0;34m(ar, return_index, return_inverse, return_counts)\u001b[0m\n\u001b[1;32m    321\u001b[0m         \u001b[0maux\u001b[0m \u001b[0;34m=\u001b[0m \u001b[0mar\u001b[0m\u001b[0;34m[\u001b[0m\u001b[0mperm\u001b[0m\u001b[0;34m]\u001b[0m\u001b[0;34m\u001b[0m\u001b[0;34m\u001b[0m\u001b[0m\n\u001b[1;32m    322\u001b[0m     \u001b[0;32melse\u001b[0m\u001b[0;34m:\u001b[0m\u001b[0;34m\u001b[0m\u001b[0;34m\u001b[0m\u001b[0m\n\u001b[0;32m--> 323\u001b[0;31m         \u001b[0mar\u001b[0m\u001b[0;34m.\u001b[0m\u001b[0msort\u001b[0m\u001b[0;34m(\u001b[0m\u001b[0;34m)\u001b[0m\u001b[0;34m\u001b[0m\u001b[0;34m\u001b[0m\u001b[0m\n\u001b[0m\u001b[1;32m    324\u001b[0m         \u001b[0maux\u001b[0m \u001b[0;34m=\u001b[0m \u001b[0mar\u001b[0m\u001b[0;34m\u001b[0m\u001b[0;34m\u001b[0m\u001b[0m\n\u001b[1;32m    325\u001b[0m     \u001b[0mmask\u001b[0m \u001b[0;34m=\u001b[0m \u001b[0mnp\u001b[0m\u001b[0;34m.\u001b[0m\u001b[0mempty\u001b[0m\u001b[0;34m(\u001b[0m\u001b[0maux\u001b[0m\u001b[0;34m.\u001b[0m\u001b[0mshape\u001b[0m\u001b[0;34m,\u001b[0m \u001b[0mdtype\u001b[0m\u001b[0;34m=\u001b[0m\u001b[0mnp\u001b[0m\u001b[0;34m.\u001b[0m\u001b[0mbool_\u001b[0m\u001b[0;34m)\u001b[0m\u001b[0;34m\u001b[0m\u001b[0;34m\u001b[0m\u001b[0m\n",
      "\u001b[0;31mValueError\u001b[0m: operands could not be broadcast together with shapes (99,) (0,) "
     ]
    }
   ],
   "source": [
    "lst = list(generator(1000, 50))\n",
    "print(chi_squared_continuous(lst))"
   ]
  },
  {
   "source": [],
   "cell_type": "code",
   "metadata": {},
   "execution_count": null,
   "outputs": []
  },
  {
   "source": [
    "## Petit histogramme"
   ],
   "cell_type": "markdown",
   "metadata": {}
  },
  {
   "cell_type": "code",
   "execution_count": 131,
   "metadata": {},
   "outputs": [
    {
     "output_type": "stream",
     "name": "stderr",
     "text": [
      "<ipython-input-121-aee1738b1e70>:4: VisibleDeprecationWarning: Creating an ndarray from ragged nested sequences (which is a list-or-tuple of lists-or-tuples-or ndarrays with different lengths or shapes) is deprecated. If you meant to do this, you must specify 'dtype=object' when creating the ndarray.\n  return np.array(res)\n"
     ]
    },
    {
     "output_type": "execute_result",
     "data": {
      "text/plain": [
       "array([array([], dtype=float64),\n",
       "       array([0.00023243, 0.00035242, 0.00071318, 0.0007721 , 0.00077708,\n",
       "              0.00110033, 0.00112121, 0.00155397, 0.00213532, 0.00217812,\n",
       "              0.00298903, 0.00314134, 0.00333032, 0.00381337, 0.00620604,\n",
       "              0.00646635, 0.0065603 , 0.00731161, 0.009063  , 0.0092674 ,\n",
       "              0.00949426, 0.01025582, 0.01164413, 0.01278719, 0.01334303,\n",
       "              0.01391933, 0.01901423, 0.02031304, 0.02077017, 0.02119219,\n",
       "              0.02340358, 0.02353939, 0.0236334 , 0.0242433 , 0.02442224,\n",
       "              0.02808884, 0.02856181, 0.02862413, 0.02966425, 0.0300003 ,\n",
       "              0.03033087, 0.03334431, 0.03355503, 0.03575737, 0.03707091,\n",
       "              0.03869039, 0.0388989 , 0.0402568 , 0.04154952, 0.04224552,\n",
       "              0.04319113, 0.0432033 , 0.0440695 , 0.04414997, 0.04664221,\n",
       "              0.05000051, 0.05015465, 0.05160152, 0.05181022, 0.05255151,\n",
       "              0.05455956, 0.05542755, 0.05560626, 0.05906696, 0.06010061,\n",
       "              0.0604004 , 0.06068809, 0.06467082, 0.06536083, 0.06600901,\n",
       "              0.06611868, 0.06758888, 0.06886289, 0.07076109, 0.07101087,\n",
       "              0.07111748, 0.07474559, 0.07607047, 0.076207  , 0.0784224 ,\n",
       "              0.07900719, 0.0815231 , 0.08282089, 0.084625  , 0.08816991,\n",
       "              0.08988002, 0.09115797, 0.09245798, 0.09460884, 0.09488948,\n",
       "              0.09514941, 0.09553341, 0.09580569, 0.09669025, 0.09691943,\n",
       "              0.09701707, 0.0989054 , 0.09971081, 0.09990956])           ,\n",
       "       array([0.10064042, 0.10101066, 0.10111172, 0.10117153, 0.10175816,\n",
       "              0.10188111, 0.10797101, 0.10827441, 0.10910988, 0.11011616,\n",
       "              0.11038114, 0.11093133, 0.11129302, 0.11192113, 0.11219992,\n",
       "              0.11310992, 0.11311614, 0.11392019, 0.11414411, 0.11414662,\n",
       "              0.11449499, 0.11566403, 0.11616596, 0.11632311, 0.11711472,\n",
       "              0.11727127, 0.11730091, 0.11768672, 0.11938814, 0.1205838 ,\n",
       "              0.12186224, 0.12231318, 0.12261213, 0.12296773, 0.12506332,\n",
       "              0.12550257, 0.12575854, 0.12748333, 0.12821818, 0.12864421,\n",
       "              0.12877159, 0.12975255, 0.13175858, 0.13314595, 0.13323531,\n",
       "              0.13641435, 0.13717719, 0.13916995, 0.14110333, 0.14145411,\n",
       "              0.14395556, 0.14510858, 0.14577079, 0.14702319, 0.14838376,\n",
       "              0.15021955, 0.15126772, 0.15155556, 0.15159452, 0.1520121 ,\n",
       "              0.1552576 , 0.15551795, 0.15695006, 0.15856182, 0.15933719,\n",
       "              0.16163376, 0.16316932, 0.16318613, 0.16465469, 0.16507472,\n",
       "              0.16766995, 0.16987834, 0.1702211 , 0.17038007, 0.1710991 ,\n",
       "              0.17117771, 0.17122016, 0.1717198 , 0.17187118, 0.17197991,\n",
       "              0.17222175, 0.17365515, 0.17405357, 0.174931  , 0.17514712,\n",
       "              0.1751963 , 0.17523636, 0.17733912, 0.1778322 , 0.17833387,\n",
       "              0.17874488, 0.18073814, 0.18100801, 0.18110512, 0.18141814,\n",
       "              0.18525809, 0.18588869, 0.18941004, 0.19066898, 0.191292  ,\n",
       "              0.19511472, 0.19621113, 0.19699991, 0.19879609])           ,\n",
       "       array([0.20202679, 0.20313829, 0.20507776, 0.20560291, 0.20700204,\n",
       "              0.20844821, 0.21165805, 0.21200136, 0.21225911, 0.2140304 ,\n",
       "              0.21446393, 0.21511226, 0.21532333, 0.21550942, 0.21695883,\n",
       "              0.21895232, 0.21911592, 0.22182019, 0.22226064, 0.22228889,\n",
       "              0.22262518, 0.22282302, 0.22325224, 0.22389824, 0.22422793,\n",
       "              0.22659256, 0.22698522, 0.22738283, 0.22840826, 0.23210663,\n",
       "              0.23212923, 0.23229253, 0.23259248, 0.23274629, 0.23312612,\n",
       "              0.23333224, 0.23348403, 0.23380332, 0.23522999, 0.23842229,\n",
       "              0.23853859, 0.24008508, 0.24093783, 0.24242447, 0.24342065,\n",
       "              0.24463125, 0.24595493, 0.24852849, 0.25023089, 0.25029008,\n",
       "              0.25055678, 0.25209772, 0.25251104, 0.25298352, 0.25493099,\n",
       "              0.25502229, 0.25655722, 0.25656167, 0.26056278, 0.26126225,\n",
       "              0.26295607, 0.26466927, 0.26601763, 0.26627652, 0.26631436,\n",
       "              0.26752667, 0.26880222, 0.26882362, 0.26924931, 0.27127618,\n",
       "              0.27484488, 0.2760672 , 0.27727778, 0.27757488, 0.27877283,\n",
       "              0.27878729, 0.27927525, 0.27942272, 0.27955676, 0.28002069,\n",
       "              0.28051588, 0.28108019, 0.28280742, 0.28292922, 0.28332803,\n",
       "              0.28447685, 0.28481034, 0.28527773, 0.28598697, 0.2868066 ,\n",
       "              0.28868669, 0.28932237, 0.29232223, 0.29349662, 0.29474448,\n",
       "              0.2958014 , 0.29709222, 0.29932032, 0.29996983])           ,\n",
       "       array([0.3003833 , 0.300443  , 0.30300565, 0.30393993, 0.30401311,\n",
       "              0.30666091, 0.30888348, 0.31098071, 0.31322233, 0.31344518,\n",
       "              0.31435338, 0.31776663, 0.31839392, 0.31886662, 0.31928913,\n",
       "              0.32063335, 0.3222423 , 0.32436938, 0.32515445, 0.32523606,\n",
       "              0.32655386, 0.33003159, 0.3305466 , 0.33063403, 0.33118814,\n",
       "              0.3320003 , 0.33322133, 0.33324015, 0.3332633 , 0.33333232,\n",
       "              0.33337311, 0.33356356, 0.33383284, 0.33383911, 0.33431381,\n",
       "              0.3353328 , 0.33730098, 0.3380533 , 0.33836774, 0.33869391,\n",
       "              0.33923073, 0.33929834, 0.33939751, 0.33993374, 0.34092324,\n",
       "              0.3419024 , 0.34384362, 0.3446694 , 0.34506344, 0.34689536,\n",
       "              0.34739348, 0.34880848, 0.34943794, 0.35183579, 0.35340509,\n",
       "              0.35341264, 0.3551965 , 0.35535531, 0.35555152, 0.36266267,\n",
       "              0.36307903, 0.36323223, 0.36353162, 0.36487763, 0.36660563,\n",
       "              0.36686955, 0.36732715, 0.36828668, 0.36913366, 0.37323172,\n",
       "              0.37472324, 0.37577052, 0.37751748, 0.37768778, 0.37775354,\n",
       "              0.37775801, 0.37847355, 0.38227378, 0.38248622, 0.38382669,\n",
       "              0.3839665 , 0.38413182, 0.38704061, 0.38855871, 0.38878538,\n",
       "              0.38883308, 0.38995534, 0.39171371, 0.39235332, 0.39392999,\n",
       "              0.39546647, 0.39619142, 0.39663612, 0.39861931, 0.39913312,\n",
       "              0.39939094, 0.39939999, 0.39993597])                       ,\n",
       "       array([0.4000919 , 0.40024645, 0.40060849, 0.40130828, 0.4031142 ,\n",
       "              0.40484405, 0.4050443 , 0.4067777 , 0.40878951, 0.40900004,\n",
       "              0.41029144, 0.41114198, 0.41115555, 0.41230476, 0.41248433,\n",
       "              0.41335435, 0.41448473, 0.41454455, 0.41466702, 0.41817541,\n",
       "              0.41914813, 0.41995191, 0.42244091, 0.42274121, 0.42280578,\n",
       "              0.42422432, 0.4244214 , 0.42656991, 0.42849229, 0.42857723,\n",
       "              0.42896839, 0.43064004, 0.43069666, 0.43116664, 0.43382411,\n",
       "              0.43511572, 0.44032004, 0.44033043, 0.44046388, 0.44234449,\n",
       "              0.44269668, 0.44300091, 0.4434947 , 0.44420204, 0.44444949,\n",
       "              0.44455435, 0.44486041, 0.44604546, 0.44608775, 0.44653363,\n",
       "              0.4469576 , 0.44848448, 0.4488696 , 0.44924895, 0.4499598 ,\n",
       "              0.45002501, 0.45004603, 0.45247875, 0.45262515, 0.45415201,\n",
       "              0.45424473, 0.45994533, 0.4604669 , 0.46436389, 0.46464385,\n",
       "              0.4646836 , 0.46527313, 0.46544584, 0.46564191, 0.46650156,\n",
       "              0.46676545, 0.46677758, 0.47447713, 0.47470475, 0.47558875,\n",
       "              0.47748878, 0.47777427, 0.47823473, 0.47825557, 0.47977398,\n",
       "              0.4806607 , 0.48173737, 0.48198987, 0.4822422 , 0.48331333,\n",
       "              0.48333964, 0.48388585, 0.484088  , 0.48456506, 0.48647716,\n",
       "              0.48722882, 0.48824408, 0.48848187, 0.48942592, 0.49007048,\n",
       "              0.49049096, 0.4913603 , 0.49197   , 0.49215549, 0.49725923,\n",
       "              0.49761475, 0.49949789, 0.49988775])                       ,\n",
       "       array([0.50454004, 0.50600945, 0.50778209, 0.50797757, 0.50956805,\n",
       "              0.50990544, 0.51111576, 0.51115131, 0.5114347 , 0.51144597,\n",
       "              0.51222241, 0.51412418, 0.51553138, 0.5161592 , 0.51999766,\n",
       "              0.52181855, 0.52201312, 0.52312532, 0.52555546, 0.52645191,\n",
       "              0.52757599, 0.52762862, 0.52777005, 0.52822825, 0.52955599,\n",
       "              0.53264411, 0.53265626, 0.53485126, 0.53628568, 0.53668256,\n",
       "              0.53753434, 0.54441285, 0.54465444, 0.54506159, 0.54556746,\n",
       "              0.5493305 , 0.55154662, 0.55220028, 0.55250681, 0.55262556,\n",
       "              0.55301619, 0.55353525, 0.55403885, 0.55411516, 0.55425152,\n",
       "              0.55425309, 0.55443841, 0.55490555, 0.55510551, 0.55555516,\n",
       "              0.55580954, 0.55658507, 0.55661257, 0.55661464, 0.55719753,\n",
       "              0.55805351, 0.55886557, 0.5590586 , 0.5613639 , 0.56215296,\n",
       "              0.56376656, 0.56503885, 0.56572687, 0.5665994 , 0.56709555,\n",
       "              0.56903694, 0.56955231, 0.57066705, 0.57207555, 0.57215112,\n",
       "              0.57459122, 0.57578185, 0.57634448, 0.57655765, 0.57816757,\n",
       "              0.57986537, 0.57996593, 0.58118858, 0.58155531, 0.58383003,\n",
       "              0.58424525, 0.58435333, 0.58457747, 0.58489985, 0.58583585,\n",
       "              0.58691551, 0.58884745, 0.59090551, 0.5911546 , 0.59179416,\n",
       "              0.59355529, 0.59384586, 0.59439899, 0.59739979, 0.59852909,\n",
       "              0.59901992, 0.59955512])                                   ,\n",
       "       array([0.6025997 , 0.60488864, 0.60535738, 0.60670272, 0.60716214,\n",
       "              0.60977757, 0.61030119, 0.61121072, 0.61122188, 0.61265106,\n",
       "              0.61393768, 0.61533006, 0.61684984, 0.61868167, 0.62222725,\n",
       "              0.62322812, 0.62377781, 0.62389213, 0.62445223, 0.62550467,\n",
       "              0.62613255, 0.62644949, 0.62706588, 0.62864228, 0.62976724,\n",
       "              0.63266363, 0.63310735, 0.63343735, 0.63444485, 0.63555281,\n",
       "              0.63555351, 0.6360247 , 0.63606667, 0.63641445, 0.6384    ,\n",
       "              0.63881041, 0.64027906, 0.64115162, 0.64258563, 0.64449431,\n",
       "              0.64525443, 0.6465595 , 0.64743347, 0.64776482, 0.64865485,\n",
       "              0.6499897 , 0.65136113, 0.65146464, 0.65557538, 0.65569966,\n",
       "              0.65571714, 0.65641027, 0.65657755, 0.66150654, 0.66177477,\n",
       "              0.66186608, 0.66228249, 0.66368674, 0.66466204, 0.66529433,\n",
       "              0.66571566, 0.66646648, 0.66662294, 0.66664576, 0.66667653,\n",
       "              0.6676406 , 0.66922993, 0.66966686, 0.66998286, 0.67146732,\n",
       "              0.67318334, 0.67447402, 0.67472376, 0.67767606, 0.67776179,\n",
       "              0.67849565, 0.68222576, 0.68363352, 0.68437764, 0.68485313,\n",
       "              0.68500652, 0.68563855, 0.68627881, 0.68674989, 0.68708745,\n",
       "              0.68743449, 0.68758978, 0.68846887, 0.68893239, 0.69094807,\n",
       "              0.69197618, 0.69299325, 0.69299927, 0.69444265, 0.69454467,\n",
       "              0.69464406, 0.69509694, 0.6966644 , 0.69723568, 0.6979908 ,\n",
       "              0.69889869, 0.69911031])                                   ,\n",
       "       array([0.70330565, 0.70404408, 0.70407031, 0.70630651, 0.70766536,\n",
       "              0.70777058, 0.70777474, 0.70979151, 0.71173202, 0.71212266,\n",
       "              0.71517567, 0.71571337, 0.71772705, 0.71964749, 0.72066836,\n",
       "              0.72094411, 0.72222232, 0.72267323, 0.72408504, 0.72435274,\n",
       "              0.72702979, 0.72724414, 0.72747079, 0.7277925 , 0.7283145 ,\n",
       "              0.72897423, 0.72914394, 0.73076026, 0.73283622, 0.73557579,\n",
       "              0.73667977, 0.73730338, 0.74482871, 0.74577785, 0.74744726,\n",
       "              0.74885504, 0.74908489, 0.74927141, 0.75202257, 0.75373225,\n",
       "              0.75404177, 0.75448706, 0.75513334, 0.75529273, 0.75555758,\n",
       "              0.75729987, 0.75774757, 0.7579071 , 0.75874558, 0.76242445,\n",
       "              0.76282883, 0.76317767, 0.76596307, 0.76635654, 0.76659675,\n",
       "              0.76666957, 0.76698665, 0.76702337, 0.76777699, 0.76778557,\n",
       "              0.76969918, 0.76989899, 0.76990957, 0.77005167, 0.77009977,\n",
       "              0.77026211, 0.77061075, 0.77071976, 0.77170777, 0.77259723,\n",
       "              0.7730006 , 0.77375575, 0.77444494, 0.7764401 , 0.77745447,\n",
       "              0.77773223, 0.77779372, 0.77788772, 0.77849895, 0.77917187,\n",
       "              0.77950556, 0.7803729 , 0.7807781 , 0.78099985, 0.78267216,\n",
       "              0.78338283, 0.78445288, 0.78588067, 0.78770446, 0.78828183,\n",
       "              0.78881196, 0.78900789, 0.78920758, 0.78987983, 0.79222404,\n",
       "              0.79335778, 0.79557   , 0.79557568, 0.7957045 , 0.79690707,\n",
       "              0.799293  , 0.7999778 ])                                   ,\n",
       "       array([0.8016687 , 0.80175511, 0.80737609, 0.80748175, 0.80769481,\n",
       "              0.80828284, 0.80991978, 0.81065049, 0.81143832, 0.81175609,\n",
       "              0.81218245, 0.81271097, 0.81323555, 0.81383441, 0.81585354,\n",
       "              0.81661807, 0.81780086, 0.81845675, 0.81848688, 0.8190701 ,\n",
       "              0.82239194, 0.8228969 , 0.82837228, 0.82852885, 0.8303147 ,\n",
       "              0.83043583, 0.83145544, 0.83154813, 0.83333332, 0.83333855,\n",
       "              0.83334355, 0.83618616, 0.83773397, 0.83805886, 0.83896388,\n",
       "              0.84172822, 0.842246  , 0.84248847, 0.84333384, 0.84533256,\n",
       "              0.84551182, 0.84787477, 0.85000211, 0.85155873, 0.8522223 ,\n",
       "              0.85305688, 0.85474778, 0.85527838, 0.85593339, 0.85728708,\n",
       "              0.85857575, 0.85888887, 0.86030976, 0.8606869 , 0.86075858,\n",
       "              0.86086048, 0.86584849, 0.86799688, 0.87083749, 0.87205756,\n",
       "              0.87333833, 0.87353335, 0.87378818, 0.87554996, 0.87638789,\n",
       "              0.87704745, 0.87827478, 0.88099534, 0.88282283, 0.88289882,\n",
       "              0.88299819, 0.88322235, 0.88333232, 0.88338532, 0.88339304,\n",
       "              0.8839808 , 0.88433384, 0.88489834, 0.88538989, 0.8859386 ,\n",
       "              0.88665862, 0.88757516, 0.88778776, 0.88848888, 0.88851679,\n",
       "              0.88856828, 0.88872843, 0.88885386, 0.88980941, 0.89088809,\n",
       "              0.89098943, 0.89119985, 0.89135959, 0.89418345, 0.89422844])],\n",
       "      dtype=object)"
      ]
     },
     "metadata": {},
     "execution_count": 131
    }
   ],
   "source": [
    "split_in_groups(lst)"
   ]
  },
  {
   "cell_type": "code",
   "execution_count": 134,
   "metadata": {},
   "outputs": [
    {
     "output_type": "stream",
     "name": "stderr",
     "text": [
      "<ipython-input-121-aee1738b1e70>:4: VisibleDeprecationWarning: Creating an ndarray from ragged nested sequences (which is a list-or-tuple of lists-or-tuples-or ndarrays with different lengths or shapes) is deprecated. If you meant to do this, you must specify 'dtype=object' when creating the ndarray.\n  return np.array(res)\n"
     ]
    },
    {
     "output_type": "display_data",
     "data": {
      "text/plain": "<Figure size 432x288 with 1 Axes>",
      "image/svg+xml": "<?xml version=\"1.0\" encoding=\"utf-8\" standalone=\"no\"?>\n<!DOCTYPE svg PUBLIC \"-//W3C//DTD SVG 1.1//EN\"\n  \"http://www.w3.org/Graphics/SVG/1.1/DTD/svg11.dtd\">\n<svg height=\"248.518125pt\" version=\"1.1\" viewBox=\"0 0 375.2875 248.518125\" width=\"375.2875pt\" xmlns=\"http://www.w3.org/2000/svg\" xmlns:xlink=\"http://www.w3.org/1999/xlink\">\n <metadata>\n  <rdf:RDF xmlns:cc=\"http://creativecommons.org/ns#\" xmlns:dc=\"http://purl.org/dc/elements/1.1/\" xmlns:rdf=\"http://www.w3.org/1999/02/22-rdf-syntax-ns#\">\n   <cc:Work>\n    <dc:type rdf:resource=\"http://purl.org/dc/dcmitype/StillImage\"/>\n    <dc:date>2021-04-25T17:01:20.902423</dc:date>\n    <dc:format>image/svg+xml</dc:format>\n    <dc:creator>\n     <cc:Agent>\n      <dc:title>Matplotlib v3.4.1, https://matplotlib.org/</dc:title>\n     </cc:Agent>\n    </dc:creator>\n   </cc:Work>\n  </rdf:RDF>\n </metadata>\n <defs>\n  <style type=\"text/css\">*{stroke-linecap:butt;stroke-linejoin:round;}</style>\n </defs>\n <g id=\"figure_1\">\n  <g id=\"patch_1\">\n   <path d=\"M 0 248.518125 \nL 375.2875 248.518125 \nL 375.2875 0 \nL 0 0 \nz\n\" style=\"fill:none;\"/>\n  </g>\n  <g id=\"axes_1\">\n   <g id=\"patch_2\">\n    <path d=\"M 33.2875 224.64 \nL 368.0875 224.64 \nL 368.0875 7.2 \nL 33.2875 7.2 \nz\n\" style=\"fill:#ffffff;\"/>\n   </g>\n   <g id=\"patch_3\">\n    <path clip-path=\"url(#p1c3e434b3d)\" d=\"M 48.505682 224.64 \nL 191.735628 224.64 \nL 191.735628 224.64 \nL 48.505682 224.64 \nz\n\" style=\"fill:#98fb98;\"/>\n   </g>\n   <g id=\"patch_4\">\n    <path clip-path=\"url(#p1c3e434b3d)\" d=\"M 66.409425 224.64 \nL 209.639372 224.64 \nL 209.639372 27.51033 \nL 66.409425 27.51033 \nz\n\" style=\"fill:#98fb98;\"/>\n   </g>\n   <g id=\"patch_5\">\n    <path clip-path=\"url(#p1c3e434b3d)\" d=\"M 84.313168 224.64 \nL 227.543115 224.64 \nL 227.543115 17.554286 \nL 84.313168 17.554286 \nz\n\" style=\"fill:#98fb98;\"/>\n   </g>\n   <g id=\"patch_6\">\n    <path clip-path=\"url(#p1c3e434b3d)\" d=\"M 102.216912 224.64 \nL 245.446858 224.64 \nL 245.446858 27.51033 \nL 102.216912 27.51033 \nz\n\" style=\"fill:#98fb98;\"/>\n   </g>\n   <g id=\"patch_7\">\n    <path clip-path=\"url(#p1c3e434b3d)\" d=\"M 120.120655 224.64 \nL 263.350602 224.64 \nL 263.350602 29.501538 \nL 120.120655 29.501538 \nz\n\" style=\"fill:#98fb98;\"/>\n   </g>\n   <g id=\"patch_8\">\n    <path clip-path=\"url(#p1c3e434b3d)\" d=\"M 138.024398 224.64 \nL 281.254345 224.64 \nL 281.254345 19.545495 \nL 138.024398 19.545495 \nz\n\" style=\"fill:#98fb98;\"/>\n   </g>\n   <g id=\"patch_9\">\n    <path clip-path=\"url(#p1c3e434b3d)\" d=\"M 155.928142 224.64 \nL 299.158088 224.64 \nL 299.158088 31.492747 \nL 155.928142 31.492747 \nz\n\" style=\"fill:#98fb98;\"/>\n   </g>\n   <g id=\"patch_10\">\n    <path clip-path=\"url(#p1c3e434b3d)\" d=\"M 173.831885 224.64 \nL 317.061832 224.64 \nL 317.061832 21.536703 \nL 173.831885 21.536703 \nz\n\" style=\"fill:#98fb98;\"/>\n   </g>\n   <g id=\"patch_11\">\n    <path clip-path=\"url(#p1c3e434b3d)\" d=\"M 191.735628 224.64 \nL 334.965575 224.64 \nL 334.965575 21.536703 \nL 191.735628 21.536703 \nz\n\" style=\"fill:#98fb98;\"/>\n   </g>\n   <g id=\"patch_12\">\n    <path clip-path=\"url(#p1c3e434b3d)\" d=\"M 209.639372 224.64 \nL 352.869318 224.64 \nL 352.869318 35.475165 \nL 209.639372 35.475165 \nz\n\" style=\"fill:#98fb98;\"/>\n   </g>\n   <g id=\"matplotlib.axis_1\">\n    <g id=\"xtick_1\">\n     <g id=\"line2d_1\">\n      <defs>\n       <path d=\"M 0 0 \nL 0 3.5 \n\" id=\"m3739ec308a\" style=\"stroke:#000000;stroke-width:0.8;\"/>\n      </defs>\n      <g>\n       <use style=\"stroke:#000000;stroke-width:0.8;\" x=\"75.361297\" xlink:href=\"#m3739ec308a\" y=\"224.64\"/>\n      </g>\n     </g>\n     <g id=\"text_1\">\n      <!-- −0.25 -->\n      <g transform=\"translate(60.038641 239.238437)scale(0.1 -0.1)\">\n       <defs>\n        <path d=\"M 678 2272 \nL 4684 2272 \nL 4684 1741 \nL 678 1741 \nL 678 2272 \nz\n\" id=\"DejaVuSans-2212\" transform=\"scale(0.015625)\"/>\n        <path d=\"M 2034 4250 \nQ 1547 4250 1301 3770 \nQ 1056 3291 1056 2328 \nQ 1056 1369 1301 889 \nQ 1547 409 2034 409 \nQ 2525 409 2770 889 \nQ 3016 1369 3016 2328 \nQ 3016 3291 2770 3770 \nQ 2525 4250 2034 4250 \nz\nM 2034 4750 \nQ 2819 4750 3233 4129 \nQ 3647 3509 3647 2328 \nQ 3647 1150 3233 529 \nQ 2819 -91 2034 -91 \nQ 1250 -91 836 529 \nQ 422 1150 422 2328 \nQ 422 3509 836 4129 \nQ 1250 4750 2034 4750 \nz\n\" id=\"DejaVuSans-30\" transform=\"scale(0.015625)\"/>\n        <path d=\"M 684 794 \nL 1344 794 \nL 1344 0 \nL 684 0 \nL 684 794 \nz\n\" id=\"DejaVuSans-2e\" transform=\"scale(0.015625)\"/>\n        <path d=\"M 1228 531 \nL 3431 531 \nL 3431 0 \nL 469 0 \nL 469 531 \nQ 828 903 1448 1529 \nQ 2069 2156 2228 2338 \nQ 2531 2678 2651 2914 \nQ 2772 3150 2772 3378 \nQ 2772 3750 2511 3984 \nQ 2250 4219 1831 4219 \nQ 1534 4219 1204 4116 \nQ 875 4013 500 3803 \nL 500 4441 \nQ 881 4594 1212 4672 \nQ 1544 4750 1819 4750 \nQ 2544 4750 2975 4387 \nQ 3406 4025 3406 3419 \nQ 3406 3131 3298 2873 \nQ 3191 2616 2906 2266 \nQ 2828 2175 2409 1742 \nQ 1991 1309 1228 531 \nz\n\" id=\"DejaVuSans-32\" transform=\"scale(0.015625)\"/>\n        <path d=\"M 691 4666 \nL 3169 4666 \nL 3169 4134 \nL 1269 4134 \nL 1269 2991 \nQ 1406 3038 1543 3061 \nQ 1681 3084 1819 3084 \nQ 2600 3084 3056 2656 \nQ 3513 2228 3513 1497 \nQ 3513 744 3044 326 \nQ 2575 -91 1722 -91 \nQ 1428 -91 1123 -41 \nQ 819 9 494 109 \nL 494 744 \nQ 775 591 1075 516 \nQ 1375 441 1709 441 \nQ 2250 441 2565 725 \nQ 2881 1009 2881 1497 \nQ 2881 1984 2565 2268 \nQ 2250 2553 1709 2553 \nQ 1456 2553 1204 2497 \nQ 953 2441 691 2322 \nL 691 4666 \nz\n\" id=\"DejaVuSans-35\" transform=\"scale(0.015625)\"/>\n       </defs>\n       <use xlink:href=\"#DejaVuSans-2212\"/>\n       <use x=\"83.789062\" xlink:href=\"#DejaVuSans-30\"/>\n       <use x=\"147.412109\" xlink:href=\"#DejaVuSans-2e\"/>\n       <use x=\"179.199219\" xlink:href=\"#DejaVuSans-32\"/>\n       <use x=\"242.822266\" xlink:href=\"#DejaVuSans-35\"/>\n      </g>\n     </g>\n    </g>\n    <g id=\"xtick_2\">\n     <g id=\"line2d_2\">\n      <g>\n       <use style=\"stroke:#000000;stroke-width:0.8;\" x=\"120.120655\" xlink:href=\"#m3739ec308a\" y=\"224.64\"/>\n      </g>\n     </g>\n     <g id=\"text_2\">\n      <!-- 0.00 -->\n      <g transform=\"translate(108.987843 239.238437)scale(0.1 -0.1)\">\n       <use xlink:href=\"#DejaVuSans-30\"/>\n       <use x=\"63.623047\" xlink:href=\"#DejaVuSans-2e\"/>\n       <use x=\"95.410156\" xlink:href=\"#DejaVuSans-30\"/>\n       <use x=\"159.033203\" xlink:href=\"#DejaVuSans-30\"/>\n      </g>\n     </g>\n    </g>\n    <g id=\"xtick_3\">\n     <g id=\"line2d_3\">\n      <g>\n       <use style=\"stroke:#000000;stroke-width:0.8;\" x=\"164.880013\" xlink:href=\"#m3739ec308a\" y=\"224.64\"/>\n      </g>\n     </g>\n     <g id=\"text_3\">\n      <!-- 0.25 -->\n      <g transform=\"translate(153.747201 239.238437)scale(0.1 -0.1)\">\n       <use xlink:href=\"#DejaVuSans-30\"/>\n       <use x=\"63.623047\" xlink:href=\"#DejaVuSans-2e\"/>\n       <use x=\"95.410156\" xlink:href=\"#DejaVuSans-32\"/>\n       <use x=\"159.033203\" xlink:href=\"#DejaVuSans-35\"/>\n      </g>\n     </g>\n    </g>\n    <g id=\"xtick_4\">\n     <g id=\"line2d_4\">\n      <g>\n       <use style=\"stroke:#000000;stroke-width:0.8;\" x=\"209.639372\" xlink:href=\"#m3739ec308a\" y=\"224.64\"/>\n      </g>\n     </g>\n     <g id=\"text_4\">\n      <!-- 0.50 -->\n      <g transform=\"translate(198.506559 239.238437)scale(0.1 -0.1)\">\n       <use xlink:href=\"#DejaVuSans-30\"/>\n       <use x=\"63.623047\" xlink:href=\"#DejaVuSans-2e\"/>\n       <use x=\"95.410156\" xlink:href=\"#DejaVuSans-35\"/>\n       <use x=\"159.033203\" xlink:href=\"#DejaVuSans-30\"/>\n      </g>\n     </g>\n    </g>\n    <g id=\"xtick_5\">\n     <g id=\"line2d_5\">\n      <g>\n       <use style=\"stroke:#000000;stroke-width:0.8;\" x=\"254.39873\" xlink:href=\"#m3739ec308a\" y=\"224.64\"/>\n      </g>\n     </g>\n     <g id=\"text_5\">\n      <!-- 0.75 -->\n      <g transform=\"translate(243.265917 239.238437)scale(0.1 -0.1)\">\n       <defs>\n        <path d=\"M 525 4666 \nL 3525 4666 \nL 3525 4397 \nL 1831 0 \nL 1172 0 \nL 2766 4134 \nL 525 4134 \nL 525 4666 \nz\n\" id=\"DejaVuSans-37\" transform=\"scale(0.015625)\"/>\n       </defs>\n       <use xlink:href=\"#DejaVuSans-30\"/>\n       <use x=\"63.623047\" xlink:href=\"#DejaVuSans-2e\"/>\n       <use x=\"95.410156\" xlink:href=\"#DejaVuSans-37\"/>\n       <use x=\"159.033203\" xlink:href=\"#DejaVuSans-35\"/>\n      </g>\n     </g>\n    </g>\n    <g id=\"xtick_6\">\n     <g id=\"line2d_6\">\n      <g>\n       <use style=\"stroke:#000000;stroke-width:0.8;\" x=\"299.158088\" xlink:href=\"#m3739ec308a\" y=\"224.64\"/>\n      </g>\n     </g>\n     <g id=\"text_6\">\n      <!-- 1.00 -->\n      <g transform=\"translate(288.025276 239.238437)scale(0.1 -0.1)\">\n       <defs>\n        <path d=\"M 794 531 \nL 1825 531 \nL 1825 4091 \nL 703 3866 \nL 703 4441 \nL 1819 4666 \nL 2450 4666 \nL 2450 531 \nL 3481 531 \nL 3481 0 \nL 794 0 \nL 794 531 \nz\n\" id=\"DejaVuSans-31\" transform=\"scale(0.015625)\"/>\n       </defs>\n       <use xlink:href=\"#DejaVuSans-31\"/>\n       <use x=\"63.623047\" xlink:href=\"#DejaVuSans-2e\"/>\n       <use x=\"95.410156\" xlink:href=\"#DejaVuSans-30\"/>\n       <use x=\"159.033203\" xlink:href=\"#DejaVuSans-30\"/>\n      </g>\n     </g>\n    </g>\n    <g id=\"xtick_7\">\n     <g id=\"line2d_7\">\n      <g>\n       <use style=\"stroke:#000000;stroke-width:0.8;\" x=\"343.917447\" xlink:href=\"#m3739ec308a\" y=\"224.64\"/>\n      </g>\n     </g>\n     <g id=\"text_7\">\n      <!-- 1.25 -->\n      <g transform=\"translate(332.784634 239.238437)scale(0.1 -0.1)\">\n       <use xlink:href=\"#DejaVuSans-31\"/>\n       <use x=\"63.623047\" xlink:href=\"#DejaVuSans-2e\"/>\n       <use x=\"95.410156\" xlink:href=\"#DejaVuSans-32\"/>\n       <use x=\"159.033203\" xlink:href=\"#DejaVuSans-35\"/>\n      </g>\n     </g>\n    </g>\n   </g>\n   <g id=\"matplotlib.axis_2\">\n    <g id=\"ytick_1\">\n     <g id=\"line2d_8\">\n      <defs>\n       <path d=\"M 0 0 \nL -3.5 0 \n\" id=\"ma0e083d61e\" style=\"stroke:#000000;stroke-width:0.8;\"/>\n      </defs>\n      <g>\n       <use style=\"stroke:#000000;stroke-width:0.8;\" x=\"33.2875\" xlink:href=\"#ma0e083d61e\" y=\"224.64\"/>\n      </g>\n     </g>\n     <g id=\"text_8\">\n      <!-- 0 -->\n      <g transform=\"translate(19.925 228.439219)scale(0.1 -0.1)\">\n       <use xlink:href=\"#DejaVuSans-30\"/>\n      </g>\n     </g>\n    </g>\n    <g id=\"ytick_2\">\n     <g id=\"line2d_9\">\n      <g>\n       <use style=\"stroke:#000000;stroke-width:0.8;\" x=\"33.2875\" xlink:href=\"#ma0e083d61e\" y=\"184.815824\"/>\n      </g>\n     </g>\n     <g id=\"text_9\">\n      <!-- 20 -->\n      <g transform=\"translate(13.5625 188.615043)scale(0.1 -0.1)\">\n       <use xlink:href=\"#DejaVuSans-32\"/>\n       <use x=\"63.623047\" xlink:href=\"#DejaVuSans-30\"/>\n      </g>\n     </g>\n    </g>\n    <g id=\"ytick_3\">\n     <g id=\"line2d_10\">\n      <g>\n       <use style=\"stroke:#000000;stroke-width:0.8;\" x=\"33.2875\" xlink:href=\"#ma0e083d61e\" y=\"144.991648\"/>\n      </g>\n     </g>\n     <g id=\"text_10\">\n      <!-- 40 -->\n      <g transform=\"translate(13.5625 148.790867)scale(0.1 -0.1)\">\n       <defs>\n        <path d=\"M 2419 4116 \nL 825 1625 \nL 2419 1625 \nL 2419 4116 \nz\nM 2253 4666 \nL 3047 4666 \nL 3047 1625 \nL 3713 1625 \nL 3713 1100 \nL 3047 1100 \nL 3047 0 \nL 2419 0 \nL 2419 1100 \nL 313 1100 \nL 313 1709 \nL 2253 4666 \nz\n\" id=\"DejaVuSans-34\" transform=\"scale(0.015625)\"/>\n       </defs>\n       <use xlink:href=\"#DejaVuSans-34\"/>\n       <use x=\"63.623047\" xlink:href=\"#DejaVuSans-30\"/>\n      </g>\n     </g>\n    </g>\n    <g id=\"ytick_4\">\n     <g id=\"line2d_11\">\n      <g>\n       <use style=\"stroke:#000000;stroke-width:0.8;\" x=\"33.2875\" xlink:href=\"#ma0e083d61e\" y=\"105.167473\"/>\n      </g>\n     </g>\n     <g id=\"text_11\">\n      <!-- 60 -->\n      <g transform=\"translate(13.5625 108.966691)scale(0.1 -0.1)\">\n       <defs>\n        <path d=\"M 2113 2584 \nQ 1688 2584 1439 2293 \nQ 1191 2003 1191 1497 \nQ 1191 994 1439 701 \nQ 1688 409 2113 409 \nQ 2538 409 2786 701 \nQ 3034 994 3034 1497 \nQ 3034 2003 2786 2293 \nQ 2538 2584 2113 2584 \nz\nM 3366 4563 \nL 3366 3988 \nQ 3128 4100 2886 4159 \nQ 2644 4219 2406 4219 \nQ 1781 4219 1451 3797 \nQ 1122 3375 1075 2522 \nQ 1259 2794 1537 2939 \nQ 1816 3084 2150 3084 \nQ 2853 3084 3261 2657 \nQ 3669 2231 3669 1497 \nQ 3669 778 3244 343 \nQ 2819 -91 2113 -91 \nQ 1303 -91 875 529 \nQ 447 1150 447 2328 \nQ 447 3434 972 4092 \nQ 1497 4750 2381 4750 \nQ 2619 4750 2861 4703 \nQ 3103 4656 3366 4563 \nz\n\" id=\"DejaVuSans-36\" transform=\"scale(0.015625)\"/>\n       </defs>\n       <use xlink:href=\"#DejaVuSans-36\"/>\n       <use x=\"63.623047\" xlink:href=\"#DejaVuSans-30\"/>\n      </g>\n     </g>\n    </g>\n    <g id=\"ytick_5\">\n     <g id=\"line2d_12\">\n      <g>\n       <use style=\"stroke:#000000;stroke-width:0.8;\" x=\"33.2875\" xlink:href=\"#ma0e083d61e\" y=\"65.343297\"/>\n      </g>\n     </g>\n     <g id=\"text_12\">\n      <!-- 80 -->\n      <g transform=\"translate(13.5625 69.142515)scale(0.1 -0.1)\">\n       <defs>\n        <path d=\"M 2034 2216 \nQ 1584 2216 1326 1975 \nQ 1069 1734 1069 1313 \nQ 1069 891 1326 650 \nQ 1584 409 2034 409 \nQ 2484 409 2743 651 \nQ 3003 894 3003 1313 \nQ 3003 1734 2745 1975 \nQ 2488 2216 2034 2216 \nz\nM 1403 2484 \nQ 997 2584 770 2862 \nQ 544 3141 544 3541 \nQ 544 4100 942 4425 \nQ 1341 4750 2034 4750 \nQ 2731 4750 3128 4425 \nQ 3525 4100 3525 3541 \nQ 3525 3141 3298 2862 \nQ 3072 2584 2669 2484 \nQ 3125 2378 3379 2068 \nQ 3634 1759 3634 1313 \nQ 3634 634 3220 271 \nQ 2806 -91 2034 -91 \nQ 1263 -91 848 271 \nQ 434 634 434 1313 \nQ 434 1759 690 2068 \nQ 947 2378 1403 2484 \nz\nM 1172 3481 \nQ 1172 3119 1398 2916 \nQ 1625 2713 2034 2713 \nQ 2441 2713 2670 2916 \nQ 2900 3119 2900 3481 \nQ 2900 3844 2670 4047 \nQ 2441 4250 2034 4250 \nQ 1625 4250 1398 4047 \nQ 1172 3844 1172 3481 \nz\n\" id=\"DejaVuSans-38\" transform=\"scale(0.015625)\"/>\n       </defs>\n       <use xlink:href=\"#DejaVuSans-38\"/>\n       <use x=\"63.623047\" xlink:href=\"#DejaVuSans-30\"/>\n      </g>\n     </g>\n    </g>\n    <g id=\"ytick_6\">\n     <g id=\"line2d_13\">\n      <g>\n       <use style=\"stroke:#000000;stroke-width:0.8;\" x=\"33.2875\" xlink:href=\"#ma0e083d61e\" y=\"25.519121\"/>\n      </g>\n     </g>\n     <g id=\"text_13\">\n      <!-- 100 -->\n      <g transform=\"translate(7.2 29.31834)scale(0.1 -0.1)\">\n       <use xlink:href=\"#DejaVuSans-31\"/>\n       <use x=\"63.623047\" xlink:href=\"#DejaVuSans-30\"/>\n       <use x=\"127.246094\" xlink:href=\"#DejaVuSans-30\"/>\n      </g>\n     </g>\n    </g>\n   </g>\n   <g id=\"patch_13\">\n    <path d=\"M 33.2875 224.64 \nL 33.2875 7.2 \n\" style=\"fill:none;stroke:#000000;stroke-linecap:square;stroke-linejoin:miter;stroke-width:0.8;\"/>\n   </g>\n   <g id=\"patch_14\">\n    <path d=\"M 368.0875 224.64 \nL 368.0875 7.2 \n\" style=\"fill:none;stroke:#000000;stroke-linecap:square;stroke-linejoin:miter;stroke-width:0.8;\"/>\n   </g>\n   <g id=\"patch_15\">\n    <path d=\"M 33.2875 224.64 \nL 368.0875 224.64 \n\" style=\"fill:none;stroke:#000000;stroke-linecap:square;stroke-linejoin:miter;stroke-width:0.8;\"/>\n   </g>\n   <g id=\"patch_16\">\n    <path d=\"M 33.2875 7.2 \nL 368.0875 7.2 \n\" style=\"fill:none;stroke:#000000;stroke-linecap:square;stroke-linejoin:miter;stroke-width:0.8;\"/>\n   </g>\n  </g>\n </g>\n <defs>\n  <clipPath id=\"p1c3e434b3d\">\n   <rect height=\"217.44\" width=\"334.8\" x=\"33.2875\" y=\"7.2\"/>\n  </clipPath>\n </defs>\n</svg>\n",
      "image/png": "[encoded data removed]"
     },
     "metadata": {
      "needs_background": "light"
     }
    }
   ],
   "source": [
    "l = split_in_groups(lst)\n",
    "fig, ax = plt.subplots()\n",
    "ax.bar([i/10 for i in range(10)], list(map(lambda x: len(x), l)), color='palegreen')\n",
    "plt.show()"
   ]
  },
  {
   "cell_type": "code",
   "execution_count": 136,
   "metadata": {},
   "outputs": [
    {
     "output_type": "execute_result",
     "data": {
      "text/plain": [
       "array([array([], dtype=float64),\n",
       "       array([0.00023243, 0.00035242, 0.00071318, 0.0007721 , 0.00077708,\n",
       "              0.00110033, 0.00112121, 0.00155397, 0.00213532, 0.00217812,\n",
       "              0.00298903, 0.00314134, 0.00333032, 0.00381337, 0.00620604,\n",
       "              0.00646635, 0.0065603 , 0.00731161, 0.009063  , 0.0092674 ,\n",
       "              0.00949426, 0.01025582, 0.01164413, 0.01278719, 0.01334303,\n",
       "              0.01391933, 0.01901423, 0.02031304, 0.02077017, 0.02119219,\n",
       "              0.02340358, 0.02353939, 0.0236334 , 0.0242433 , 0.02442224,\n",
       "              0.02808884, 0.02856181, 0.02862413, 0.02966425, 0.0300003 ,\n",
       "              0.03033087, 0.03334431, 0.03355503, 0.03575737, 0.03707091,\n",
       "              0.03869039, 0.0388989 , 0.0402568 , 0.04154952, 0.04224552,\n",
       "              0.04319113, 0.0432033 , 0.0440695 , 0.04414997, 0.04664221,\n",
       "              0.05000051, 0.05015465, 0.05160152, 0.05181022, 0.05255151,\n",
       "              0.05455956, 0.05542755, 0.05560626, 0.05906696, 0.06010061,\n",
       "              0.0604004 , 0.06068809, 0.06467082, 0.06536083, 0.06600901,\n",
       "              0.06611868, 0.06758888, 0.06886289, 0.07076109, 0.07101087,\n",
       "              0.07111748, 0.07474559, 0.07607047, 0.076207  , 0.0784224 ,\n",
       "              0.07900719, 0.0815231 , 0.08282089, 0.084625  , 0.08816991,\n",
       "              0.08988002, 0.09115797, 0.09245798, 0.09460884, 0.09488948,\n",
       "              0.09514941, 0.09553341, 0.09580569, 0.09669025, 0.09691943,\n",
       "              0.09701707, 0.0989054 , 0.09971081, 0.09990956])           ,\n",
       "       array([0.10064042, 0.10101066, 0.10111172, 0.10117153, 0.10175816,\n",
       "              0.10188111, 0.10797101, 0.10827441, 0.10910988, 0.11011616,\n",
       "              0.11038114, 0.11093133, 0.11129302, 0.11192113, 0.11219992,\n",
       "              0.11310992, 0.11311614, 0.11392019, 0.11414411, 0.11414662,\n",
       "              0.11449499, 0.11566403, 0.11616596, 0.11632311, 0.11711472,\n",
       "              0.11727127, 0.11730091, 0.11768672, 0.11938814, 0.1205838 ,\n",
       "              0.12186224, 0.12231318, 0.12261213, 0.12296773, 0.12506332,\n",
       "              0.12550257, 0.12575854, 0.12748333, 0.12821818, 0.12864421,\n",
       "              0.12877159, 0.12975255, 0.13175858, 0.13314595, 0.13323531,\n",
       "              0.13641435, 0.13717719, 0.13916995, 0.14110333, 0.14145411,\n",
       "              0.14395556, 0.14510858, 0.14577079, 0.14702319, 0.14838376,\n",
       "              0.15021955, 0.15126772, 0.15155556, 0.15159452, 0.1520121 ,\n",
       "              0.1552576 , 0.15551795, 0.15695006, 0.15856182, 0.15933719,\n",
       "              0.16163376, 0.16316932, 0.16318613, 0.16465469, 0.16507472,\n",
       "              0.16766995, 0.16987834, 0.1702211 , 0.17038007, 0.1710991 ,\n",
       "              0.17117771, 0.17122016, 0.1717198 , 0.17187118, 0.17197991,\n",
       "              0.17222175, 0.17365515, 0.17405357, 0.174931  , 0.17514712,\n",
       "              0.1751963 , 0.17523636, 0.17733912, 0.1778322 , 0.17833387,\n",
       "              0.17874488, 0.18073814, 0.18100801, 0.18110512, 0.18141814,\n",
       "              0.18525809, 0.18588869, 0.18941004, 0.19066898, 0.191292  ,\n",
       "              0.19511472, 0.19621113, 0.19699991, 0.19879609])           ,\n",
       "       array([0.20202679, 0.20313829, 0.20507776, 0.20560291, 0.20700204,\n",
       "              0.20844821, 0.21165805, 0.21200136, 0.21225911, 0.2140304 ,\n",
       "              0.21446393, 0.21511226, 0.21532333, 0.21550942, 0.21695883,\n",
       "              0.21895232, 0.21911592, 0.22182019, 0.22226064, 0.22228889,\n",
       "              0.22262518, 0.22282302, 0.22325224, 0.22389824, 0.22422793,\n",
       "              0.22659256, 0.22698522, 0.22738283, 0.22840826, 0.23210663,\n",
       "              0.23212923, 0.23229253, 0.23259248, 0.23274629, 0.23312612,\n",
       "              0.23333224, 0.23348403, 0.23380332, 0.23522999, 0.23842229,\n",
       "              0.23853859, 0.24008508, 0.24093783, 0.24242447, 0.24342065,\n",
       "              0.24463125, 0.24595493, 0.24852849, 0.25023089, 0.25029008,\n",
       "              0.25055678, 0.25209772, 0.25251104, 0.25298352, 0.25493099,\n",
       "              0.25502229, 0.25655722, 0.25656167, 0.26056278, 0.26126225,\n",
       "              0.26295607, 0.26466927, 0.26601763, 0.26627652, 0.26631436,\n",
       "              0.26752667, 0.26880222, 0.26882362, 0.26924931, 0.27127618,\n",
       "              0.27484488, 0.2760672 , 0.27727778, 0.27757488, 0.27877283,\n",
       "              0.27878729, 0.27927525, 0.27942272, 0.27955676, 0.28002069,\n",
       "              0.28051588, 0.28108019, 0.28280742, 0.28292922, 0.28332803,\n",
       "              0.28447685, 0.28481034, 0.28527773, 0.28598697, 0.2868066 ,\n",
       "              0.28868669, 0.28932237, 0.29232223, 0.29349662, 0.29474448,\n",
       "              0.2958014 , 0.29709222, 0.29932032, 0.29996983])           ,\n",
       "       array([0.3003833 , 0.300443  , 0.30300565, 0.30393993, 0.30401311,\n",
       "              0.30666091, 0.30888348, 0.31098071, 0.31322233, 0.31344518,\n",
       "              0.31435338, 0.31776663, 0.31839392, 0.31886662, 0.31928913,\n",
       "              0.32063335, 0.3222423 , 0.32436938, 0.32515445, 0.32523606,\n",
       "              0.32655386, 0.33003159, 0.3305466 , 0.33063403, 0.33118814,\n",
       "              0.3320003 , 0.33322133, 0.33324015, 0.3332633 , 0.33333232,\n",
       "              0.33337311, 0.33356356, 0.33383284, 0.33383911, 0.33431381,\n",
       "              0.3353328 , 0.33730098, 0.3380533 , 0.33836774, 0.33869391,\n",
       "              0.33923073, 0.33929834, 0.33939751, 0.33993374, 0.34092324,\n",
       "              0.3419024 , 0.34384362, 0.3446694 , 0.34506344, 0.34689536,\n",
       "              0.34739348, 0.34880848, 0.34943794, 0.35183579, 0.35340509,\n",
       "              0.35341264, 0.3551965 , 0.35535531, 0.35555152, 0.36266267,\n",
       "              0.36307903, 0.36323223, 0.36353162, 0.36487763, 0.36660563,\n",
       "              0.36686955, 0.36732715, 0.36828668, 0.36913366, 0.37323172,\n",
       "              0.37472324, 0.37577052, 0.37751748, 0.37768778, 0.37775354,\n",
       "              0.37775801, 0.37847355, 0.38227378, 0.38248622, 0.38382669,\n",
       "              0.3839665 , 0.38413182, 0.38704061, 0.38855871, 0.38878538,\n",
       "              0.38883308, 0.38995534, 0.39171371, 0.39235332, 0.39392999,\n",
       "              0.39546647, 0.39619142, 0.39663612, 0.39861931, 0.39913312,\n",
       "              0.39939094, 0.39939999, 0.39993597])                       ,\n",
       "       array([0.4000919 , 0.40024645, 0.40060849, 0.40130828, 0.4031142 ,\n",
       "              0.40484405, 0.4050443 , 0.4067777 , 0.40878951, 0.40900004,\n",
       "              0.41029144, 0.41114198, 0.41115555, 0.41230476, 0.41248433,\n",
       "              0.41335435, 0.41448473, 0.41454455, 0.41466702, 0.41817541,\n",
       "              0.41914813, 0.41995191, 0.42244091, 0.42274121, 0.42280578,\n",
       "              0.42422432, 0.4244214 , 0.42656991, 0.42849229, 0.42857723,\n",
       "              0.42896839, 0.43064004, 0.43069666, 0.43116664, 0.43382411,\n",
       "              0.43511572, 0.44032004, 0.44033043, 0.44046388, 0.44234449,\n",
       "              0.44269668, 0.44300091, 0.4434947 , 0.44420204, 0.44444949,\n",
       "              0.44455435, 0.44486041, 0.44604546, 0.44608775, 0.44653363,\n",
       "              0.4469576 , 0.44848448, 0.4488696 , 0.44924895, 0.4499598 ,\n",
       "              0.45002501, 0.45004603, 0.45247875, 0.45262515, 0.45415201,\n",
       "              0.45424473, 0.45994533, 0.4604669 , 0.46436389, 0.46464385,\n",
       "              0.4646836 , 0.46527313, 0.46544584, 0.46564191, 0.46650156,\n",
       "              0.46676545, 0.46677758, 0.47447713, 0.47470475, 0.47558875,\n",
       "              0.47748878, 0.47777427, 0.47823473, 0.47825557, 0.47977398,\n",
       "              0.4806607 , 0.48173737, 0.48198987, 0.4822422 , 0.48331333,\n",
       "              0.48333964, 0.48388585, 0.484088  , 0.48456506, 0.48647716,\n",
       "              0.48722882, 0.48824408, 0.48848187, 0.48942592, 0.49007048,\n",
       "              0.49049096, 0.4913603 , 0.49197   , 0.49215549, 0.49725923,\n",
       "              0.49761475, 0.49949789, 0.49988775])                       ,\n",
       "       array([0.50454004, 0.50600945, 0.50778209, 0.50797757, 0.50956805,\n",
       "              0.50990544, 0.51111576, 0.51115131, 0.5114347 , 0.51144597,\n",
       "              0.51222241, 0.51412418, 0.51553138, 0.5161592 , 0.51999766,\n",
       "              0.52181855, 0.52201312, 0.52312532, 0.52555546, 0.52645191,\n",
       "              0.52757599, 0.52762862, 0.52777005, 0.52822825, 0.52955599,\n",
       "              0.53264411, 0.53265626, 0.53485126, 0.53628568, 0.53668256,\n",
       "              0.53753434, 0.54441285, 0.54465444, 0.54506159, 0.54556746,\n",
       "              0.5493305 , 0.55154662, 0.55220028, 0.55250681, 0.55262556,\n",
       "              0.55301619, 0.55353525, 0.55403885, 0.55411516, 0.55425152,\n",
       "              0.55425309, 0.55443841, 0.55490555, 0.55510551, 0.55555516,\n",
       "              0.55580954, 0.55658507, 0.55661257, 0.55661464, 0.55719753,\n",
       "              0.55805351, 0.55886557, 0.5590586 , 0.5613639 , 0.56215296,\n",
       "              0.56376656, 0.56503885, 0.56572687, 0.5665994 , 0.56709555,\n",
       "              0.56903694, 0.56955231, 0.57066705, 0.57207555, 0.57215112,\n",
       "              0.57459122, 0.57578185, 0.57634448, 0.57655765, 0.57816757,\n",
       "              0.57986537, 0.57996593, 0.58118858, 0.58155531, 0.58383003,\n",
       "              0.58424525, 0.58435333, 0.58457747, 0.58489985, 0.58583585,\n",
       "              0.58691551, 0.58884745, 0.59090551, 0.5911546 , 0.59179416,\n",
       "              0.59355529, 0.59384586, 0.59439899, 0.59739979, 0.59852909,\n",
       "              0.59901992, 0.59955512])                                   ,\n",
       "       array([0.6025997 , 0.60488864, 0.60535738, 0.60670272, 0.60716214,\n",
       "              0.60977757, 0.61030119, 0.61121072, 0.61122188, 0.61265106,\n",
       "              0.61393768, 0.61533006, 0.61684984, 0.61868167, 0.62222725,\n",
       "              0.62322812, 0.62377781, 0.62389213, 0.62445223, 0.62550467,\n",
       "              0.62613255, 0.62644949, 0.62706588, 0.62864228, 0.62976724,\n",
       "              0.63266363, 0.63310735, 0.63343735, 0.63444485, 0.63555281,\n",
       "              0.63555351, 0.6360247 , 0.63606667, 0.63641445, 0.6384    ,\n",
       "              0.63881041, 0.64027906, 0.64115162, 0.64258563, 0.64449431,\n",
       "              0.64525443, 0.6465595 , 0.64743347, 0.64776482, 0.64865485,\n",
       "              0.6499897 , 0.65136113, 0.65146464, 0.65557538, 0.65569966,\n",
       "              0.65571714, 0.65641027, 0.65657755, 0.66150654, 0.66177477,\n",
       "              0.66186608, 0.66228249, 0.66368674, 0.66466204, 0.66529433,\n",
       "              0.66571566, 0.66646648, 0.66662294, 0.66664576, 0.66667653,\n",
       "              0.6676406 , 0.66922993, 0.66966686, 0.66998286, 0.67146732,\n",
       "              0.67318334, 0.67447402, 0.67472376, 0.67767606, 0.67776179,\n",
       "              0.67849565, 0.68222576, 0.68363352, 0.68437764, 0.68485313,\n",
       "              0.68500652, 0.68563855, 0.68627881, 0.68674989, 0.68708745,\n",
       "              0.68743449, 0.68758978, 0.68846887, 0.68893239, 0.69094807,\n",
       "              0.69197618, 0.69299325, 0.69299927, 0.69444265, 0.69454467,\n",
       "              0.69464406, 0.69509694, 0.6966644 , 0.69723568, 0.6979908 ,\n",
       "              0.69889869, 0.69911031])                                   ,\n",
       "       array([0.70330565, 0.70404408, 0.70407031, 0.70630651, 0.70766536,\n",
       "              0.70777058, 0.70777474, 0.70979151, 0.71173202, 0.71212266,\n",
       "              0.71517567, 0.71571337, 0.71772705, 0.71964749, 0.72066836,\n",
       "              0.72094411, 0.72222232, 0.72267323, 0.72408504, 0.72435274,\n",
       "              0.72702979, 0.72724414, 0.72747079, 0.7277925 , 0.7283145 ,\n",
       "              0.72897423, 0.72914394, 0.73076026, 0.73283622, 0.73557579,\n",
       "              0.73667977, 0.73730338, 0.74482871, 0.74577785, 0.74744726,\n",
       "              0.74885504, 0.74908489, 0.74927141, 0.75202257, 0.75373225,\n",
       "              0.75404177, 0.75448706, 0.75513334, 0.75529273, 0.75555758,\n",
       "              0.75729987, 0.75774757, 0.7579071 , 0.75874558, 0.76242445,\n",
       "              0.76282883, 0.76317767, 0.76596307, 0.76635654, 0.76659675,\n",
       "              0.76666957, 0.76698665, 0.76702337, 0.76777699, 0.76778557,\n",
       "              0.76969918, 0.76989899, 0.76990957, 0.77005167, 0.77009977,\n",
       "              0.77026211, 0.77061075, 0.77071976, 0.77170777, 0.77259723,\n",
       "              0.7730006 , 0.77375575, 0.77444494, 0.7764401 , 0.77745447,\n",
       "              0.77773223, 0.77779372, 0.77788772, 0.77849895, 0.77917187,\n",
       "              0.77950556, 0.7803729 , 0.7807781 , 0.78099985, 0.78267216,\n",
       "              0.78338283, 0.78445288, 0.78588067, 0.78770446, 0.78828183,\n",
       "              0.78881196, 0.78900789, 0.78920758, 0.78987983, 0.79222404,\n",
       "              0.79335778, 0.79557   , 0.79557568, 0.7957045 , 0.79690707,\n",
       "              0.799293  , 0.7999778 ])                                   ,\n",
       "       array([0.8016687 , 0.80175511, 0.80737609, 0.80748175, 0.80769481,\n",
       "              0.80828284, 0.80991978, 0.81065049, 0.81143832, 0.81175609,\n",
       "              0.81218245, 0.81271097, 0.81323555, 0.81383441, 0.81585354,\n",
       "              0.81661807, 0.81780086, 0.81845675, 0.81848688, 0.8190701 ,\n",
       "              0.82239194, 0.8228969 , 0.82837228, 0.82852885, 0.8303147 ,\n",
       "              0.83043583, 0.83145544, 0.83154813, 0.83333332, 0.83333855,\n",
       "              0.83334355, 0.83618616, 0.83773397, 0.83805886, 0.83896388,\n",
       "              0.84172822, 0.842246  , 0.84248847, 0.84333384, 0.84533256,\n",
       "              0.84551182, 0.84787477, 0.85000211, 0.85155873, 0.8522223 ,\n",
       "              0.85305688, 0.85474778, 0.85527838, 0.85593339, 0.85728708,\n",
       "              0.85857575, 0.85888887, 0.86030976, 0.8606869 , 0.86075858,\n",
       "              0.86086048, 0.86584849, 0.86799688, 0.87083749, 0.87205756,\n",
       "              0.87333833, 0.87353335, 0.87378818, 0.87554996, 0.87638789,\n",
       "              0.87704745, 0.87827478, 0.88099534, 0.88282283, 0.88289882,\n",
       "              0.88299819, 0.88322235, 0.88333232, 0.88338532, 0.88339304,\n",
       "              0.8839808 , 0.88433384, 0.88489834, 0.88538989, 0.8859386 ,\n",
       "              0.88665862, 0.88757516, 0.88778776, 0.88848888, 0.88851679,\n",
       "              0.88856828, 0.88872843, 0.88885386, 0.88980941, 0.89088809,\n",
       "              0.89098943, 0.89119985, 0.89135959, 0.89418345, 0.89422844])],\n",
       "      dtype=object)"
      ]
     },
     "metadata": {},
     "execution_count": 136
    }
   ],
   "source": [
    "l"
   ]
  },
  {
   "cell_type": "code",
   "execution_count": null,
   "metadata": {},
   "outputs": [],
   "source": []
  }
 ],
 "metadata": {
  "kernelspec": {
   "name": "python393jvsc74a57bd0767d51c1340bd893661ea55ea3124f6de3c7a262a8b4abca0554b478b1e2ff90",
   "display_name": "Python 3.9.3 64-bit"
  },
  "language_info": {
   "codemirror_mode": {
    "name": "ipython",
    "version": 2
   },
   "file_extension": ".py",
   "mimetype": "text/x-python",
   "name": "python",
   "nbconvert_exporter": "python",
   "pygments_lexer": "ipython2",
   "version": "3.9.3"
  },
  "metadata": {
   "interpreter": {
    "hash": "767d51c1340bd893661ea55ea3124f6de3c7a262a8b4abca0554b478b1e2ff90"
   }
  }
 },
 "nbformat": 4,
 "nbformat_minor": 0
}